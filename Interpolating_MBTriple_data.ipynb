{
 "cells": [
  {
   "cell_type": "code",
   "execution_count": 11,
   "id": "17c5f2ed",
   "metadata": {},
   "outputs": [],
   "source": [
    "import numpy as np\n",
    "import matplotlib.pyplot as plt\n",
    "import matplotlib.pyplot as plt\n",
    "import scienceplots\n",
    "\n",
    "from scipy.interpolate import RegularGridInterpolator\n",
    "import random\n",
    "import pandas as pd"
   ]
  },
  {
   "cell_type": "code",
   "execution_count": 12,
   "id": "9de4d8e6",
   "metadata": {},
   "outputs": [],
   "source": [
    "filename = \"Data/paper2_sorted_data.txt\""
   ]
  },
  {
   "cell_type": "code",
   "execution_count": 13,
   "id": "2fabfb09",
   "metadata": {},
   "outputs": [],
   "source": [
    "M1,qin,qout,a,b,c,d = np.loadtxt(filename,unpack=True)"
   ]
  },
  {
   "cell_type": "code",
   "execution_count": 14,
   "id": "02e5884c",
   "metadata": {},
   "outputs": [
    {
     "data": {
      "text/plain": [
       "6.0"
      ]
     },
     "execution_count": 14,
     "metadata": {},
     "output_type": "execute_result"
    }
   ],
   "source": [
    "np.size(a)/16"
   ]
  },
  {
   "cell_type": "code",
   "execution_count": 15,
   "id": "b54d623c",
   "metadata": {},
   "outputs": [
    {
     "data": {
      "text/plain": [
       "array([21.2, 33.3, 19.9, 32.1,  7.7, 21.8, 36.5, 18.6,  4.5, 16.7, 37.2,\n",
       "       19.2,  0.6,  9.6, 32.7, 25.6])"
      ]
     },
     "execution_count": 15,
     "metadata": {},
     "output_type": "execute_result"
    }
   ],
   "source": [
    "a[:16]"
   ]
  },
  {
   "cell_type": "code",
   "execution_count": 16,
   "id": "eed4e711",
   "metadata": {},
   "outputs": [],
   "source": [
    "qin = [0.03162,0.1,0.3162,1]\n",
    "qout = [0.03162,0.1,0.3162,1]\n",
    "M1 = [10**10,10**9,10**8,10**7,10**6,10**5]"
   ]
  },
  {
   "cell_type": "code",
   "execution_count": 17,
   "id": "93e12c5f",
   "metadata": {},
   "outputs": [],
   "source": [
    "A = np.zeros((np.size(M1),np.size(qin),np.size(qout)))\n",
    "B = np.zeros((np.size(M1),np.size(qin),np.size(qout)))\n",
    "C = np.zeros((np.size(M1),np.size(qin),np.size(qout)))\n",
    "D = np.zeros((np.size(M1),np.size(qin),np.size(qout)))\n",
    "\n",
    "for i in range(np.size(M1)):\n",
    "    a_M = a[16*i:16*(i+1)]\n",
    "    b_M = b[16*i:16*(i+1)]\n",
    "    c_M = c[16*i:16*(i+1)]\n",
    "    d_M = d[16*i:16*(i+1)]\n",
    "    for j in range(np.size(qin)):\n",
    "        for k in range(np.size(qout)):\n",
    "            A[i,j,k] = a_M[j*4+k]\n",
    "            B[i,j,k] = b_M[j*4+k]\n",
    "            C[i,j,k] = c_M[j*4+k]\n",
    "            D[i,j,k] = d_M[j*4+k]"
   ]
  },
  {
   "cell_type": "code",
   "execution_count": 18,
   "id": "90d4977a",
   "metadata": {},
   "outputs": [],
   "source": [
    "fA = RegularGridInterpolator((M1,qin,qout), A)\n",
    "fB = RegularGridInterpolator((M1,qin,qout), B)\n",
    "fC = RegularGridInterpolator((M1,qin,qout), C)\n",
    "fD = RegularGridInterpolator((M1,qin,qout), D)"
   ]
  },
  {
   "cell_type": "code",
   "execution_count": 19,
   "id": "9d7b7381",
   "metadata": {},
   "outputs": [],
   "source": [
    "M1_ill,qin_ill,qout_ill = np.loadtxt(\"Data/triple-masses-from-illustris.txt\",unpack=True)"
   ]
  },
  {
   "cell_type": "code",
   "execution_count": 20,
   "id": "a90a5b37",
   "metadata": {},
   "outputs": [],
   "source": [
    "def interp_result(M1,qin,qout,f_choice):\n",
    "    #fchoice is between a,b,c,d\n",
    "    \n",
    "    if(f_choice == 'a' or f_choice == 'A'):\n",
    "        if(M1 > 10**10):\n",
    "            M1 = 10**10\n",
    "        if(qout > 1):\n",
    "            qout = 1\n",
    "        if(qout < 0.03162):\n",
    "            qout = 0.03162\n",
    "        if(qin < 0.03162):\n",
    "            qin = 0.03162\n",
    "        return fA([M1,qin,qout])[0]\n",
    "    \n",
    "    if(f_choice == 'b' or f_choice == 'B'):\n",
    "        if(M1 > 10**10):\n",
    "            M1 = 10**10\n",
    "        if(qout > 1):\n",
    "            qout = 1\n",
    "        if(qout < 0.03162):\n",
    "            qout = 0.03162\n",
    "        if(qin < 0.03162):\n",
    "            qin = 0.03162\n",
    "        return fB([M1,qin,qout])[0]\n",
    "\n",
    "    if(f_choice == 'c' or f_choice == 'C'):\n",
    "        if(M1 > 10**10):\n",
    "            M1 = 10**10\n",
    "        if(qout > 1):\n",
    "            qout = 1\n",
    "        if(qout < 0.03162):\n",
    "            qout = 0.03162\n",
    "        if(qin < 0.03162):\n",
    "            qin = 0.03162\n",
    "        return fC([M1,qin,qout])[0]\n",
    "\n",
    "    if(f_choice == 'd' or f_choice == 'D'):\n",
    "        if(M1 > 10**10):\n",
    "            M1 = 10**10\n",
    "        if(qout > 1):\n",
    "            qout = 1\n",
    "        if(qout < 0.03162):\n",
    "            qout = 0.03162\n",
    "        if(qin < 0.03162):\n",
    "            qin = 0.03162\n",
    "        return fD([M1,qin,qout])[0]"
   ]
  },
  {
   "cell_type": "code",
   "execution_count": 21,
   "id": "e6e3aedd",
   "metadata": {},
   "outputs": [],
   "source": [
    "merger_p = np.zeros((len(qin),len(qout)))"
   ]
  },
  {
   "cell_type": "code",
   "execution_count": 22,
   "id": "1144f9fd",
   "metadata": {},
   "outputs": [],
   "source": [
    "for i in range(len(qin)):\n",
    "    for j in range(len(qout)):\n",
    "        merger_p[i,j] = A[0,i,j] + B[0,i,j] + C[0,i,j]"
   ]
  },
  {
   "cell_type": "code",
   "execution_count": 23,
   "id": "ce9da38f",
   "metadata": {
    "scrolled": true
   },
   "outputs": [
    {
     "data": {
      "image/png": "[encoded data removed]",
      "text/plain": [
       "<Figure size 350x262.5 with 2 Axes>"
      ]
     },
     "metadata": {},
     "output_type": "display_data"
    }
   ],
   "source": [
    "\n",
    "X,Y = np.meshgrid(np.log10(qin),np.log10(qout))\n",
    "plt.style.use('science')\n",
    "plt.contour(Y,X, merger_p, colors='black');\n",
    "plt.contourf(Y,X, merger_p, 20, cmap='viridis')\n",
    "plt.xlabel(\"$\\log q_{in}$\")\n",
    "plt.ylabel(\"$\\log q_{out}$\")\n",
    "plt.colorbar()\n",
    "plt.savefig(\"Figures/meshplot.pdf\")"
   ]
  },
  {
   "cell_type": "code",
   "execution_count": 45,
   "id": "3d077411",
   "metadata": {},
   "outputs": [],
   "source": [
    "def trip_outcome_trial(N):\n",
    "    \n",
    "    M1_mergers = []\n",
    "    M2_mergers = []\n",
    "    M3_mergers = []\n",
    "    merger_flags = []\n",
    "    \n",
    "    for i in range(N):\n",
    "        \n",
    "        no_merger = 0\n",
    "        prompt_merger = 0\n",
    "        ejection_then_merger = 0\n",
    "        \n",
    "        N_triples = len(M1_ill)\n",
    "        \n",
    "        for j in range(N_triples):\n",
    "            \n",
    "            #random number draw\n",
    "            P = random.uniform(0,1)\n",
    "    \n",
    "            a_P = interp_result(M1_ill[j],qin_ill[j],qout_ill[j],\"a\")*0.01\n",
    "            b_P = interp_result(M1_ill[j],qin_ill[j],qout_ill[j],\"b\")*0.01\n",
    "            c_P = interp_result(M1_ill[j],qin_ill[j],qout_ill[j],\"c\")*0.01\n",
    "            d_P = interp_result(M1_ill[j],qin_ill[j],qout_ill[j],\"d\")*0.01\n",
    "            \n",
    "            #masses of the triples\n",
    "            M1 = M1_ill[j]\n",
    "            M2 = qin_ill[j] * M1_ill[j]\n",
    "            M3 = qout_ill[j] * (M1 + M2)\n",
    "        \n",
    "    \n",
    "            #prompt merger\n",
    "            if(P < a_P+b_P+c_P):\n",
    "                \n",
    "                flag = \"Tr\"\n",
    "                merger_flags.append(flag)\n",
    "                prompt_merger = prompt_merger + 1\n",
    "                \n",
    "                if(P <= a_P):\n",
    "                    M1_mergers.append(M1)\n",
    "                    M2_mergers.append(M2)\n",
    "                    M3_mergers.append(M3)\n",
    "                    \n",
    "                elif(P > a_P and P <= a_P+b_P):\n",
    "                    M1_mergers.append(M1)\n",
    "                    M2_mergers.append(M3)\n",
    "                    M3_mergers.append(M2)\n",
    "                    \n",
    "                elif(P > a_P+b_P and P <= a_P+b_P+c_P):\n",
    "                    M1_mergers.append(M2)\n",
    "                    M2_mergers.append(M3)\n",
    "                    M3_mergers.append(M1)\n",
    "                    \n",
    "            elif(P > a_P+b_P+c_P and P <= a_P+b_P+c_P+d_P):\n",
    "            #merger after ejection\n",
    "                flag = \"Tr-ej\"\n",
    "                merger_flags.append(flag)\n",
    "                ejection_then_merger = ejection_then_merger + 1\n",
    "                \n",
    "                Trip_mlist = [M1,M2,M3]\n",
    "                M3_mergers.append(min(Trip_mlist))\n",
    "                Trip_mlist.remove(min(Trip_mlist))\n",
    "                M1_mergers.append(Trip_mlist[0])\n",
    "                M2_mergers.append(Trip_mlist[1])\n",
    "                \n",
    "                \n",
    "            elif(P > a_P + b_P + c_P + d_P):\n",
    "                no_merger = no_merger + 1\n",
    "            \n",
    "    print(\"The total number of triple candidates: %d\"%(N_triples))\n",
    "    print(\"Prompt Mergers: %d\"%(prompt_merger))\n",
    "    print(\"Mergers after ejection: %d\"%(ejection_then_merger))\n",
    "    print(\"No-mergers: %d\"%(no_merger))\n",
    "    \n",
    "    return M1_mergers,M2_mergers,M3_mergers,merger_flags"
   ]
  },
  {
   "cell_type": "code",
   "execution_count": 46,
   "id": "7d31d27f",
   "metadata": {},
   "outputs": [
    {
     "name": "stdout",
     "output_type": "stream",
     "text": [
      "The total number of triple candidates: 531\n",
      "Prompt Mergers: 103\n",
      "Mergers after ejection: 46\n",
      "No-mergers: 382\n"
     ]
    }
   ],
   "source": [
    "M1m,M2m,M3m,mflags = trip_outcome_trial(1)"
   ]
  },
  {
   "cell_type": "code",
   "execution_count": 47,
   "id": "2969f412",
   "metadata": {},
   "outputs": [],
   "source": [
    "triples_df = pd.DataFrame(list(zip(M1m,M2m,M3m,mflags)),\n",
    "               columns =['Mass 1', 'Mass 2','Mass 3','Flag'])"
   ]
  },
  {
   "cell_type": "code",
   "execution_count": 48,
   "id": "670a362d",
   "metadata": {},
   "outputs": [
    {
     "data": {
      "text/html": [
       "<div>\n",
       "<style scoped>\n",
       "    .dataframe tbody tr th:only-of-type {\n",
       "        vertical-align: middle;\n",
       "    }\n",
       "\n",
       "    .dataframe tbody tr th {\n",
       "        vertical-align: top;\n",
       "    }\n",
       "\n",
       "    .dataframe thead th {\n",
       "        text-align: right;\n",
       "    }\n",
       "</style>\n",
       "<table border=\"1\" class=\"dataframe\">\n",
       "  <thead>\n",
       "    <tr style=\"text-align: right;\">\n",
       "      <th></th>\n",
       "      <th>Mass 1</th>\n",
       "      <th>Mass 2</th>\n",
       "      <th>Mass 3</th>\n",
       "      <th>Flag</th>\n",
       "    </tr>\n",
       "  </thead>\n",
       "  <tbody>\n",
       "    <tr>\n",
       "      <th>0</th>\n",
       "      <td>2.150737e+07</td>\n",
       "      <td>8.204738e+06</td>\n",
       "      <td>5.276829e+07</td>\n",
       "      <td>Tr</td>\n",
       "    </tr>\n",
       "    <tr>\n",
       "      <th>1</th>\n",
       "      <td>8.736168e+07</td>\n",
       "      <td>2.386990e+07</td>\n",
       "      <td>2.216544e+06</td>\n",
       "      <td>Tr-ej</td>\n",
       "    </tr>\n",
       "    <tr>\n",
       "      <th>2</th>\n",
       "      <td>1.565255e+07</td>\n",
       "      <td>2.738576e+06</td>\n",
       "      <td>3.460493e+07</td>\n",
       "      <td>Tr</td>\n",
       "    </tr>\n",
       "    <tr>\n",
       "      <th>3</th>\n",
       "      <td>2.254468e+10</td>\n",
       "      <td>9.567516e+08</td>\n",
       "      <td>1.001913e+07</td>\n",
       "      <td>Tr-ej</td>\n",
       "    </tr>\n",
       "    <tr>\n",
       "      <th>4</th>\n",
       "      <td>4.206357e+09</td>\n",
       "      <td>6.266152e+08</td>\n",
       "      <td>3.496207e+07</td>\n",
       "      <td>Tr-ej</td>\n",
       "    </tr>\n",
       "    <tr>\n",
       "      <th>...</th>\n",
       "      <td>...</td>\n",
       "      <td>...</td>\n",
       "      <td>...</td>\n",
       "      <td>...</td>\n",
       "    </tr>\n",
       "    <tr>\n",
       "      <th>144</th>\n",
       "      <td>7.327789e+09</td>\n",
       "      <td>2.362992e+08</td>\n",
       "      <td>3.983477e+07</td>\n",
       "      <td>Tr-ej</td>\n",
       "    </tr>\n",
       "    <tr>\n",
       "      <th>145</th>\n",
       "      <td>1.754068e+09</td>\n",
       "      <td>2.937509e+06</td>\n",
       "      <td>8.027788e+09</td>\n",
       "      <td>Tr</td>\n",
       "    </tr>\n",
       "    <tr>\n",
       "      <th>146</th>\n",
       "      <td>1.821385e+08</td>\n",
       "      <td>1.463117e+08</td>\n",
       "      <td>1.630155e+08</td>\n",
       "      <td>Tr</td>\n",
       "    </tr>\n",
       "    <tr>\n",
       "      <th>147</th>\n",
       "      <td>1.712377e+11</td>\n",
       "      <td>5.514613e+08</td>\n",
       "      <td>1.583394e+09</td>\n",
       "      <td>Tr</td>\n",
       "    </tr>\n",
       "    <tr>\n",
       "      <th>148</th>\n",
       "      <td>1.259829e+09</td>\n",
       "      <td>5.555056e+07</td>\n",
       "      <td>5.338969e+07</td>\n",
       "      <td>Tr-ej</td>\n",
       "    </tr>\n",
       "  </tbody>\n",
       "</table>\n",
       "<p>149 rows × 4 columns</p>\n",
       "</div>"
      ],
      "text/plain": [
       "           Mass 1        Mass 2        Mass 3   Flag\n",
       "0    2.150737e+07  8.204738e+06  5.276829e+07     Tr\n",
       "1    8.736168e+07  2.386990e+07  2.216544e+06  Tr-ej\n",
       "2    1.565255e+07  2.738576e+06  3.460493e+07     Tr\n",
       "3    2.254468e+10  9.567516e+08  1.001913e+07  Tr-ej\n",
       "4    4.206357e+09  6.266152e+08  3.496207e+07  Tr-ej\n",
       "..            ...           ...           ...    ...\n",
       "144  7.327789e+09  2.362992e+08  3.983477e+07  Tr-ej\n",
       "145  1.754068e+09  2.937509e+06  8.027788e+09     Tr\n",
       "146  1.821385e+08  1.463117e+08  1.630155e+08     Tr\n",
       "147  1.712377e+11  5.514613e+08  1.583394e+09     Tr\n",
       "148  1.259829e+09  5.555056e+07  5.338969e+07  Tr-ej\n",
       "\n",
       "[149 rows x 4 columns]"
      ]
     },
     "execution_count": 48,
     "metadata": {},
     "output_type": "execute_result"
    }
   ],
   "source": [
    "triples_df"
   ]
  },
  {
   "cell_type": "code",
   "execution_count": 49,
   "id": "fa64bef1",
   "metadata": {},
   "outputs": [],
   "source": [
    "df1 = triples_df[triples_df['Flag']=='Tr']\n",
    "df2 = triples_df[triples_df['Flag']=='Tr-ej']"
   ]
  },
  {
   "cell_type": "code",
   "execution_count": 50,
   "id": "9a2b7f41",
   "metadata": {},
   "outputs": [
    {
     "data": {
      "image/png": "[encoded data removed]",
      "text/plain": [
       "<Figure size 350x262.5 with 1 Axes>"
      ]
     },
     "metadata": {},
     "output_type": "display_data"
    }
   ],
   "source": [
    "m11 = df1[\"Mass 1\"].to_numpy()\n",
    "m12 = df1[\"Mass 2\"].to_numpy()\n",
    "\n",
    "m21 = df2[\"Mass 1\"].to_numpy()\n",
    "m22 = df2[\"Mass 2\"].to_numpy()\n",
    "\n",
    "mchirp1 = (m11 * m12)**(3/5)/(m11 + m12)**(1/5)\n",
    "binn1=plt.hist(np.log10(mchirp1),color=\"c\",alpha=0.5,label=\"Tr\")\n",
    "\n",
    "mchirp2 = (m21 * m22)**(3/5)/(m21 + m22)**(1/5)\n",
    "binn2=plt.hist(np.log10(mchirp2),color=\"r\",alpha=0.9,label=\"Tr-ej\")\n",
    "\n",
    "plt.legend()\n",
    "plt.xlabel(\"$\\log \\mathcal{M}$\")\n",
    "plt.savefig(\"Figures/histogram-1.pdf\")"
   ]
  },
  {
   "cell_type": "code",
   "execution_count": 56,
   "id": "ac4b7ce9",
   "metadata": {},
   "outputs": [
    {
     "data": {
      "image/png": "[encoded data removed]",
      "text/plain": [
       "<Figure size 350x262.5 with 1 Axes>"
      ]
     },
     "metadata": {},
     "output_type": "display_data"
    }
   ],
   "source": [
    "plt.hist(np.log10(m12/m11),label=\"Tr\")\n",
    "plt.hist(np.log10(m22/m21),label=\"Tr-ej\")\n",
    "plt.legend()\n",
    "plt.xlabel(\"$\\log q_{in}$\")\n",
    "plt.savefig(\"Figures/qin-histogram.pdf\")"
   ]
  },
  {
   "cell_type": "code",
   "execution_count": 57,
   "id": "89d2a79f",
   "metadata": {},
   "outputs": [
    {
     "data": {
      "image/png": "[encoded data removed]",
      "text/plain": [
       "<Figure size 350x262.5 with 1 Axes>"
      ]
     },
     "metadata": {},
     "output_type": "display_data"
    }
   ],
   "source": [
    "m13 = df1[\"Mass 3\"].to_numpy()\n",
    "m23 = df2[\"Mass 3\"].to_numpy()\n",
    "\n",
    "plt.hist(np.log10(m13/(m11+m12)),label=\"Tr\")\n",
    "plt.hist(np.log10(m23/(m21+m22)),label=\"Tr-ej\")\n",
    "plt.legend()\n",
    "plt.xlabel(\"$\\log q_{out}$\")\n",
    "plt.savefig(\"Figures/qout-histogram.pdf\")"
   ]
  },
  {
   "cell_type": "code",
   "execution_count": 474,
   "id": "04e28640",
   "metadata": {},
   "outputs": [
    {
     "data": {
      "text/plain": [
       "46"
      ]
     },
     "execution_count": 474,
     "metadata": {},
     "output_type": "execute_result"
    }
   ],
   "source": [
    "len(df2.loc[(df2['Mass 1']>10**7) & (df2['Mass 1']<10**8)]['Flag'])"
   ]
  },
  {
   "cell_type": "code",
   "execution_count": 369,
   "id": "0a426ed0",
   "metadata": {},
   "outputs": [
    {
     "data": {
      "text/plain": [
       "152"
      ]
     },
     "execution_count": 369,
     "metadata": {},
     "output_type": "execute_result"
    }
   ],
   "source": [
    "np.size(Mc_Tr+Mc_Tr_ej)"
   ]
  },
  {
   "cell_type": "code",
   "execution_count": 370,
   "id": "a229f0a0",
   "metadata": {},
   "outputs": [],
   "source": [
    "Mc_Tr = np.array(Mc_Tr)\n",
    "Mc_Tr_ej = np.array(Mc_Tr_ej)"
   ]
  },
  {
   "cell_type": "code",
   "execution_count": 385,
   "id": "744d008e",
   "metadata": {},
   "outputs": [
    {
     "data": {
      "text/plain": [
       "24"
      ]
     },
     "execution_count": 385,
     "metadata": {},
     "output_type": "execute_result"
    }
   ],
   "source": [
    "np.count_nonzero((Mc_Tr >= 10**8) & (Mc_Tr < 10**9))"
   ]
  },
  {
   "cell_type": "code",
   "execution_count": 386,
   "id": "cfe83256",
   "metadata": {},
   "outputs": [
    {
     "data": {
      "text/plain": [
       "21"
      ]
     },
     "execution_count": 386,
     "metadata": {},
     "output_type": "execute_result"
    }
   ],
   "source": [
    "np.count_nonzero((Mc_Tr_ej >= 10**8) & (Mc_Tr_ej < 10**9))"
   ]
  },
  {
   "cell_type": "code",
   "execution_count": 387,
   "id": "d221702a",
   "metadata": {},
   "outputs": [
    {
     "data": {
      "text/plain": [
       "0.5333333333333333"
      ]
     },
     "execution_count": 387,
     "metadata": {},
     "output_type": "execute_result"
    }
   ],
   "source": [
    "24/(24+21)"
   ]
  },
  {
   "cell_type": "code",
   "execution_count": 384,
   "id": "27c6218c",
   "metadata": {},
   "outputs": [
    {
     "data": {
      "text/plain": [
       "0.19672131147540983"
      ]
     },
     "execution_count": 384,
     "metadata": {},
     "output_type": "execute_result"
    }
   ],
   "source": [
    "12/(12+49)"
   ]
  },
  {
   "cell_type": "code",
   "execution_count": 377,
   "id": "002d26d8",
   "metadata": {},
   "outputs": [
    {
     "data": {
      "text/plain": [
       "3.954802259887006"
      ]
     },
     "execution_count": 377,
     "metadata": {},
     "output_type": "execute_result"
    }
   ],
   "source": [
    "(np.count_nonzero((Mc_Tr_ej >= 10**8) & (Mc_Tr_ej < 10**9)))/531 * 100"
   ]
  },
  {
   "cell_type": "code",
   "execution_count": 373,
   "id": "48311130",
   "metadata": {},
   "outputs": [
    {
     "data": {
      "text/plain": [
       "1.3182674199623352"
      ]
     },
     "execution_count": 373,
     "metadata": {},
     "output_type": "execute_result"
    }
   ],
   "source": [
    "(np.count_nonzero(Mc_Tr >= 10**9))/531 * 100"
   ]
  },
  {
   "cell_type": "code",
   "execution_count": 380,
   "id": "65d9da1e",
   "metadata": {},
   "outputs": [
    {
     "data": {
      "text/plain": [
       "9.03954802259887"
      ]
     },
     "execution_count": 380,
     "metadata": {},
     "output_type": "execute_result"
    }
   ],
   "source": [
    "Tr_ej_total[0]/531 * 100"
   ]
  },
  {
   "cell_type": "code",
   "execution_count": null,
   "id": "ca99e915",
   "metadata": {},
   "outputs": [],
   "source": []
  },
  {
   "cell_type": "code",
   "execution_count": 374,
   "id": "50dc3ddd",
   "metadata": {},
   "outputs": [
    {
     "data": {
      "image/png": "[encoded data removed]",
      "text/plain": [
       "<Figure size 640x480 with 1 Axes>"
      ]
     },
     "metadata": {},
     "output_type": "display_data"
    }
   ],
   "source": [
    "plt.hist(np.log10(Mc_Tr),label=\"Mc_Tr\",alpha=0.3)\n",
    "plt.hist(np.log10(Mc_Tr_ej),label=\"Mc_tr_ej\",alpha=0.1)\n",
    "plt.legend()\n",
    "plt.xlabel(\"M_chirp\")\n",
    "plt.show()"
   ]
  },
  {
   "cell_type": "code",
   "execution_count": 272,
   "id": "608c0cd9",
   "metadata": {},
   "outputs": [
    {
     "data": {
      "text/plain": [
       "0.20903954802259886"
      ]
     },
     "execution_count": 272,
     "metadata": {},
     "output_type": "execute_result"
    }
   ],
   "source": [
    "111/531"
   ]
  },
  {
   "cell_type": "code",
   "execution_count": 277,
   "id": "e5ee45ee",
   "metadata": {},
   "outputs": [
    {
     "data": {
      "text/plain": [
       "array([20.71563089, 21.09227872, 21.65725047, 22.22222222, 23.16384181,\n",
       "       21.65725047, 19.7740113 , 19.20903955, 18.45574388, 22.22222222])"
      ]
     },
     "execution_count": 277,
     "metadata": {},
     "output_type": "execute_result"
    }
   ],
   "source": [
    "np.array(Tr_total)/531 * 100"
   ]
  },
  {
   "cell_type": "code",
   "execution_count": 278,
   "id": "dde8ec99",
   "metadata": {},
   "outputs": [
    {
     "data": {
      "text/plain": [
       "array([10.35781544,  9.98116761,  9.60451977,  9.79284369,  6.96798493,\n",
       "        6.21468927,  9.03954802,  8.28625235,  9.03954802,  7.7212806 ])"
      ]
     },
     "execution_count": 278,
     "metadata": {},
     "output_type": "execute_result"
    }
   ],
   "source": [
    "np.array(Tr_ej_total)/531 * 100"
   ]
  },
  {
   "cell_type": "code",
   "execution_count": 268,
   "id": "6d21bf9c",
   "metadata": {},
   "outputs": [
    {
     "name": "stdout",
     "output_type": "stream",
     "text": [
      "66.66666666666666\n",
      "67.87878787878789\n",
      "69.27710843373494\n",
      "69.41176470588235\n",
      "76.875\n",
      "77.7027027027027\n",
      "68.62745098039215\n",
      "69.86301369863014\n",
      "67.12328767123287\n",
      "74.21383647798741\n"
     ]
    }
   ],
   "source": [
    "for i in range(10):\n",
    "    print((Tr_total[i]/(Tr_total[i] + Tr_ej_total[i]))*100)"
   ]
  },
  {
   "cell_type": "code",
   "execution_count": 260,
   "id": "0e7ea3e2",
   "metadata": {},
   "outputs": [
    {
     "data": {
      "text/plain": [
       "0.2839506172839506"
      ]
     },
     "execution_count": 260,
     "metadata": {},
     "output_type": "execute_result"
    }
   ],
   "source": [
    "46/(116+46)"
   ]
  },
  {
   "cell_type": "code",
   "execution_count": 122,
   "id": "af338013",
   "metadata": {},
   "outputs": [
    {
     "data": {
      "text/plain": [
       "array([9.92377428])"
      ]
     },
     "execution_count": 122,
     "metadata": {},
     "output_type": "execute_result"
    }
   ],
   "source": [
    "fn([21507371.426361017,0.2,0.1])"
   ]
  },
  {
   "cell_type": "code",
   "execution_count": 234,
   "id": "ce7d6bea",
   "metadata": {},
   "outputs": [
    {
     "data": {
      "text/plain": [
       "0.23540489642184556"
      ]
     },
     "execution_count": 234,
     "metadata": {},
     "output_type": "execute_result"
    }
   ],
   "source": [
    "125/531"
   ]
  },
  {
   "cell_type": "code",
   "execution_count": 235,
   "id": "bba2471e",
   "metadata": {},
   "outputs": [
    {
     "data": {
      "text/plain": [
       "0.07344632768361582"
      ]
     },
     "execution_count": 235,
     "metadata": {},
     "output_type": "execute_result"
    }
   ],
   "source": [
    "39/531"
   ]
  },
  {
   "cell_type": "code",
   "execution_count": null,
   "id": "36e75ed1",
   "metadata": {},
   "outputs": [],
   "source": []
  },
  {
   "cell_type": "code",
   "execution_count": 191,
   "id": "16cb4643",
   "metadata": {},
   "outputs": [],
   "source": [
    "idx = []"
   ]
  },
  {
   "cell_type": "code",
   "execution_count": 192,
   "id": "e08a310f",
   "metadata": {},
   "outputs": [],
   "source": [
    "for i in range(len(M1_ill)):\n",
    "    if(qin_ill[i]<=1 and qin_ill[i]>=0.03162 and qout_ill[i]<=1 and qout_ill[i]>=0.03162 and M1_ill[i]<=10**10 and M1_ill[i]>=10**5):\n",
    "        idx.append(i)"
   ]
  },
  {
   "cell_type": "code",
   "execution_count": 214,
   "id": "da6f37e5",
   "metadata": {},
   "outputs": [
    {
     "data": {
      "text/plain": [
       "131"
      ]
     },
     "execution_count": 214,
     "metadata": {},
     "output_type": "execute_result"
    }
   ],
   "source": [
    "np.size(np.argwhere(qout_ill>1))"
   ]
  },
  {
   "cell_type": "code",
   "execution_count": 210,
   "id": "18be0de3",
   "metadata": {},
   "outputs": [
    {
     "data": {
      "text/plain": [
       "531"
      ]
     },
     "execution_count": 210,
     "metadata": {},
     "output_type": "execute_result"
    }
   ],
   "source": [
    "np.size(qin_ill)"
   ]
  },
  {
   "cell_type": "code",
   "execution_count": 209,
   "id": "e46ad9e3",
   "metadata": {},
   "outputs": [
    {
     "data": {
      "text/plain": [
       "256"
      ]
     },
     "execution_count": 209,
     "metadata": {},
     "output_type": "execute_result"
    }
   ],
   "source": [
    "np.size(idx)"
   ]
  },
  {
   "cell_type": "code",
   "execution_count": 199,
   "id": "fad573ca",
   "metadata": {},
   "outputs": [],
   "source": [
    "pa = []"
   ]
  },
  {
   "cell_type": "code",
   "execution_count": 200,
   "id": "b805b0cf",
   "metadata": {},
   "outputs": [],
   "source": [
    "for i in range(len(idx)):\n",
    "    pa.append(fn([M1_ill[idx[i]],qin_ill[idx[i]],qout_ill[idx[i]]])[0])"
   ]
  },
  {
   "cell_type": "code",
   "execution_count": 204,
   "id": "cf6bbf6b",
   "metadata": {},
   "outputs": [
    {
     "data": {
      "text/plain": [
       "(array([17., 23., 19., 30., 11., 27., 22., 33., 62., 12.]),\n",
       " array([ 1.35728204,  3.99479616,  6.63231028,  9.26982439, 11.90733851,\n",
       "        14.54485263, 17.18236674, 19.81988086, 22.45739497, 25.09490909,\n",
       "        27.73242321]),\n",
       " <BarContainer object of 10 artists>)"
      ]
     },
     "execution_count": 204,
     "metadata": {},
     "output_type": "execute_result"
    },
    {
     "data": {
      "image/png": "[encoded data removed]",
      "text/plain": [
       "<Figure size 640x480 with 1 Axes>"
      ]
     },
     "metadata": {},
     "output_type": "display_data"
    }
   ],
   "source": [
    "plt.hist(pa)"
   ]
  },
  {
   "cell_type": "code",
   "execution_count": null,
   "id": "c3c47d65",
   "metadata": {},
   "outputs": [],
   "source": []
  }
 ],
 "metadata": {
  "kernelspec": {
   "display_name": "ast",
   "language": "python",
   "name": "ast"
  },
  "language_info": {
   "codemirror_mode": {
    "name": "ipython",
    "version": 3
   },
   "file_extension": ".py",
   "mimetype": "text/x-python",
   "name": "python",
   "nbconvert_exporter": "python",
   "pygments_lexer": "ipython3",
   "version": "3.10.8"
  }
 },
 "nbformat": 4,
 "nbformat_minor": 5
}
