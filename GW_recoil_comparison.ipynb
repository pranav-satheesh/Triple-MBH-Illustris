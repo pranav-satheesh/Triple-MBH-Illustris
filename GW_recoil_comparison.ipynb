{
 "cells": [
  {
   "cell_type": "code",
   "execution_count": 57,
   "metadata": {},
   "outputs": [],
   "source": [
    "import numpy as np\n",
    "import pandas as pd\n",
    "import matplotlib.pyplot as plt\n",
    "import scienceplots\n",
    "plt.style.use('science')\n",
    "\n",
    "import spin_models as spin\n",
    "\n",
    "from astropy import constants as const\n",
    "from astropy import units as u"
   ]
  },
  {
   "cell_type": "code",
   "execution_count": 35,
   "metadata": {},
   "outputs": [],
   "source": [
    "from astropy.cosmology import WMAP9 as cosmo\n",
    "from astropy.cosmology import z_at_value"
   ]
  },
  {
   "cell_type": "code",
   "execution_count": 9,
   "metadata": {},
   "outputs": [
    {
     "data": {
      "text/html": [
       "<div>\n",
       "<style scoped>\n",
       "    .dataframe tbody tr th:only-of-type {\n",
       "        vertical-align: middle;\n",
       "    }\n",
       "\n",
       "    .dataframe tbody tr th {\n",
       "        vertical-align: top;\n",
       "    }\n",
       "\n",
       "    .dataframe thead th {\n",
       "        text-align: right;\n",
       "    }\n",
       "</style>\n",
       "<table border=\"1\" class=\"dataframe\">\n",
       "  <thead>\n",
       "    <tr style=\"text-align: right;\">\n",
       "      <th></th>\n",
       "      <th>M1</th>\n",
       "      <th>M2</th>\n",
       "      <th>t_merger</th>\n",
       "      <th>Merger</th>\n",
       "      <th>Type</th>\n",
       "    </tr>\n",
       "  </thead>\n",
       "  <tbody>\n",
       "    <tr>\n",
       "      <th>0</th>\n",
       "      <td>2.261179e+09</td>\n",
       "      <td>1.629006e+09</td>\n",
       "      <td>8.587741e+08</td>\n",
       "      <td>Yes</td>\n",
       "      <td>iso</td>\n",
       "    </tr>\n",
       "    <tr>\n",
       "      <th>1</th>\n",
       "      <td>1.614773e+09</td>\n",
       "      <td>1.077349e+09</td>\n",
       "      <td>8.934006e+08</td>\n",
       "      <td>Yes</td>\n",
       "      <td>iso</td>\n",
       "    </tr>\n",
       "    <tr>\n",
       "      <th>2</th>\n",
       "      <td>6.554858e+09</td>\n",
       "      <td>1.175723e+09</td>\n",
       "      <td>4.120229e+09</td>\n",
       "      <td>Yes</td>\n",
       "      <td>iso</td>\n",
       "    </tr>\n",
       "    <tr>\n",
       "      <th>3</th>\n",
       "      <td>7.039616e+09</td>\n",
       "      <td>6.263608e+09</td>\n",
       "      <td>8.933714e+10</td>\n",
       "      <td>No</td>\n",
       "      <td>iso</td>\n",
       "    </tr>\n",
       "    <tr>\n",
       "      <th>4</th>\n",
       "      <td>1.179139e+10</td>\n",
       "      <td>3.306548e+09</td>\n",
       "      <td>1.421714e+10</td>\n",
       "      <td>No</td>\n",
       "      <td>iso</td>\n",
       "    </tr>\n",
       "  </tbody>\n",
       "</table>\n",
       "</div>"
      ],
      "text/plain": [
       "             M1            M2      t_merger Merger Type\n",
       "0  2.261179e+09  1.629006e+09  8.587741e+08    Yes  iso\n",
       "1  1.614773e+09  1.077349e+09  8.934006e+08    Yes  iso\n",
       "2  6.554858e+09  1.175723e+09  4.120229e+09    Yes  iso\n",
       "3  7.039616e+09  6.263608e+09  8.933714e+10     No  iso\n",
       "4  1.179139e+10  3.306548e+09  1.421714e+10     No  iso"
      ]
     },
     "execution_count": 9,
     "metadata": {},
     "output_type": "execute_result"
    }
   ],
   "source": [
    "df_binary = pd.read_csv(\"Data/binary-merger-data.csv\",index_col= False)\n",
    "df_binary.head()"
   ]
  },
  {
   "cell_type": "code",
   "execution_count": 10,
   "metadata": {},
   "outputs": [],
   "source": [
    "df_iso_bbh = df_binary[(df_binary[\"Type\"] == \"iso\") & (df_binary[\"Merger\"] == \"Yes\")]"
   ]
  },
  {
   "cell_type": "code",
   "execution_count": 11,
   "metadata": {},
   "outputs": [],
   "source": [
    "def find_q(M1,M2):\n",
    "    if (M2>M1):\n",
    "        q = M1/M2\n",
    "    else:\n",
    "        q = M2/M1\n",
    "    \n",
    "    return q"
   ]
  },
  {
   "cell_type": "code",
   "execution_count": 13,
   "metadata": {},
   "outputs": [],
   "source": [
    "N_bbh = len(df_iso_bbh[\"M1\"])"
   ]
  },
  {
   "cell_type": "code",
   "execution_count": 17,
   "metadata": {},
   "outputs": [
    {
     "data": {
      "text/plain": [
       "8553948863.636364"
      ]
     },
     "execution_count": 17,
     "metadata": {},
     "output_type": "execute_result"
    }
   ],
   "source": [
    "df_iso_bbh[\"M1\"].iloc[1000]"
   ]
  },
  {
   "cell_type": "code",
   "execution_count": 32,
   "metadata": {},
   "outputs": [],
   "source": [
    "def kick_vel_threshold(model,V_thresh):\n",
    "\n",
    "    M1_list = []\n",
    "    M2_list = []\n",
    "    t_merger_list = []\n",
    "    recoil = []\n",
    "\n",
    "    for i in range(N_bbh):\n",
    "\n",
    "        S1,S2 = model()\n",
    "        q_i = find_q(df_iso_bbh[\"M1\"].iloc[i],df_iso_bbh[\"M2\"].iloc[i])\n",
    "        Vk = np.linalg.norm(spin.gw_kick(q_i,S1,S2))\n",
    "\n",
    "        if (Vk > V_thresh):\n",
    "            M1_list.append(df_iso_bbh[\"M1\"].iloc[i])\n",
    "            M2_list.append(df_iso_bbh[\"M2\"].iloc[i])\n",
    "            t_merger_list.append(df_iso_bbh[\"t_merger\"].iloc[i])\n",
    "            recoil.append(Vk)\n",
    "\n",
    "    return recoil,M1_list,M2_list,t_merger_list"
   ]
  },
  {
   "cell_type": "code",
   "execution_count": 33,
   "metadata": {},
   "outputs": [],
   "source": [
    "V_rd,M1_rd,M2_rd,t_rd = kick_vel_threshold(spin.random_dry,500)\n",
    "df_rd = pd.DataFrame([M1_rd,M2_rd,t_rd,V_rd])\n",
    "df_rd = df_rd.transpose()\n",
    "df_rd.columns = ['M1','M2','t_merger','V_kick']\n",
    "t_rd = df_rd[\"t_merger\"].to_numpy()"
   ]
  },
  {
   "cell_type": "code",
   "execution_count": 36,
   "metadata": {},
   "outputs": [],
   "source": [
    "z_rd = z_at_value(cosmo.age, (t_rd/10**9)*u.Gyr,zmin=1e-9)\n",
    "z_rd = np.array(z_rd)"
   ]
  },
  {
   "cell_type": "code",
   "execution_count": 37,
   "metadata": {},
   "outputs": [],
   "source": [
    "zmax = 7\n",
    "zbinsize = 0.2\n",
    "lgzbinsize=0.15\n",
    "lgzmin=-3.0\n",
    "lgzmax = 1.0"
   ]
  },
  {
   "cell_type": "code",
   "execution_count": 38,
   "metadata": {},
   "outputs": [],
   "source": [
    "import Merger_rate_plot as merg"
   ]
  },
  {
   "cell_type": "code",
   "execution_count": 39,
   "metadata": {},
   "outputs": [
    {
     "name": "stdout",
     "output_type": "stream",
     "text": [
      "total merger rate (yr^-1):  0.08694238399432401\n"
     ]
    }
   ],
   "source": [
    "merger_rate,lgzbins_rd,dNdlogzdt_rd = merg.merger_rate_log_plot(z_rd,zmax,zbinsize,lgzbinsize,lgzmin,lgzmax)"
   ]
  },
  {
   "cell_type": "code",
   "execution_count": 34,
   "metadata": {},
   "outputs": [],
   "source": [
    "V_5d,M1_5d,M2_5d,t_5d = kick_vel_threshold(spin.deg5_high,500)\n",
    "df_5d = pd.DataFrame([M1_5d,M2_5d,t_5d,V_5d])\n",
    "df_5d = df_5d.transpose()\n",
    "df_5d.columns = ['M1','M2','t_merger','V_kick']\n",
    "t_5d = df_5d[\"t_merger\"].to_numpy()"
   ]
  },
  {
   "cell_type": "code",
   "execution_count": 41,
   "metadata": {},
   "outputs": [],
   "source": [
    "z_5d = z_at_value(cosmo.age, (t_5d/10**9)*u.Gyr,zmin=1e-9)\n",
    "z_5d = np.array(z_5d)"
   ]
  },
  {
   "cell_type": "code",
   "execution_count": 48,
   "metadata": {},
   "outputs": [
    {
     "name": "stdout",
     "output_type": "stream",
     "text": [
      "total merger rate (yr^-1):  0.0019684170038993904\n"
     ]
    }
   ],
   "source": [
    "merger_rate,lgzbins_5d,dNdlogzdt_5d = merg.merger_rate_log_plot(z_5d,zmax,zbinsize,0.3,lgzmin,lgzmax)"
   ]
  },
  {
   "cell_type": "code",
   "execution_count": 62,
   "metadata": {},
   "outputs": [
    {
     "data": {
      "image/png": "[encoded data removed]",
      "text/plain": [
       "<Figure size 500x400 with 1 Axes>"
      ]
     },
     "metadata": {},
     "output_type": "display_data"
    }
   ],
   "source": [
    "plt.figure(figsize=[5,4])\n",
    "plt.plot(lgzbins_5d,dNdlogzdt_5d,label=\"deg-5\")\n",
    "plt.plot(lgzbins_rd,dNdlogzdt_rd,label=\"random-dry\")\n",
    "plt.xlabel(\"$\\log z$\")\n",
    "plt.ylabel(\"$\\log (d^2 N / d \\log z dt)$\")\n",
    "plt.yscale(\"log\")\n",
    "plt.legend()\n",
    "plt.title(\"GW Kick above threshold\")\n",
    "plt.savefig(\"Figures/GW-kick-above-threshold.pdf\")"
   ]
  },
  {
   "cell_type": "code",
   "execution_count": null,
   "metadata": {},
   "outputs": [],
   "source": []
  }
 ],
 "metadata": {
  "kernelspec": {
   "display_name": "ast",
   "language": "python",
   "name": "python3"
  },
  "language_info": {
   "codemirror_mode": {
    "name": "ipython",
    "version": 3
   },
   "file_extension": ".py",
   "mimetype": "text/x-python",
   "name": "python",
   "nbconvert_exporter": "python",
   "pygments_lexer": "ipython3",
   "version": "3.10.8"
  },
  "orig_nbformat": 4
 },
 "nbformat": 4,
 "nbformat_minor": 2
}
