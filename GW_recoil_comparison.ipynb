{
 "cells": [
  {
   "cell_type": "code",
   "execution_count": 50,
   "metadata": {},
   "outputs": [],
   "source": [
    "import numpy as np\n",
    "import pandas as pd\n",
    "import matplotlib.pyplot as plt\n",
    "import scienceplots\n",
    "plt.style.use('science')\n",
    "import spin_models as spin\n",
    "import Merger_rate_plot as merg\n"
   ]
  },
  {
   "cell_type": "code",
   "execution_count": 3,
   "metadata": {},
   "outputs": [],
   "source": [
    "from astropy.cosmology import WMAP9 as cosmo\n",
    "from astropy.cosmology import z_at_value"
   ]
  },
  {
   "cell_type": "code",
   "execution_count": 5,
   "metadata": {},
   "outputs": [
    {
     "data": {
      "text/html": [
       "<div>\n",
       "<style scoped>\n",
       "    .dataframe tbody tr th:only-of-type {\n",
       "        vertical-align: middle;\n",
       "    }\n",
       "\n",
       "    .dataframe tbody tr th {\n",
       "        vertical-align: top;\n",
       "    }\n",
       "\n",
       "    .dataframe thead th {\n",
       "        text-align: right;\n",
       "    }\n",
       "</style>\n",
       "<table border=\"1\" class=\"dataframe\">\n",
       "  <thead>\n",
       "    <tr style=\"text-align: right;\">\n",
       "      <th></th>\n",
       "      <th>M1</th>\n",
       "      <th>M2</th>\n",
       "      <th>t_merger</th>\n",
       "      <th>Merger</th>\n",
       "      <th>Type</th>\n",
       "      <th>GW-kick-random</th>\n",
       "      <th>GW-kick-aligned</th>\n",
       "    </tr>\n",
       "  </thead>\n",
       "  <tbody>\n",
       "    <tr>\n",
       "      <th>0</th>\n",
       "      <td>2.261179e+09</td>\n",
       "      <td>1.629006e+09</td>\n",
       "      <td>8.587741e+08</td>\n",
       "      <td>Yes</td>\n",
       "      <td>iso</td>\n",
       "      <td>611.319952</td>\n",
       "      <td>85.240339</td>\n",
       "    </tr>\n",
       "    <tr>\n",
       "      <th>1</th>\n",
       "      <td>1.614773e+09</td>\n",
       "      <td>1.077349e+09</td>\n",
       "      <td>8.934006e+08</td>\n",
       "      <td>Yes</td>\n",
       "      <td>iso</td>\n",
       "      <td>175.761905</td>\n",
       "      <td>68.109087</td>\n",
       "    </tr>\n",
       "    <tr>\n",
       "      <th>2</th>\n",
       "      <td>6.554858e+09</td>\n",
       "      <td>1.175723e+09</td>\n",
       "      <td>4.120229e+09</td>\n",
       "      <td>Yes</td>\n",
       "      <td>iso</td>\n",
       "      <td>259.534551</td>\n",
       "      <td>112.117402</td>\n",
       "    </tr>\n",
       "    <tr>\n",
       "      <th>3</th>\n",
       "      <td>2.595241e+09</td>\n",
       "      <td>1.829403e+09</td>\n",
       "      <td>1.008371e+09</td>\n",
       "      <td>Yes</td>\n",
       "      <td>iso</td>\n",
       "      <td>1585.065698</td>\n",
       "      <td>334.797135</td>\n",
       "    </tr>\n",
       "    <tr>\n",
       "      <th>4</th>\n",
       "      <td>1.497145e+10</td>\n",
       "      <td>2.327060e+09</td>\n",
       "      <td>1.495238e+09</td>\n",
       "      <td>Yes</td>\n",
       "      <td>iso</td>\n",
       "      <td>177.221309</td>\n",
       "      <td>69.815147</td>\n",
       "    </tr>\n",
       "  </tbody>\n",
       "</table>\n",
       "</div>"
      ],
      "text/plain": [
       "             M1            M2      t_merger Merger Type  GW-kick-random  \\\n",
       "0  2.261179e+09  1.629006e+09  8.587741e+08    Yes  iso      611.319952   \n",
       "1  1.614773e+09  1.077349e+09  8.934006e+08    Yes  iso      175.761905   \n",
       "2  6.554858e+09  1.175723e+09  4.120229e+09    Yes  iso      259.534551   \n",
       "3  2.595241e+09  1.829403e+09  1.008371e+09    Yes  iso     1585.065698   \n",
       "4  1.497145e+10  2.327060e+09  1.495238e+09    Yes  iso      177.221309   \n",
       "\n",
       "   GW-kick-aligned  \n",
       "0        85.240339  \n",
       "1        68.109087  \n",
       "2       112.117402  \n",
       "3       334.797135  \n",
       "4        69.815147  "
      ]
     },
     "execution_count": 5,
     "metadata": {},
     "output_type": "execute_result"
    }
   ],
   "source": [
    "df_binary_GW = pd.read_csv(\"Data/binary-GW-kick-data.csv\",index_col=False)\n",
    "df_binary_GW.head()"
   ]
  },
  {
   "cell_type": "code",
   "execution_count": 17,
   "metadata": {},
   "outputs": [
    {
     "data": {
      "text/html": [
       "<div>\n",
       "<style scoped>\n",
       "    .dataframe tbody tr th:only-of-type {\n",
       "        vertical-align: middle;\n",
       "    }\n",
       "\n",
       "    .dataframe tbody tr th {\n",
       "        vertical-align: top;\n",
       "    }\n",
       "\n",
       "    .dataframe thead th {\n",
       "        text-align: right;\n",
       "    }\n",
       "</style>\n",
       "<table border=\"1\" class=\"dataframe\">\n",
       "  <thead>\n",
       "    <tr style=\"text-align: right;\">\n",
       "      <th></th>\n",
       "      <th>Unnamed: 0</th>\n",
       "      <th>Mass 1</th>\n",
       "      <th>Mass 2</th>\n",
       "      <th>Mass 3</th>\n",
       "      <th>t_merger</th>\n",
       "      <th>Flag</th>\n",
       "      <th>GW-kick-random</th>\n",
       "      <th>GW-kick-aligned</th>\n",
       "    </tr>\n",
       "  </thead>\n",
       "  <tbody>\n",
       "    <tr>\n",
       "      <th>0</th>\n",
       "      <td>1</td>\n",
       "      <td>1.546540e+08</td>\n",
       "      <td>4.211761e+07</td>\n",
       "      <td>3.132749e+08</td>\n",
       "      <td>5.529691e+09</td>\n",
       "      <td>Tr</td>\n",
       "      <td>1084.466839</td>\n",
       "      <td>246.289465</td>\n",
       "    </tr>\n",
       "    <tr>\n",
       "      <th>1</th>\n",
       "      <td>5</td>\n",
       "      <td>9.436961e+06</td>\n",
       "      <td>1.002870e+06</td>\n",
       "      <td>4.551391e+08</td>\n",
       "      <td>1.125820e+10</td>\n",
       "      <td>Tr</td>\n",
       "      <td>18.149984</td>\n",
       "      <td>3.124250</td>\n",
       "    </tr>\n",
       "    <tr>\n",
       "      <th>2</th>\n",
       "      <td>6</td>\n",
       "      <td>1.002870e+06</td>\n",
       "      <td>4.551391e+08</td>\n",
       "      <td>9.436961e+06</td>\n",
       "      <td>4.452059e+09</td>\n",
       "      <td>Tr</td>\n",
       "      <td>19.646956</td>\n",
       "      <td>3.692619</td>\n",
       "    </tr>\n",
       "    <tr>\n",
       "      <th>3</th>\n",
       "      <td>8</td>\n",
       "      <td>3.159667e+07</td>\n",
       "      <td>6.693184e+06</td>\n",
       "      <td>1.266341e+07</td>\n",
       "      <td>2.713837e+09</td>\n",
       "      <td>Tr</td>\n",
       "      <td>784.496822</td>\n",
       "      <td>306.359863</td>\n",
       "    </tr>\n",
       "    <tr>\n",
       "      <th>4</th>\n",
       "      <td>9</td>\n",
       "      <td>3.159667e+07</td>\n",
       "      <td>6.693184e+06</td>\n",
       "      <td>1.266341e+07</td>\n",
       "      <td>4.003125e+09</td>\n",
       "      <td>Tr</td>\n",
       "      <td>1142.298736</td>\n",
       "      <td>271.976319</td>\n",
       "    </tr>\n",
       "  </tbody>\n",
       "</table>\n",
       "</div>"
      ],
      "text/plain": [
       "   Unnamed: 0        Mass 1        Mass 2        Mass 3      t_merger Flag  \\\n",
       "0           1  1.546540e+08  4.211761e+07  3.132749e+08  5.529691e+09   Tr   \n",
       "1           5  9.436961e+06  1.002870e+06  4.551391e+08  1.125820e+10   Tr   \n",
       "2           6  1.002870e+06  4.551391e+08  9.436961e+06  4.452059e+09   Tr   \n",
       "3           8  3.159667e+07  6.693184e+06  1.266341e+07  2.713837e+09   Tr   \n",
       "4           9  3.159667e+07  6.693184e+06  1.266341e+07  4.003125e+09   Tr   \n",
       "\n",
       "   GW-kick-random  GW-kick-aligned  \n",
       "0     1084.466839       246.289465  \n",
       "1       18.149984         3.124250  \n",
       "2       19.646956         3.692619  \n",
       "3      784.496822       306.359863  \n",
       "4     1142.298736       271.976319  "
      ]
     },
     "execution_count": 17,
     "metadata": {},
     "output_type": "execute_result"
    }
   ],
   "source": [
    "df_triple_GW = pd.read_csv(\"Data/triples-GW-kick-data.csv\",index_col=False)\n",
    "df_triple_GW.head()"
   ]
  },
  {
   "cell_type": "code",
   "execution_count": 131,
   "metadata": {},
   "outputs": [],
   "source": [
    "threshold = 500"
   ]
  },
  {
   "cell_type": "code",
   "execution_count": 132,
   "metadata": {},
   "outputs": [
    {
     "data": {
      "text/plain": [
       "array([], dtype=float64)"
      ]
     },
     "execution_count": 132,
     "metadata": {},
     "output_type": "execute_result"
    }
   ],
   "source": [
    "t_triple_GW"
   ]
  },
  {
   "cell_type": "code",
   "execution_count": 133,
   "metadata": {},
   "outputs": [],
   "source": [
    "t_triple_GW = df_triple_GW[df_triple_GW['GW-kick-aligned']>threshold][\"t_merger\"].to_numpy()\n",
    "z_triple_GW = z_at_value(cosmo.age, (t_triple_GW/10**9)*u.Gyr,zmin=1e-9)"
   ]
  },
  {
   "cell_type": "code",
   "execution_count": 134,
   "metadata": {},
   "outputs": [],
   "source": [
    "t_triple_GW_r = df_triple_GW[df_triple_GW['GW-kick-random']>threshold][\"t_merger\"].to_numpy()\n",
    "z_triple_GW_r = z_at_value(cosmo.age, (t_triple_GW_r/10**9)*u.Gyr,zmin=1e-9)"
   ]
  },
  {
   "cell_type": "code",
   "execution_count": 135,
   "metadata": {},
   "outputs": [],
   "source": [
    "t_binary_GW = df_binary_GW[df_binary_GW['GW-kick-aligned']>500][\"t_merger\"].to_numpy()\n",
    "z_binary_GW = z_at_value(cosmo.age, (t_binary_GW/10**9)*u.Gyr,zmin=1e-9)"
   ]
  },
  {
   "cell_type": "code",
   "execution_count": 136,
   "metadata": {},
   "outputs": [],
   "source": [
    "t_binary_GW_r = df_binary_GW[df_binary_GW['GW-kick-random']>500][\"t_merger\"].to_numpy()\n",
    "z_binary_GW_r = z_at_value(cosmo.age, (t_binary_GW_r/10**9)*u.Gyr,zmin=1e-9)"
   ]
  },
  {
   "cell_type": "code",
   "execution_count": 137,
   "metadata": {},
   "outputs": [],
   "source": [
    "z_GW = np.concatenate((z_binary_GW,z_triple_GW))"
   ]
  },
  {
   "cell_type": "code",
   "execution_count": 138,
   "metadata": {},
   "outputs": [],
   "source": [
    "z_GW_r = np.concatenate((z_binary_GW_r,z_triple_GW_r))"
   ]
  },
  {
   "cell_type": "code",
   "execution_count": 139,
   "metadata": {},
   "outputs": [
    {
     "data": {
      "text/html": [
       "<div>\n",
       "<style scoped>\n",
       "    .dataframe tbody tr th:only-of-type {\n",
       "        vertical-align: middle;\n",
       "    }\n",
       "\n",
       "    .dataframe tbody tr th {\n",
       "        vertical-align: top;\n",
       "    }\n",
       "\n",
       "    .dataframe thead th {\n",
       "        text-align: right;\n",
       "    }\n",
       "</style>\n",
       "<table border=\"1\" class=\"dataframe\">\n",
       "  <thead>\n",
       "    <tr style=\"text-align: right;\">\n",
       "      <th></th>\n",
       "      <th>Unnamed: 0</th>\n",
       "      <th>Mass 1</th>\n",
       "      <th>Mass 2</th>\n",
       "      <th>Mass 3</th>\n",
       "      <th>t_merger</th>\n",
       "      <th>Slingshot_kick</th>\n",
       "      <th>Flag</th>\n",
       "    </tr>\n",
       "  </thead>\n",
       "  <tbody>\n",
       "    <tr>\n",
       "      <th>0</th>\n",
       "      <td>0</td>\n",
       "      <td>2.150737e+07</td>\n",
       "      <td>8.204738e+06</td>\n",
       "      <td>5.276829e+07</td>\n",
       "      <td>1.985633e+09</td>\n",
       "      <td>1802.260202</td>\n",
       "      <td>No</td>\n",
       "    </tr>\n",
       "    <tr>\n",
       "      <th>1</th>\n",
       "      <td>2</td>\n",
       "      <td>1.546540e+08</td>\n",
       "      <td>4.211761e+07</td>\n",
       "      <td>3.132749e+08</td>\n",
       "      <td>3.025313e+09</td>\n",
       "      <td>301.352009</td>\n",
       "      <td>No</td>\n",
       "    </tr>\n",
       "    <tr>\n",
       "      <th>2</th>\n",
       "      <td>3</td>\n",
       "      <td>1.546540e+08</td>\n",
       "      <td>4.211761e+07</td>\n",
       "      <td>3.132749e+08</td>\n",
       "      <td>1.972738e+09</td>\n",
       "      <td>192.293287</td>\n",
       "      <td>No</td>\n",
       "    </tr>\n",
       "    <tr>\n",
       "      <th>3</th>\n",
       "      <td>4</td>\n",
       "      <td>9.436961e+06</td>\n",
       "      <td>1.002870e+06</td>\n",
       "      <td>4.551391e+08</td>\n",
       "      <td>4.814316e+09</td>\n",
       "      <td>10529.351190</td>\n",
       "      <td>No</td>\n",
       "    </tr>\n",
       "    <tr>\n",
       "      <th>4</th>\n",
       "      <td>7</td>\n",
       "      <td>9.436961e+06</td>\n",
       "      <td>1.002870e+06</td>\n",
       "      <td>4.551391e+08</td>\n",
       "      <td>9.469051e+09</td>\n",
       "      <td>3388.800447</td>\n",
       "      <td>No</td>\n",
       "    </tr>\n",
       "  </tbody>\n",
       "</table>\n",
       "</div>"
      ],
      "text/plain": [
       "   Unnamed: 0        Mass 1        Mass 2        Mass 3      t_merger  \\\n",
       "0           0  2.150737e+07  8.204738e+06  5.276829e+07  1.985633e+09   \n",
       "1           2  1.546540e+08  4.211761e+07  3.132749e+08  3.025313e+09   \n",
       "2           3  1.546540e+08  4.211761e+07  3.132749e+08  1.972738e+09   \n",
       "3           4  9.436961e+06  1.002870e+06  4.551391e+08  4.814316e+09   \n",
       "4           7  9.436961e+06  1.002870e+06  4.551391e+08  9.469051e+09   \n",
       "\n",
       "   Slingshot_kick Flag  \n",
       "0     1802.260202   No  \n",
       "1      301.352009   No  \n",
       "2      192.293287   No  \n",
       "3    10529.351190   No  \n",
       "4     3388.800447   No  "
      ]
     },
     "execution_count": 139,
     "metadata": {},
     "output_type": "execute_result"
    }
   ],
   "source": [
    "df_triple_slingshot = pd.read_csv(\"Data/triples-slingshot-data.csv\",index_col=False)\n",
    "df_triple_slingshot.head()"
   ]
  },
  {
   "cell_type": "code",
   "execution_count": 140,
   "metadata": {},
   "outputs": [],
   "source": [
    "t_slinsghot = df_triple_slingshot[df_triple_slingshot['Slingshot_kick']>500][\"t_merger\"].to_numpy()\n",
    "z_slingshot = z_at_value(cosmo.age,(t_slinsghot/10**9)*u.Gyr,zmin=1e-9)"
   ]
  },
  {
   "cell_type": "code",
   "execution_count": 141,
   "metadata": {},
   "outputs": [],
   "source": [
    "zmax = 7\n",
    "zbinsize = 0.2\n",
    "lgzbinsize=0.3\n",
    "lgzmin=-3.0\n",
    "lgzmax = 1.0"
   ]
  },
  {
   "cell_type": "code",
   "execution_count": 142,
   "metadata": {},
   "outputs": [
    {
     "name": "stdout",
     "output_type": "stream",
     "text": [
      "total merger rate (yr^-1):  0.0009563908411336382\n"
     ]
    }
   ],
   "source": [
    "merger_rate_GW,lgzbins_GW,dNdlogzdt_GW = merg.merger_rate_log_plot(z_GW,zmax=7,zbinsize=0.2,lgzbinsize=0.5,lgzmin=-3,lgzmax=1)"
   ]
  },
  {
   "cell_type": "code",
   "execution_count": 143,
   "metadata": {},
   "outputs": [
    {
     "name": "stdout",
     "output_type": "stream",
     "text": [
      "total merger rate (yr^-1):  0.10435792672236287\n"
     ]
    }
   ],
   "source": [
    "merger_rate_GW_r,lgzbins_GW_r,dNdlogzdt_GW_r = merg.merger_rate_log_plot(z_GW_r,zmax=7,zbinsize=0.2,lgzbinsize=0.18,lgzmin=-3,lgzmax=1)"
   ]
  },
  {
   "cell_type": "code",
   "execution_count": 144,
   "metadata": {},
   "outputs": [
    {
     "name": "stdout",
     "output_type": "stream",
     "text": [
      "total merger rate (yr^-1):  0.016969553776595432\n"
     ]
    }
   ],
   "source": [
    "merger_rate_sling,lgzbins_sling,dNdlogzdt_sling = merg.merger_rate_log_plot(z_slingshot,zmax,zbinsize,lgzbinsize,lgzmin,lgzmax)"
   ]
  },
  {
   "cell_type": "code",
   "execution_count": 145,
   "metadata": {},
   "outputs": [
    {
     "data": {
      "image/png": "[encoded data removed]",
      "text/plain": [
       "<Figure size 800x600 with 1 Axes>"
      ]
     },
     "metadata": {},
     "output_type": "display_data"
    }
   ],
   "source": [
    "plt.figure(figsize=[8,6])\n",
    "plt.plot(lgzbins_GW_r,dNdlogzdt_GW_r,label=\"GW kick-random\")\n",
    "plt.plot(lgzbins_GW,dNdlogzdt_GW,label=\"GW kick-aligned\")\n",
    "plt.plot(lgzbins_sling,dNdlogzdt_sling,label=\"Slingshot kick\")\n",
    "plt.xlabel(\"$\\log z$\")\n",
    "plt.ylabel(\"$\\log (d^2 N / d \\log z dt)$\")\n",
    "plt.yscale(\"log\")\n",
    "plt.legend()\n",
    "plt.title(\"GW Kick vs Slingshot Kick above threshold\")\n",
    "plt.savefig(\"Figures/GW_kick_aligned_vs_slingshot_rates.pdf\")"
   ]
  },
  {
   "cell_type": "code",
   "execution_count": null,
   "metadata": {},
   "outputs": [],
   "source": []
  }
 ],
 "metadata": {
  "kernelspec": {
   "display_name": "ast",
   "language": "python",
   "name": "python3"
  },
  "language_info": {
   "codemirror_mode": {
    "name": "ipython",
    "version": 3
   },
   "file_extension": ".py",
   "mimetype": "text/x-python",
   "name": "python",
   "nbconvert_exporter": "python",
   "pygments_lexer": "ipython3",
   "version": "3.10.8"
  },
  "orig_nbformat": 4
 },
 "nbformat": 4,
 "nbformat_minor": 2
}
