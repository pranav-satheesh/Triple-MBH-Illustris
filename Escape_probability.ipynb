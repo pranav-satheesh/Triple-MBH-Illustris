{
 "cells": [
  {
   "cell_type": "code",
   "execution_count": 8,
   "metadata": {},
   "outputs": [],
   "source": [
    "import numpy as np\n",
    "import pandas as pd\n",
    "import matplotlib.pyplot as plt\n",
    "import scienceplots\n",
    "plt.style.use('science')\n",
    "import spin_models as spin\n",
    "import Merger_rate_plot as merg\n",
    "import scipy.stats as st\n",
    "from astropy.cosmology import WMAP9 as cosmo\n",
    "from astropy.cosmology import z_at_value\n",
    "from astropy import constants as const\n",
    "from astropy import units as u"
   ]
  },
  {
   "cell_type": "code",
   "execution_count": 16,
   "metadata": {},
   "outputs": [],
   "source": [
    "def find_q(M1,M2):\n",
    "    if (M2>M1):\n",
    "        q = M1/M2\n",
    "    else:\n",
    "        q = M2/M1\n",
    "    \n",
    "    return q\n"
   ]
  },
  {
   "cell_type": "code",
   "execution_count": 17,
   "metadata": {},
   "outputs": [],
   "source": [
    "mean = 2.87678065\n",
    "stdev = 0.31454837\n",
    "\n",
    "def trip_log_v():\n",
    "    return st.norm.rvs(mean,stdev)\n",
    "\n",
    "def v_scaled(m3,qout):\n",
    "\n",
    "    q_HL = 1/10\n",
    "    m3_HL = 10**7\n",
    "    v_HL = trip_log_v()\n",
    "\n",
    "    return (np.sqrt((m3_HL*(1+q_HL))/(m3*(1+qout))) * 10**(v_HL))\n",
    "\n"
   ]
  },
  {
   "cell_type": "code",
   "execution_count": 18,
   "metadata": {},
   "outputs": [],
   "source": [
    "df_binary = pd.read_csv(\"Data/binary-merger-data.csv\",index_col= False)\n",
    "df_binary.head()\n",
    "df_iso_bbh = df_binary[(df_binary[\"Type\"] == \"iso\") & (df_binary[\"Merger\"] == \"Yes\")]"
   ]
  },
  {
   "cell_type": "code",
   "execution_count": 19,
   "metadata": {},
   "outputs": [],
   "source": [
    "df_trip = pd.read_csv(\"Data/triples-data-with-flags.csv\",index_col= False)\n",
    "df_t_slingshot = df_trip[(df_trip[\"Flag\"] == \"Tr-ej\") | (df_trip[\"Flag\"] == \"No\")]\n",
    "df_t_GW_kick = df_trip[(df_trip[\"Flag\"] == \"Tr-ej\") | (df_trip[\"Flag\"] == \"Tr\")]"
   ]
  },
  {
   "cell_type": "code",
   "execution_count": 20,
   "metadata": {},
   "outputs": [],
   "source": [
    "N_bbh = len(df_iso_bbh[\"M1\"])"
   ]
  },
  {
   "cell_type": "code",
   "execution_count": 88,
   "metadata": {},
   "outputs": [],
   "source": [
    "Vesc = 600"
   ]
  },
  {
   "cell_type": "code",
   "execution_count": 89,
   "metadata": {},
   "outputs": [],
   "source": [
    "esc_prob_slingshot = []\n",
    "\n",
    "for j in range(1000):\n",
    "    slingshot_kicks = []\n",
    "    for i in range(np.shape(df_t_slingshot)[0]):\n",
    "        m1 = df_t_slingshot[\"Mass 1\"].iloc[i]\n",
    "        m2 = df_t_slingshot [\"Mass 2\"].iloc[i]\n",
    "        m3 = df_t_slingshot [\"Mass 3\"].iloc[i]\n",
    "        m_sort = np.sort([m1,m2,m3])\n",
    "\n",
    "        m3 = m_sort[0]\n",
    "        qout = m_sort[0]/(m_sort[1]+m_sort[2])\n",
    "        slingshot_kicks.append(v_scaled(m3,qout))\n",
    "    \n",
    "    esc_prob_slingshot.append(sum(i > Vesc for i in slingshot_kicks)/len(slingshot_kicks) * 100)"
   ]
  },
  {
   "cell_type": "code",
   "execution_count": 90,
   "metadata": {},
   "outputs": [
    {
     "data": {
      "image/png": "[encoded data removed]",
      "text/plain": [
       "<Figure size 350x262.5 with 1 Axes>"
      ]
     },
     "metadata": {},
     "output_type": "display_data"
    }
   ],
   "source": [
    "plt.hist(esc_prob_slingshot,bins=20,density=True)\n",
    "plt.show()"
   ]
  },
  {
   "cell_type": "code",
   "execution_count": 97,
   "metadata": {},
   "outputs": [],
   "source": [
    "esc_prob_GW_random = []\n",
    "esc_prob_GW_aligned = []\n",
    "\n",
    "for i in range(100):\n",
    "    vGW_random = []\n",
    "    vGW_aligned = []\n",
    "\n",
    "    for i in range(np.shape(df_t_GW_kick)[0]):\n",
    "        m1 = df_t_GW_kick[\"Mass 1\"].iloc[i]\n",
    "        m2 = df_t_GW_kick[\"Mass 2\"].iloc[i]\n",
    "        m3 = df_t_GW_kick[\"Mass 3\"].iloc[i]\n",
    "        m_sort = np.sort([m1,m2,m3])\n",
    "\n",
    "        m1 = m_sort[1]\n",
    "        m2 = m_sort[2]\n",
    "        q = find_q(m1,m2)\n",
    "\n",
    "        #random-dry\n",
    "        S1,S2 = spin.random_dry()\n",
    "        vGW_random.append(np.linalg.norm(spin.gw_kick(q,S1,S2)))\n",
    "\n",
    "        #aligned-5deg\n",
    "        S1,S2 = spin.deg5_high()\n",
    "        vGW_aligned.append(np.linalg.norm(spin.gw_kick(q,S1,S2)))\n",
    "\n",
    "    for i in range(N_bbh):\n",
    "        q_i = find_q(df_iso_bbh[\"M1\"].iloc[i],df_iso_bbh[\"M2\"].iloc[i])\n",
    "\n",
    "        S1,S2 = spin.random_dry()\n",
    "        vGW_random.append(np.linalg.norm(spin.gw_kick(q_i,S1,S2)))\n",
    "\n",
    "        S1,S2 = spin.deg5_high()\n",
    "        vGW_aligned.append(np.linalg.norm(spin.gw_kick(q_i,S1,S2)))\n",
    "    \n",
    "    esc_prob_GW_aligned.append(sum(i > Vesc for i in vGW_aligned)/len(vGW_aligned) * 100)\n",
    "    esc_prob_GW_random.append(sum(i > Vesc for i in vGW_random)/len(vGW_random) * 100)"
   ]
  },
  {
   "cell_type": "code",
   "execution_count": 104,
   "metadata": {},
   "outputs": [
    {
     "data": {
      "image/png": "[encoded data removed]",
      "text/plain": [
       "<Figure size 700x500 with 1 Axes>"
      ]
     },
     "metadata": {},
     "output_type": "display_data"
    }
   ],
   "source": [
    "plt.figure(figsize=[7,5])\n",
    "plt.hist(esc_prob_GW_random,density=True,label=\"GW - random\")\n",
    "plt.hist(esc_prob_slingshot,bins=20,density=True,label=\"Slingshot\")\n",
    "plt.title(\"$v_{threshold} = 600 \\ km \\ s^{-1}$\")\n",
    "plt.legend()\n",
    "plt.xlabel(\"$P(v > v_{threshold})$\")\n",
    "plt.show()"
   ]
  },
  {
   "cell_type": "code",
   "execution_count": null,
   "metadata": {},
   "outputs": [],
   "source": []
  }
 ],
 "metadata": {
  "kernelspec": {
   "display_name": "ast",
   "language": "python",
   "name": "python3"
  },
  "language_info": {
   "codemirror_mode": {
    "name": "ipython",
    "version": 3
   },
   "file_extension": ".py",
   "mimetype": "text/x-python",
   "name": "python",
   "nbconvert_exporter": "python",
   "pygments_lexer": "ipython3",
   "version": "3.10.8"
  },
  "orig_nbformat": 4
 },
 "nbformat": 4,
 "nbformat_minor": 2
}
