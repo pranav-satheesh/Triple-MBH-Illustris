{
 "cells": [
  {
   "cell_type": "code",
   "execution_count": 27,
   "metadata": {},
   "outputs": [],
   "source": [
    "import numpy as np\n",
    "import matplotlib.pylab as plt\n",
    "import pandas as pd\n",
    "import astropy.units as u"
   ]
  },
  {
   "cell_type": "code",
   "execution_count": 24,
   "metadata": {},
   "outputs": [
    {
     "data": {
      "text/html": [
       "<div>\n",
       "<style scoped>\n",
       "    .dataframe tbody tr th:only-of-type {\n",
       "        vertical-align: middle;\n",
       "    }\n",
       "\n",
       "    .dataframe tbody tr th {\n",
       "        vertical-align: top;\n",
       "    }\n",
       "\n",
       "    .dataframe thead th {\n",
       "        text-align: right;\n",
       "    }\n",
       "</style>\n",
       "<table border=\"1\" class=\"dataframe\">\n",
       "  <thead>\n",
       "    <tr style=\"text-align: right;\">\n",
       "      <th></th>\n",
       "      <th>filename</th>\n",
       "      <th>qin</th>\n",
       "      <th>qout</th>\n",
       "      <th>ein</th>\n",
       "      <th>eout</th>\n",
       "      <th>inc</th>\n",
       "      <th>m12</th>\n",
       "      <th>m13</th>\n",
       "      <th>m23</th>\n",
       "      <th>e1</th>\n",
       "      <th>...</th>\n",
       "      <th>sigma</th>\n",
       "      <th>MS</th>\n",
       "      <th>AS</th>\n",
       "      <th>g</th>\n",
       "      <th>Rinf</th>\n",
       "      <th>A0</th>\n",
       "      <th>Rc</th>\n",
       "      <th>Vout_f</th>\n",
       "      <th>e100</th>\n",
       "      <th>e1000</th>\n",
       "    </tr>\n",
       "  </thead>\n",
       "  <tbody>\n",
       "    <tr>\n",
       "      <th>0</th>\n",
       "      <td>sim_Aa_001</td>\n",
       "      <td>0.0316</td>\n",
       "      <td>0.0316</td>\n",
       "      <td>0.222758</td>\n",
       "      <td>0.3</td>\n",
       "      <td>10.0</td>\n",
       "      <td>0</td>\n",
       "      <td>0</td>\n",
       "      <td>0</td>\n",
       "      <td>0</td>\n",
       "      <td>...</td>\n",
       "      <td>0.000033</td>\n",
       "      <td>6.767877e+07</td>\n",
       "      <td>103.298217</td>\n",
       "      <td>1.0</td>\n",
       "      <td>6.670835</td>\n",
       "      <td>0.0</td>\n",
       "      <td>5.140997</td>\n",
       "      <td>0.000068</td>\n",
       "      <td>-1.0</td>\n",
       "      <td>-1.0</td>\n",
       "    </tr>\n",
       "    <tr>\n",
       "      <th>1</th>\n",
       "      <td>sim_Aa_002</td>\n",
       "      <td>0.0316</td>\n",
       "      <td>0.0316</td>\n",
       "      <td>0.222758</td>\n",
       "      <td>0.6</td>\n",
       "      <td>10.0</td>\n",
       "      <td>0</td>\n",
       "      <td>0</td>\n",
       "      <td>0</td>\n",
       "      <td>0</td>\n",
       "      <td>...</td>\n",
       "      <td>0.000033</td>\n",
       "      <td>6.767877e+07</td>\n",
       "      <td>103.298217</td>\n",
       "      <td>1.0</td>\n",
       "      <td>6.670835</td>\n",
       "      <td>0.0</td>\n",
       "      <td>5.140997</td>\n",
       "      <td>0.000158</td>\n",
       "      <td>-1.0</td>\n",
       "      <td>-1.0</td>\n",
       "    </tr>\n",
       "    <tr>\n",
       "      <th>2</th>\n",
       "      <td>sim_Aa_003</td>\n",
       "      <td>0.0316</td>\n",
       "      <td>0.0316</td>\n",
       "      <td>0.222758</td>\n",
       "      <td>0.9</td>\n",
       "      <td>10.0</td>\n",
       "      <td>0</td>\n",
       "      <td>0</td>\n",
       "      <td>0</td>\n",
       "      <td>0</td>\n",
       "      <td>...</td>\n",
       "      <td>0.000033</td>\n",
       "      <td>6.767877e+07</td>\n",
       "      <td>103.298217</td>\n",
       "      <td>1.0</td>\n",
       "      <td>6.670835</td>\n",
       "      <td>0.0</td>\n",
       "      <td>5.140997</td>\n",
       "      <td>0.000083</td>\n",
       "      <td>-1.0</td>\n",
       "      <td>-1.0</td>\n",
       "    </tr>\n",
       "    <tr>\n",
       "      <th>3</th>\n",
       "      <td>sim_Aa_004</td>\n",
       "      <td>0.0316</td>\n",
       "      <td>0.0316</td>\n",
       "      <td>0.315724</td>\n",
       "      <td>0.3</td>\n",
       "      <td>10.0</td>\n",
       "      <td>0</td>\n",
       "      <td>0</td>\n",
       "      <td>0</td>\n",
       "      <td>0</td>\n",
       "      <td>...</td>\n",
       "      <td>0.000033</td>\n",
       "      <td>6.767877e+07</td>\n",
       "      <td>103.298217</td>\n",
       "      <td>1.0</td>\n",
       "      <td>6.670835</td>\n",
       "      <td>0.0</td>\n",
       "      <td>5.140997</td>\n",
       "      <td>0.000203</td>\n",
       "      <td>-1.0</td>\n",
       "      <td>-1.0</td>\n",
       "    </tr>\n",
       "    <tr>\n",
       "      <th>4</th>\n",
       "      <td>sim_Aa_005</td>\n",
       "      <td>0.0316</td>\n",
       "      <td>0.0316</td>\n",
       "      <td>0.315724</td>\n",
       "      <td>0.6</td>\n",
       "      <td>10.0</td>\n",
       "      <td>0</td>\n",
       "      <td>0</td>\n",
       "      <td>0</td>\n",
       "      <td>0</td>\n",
       "      <td>...</td>\n",
       "      <td>0.000033</td>\n",
       "      <td>6.767877e+07</td>\n",
       "      <td>103.298217</td>\n",
       "      <td>1.0</td>\n",
       "      <td>6.670835</td>\n",
       "      <td>0.0</td>\n",
       "      <td>5.140997</td>\n",
       "      <td>0.000320</td>\n",
       "      <td>-1.0</td>\n",
       "      <td>-1.0</td>\n",
       "    </tr>\n",
       "  </tbody>\n",
       "</table>\n",
       "<p>5 rows × 30 columns</p>\n",
       "</div>"
      ],
      "text/plain": [
       "     filename     qin    qout       ein  eout   inc  m12  m13  m23  e1  ...  \\\n",
       "0  sim_Aa_001  0.0316  0.0316  0.222758   0.3  10.0    0    0    0   0  ...   \n",
       "1  sim_Aa_002  0.0316  0.0316  0.222758   0.6  10.0    0    0    0   0  ...   \n",
       "2  sim_Aa_003  0.0316  0.0316  0.222758   0.9  10.0    0    0    0   0  ...   \n",
       "3  sim_Aa_004  0.0316  0.0316  0.315724   0.3  10.0    0    0    0   0  ...   \n",
       "4  sim_Aa_005  0.0316  0.0316  0.315724   0.6  10.0    0    0    0   0  ...   \n",
       "\n",
       "      sigma            MS          AS    g      Rinf   A0        Rc    Vout_f  \\\n",
       "0  0.000033  6.767877e+07  103.298217  1.0  6.670835  0.0  5.140997  0.000068   \n",
       "1  0.000033  6.767877e+07  103.298217  1.0  6.670835  0.0  5.140997  0.000158   \n",
       "2  0.000033  6.767877e+07  103.298217  1.0  6.670835  0.0  5.140997  0.000083   \n",
       "3  0.000033  6.767877e+07  103.298217  1.0  6.670835  0.0  5.140997  0.000203   \n",
       "4  0.000033  6.767877e+07  103.298217  1.0  6.670835  0.0  5.140997  0.000320   \n",
       "\n",
       "   e100  e1000  \n",
       "0  -1.0   -1.0  \n",
       "1  -1.0   -1.0  \n",
       "2  -1.0   -1.0  \n",
       "3  -1.0   -1.0  \n",
       "4  -1.0   -1.0  \n",
       "\n",
       "[5 rows x 30 columns]"
      ]
     },
     "execution_count": 24,
     "metadata": {},
     "output_type": "execute_result"
    }
   ],
   "source": [
    "mbh_sim_data = pd.read_table(\"Data/outcome2024_sim_m1_1e00.dat\",sep=\"\\s+\")\n",
    "mbh_sim_data.head()"
   ]
  },
  {
   "cell_type": "code",
   "execution_count": 408,
   "metadata": {},
   "outputs": [],
   "source": [
    "mbh_meaningful = mbh_sim_data[mbh_sim_data[\"m_e\"]==0]"
   ]
  },
  {
   "cell_type": "code",
   "execution_count": 416,
   "metadata": {},
   "outputs": [
    {
     "data": {
      "text/plain": [
       "(array([ 218.,  912.,  987., 3419., 5705.,  105.,    0.,    9.,   77.,\n",
       "          25.]),\n",
       " array([-2.36563684, -0.87122185,  0.62319313,  2.11760811,  3.6120231 ,\n",
       "         5.10643808,  6.60085307,  8.09526805,  9.58968304, 11.08409802,\n",
       "        12.57851301]),\n",
       " <BarContainer object of 10 artists>)"
      ]
     },
     "execution_count": 416,
     "metadata": {},
     "output_type": "execute_result"
    },
    {
     "data": {
      "image/png": "[encoded data removed]",
      "text/plain": [
       "<Figure size 640x480 with 1 Axes>"
      ]
     },
     "metadata": {},
     "output_type": "display_data"
    }
   ],
   "source": [
    "plt.hist(np.log10(mbh_meaningful[\"Rout_f\"]))\n"
   ]
  },
  {
   "cell_type": "code",
   "execution_count": 114,
   "metadata": {},
   "outputs": [
    {
     "data": {
      "text/html": [
       "<div>\n",
       "<style scoped>\n",
       "    .dataframe tbody tr th:only-of-type {\n",
       "        vertical-align: middle;\n",
       "    }\n",
       "\n",
       "    .dataframe tbody tr th {\n",
       "        vertical-align: top;\n",
       "    }\n",
       "\n",
       "    .dataframe thead th {\n",
       "        text-align: right;\n",
       "    }\n",
       "</style>\n",
       "<table border=\"1\" class=\"dataframe\">\n",
       "  <thead>\n",
       "    <tr style=\"text-align: right;\">\n",
       "      <th></th>\n",
       "      <th>filename</th>\n",
       "      <th>qin</th>\n",
       "      <th>qout</th>\n",
       "      <th>ein</th>\n",
       "      <th>eout</th>\n",
       "      <th>inc</th>\n",
       "      <th>m12</th>\n",
       "      <th>m13</th>\n",
       "      <th>m23</th>\n",
       "      <th>e1</th>\n",
       "      <th>...</th>\n",
       "      <th>sigma</th>\n",
       "      <th>MS</th>\n",
       "      <th>AS</th>\n",
       "      <th>g</th>\n",
       "      <th>Rinf</th>\n",
       "      <th>A0</th>\n",
       "      <th>Rc</th>\n",
       "      <th>Vout_f</th>\n",
       "      <th>e100</th>\n",
       "      <th>e1000</th>\n",
       "    </tr>\n",
       "  </thead>\n",
       "  <tbody>\n",
       "    <tr>\n",
       "      <th>0</th>\n",
       "      <td>sim_Aa_001</td>\n",
       "      <td>0.0316</td>\n",
       "      <td>0.0316</td>\n",
       "      <td>0.222758</td>\n",
       "      <td>0.3</td>\n",
       "      <td>10.0</td>\n",
       "      <td>0</td>\n",
       "      <td>0</td>\n",
       "      <td>0</td>\n",
       "      <td>0</td>\n",
       "      <td>...</td>\n",
       "      <td>0.000033</td>\n",
       "      <td>6.767877e+07</td>\n",
       "      <td>103.298217</td>\n",
       "      <td>1.0</td>\n",
       "      <td>6.670835</td>\n",
       "      <td>0.00000</td>\n",
       "      <td>5.140997</td>\n",
       "      <td>0.000068</td>\n",
       "      <td>-1.000000</td>\n",
       "      <td>-1.000000</td>\n",
       "    </tr>\n",
       "    <tr>\n",
       "      <th>1</th>\n",
       "      <td>sim_Aa_002</td>\n",
       "      <td>0.0316</td>\n",
       "      <td>0.0316</td>\n",
       "      <td>0.222758</td>\n",
       "      <td>0.6</td>\n",
       "      <td>10.0</td>\n",
       "      <td>0</td>\n",
       "      <td>0</td>\n",
       "      <td>0</td>\n",
       "      <td>0</td>\n",
       "      <td>...</td>\n",
       "      <td>0.000033</td>\n",
       "      <td>6.767877e+07</td>\n",
       "      <td>103.298217</td>\n",
       "      <td>1.0</td>\n",
       "      <td>6.670835</td>\n",
       "      <td>0.00000</td>\n",
       "      <td>5.140997</td>\n",
       "      <td>0.000158</td>\n",
       "      <td>-1.000000</td>\n",
       "      <td>-1.000000</td>\n",
       "    </tr>\n",
       "    <tr>\n",
       "      <th>2</th>\n",
       "      <td>sim_Aa_003</td>\n",
       "      <td>0.0316</td>\n",
       "      <td>0.0316</td>\n",
       "      <td>0.222758</td>\n",
       "      <td>0.9</td>\n",
       "      <td>10.0</td>\n",
       "      <td>0</td>\n",
       "      <td>0</td>\n",
       "      <td>0</td>\n",
       "      <td>0</td>\n",
       "      <td>...</td>\n",
       "      <td>0.000033</td>\n",
       "      <td>6.767877e+07</td>\n",
       "      <td>103.298217</td>\n",
       "      <td>1.0</td>\n",
       "      <td>6.670835</td>\n",
       "      <td>0.00000</td>\n",
       "      <td>5.140997</td>\n",
       "      <td>0.000083</td>\n",
       "      <td>-1.000000</td>\n",
       "      <td>-1.000000</td>\n",
       "    </tr>\n",
       "    <tr>\n",
       "      <th>3</th>\n",
       "      <td>sim_Aa_004</td>\n",
       "      <td>0.0316</td>\n",
       "      <td>0.0316</td>\n",
       "      <td>0.315724</td>\n",
       "      <td>0.3</td>\n",
       "      <td>10.0</td>\n",
       "      <td>0</td>\n",
       "      <td>0</td>\n",
       "      <td>0</td>\n",
       "      <td>0</td>\n",
       "      <td>...</td>\n",
       "      <td>0.000033</td>\n",
       "      <td>6.767877e+07</td>\n",
       "      <td>103.298217</td>\n",
       "      <td>1.0</td>\n",
       "      <td>6.670835</td>\n",
       "      <td>0.00000</td>\n",
       "      <td>5.140997</td>\n",
       "      <td>0.000203</td>\n",
       "      <td>-1.000000</td>\n",
       "      <td>-1.000000</td>\n",
       "    </tr>\n",
       "    <tr>\n",
       "      <th>4</th>\n",
       "      <td>sim_Aa_005</td>\n",
       "      <td>0.0316</td>\n",
       "      <td>0.0316</td>\n",
       "      <td>0.315724</td>\n",
       "      <td>0.6</td>\n",
       "      <td>10.0</td>\n",
       "      <td>0</td>\n",
       "      <td>0</td>\n",
       "      <td>0</td>\n",
       "      <td>0</td>\n",
       "      <td>...</td>\n",
       "      <td>0.000033</td>\n",
       "      <td>6.767877e+07</td>\n",
       "      <td>103.298217</td>\n",
       "      <td>1.0</td>\n",
       "      <td>6.670835</td>\n",
       "      <td>0.00000</td>\n",
       "      <td>5.140997</td>\n",
       "      <td>0.000320</td>\n",
       "      <td>-1.000000</td>\n",
       "      <td>-1.000000</td>\n",
       "    </tr>\n",
       "    <tr>\n",
       "      <th>...</th>\n",
       "      <td>...</td>\n",
       "      <td>...</td>\n",
       "      <td>...</td>\n",
       "      <td>...</td>\n",
       "      <td>...</td>\n",
       "      <td>...</td>\n",
       "      <td>...</td>\n",
       "      <td>...</td>\n",
       "      <td>...</td>\n",
       "      <td>...</td>\n",
       "      <td>...</td>\n",
       "      <td>...</td>\n",
       "      <td>...</td>\n",
       "      <td>...</td>\n",
       "      <td>...</td>\n",
       "      <td>...</td>\n",
       "      <td>...</td>\n",
       "      <td>...</td>\n",
       "      <td>...</td>\n",
       "      <td>...</td>\n",
       "      <td>...</td>\n",
       "    </tr>\n",
       "    <tr>\n",
       "      <th>1915</th>\n",
       "      <td>sim_Aj_188</td>\n",
       "      <td>1.0000</td>\n",
       "      <td>1.0000</td>\n",
       "      <td>0.601223</td>\n",
       "      <td>0.6</td>\n",
       "      <td>120.0</td>\n",
       "      <td>0</td>\n",
       "      <td>0</td>\n",
       "      <td>0</td>\n",
       "      <td>1</td>\n",
       "      <td>...</td>\n",
       "      <td>0.000038</td>\n",
       "      <td>1.197582e+08</td>\n",
       "      <td>129.713755</td>\n",
       "      <td>1.0</td>\n",
       "      <td>13.583024</td>\n",
       "      <td>6.49206</td>\n",
       "      <td>13.112911</td>\n",
       "      <td>0.000110</td>\n",
       "      <td>-1.000000</td>\n",
       "      <td>-1.000000</td>\n",
       "    </tr>\n",
       "    <tr>\n",
       "      <th>1916</th>\n",
       "      <td>sim_Aj_189</td>\n",
       "      <td>1.0000</td>\n",
       "      <td>1.0000</td>\n",
       "      <td>0.601223</td>\n",
       "      <td>0.9</td>\n",
       "      <td>120.0</td>\n",
       "      <td>0</td>\n",
       "      <td>0</td>\n",
       "      <td>0</td>\n",
       "      <td>0</td>\n",
       "      <td>...</td>\n",
       "      <td>0.000038</td>\n",
       "      <td>1.197582e+08</td>\n",
       "      <td>129.713755</td>\n",
       "      <td>1.0</td>\n",
       "      <td>13.583024</td>\n",
       "      <td>6.49206</td>\n",
       "      <td>13.112911</td>\n",
       "      <td>0.000100</td>\n",
       "      <td>-1.000000</td>\n",
       "      <td>-1.000000</td>\n",
       "    </tr>\n",
       "    <tr>\n",
       "      <th>1917</th>\n",
       "      <td>sim_Aj_190</td>\n",
       "      <td>1.0000</td>\n",
       "      <td>1.0000</td>\n",
       "      <td>0.906487</td>\n",
       "      <td>0.3</td>\n",
       "      <td>120.0</td>\n",
       "      <td>1</td>\n",
       "      <td>0</td>\n",
       "      <td>0</td>\n",
       "      <td>0</td>\n",
       "      <td>...</td>\n",
       "      <td>0.000038</td>\n",
       "      <td>1.197582e+08</td>\n",
       "      <td>129.713755</td>\n",
       "      <td>1.0</td>\n",
       "      <td>13.583024</td>\n",
       "      <td>6.49206</td>\n",
       "      <td>13.112911</td>\n",
       "      <td>0.000068</td>\n",
       "      <td>0.287625</td>\n",
       "      <td>0.895566</td>\n",
       "    </tr>\n",
       "    <tr>\n",
       "      <th>1918</th>\n",
       "      <td>sim_Aj_191</td>\n",
       "      <td>1.0000</td>\n",
       "      <td>1.0000</td>\n",
       "      <td>0.906487</td>\n",
       "      <td>0.6</td>\n",
       "      <td>120.0</td>\n",
       "      <td>0</td>\n",
       "      <td>0</td>\n",
       "      <td>0</td>\n",
       "      <td>1</td>\n",
       "      <td>...</td>\n",
       "      <td>0.000038</td>\n",
       "      <td>1.197582e+08</td>\n",
       "      <td>129.713755</td>\n",
       "      <td>1.0</td>\n",
       "      <td>13.583024</td>\n",
       "      <td>6.49206</td>\n",
       "      <td>13.112911</td>\n",
       "      <td>0.000081</td>\n",
       "      <td>-1.000000</td>\n",
       "      <td>-1.000000</td>\n",
       "    </tr>\n",
       "    <tr>\n",
       "      <th>1919</th>\n",
       "      <td>sim_Aj_192</td>\n",
       "      <td>1.0000</td>\n",
       "      <td>1.0000</td>\n",
       "      <td>0.906487</td>\n",
       "      <td>0.9</td>\n",
       "      <td>120.0</td>\n",
       "      <td>1</td>\n",
       "      <td>0</td>\n",
       "      <td>0</td>\n",
       "      <td>0</td>\n",
       "      <td>...</td>\n",
       "      <td>0.000038</td>\n",
       "      <td>1.197582e+08</td>\n",
       "      <td>129.713755</td>\n",
       "      <td>1.0</td>\n",
       "      <td>13.583024</td>\n",
       "      <td>6.49206</td>\n",
       "      <td>13.112911</td>\n",
       "      <td>0.000066</td>\n",
       "      <td>0.429401</td>\n",
       "      <td>0.920152</td>\n",
       "    </tr>\n",
       "  </tbody>\n",
       "</table>\n",
       "<p>1920 rows × 30 columns</p>\n",
       "</div>"
      ],
      "text/plain": [
       "        filename     qin    qout       ein  eout    inc  m12  m13  m23  e1  \\\n",
       "0     sim_Aa_001  0.0316  0.0316  0.222758   0.3   10.0    0    0    0   0   \n",
       "1     sim_Aa_002  0.0316  0.0316  0.222758   0.6   10.0    0    0    0   0   \n",
       "2     sim_Aa_003  0.0316  0.0316  0.222758   0.9   10.0    0    0    0   0   \n",
       "3     sim_Aa_004  0.0316  0.0316  0.315724   0.3   10.0    0    0    0   0   \n",
       "4     sim_Aa_005  0.0316  0.0316  0.315724   0.6   10.0    0    0    0   0   \n",
       "...          ...     ...     ...       ...   ...    ...  ...  ...  ...  ..   \n",
       "1915  sim_Aj_188  1.0000  1.0000  0.601223   0.6  120.0    0    0    0   1   \n",
       "1916  sim_Aj_189  1.0000  1.0000  0.601223   0.9  120.0    0    0    0   0   \n",
       "1917  sim_Aj_190  1.0000  1.0000  0.906487   0.3  120.0    1    0    0   0   \n",
       "1918  sim_Aj_191  1.0000  1.0000  0.906487   0.6  120.0    0    0    0   1   \n",
       "1919  sim_Aj_192  1.0000  1.0000  0.906487   0.9  120.0    1    0    0   0   \n",
       "\n",
       "      ...     sigma            MS          AS    g       Rinf       A0  \\\n",
       "0     ...  0.000033  6.767877e+07  103.298217  1.0   6.670835  0.00000   \n",
       "1     ...  0.000033  6.767877e+07  103.298217  1.0   6.670835  0.00000   \n",
       "2     ...  0.000033  6.767877e+07  103.298217  1.0   6.670835  0.00000   \n",
       "3     ...  0.000033  6.767877e+07  103.298217  1.0   6.670835  0.00000   \n",
       "4     ...  0.000033  6.767877e+07  103.298217  1.0   6.670835  0.00000   \n",
       "...   ...       ...           ...         ...  ...        ...      ...   \n",
       "1915  ...  0.000038  1.197582e+08  129.713755  1.0  13.583024  6.49206   \n",
       "1916  ...  0.000038  1.197582e+08  129.713755  1.0  13.583024  6.49206   \n",
       "1917  ...  0.000038  1.197582e+08  129.713755  1.0  13.583024  6.49206   \n",
       "1918  ...  0.000038  1.197582e+08  129.713755  1.0  13.583024  6.49206   \n",
       "1919  ...  0.000038  1.197582e+08  129.713755  1.0  13.583024  6.49206   \n",
       "\n",
       "             Rc    Vout_f      e100     e1000  \n",
       "0      5.140997  0.000068 -1.000000 -1.000000  \n",
       "1      5.140997  0.000158 -1.000000 -1.000000  \n",
       "2      5.140997  0.000083 -1.000000 -1.000000  \n",
       "3      5.140997  0.000203 -1.000000 -1.000000  \n",
       "4      5.140997  0.000320 -1.000000 -1.000000  \n",
       "...         ...       ...       ...       ...  \n",
       "1915  13.112911  0.000110 -1.000000 -1.000000  \n",
       "1916  13.112911  0.000100 -1.000000 -1.000000  \n",
       "1917  13.112911  0.000068  0.287625  0.895566  \n",
       "1918  13.112911  0.000081 -1.000000 -1.000000  \n",
       "1919  13.112911  0.000066  0.429401  0.920152  \n",
       "\n",
       "[1920 rows x 30 columns]"
      ]
     },
     "execution_count": 114,
     "metadata": {},
     "output_type": "execute_result"
    }
   ],
   "source": [
    "mbh_sim_data[mbh_sim_data[\"filename\"].str.contains('A')]"
   ]
  },
  {
   "cell_type": "code",
   "execution_count": 43,
   "metadata": {},
   "outputs": [],
   "source": [
    "pctom = (1*u.pc).to(u.km).value\n",
    "yrsec = (1*u.yr).to(u.s).value "
   ]
  },
  {
   "cell_type": "code",
   "execution_count": 225,
   "metadata": {},
   "outputs": [
    {
     "data": {
      "text/html": [
       "<div>\n",
       "<style scoped>\n",
       "    .dataframe tbody tr th:only-of-type {\n",
       "        vertical-align: middle;\n",
       "    }\n",
       "\n",
       "    .dataframe tbody tr th {\n",
       "        vertical-align: top;\n",
       "    }\n",
       "\n",
       "    .dataframe thead th {\n",
       "        text-align: right;\n",
       "    }\n",
       "</style>\n",
       "<table border=\"1\" class=\"dataframe\">\n",
       "  <thead>\n",
       "    <tr style=\"text-align: right;\">\n",
       "      <th></th>\n",
       "      <th>e1</th>\n",
       "      <th>e2</th>\n",
       "      <th>e3</th>\n",
       "      <th>m12</th>\n",
       "      <th>m23</th>\n",
       "      <th>m13</th>\n",
       "    </tr>\n",
       "  </thead>\n",
       "  <tbody>\n",
       "    <tr>\n",
       "      <th>0</th>\n",
       "      <td>0</td>\n",
       "      <td>0</td>\n",
       "      <td>1</td>\n",
       "      <td>0</td>\n",
       "      <td>0</td>\n",
       "      <td>0</td>\n",
       "    </tr>\n",
       "    <tr>\n",
       "      <th>1</th>\n",
       "      <td>0</td>\n",
       "      <td>0</td>\n",
       "      <td>1</td>\n",
       "      <td>0</td>\n",
       "      <td>0</td>\n",
       "      <td>0</td>\n",
       "    </tr>\n",
       "    <tr>\n",
       "      <th>2</th>\n",
       "      <td>0</td>\n",
       "      <td>0</td>\n",
       "      <td>1</td>\n",
       "      <td>0</td>\n",
       "      <td>0</td>\n",
       "      <td>0</td>\n",
       "    </tr>\n",
       "    <tr>\n",
       "      <th>3</th>\n",
       "      <td>0</td>\n",
       "      <td>0</td>\n",
       "      <td>1</td>\n",
       "      <td>0</td>\n",
       "      <td>0</td>\n",
       "      <td>0</td>\n",
       "    </tr>\n",
       "    <tr>\n",
       "      <th>4</th>\n",
       "      <td>0</td>\n",
       "      <td>0</td>\n",
       "      <td>1</td>\n",
       "      <td>0</td>\n",
       "      <td>0</td>\n",
       "      <td>0</td>\n",
       "    </tr>\n",
       "    <tr>\n",
       "      <th>...</th>\n",
       "      <td>...</td>\n",
       "      <td>...</td>\n",
       "      <td>...</td>\n",
       "      <td>...</td>\n",
       "      <td>...</td>\n",
       "      <td>...</td>\n",
       "    </tr>\n",
       "    <tr>\n",
       "      <th>11515</th>\n",
       "      <td>0</td>\n",
       "      <td>0</td>\n",
       "      <td>0</td>\n",
       "      <td>0</td>\n",
       "      <td>1</td>\n",
       "      <td>0</td>\n",
       "    </tr>\n",
       "    <tr>\n",
       "      <th>11516</th>\n",
       "      <td>1</td>\n",
       "      <td>0</td>\n",
       "      <td>0</td>\n",
       "      <td>0</td>\n",
       "      <td>0</td>\n",
       "      <td>0</td>\n",
       "    </tr>\n",
       "    <tr>\n",
       "      <th>11517</th>\n",
       "      <td>0</td>\n",
       "      <td>0</td>\n",
       "      <td>0</td>\n",
       "      <td>0</td>\n",
       "      <td>0</td>\n",
       "      <td>1</td>\n",
       "    </tr>\n",
       "    <tr>\n",
       "      <th>11518</th>\n",
       "      <td>0</td>\n",
       "      <td>1</td>\n",
       "      <td>0</td>\n",
       "      <td>0</td>\n",
       "      <td>0</td>\n",
       "      <td>0</td>\n",
       "    </tr>\n",
       "    <tr>\n",
       "      <th>11519</th>\n",
       "      <td>0</td>\n",
       "      <td>1</td>\n",
       "      <td>0</td>\n",
       "      <td>0</td>\n",
       "      <td>0</td>\n",
       "      <td>0</td>\n",
       "    </tr>\n",
       "  </tbody>\n",
       "</table>\n",
       "<p>11520 rows × 6 columns</p>\n",
       "</div>"
      ],
      "text/plain": [
       "       e1  e2  e3  m12  m23  m13\n",
       "0       0   0   1    0    0    0\n",
       "1       0   0   1    0    0    0\n",
       "2       0   0   1    0    0    0\n",
       "3       0   0   1    0    0    0\n",
       "4       0   0   1    0    0    0\n",
       "...    ..  ..  ..  ...  ...  ...\n",
       "11515   0   0   0    0    1    0\n",
       "11516   1   0   0    0    0    0\n",
       "11517   0   0   0    0    0    1\n",
       "11518   0   1   0    0    0    0\n",
       "11519   0   1   0    0    0    0\n",
       "\n",
       "[11520 rows x 6 columns]"
      ]
     },
     "execution_count": 225,
     "metadata": {},
     "output_type": "execute_result"
    }
   ],
   "source": [
    "mbh_sim_data[[\"e1\",\"e2\",\"e3\",\"m12\",\"m23\",\"m13\"]]"
   ]
  },
  {
   "cell_type": "code",
   "execution_count": 409,
   "metadata": {},
   "outputs": [],
   "source": [
    "vf = mbh_meaningful[\"Vout_f\"] * (pctom/yrsec)"
   ]
  },
  {
   "cell_type": "code",
   "execution_count": 382,
   "metadata": {},
   "outputs": [],
   "source": [
    "c = 3*10**5"
   ]
  },
  {
   "cell_type": "code",
   "execution_count": 389,
   "metadata": {},
   "outputs": [
    {
     "data": {
      "text/plain": [
       "3696768.8273572815"
      ]
     },
     "execution_count": 389,
     "metadata": {},
     "output_type": "execute_result"
    }
   ],
   "source": [
    "np.max(vf)"
   ]
  },
  {
   "cell_type": "code",
   "execution_count": 413,
   "metadata": {},
   "outputs": [
    {
     "data": {
      "text/plain": [
       "1.0257263414414644"
      ]
     },
     "execution_count": 413,
     "metadata": {},
     "output_type": "execute_result"
    }
   ],
   "source": [
    "mbh_sim_data.iloc[1554][\"Vout_f\"]* (pctom/yrsec)/c"
   ]
  },
  {
   "cell_type": "code",
   "execution_count": 394,
   "metadata": {},
   "outputs": [
    {
     "data": {
      "text/plain": [
       "268     0\n",
       "1082    0\n",
       "1554    0\n",
       "Name: m_e, dtype: int64"
      ]
     },
     "execution_count": 394,
     "metadata": {},
     "output_type": "execute_result"
    }
   ],
   "source": [
    "mbh_sim_data[mbh_sim_data[\"Vout_f\"]* (pctom/yrsec)>c][\"m_e\"]"
   ]
  },
  {
   "cell_type": "code",
   "execution_count": 410,
   "metadata": {},
   "outputs": [
    {
     "data": {
      "image/png": "[encoded data removed]",
      "text/plain": [
       "<Figure size 640x480 with 1 Axes>"
      ]
     },
     "metadata": {},
     "output_type": "display_data"
    }
   ],
   "source": [
    "plt.hist(np.log10(vf),density=True,bins=50,label=\"qout = 0.0316\")\n",
    "plt.show()"
   ]
  },
  {
   "cell_type": "code",
   "execution_count": 165,
   "metadata": {},
   "outputs": [],
   "source": [
    "Vf_low_qout = mbh_sim_data[mbh_sim_data[\"qout\"]==0.0316][\"Vout_f\"]* (pctom/yrsec)\n",
    "Vf_high_qout = mbh_sim_data[mbh_sim_data[\"qout\"]==1][\"Vout_f\"]* (pctom/yrsec)\n",
    "Vf_qout_op1 = mbh_sim_data[mbh_sim_data[\"qout\"]==0.1][\"Vout_f\"]* (pctom/yrsec)"
   ]
  },
  {
   "cell_type": "code",
   "execution_count": 278,
   "metadata": {},
   "outputs": [
    {
     "name": "stdout",
     "output_type": "stream",
     "text": [
      "Average slingshot velocity for qout = 0.0316: 4392.74 km/s\n",
      "Average slingshot velocity for qout = 0.1: 13693.31 km/s\n",
      "Average slingshot velocity for qout = 1: 13045.99 km/s\n"
     ]
    }
   ],
   "source": [
    "print(\"Average slingshot velocity for qout = 0.0316: %3.2f km/s\"%(np.mean(Vf_low_qout)))\n",
    "print(\"Average slingshot velocity for qout = 0.1: %3.2f km/s\"%(np.mean(Vf_qout_op1)))\n",
    "print(\"Average slingshot velocity for qout = 1: %3.2f km/s\"%(np.mean(Vf_high_qout)))"
   ]
  },
  {
   "cell_type": "code",
   "execution_count": 284,
   "metadata": {},
   "outputs": [
    {
     "data": {
      "text/plain": [
       "Text(0.5, 1.0, 'Slingshot velocities from Bonetti. et. al ')"
      ]
     },
     "execution_count": 284,
     "metadata": {},
     "output_type": "execute_result"
    },
    {
     "data": {
      "image/png": "[encoded data removed]",
      "text/plain": [
       "<Figure size 640x480 with 1 Axes>"
      ]
     },
     "metadata": {},
     "output_type": "display_data"
    }
   ],
   "source": [
    "plt.hist(np.log10(Vf_low_qout),density=True,bins=50,label=\"qout = 0.0316\")\n",
    "plt.hist(np.log10(Vf_high_qout),density=True,bins=50,label=\"qout = 1\",alpha=0.5)\n",
    "plt.hist(np.log10(Vf_qout_op1),density=True,bins=50,label=\"qout = 0.1\",alpha=0.5)\n",
    "#plt.plot(hldata[\"logv\"],hldata[\"outcome\"])\n",
    "plt.legend()\n",
    "plt.xlabel(\"log(v (km/s))\")\n",
    "#plt.xlim(0,4)\n",
    "plt.title(\"Slingshot velocities from Bonetti. et. al \")"
   ]
  },
  {
   "cell_type": "code",
   "execution_count": 168,
   "metadata": {},
   "outputs": [],
   "source": [
    "Vf_low_qin = mbh_sim_data[mbh_sim_data[\"qin\"]==0.0316][\"Vout_f\"]* (pctom/yrsec)\n",
    "Vf_high_qin = mbh_sim_data[mbh_sim_data[\"qin\"]==1][\"Vout_f\"]* (pctom/yrsec)\n",
    "Vf_qin_op1 = mbh_sim_data[mbh_sim_data[\"qin\"]==0.1][\"Vout_f\"]* (pctom/yrsec)"
   ]
  },
  {
   "cell_type": "code",
   "execution_count": 169,
   "metadata": {},
   "outputs": [
    {
     "data": {
      "text/plain": [
       "Text(0.5, 1.0, 'Slingshot velocities from Bonetti. et. al ')"
      ]
     },
     "execution_count": 169,
     "metadata": {},
     "output_type": "execute_result"
    },
    {
     "data": {
      "image/png": "[encoded data removed]",
      "text/plain": [
       "<Figure size 640x480 with 1 Axes>"
      ]
     },
     "metadata": {},
     "output_type": "display_data"
    }
   ],
   "source": [
    "plt.hist(np.log10(Vf_low_qin),density=True,bins=50,label=\"qin = 0.0316\")\n",
    "plt.hist(np.log10(Vf_high_qin),density=True,bins=50,label=\"qin = 1\",alpha=0.5)\n",
    "plt.hist(np.log10(Vf_qin_op1),density=True,bins=50,label=\"qin = 0.1\",alpha=0.5)\n",
    "#plt.plot(hldata[\"logv\"],hldata[\"outcome\"])\n",
    "plt.legend()\n",
    "plt.xlabel(\"log(v (km/s))\")\n",
    "plt.title(\"Slingshot velocities from Bonetti. et. al \")"
   ]
  },
  {
   "cell_type": "code",
   "execution_count": 119,
   "metadata": {},
   "outputs": [],
   "source": [
    "Vf_low_M1 = mbh_sim_data[mbh_sim_data[\"filename\"].str.contains('A')][\"Vout_f\"]* (pctom/yrsec)\n",
    "Vf_high_M1 = mbh_sim_data[mbh_sim_data[\"filename\"].str.contains('F')][\"Vout_f\"]* (pctom/yrsec)\n",
    "Vf_mid_M1 = mbh_sim_data[mbh_sim_data[\"filename\"].str.contains('D')][\"Vout_f\"]* (pctom/yrsec)"
   ]
  },
  {
   "cell_type": "code",
   "execution_count": 285,
   "metadata": {},
   "outputs": [
    {
     "data": {
      "text/plain": [
       "Text(0.5, 1.0, 'Slingshot velocities from Bonetti. et. al ')"
      ]
     },
     "execution_count": 285,
     "metadata": {},
     "output_type": "execute_result"
    },
    {
     "data": {
      "image/png": "[encoded data removed]",
      "text/plain": [
       "<Figure size 640x480 with 1 Axes>"
      ]
     },
     "metadata": {},
     "output_type": "display_data"
    }
   ],
   "source": [
    "plt.hist(np.log10(Vf_low_M1),density=True,bins=50,label=\"$M_1 = 10^5$\")\n",
    "plt.hist(np.log10(Vf_mid_M1),density=True,bins=50,label=\"$M_1 = 10^8$\",alpha=0.5)\n",
    "plt.hist(np.log10(Vf_high_M1),density=True,bins=50,label=\"$M_1 = 10^{10}$\",alpha=0.5)\n",
    "\n",
    "plt.legend()\n",
    "plt.xlabel(\"log(v (km/s))\")\n",
    "plt.title(\"Slingshot velocities from Bonetti. et. al \")"
   ]
  },
  {
   "cell_type": "code",
   "execution_count": 357,
   "metadata": {},
   "outputs": [
    {
     "data": {
      "image/png": "[encoded data removed]",
      "text/plain": [
       "<Figure size 1200x600 with 3 Axes>"
      ]
     },
     "metadata": {},
     "output_type": "display_data"
    }
   ],
   "source": [
    "fig,ax = plt.subplots(1,3,figsize=(12,6))\n",
    "fig.suptitle('Ejection velocity distribution')\n",
    "\n",
    "ax[0].hist(np.log10(Vf_low_qout),density=True,bins=50,label=\"qout = 0.0316\")\n",
    "ax[0].hist(np.log10(Vf_qout_op1),density=True,bins=50,label=\"qout = 0.1\",alpha=0.5)\n",
    "ax[0].hist(np.log10(Vf_high_qout),density=True,bins=50,label=\"qout = 1\",alpha=0.5)\n",
    "\n",
    "ax[0].set_xlabel(\"log(v (km/s))\")\n",
    "ax[0].legend()\n",
    "\n",
    "ax[1].hist(np.log10(Vf_low_qin),density=True,bins=50,label=\"qin = 0.0316\")\n",
    "ax[1].hist(np.log10(Vf_high_qin),density=True,bins=50,label=\"qin = 1\",alpha=0.5)\n",
    "ax[1].hist(np.log10(Vf_qin_op1),density=True,bins=50,label=\"qin = 0.1\",alpha=0.5)\n",
    "#plt.plot(hldata[\"logv\"],hldata[\"outcome\"])\n",
    "ax[1].legend()\n",
    "ax[1].set_xlabel(\"log(v (km/s))\")\n",
    "\n",
    "ax[2].hist(np.log10(Vf_low_M1),density=True,bins=50,label=\"$M_1 = 10^5 M_{\\odot}$\")\n",
    "ax[2].hist(np.log10(Vf_mid_M1),density=True,bins=50,label=\"$M_1 = 10^8 M_{\\odot}$\",alpha=0.5)\n",
    "ax[2].hist(np.log10(Vf_high_M1),density=True,bins=50,label=\"$M_1 = 10^{10} M_{\\odot}$\",alpha=0.5)\n",
    "\n",
    "ax[2].legend()\n",
    "ax[2].set_xlabel(\"log(v (km/s))\")\n",
    "plt.savefig(\"Figures/Ejection-velocity-dist.pdf\")"
   ]
  },
  {
   "cell_type": "code",
   "execution_count": 159,
   "metadata": {},
   "outputs": [],
   "source": [
    "vout_m3_2p10e5 = mbh_sim_data[(mbh_sim_data[\"filename\"].str.contains('A'))&(mbh_sim_data[\"qin\"] == 1)&(mbh_sim_data[\"qout\"] == 1)][\"Vout_f\"]* (pctom/yrsec)\n",
    "vout_m3_2p10e10 = mbh_sim_data[(mbh_sim_data[\"filename\"].str.contains('F'))&(mbh_sim_data[\"qin\"] == 1)&(mbh_sim_data[\"qout\"] == 1)][\"Vout_f\"]* (pctom/yrsec)\n",
    "vout_m3_p10e3 = mbh_sim_data[(mbh_sim_data[\"filename\"].str.contains('A'))&(mbh_sim_data[\"qin\"] == 0.0316)&(mbh_sim_data[\"qout\"] == 0.0316\t)][\"Vout_f\"]* (pctom/yrsec)"
   ]
  },
  {
   "cell_type": "code",
   "execution_count": 310,
   "metadata": {},
   "outputs": [],
   "source": [
    "vsling_qout1 = mbh_sim_data[(mbh_sim_data[\"filename\"].str.contains('A')) &  (mbh_sim_data[\"qin\"] == 0.0316)& (mbh_sim_data[\"qout\"] == 0.0316)][\"Vout_f\"]* (pctom/yrsec)\n",
    "vsling_qout2 = mbh_sim_data[(mbh_sim_data[\"filename\"].str.contains('A')) &  (mbh_sim_data[\"qin\"] == 0.0316) & (mbh_sim_data[\"qout\"] == 0.1)][\"Vout_f\"]* (pctom/yrsec)\n",
    "vsling_qout3 = mbh_sim_data[(mbh_sim_data[\"filename\"].str.contains('A')) &  (mbh_sim_data[\"qin\"] == 0.0316) &(mbh_sim_data[\"qout\"] == 1)][\"Vout_f\"]* (pctom/yrsec)"
   ]
  },
  {
   "cell_type": "code",
   "execution_count": 303,
   "metadata": {},
   "outputs": [
    {
     "data": {
      "text/plain": [
       "36      181.580245\n",
       "37      107.797439\n",
       "38      102.407951\n",
       "39       89.831335\n",
       "40      139.679699\n",
       "           ...    \n",
       "1771    178.582038\n",
       "1772    592.185455\n",
       "1773     89.558895\n",
       "1774     91.762766\n",
       "1775     37.231483\n",
       "Name: Vout_f, Length: 120, dtype: float64"
      ]
     },
     "execution_count": 303,
     "metadata": {},
     "output_type": "execute_result"
    }
   ],
   "source": [
    "vsling_qout3"
   ]
  },
  {
   "cell_type": "code",
   "execution_count": 350,
   "metadata": {},
   "outputs": [
    {
     "data": {
      "image/png": "[encoded data removed]",
      "text/plain": [
       "<Figure size 600x500 with 1 Axes>"
      ]
     },
     "metadata": {},
     "output_type": "display_data"
    }
   ],
   "source": [
    "plt.figure(figsize=[6,5])\n",
    "plt.hist(np.log10(vsling_qout1),bins=20,density=True,label=r\"$q_{out} = 0.0316$\")\n",
    "plt.hist(np.log10(vsling_qout2),bins=20,density=True,label=r\"$q_{out} = 0.1$\",alpha=0.5)\n",
    "plt.hist(np.log10(vsling_qout3),bins=20,density=True,label=r\"$q_{out} = 1$\",alpha=0.5)\n",
    "plt.legend()\n",
    "plt.title(\"$M_{1} = 10^5$\")\n",
    "plt.savefig(\"Figures/Ejection-velocity-dist-M1-fixed.pdf\")"
   ]
  },
  {
   "cell_type": "code",
   "execution_count": 189,
   "metadata": {},
   "outputs": [
    {
     "data": {
      "text/plain": [
       "Text(0.5, 0, 'log(v (km/s))')"
      ]
     },
     "execution_count": 189,
     "metadata": {},
     "output_type": "execute_result"
    },
    {
     "data": {
      "image/png": "[encoded data removed]",
      "text/plain": [
       "<Figure size 800x500 with 1 Axes>"
      ]
     },
     "metadata": {},
     "output_type": "display_data"
    }
   ],
   "source": [
    "plt.figure(figsize=[8,5])\n",
    "plt.hist(np.log10(vout_m3_2p10e5),density=True,label=r\"$M_1 = 10^5,q_{in} = 1,q_{out} = 1$\")\n",
    "plt.hist(np.log10(vout_m3_2p10e10),density=True,label=r\"$M_1 = 10^{10},q_{in} = 1,q_{out} = 1$\",alpha=0.5)\n",
    "plt.hist(np.log10(vout_m3_p10e3),density=True,label=r\"$M_1 = 10^{5},q_{in}=0.0316,q_{out}=0.0316$\",alpha=0.5)\n",
    "plt.legend()\n",
    "plt.title(r\"$m_3 = m_1 q_{out} (1+ q_{in})$\")\n",
    "plt.xlabel(\"log(v (km/s))\")"
   ]
  },
  {
   "cell_type": "markdown",
   "metadata": {},
   "source": [
    "    $$ v_{sling} = \\sqrt{\\frac{f G M_1}{a \\, q_{out} (1+q_{in}) (1+ q_{out})}}$$"
   ]
  },
  {
   "cell_type": "markdown",
   "metadata": {},
   "source": []
  }
 ],
 "metadata": {
  "kernelspec": {
   "display_name": "ast",
   "language": "python",
   "name": "python3"
  },
  "language_info": {
   "codemirror_mode": {
    "name": "ipython",
    "version": 3
   },
   "file_extension": ".py",
   "mimetype": "text/x-python",
   "name": "python",
   "nbconvert_exporter": "python",
   "pygments_lexer": "ipython3",
   "version": "3.10.8"
  }
 },
 "nbformat": 4,
 "nbformat_minor": 2
}
