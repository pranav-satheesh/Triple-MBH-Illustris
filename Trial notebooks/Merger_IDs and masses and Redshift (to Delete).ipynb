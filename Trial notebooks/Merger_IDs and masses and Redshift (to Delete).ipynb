{
 "cells": [
  {
   "cell_type": "code",
   "execution_count": 185,
   "id": "3883e870",
   "metadata": {},
   "outputs": [],
   "source": [
    "import numpy as np\n",
    "import matplotlib.pyplot as plt\n",
    "import astropy.units as u\n",
    "from astropy.cosmology import WMAP9 as cosmo\n",
    "from astropy.cosmology import z_at_value"
   ]
  },
  {
   "cell_type": "code",
   "execution_count": 169,
   "id": "bfaffc04",
   "metadata": {},
   "outputs": [],
   "source": [
    "t_bh = np.loadtxt(\"Data/triple_times.txt\")"
   ]
  },
  {
   "cell_type": "code",
   "execution_count": 170,
   "id": "2192ad9b",
   "metadata": {},
   "outputs": [],
   "source": [
    "z_bh = z_at_value(WMAP9.age, (t_bh/10**9)*u.Gyr, zmax=1000)"
   ]
  },
  {
   "cell_type": "code",
   "execution_count": 171,
   "id": "13eaa4fb",
   "metadata": {},
   "outputs": [],
   "source": [
    "z_bh = np.array(z_bh)"
   ]
  },
  {
   "cell_type": "code",
   "execution_count": 172,
   "id": "39b8c610",
   "metadata": {},
   "outputs": [
    {
     "data": {
      "text/plain": [
       "3.2761646414750767"
      ]
     },
     "execution_count": 172,
     "metadata": {},
     "output_type": "execute_result"
    }
   ],
   "source": [
    "np.max(z_bh)"
   ]
  },
  {
   "cell_type": "code",
   "execution_count": 173,
   "id": "1373335c",
   "metadata": {},
   "outputs": [
    {
     "data": {
      "text/plain": [
       "0.0017927551536701253"
      ]
     },
     "execution_count": 173,
     "metadata": {},
     "output_type": "execute_result"
    }
   ],
   "source": [
    "np.min(z_bh)"
   ]
  },
  {
   "cell_type": "code",
   "execution_count": 174,
   "id": "43665540",
   "metadata": {},
   "outputs": [],
   "source": [
    "zmax = 4\n",
    "zbinsize = 0.01"
   ]
  },
  {
   "cell_type": "code",
   "execution_count": 175,
   "id": "66af8d6f",
   "metadata": {},
   "outputs": [],
   "source": [
    "boxsize = 75.0\n",
    "omega_m = 0.2726\n",
    "omega_l = 0.7274\n",
    "h = 0.704\n",
    "vol_comov_box = (boxsize/h)**3 #Mpc^3"
   ]
  },
  {
   "cell_type": "code",
   "execution_count": 186,
   "id": "71f79423",
   "metadata": {},
   "outputs": [],
   "source": [
    "lgzbinsize = 0.2\n",
    "lgzmin = -3.0\n",
    "lgzmax = 1.0"
   ]
  },
  {
   "cell_type": "code",
   "execution_count": 187,
   "id": "d1ff9a8f",
   "metadata": {},
   "outputs": [],
   "source": [
    "lgz_bh = np.log10(z_bh)"
   ]
  },
  {
   "cell_type": "code",
   "execution_count": 188,
   "id": "0975a671",
   "metadata": {},
   "outputs": [],
   "source": [
    "Nmrg_lgzhist,lgzbin_edges = np.histogram(lgz_bh,range=(lgzmin,lgzmax),\n",
    "                                             bins=int((lgzmax-lgzmin)/lgzbinsize))"
   ]
  },
  {
   "cell_type": "code",
   "execution_count": 189,
   "id": "1d971775",
   "metadata": {},
   "outputs": [],
   "source": [
    "lgzbins = lgzbin_edges[:-1]+0.5*lgzbinsize"
   ]
  },
  {
   "cell_type": "code",
   "execution_count": 190,
   "id": "927eb49b",
   "metadata": {},
   "outputs": [],
   "source": [
    "Nmrg_lgzhist = Nmrg_lgzhist.astype('float64')"
   ]
  },
  {
   "cell_type": "code",
   "execution_count": 191,
   "id": "d82d2bd5",
   "metadata": {},
   "outputs": [],
   "source": [
    "Nmrg_lgzhist[Nmrg_lgzhist==0] = 1.0e-10"
   ]
  },
  {
   "cell_type": "code",
   "execution_count": 192,
   "id": "437b9803",
   "metadata": {},
   "outputs": [
    {
     "data": {
      "text/latex": [
       "$5.9222284 \\; \\mathrm{Gyr}$"
      ],
      "text/plain": [
       "<Quantity 5.92222843 Gyr>"
      ]
     },
     "execution_count": 192,
     "metadata": {},
     "output_type": "execute_result"
    }
   ],
   "source": [
    "WMAP9.age(1)"
   ]
  },
  {
   "cell_type": "code",
   "execution_count": 193,
   "id": "c32b1e6b",
   "metadata": {},
   "outputs": [
    {
     "data": {
      "text/latex": [
       "$13.754804 \\; \\mathrm{Gyr}$"
      ],
      "text/plain": [
       "<Quantity 13.75480371 Gyr>"
      ]
     },
     "execution_count": 193,
     "metadata": {},
     "output_type": "execute_result"
    }
   ],
   "source": [
    "cosmo.age(10**(lgzbins[0]-0.5*lgzbinsize))"
   ]
  },
  {
   "cell_type": "code",
   "execution_count": 194,
   "id": "a531e9c2",
   "metadata": {},
   "outputs": [],
   "source": [
    "dt_lgzbins = []"
   ]
  },
  {
   "cell_type": "code",
   "execution_count": 195,
   "id": "f5d9f08d",
   "metadata": {},
   "outputs": [
    {
     "name": "stdout",
     "output_type": "stream",
     "text": [
      "0.008234972846311805 Gyr\n",
      "0.013037461153345475 Gyr\n",
      "0.020627650471617187 Gyr\n",
      "0.03260411908249239 Gyr\n",
      "0.05145271980997812 Gyr\n",
      "0.08099500633215584 Gyr\n",
      "0.12699700453684137 Gyr\n",
      "0.1978914214479932 Gyr\n",
      "0.30536329245277116 Gyr\n",
      "0.4640580491808244 Gyr\n",
      "0.6886936856782295 Gyr\n",
      "0.9854663625185491 Gyr\n",
      "1.3343882189275877 Gyr\n",
      "1.6658160876587615 Gyr\n",
      "1.8569492307771656 Gyr\n",
      "1.795011141893072 Gyr\n",
      "1.4867273352285975 Gyr\n",
      "1.0687962253949832 Gyr\n",
      "0.6864194124146012 Gyr\n",
      "0.406100124011114 Gyr\n"
     ]
    }
   ],
   "source": [
    "for i in range(lgzbins.size):\n",
    "    zatage = cosmo.age(10**(lgzbins[i]-0.5*lgzbinsize))-cosmo.age(10**(lgzbins[i]+0.5*lgzbinsize))\n",
    "    print(zatage)\n",
    "    dt_lgzbins.append(float(zatage/u.Gyr))"
   ]
  },
  {
   "cell_type": "code",
   "execution_count": 196,
   "id": "6519b206",
   "metadata": {},
   "outputs": [
    {
     "data": {
      "text/plain": [
       "[0.008234972846311805,\n",
       " 0.013037461153345475,\n",
       " 0.020627650471617187,\n",
       " 0.03260411908249239,\n",
       " 0.05145271980997812,\n",
       " 0.08099500633215584,\n",
       " 0.12699700453684137,\n",
       " 0.1978914214479932,\n",
       " 0.30536329245277116,\n",
       " 0.4640580491808244,\n",
       " 0.6886936856782295,\n",
       " 0.9854663625185491,\n",
       " 1.3343882189275877,\n",
       " 1.6658160876587615,\n",
       " 1.8569492307771656,\n",
       " 1.795011141893072,\n",
       " 1.4867273352285975,\n",
       " 1.0687962253949832,\n",
       " 0.6864194124146012,\n",
       " 0.406100124011114]"
      ]
     },
     "execution_count": 196,
     "metadata": {},
     "output_type": "execute_result"
    }
   ],
   "source": [
    "dt_lgzbins"
   ]
  },
  {
   "cell_type": "code",
   "execution_count": 197,
   "id": "6cc48b56",
   "metadata": {},
   "outputs": [],
   "source": [
    "dt_lgzbins = np.array(dt_lgzbins)"
   ]
  },
  {
   "cell_type": "code",
   "execution_count": 198,
   "id": "4e8d4ed2",
   "metadata": {},
   "outputs": [],
   "source": [
    "from astropy import constants as const"
   ]
  },
  {
   "cell_type": "code",
   "execution_count": 199,
   "id": "fe4be528",
   "metadata": {},
   "outputs": [],
   "source": [
    "def unit_comoving_vol(z):\n",
    "\n",
    "    D_H = const.c.to('km/s').value/cosmo.H0.value\n",
    "\n",
    "    #return  D_H * cosmo.D_M(0.0,z)**2 / np.sqrt(omega_m*(1+z)**3 + omega_l) \n",
    "    return D_H * cosmo.comoving_transverse_distance(z).value**2 * cosmo.inv_efunc(z)"
   ]
  },
  {
   "cell_type": "code",
   "execution_count": 200,
   "id": "40dac35e",
   "metadata": {},
   "outputs": [
    {
     "data": {
      "text/plain": [
       "array([4.11909725e+10, 3.06740874e+10, 4.22939811e+10, 4.11341302e+10,\n",
       "       3.49769216e+10, 2.80109197e+09, 3.69743138e+10, 8.57032802e+09,\n",
       "       4.25770482e+10, 3.91756513e+10, 1.03370473e+10, 1.66917190e+10,\n",
       "       4.20728947e+10, 4.23668712e+10, 3.68707040e+10, 3.16310766e+10,\n",
       "       8.51250147e+07, 4.25695985e+10, 3.80725462e+10, 3.44748184e+10,\n",
       "       2.30925263e+10, 4.15680727e+10, 3.22127670e+10, 4.25747504e+10,\n",
       "       3.60120366e+10, 2.25721490e+10, 3.96853488e+10, 4.21093255e+10,\n",
       "       8.48564219e+09, 8.49404745e+09, 3.09592280e+10, 1.46148255e+09,\n",
       "       4.24298616e+10, 1.91262232e+10, 5.45854335e+08, 8.89689694e+09,\n",
       "       4.08968209e+10, 3.45589100e+10, 7.86929127e+09, 4.25808123e+10,\n",
       "       8.95871240e+09, 3.97597150e+10, 3.45599511e+10, 4.25750388e+10,\n",
       "       3.78940879e+10, 3.96853652e+10, 2.26507881e+10, 1.94465823e+10,\n",
       "       1.38021884e+07, 2.96213200e+10, 4.25671820e+10, 4.06418075e+10,\n",
       "       2.96064687e+10, 4.17896229e+09, 7.39862491e+09, 1.05138361e+10,\n",
       "       4.57413744e+09, 3.19727675e+10, 4.19498561e+10, 3.61463061e+10,\n",
       "       4.25419871e+10, 1.74695402e+10, 3.93408581e+10, 3.39088394e+10,\n",
       "       1.33544158e+10, 4.24576473e+10, 4.24907721e+10, 5.37736682e+09,\n",
       "       4.25406419e+10, 4.18546144e+10, 4.25218220e+10, 3.56642393e+10,\n",
       "       4.16845470e+10, 2.10046237e+09, 4.18208667e+10, 4.25117149e+10,\n",
       "       3.61045072e+10, 4.17950155e+10, 1.06962410e+10, 1.59754009e+10,\n",
       "       1.99523096e+10, 2.98120710e+10, 3.21079384e+10, 4.10538157e+10,\n",
       "       3.85969893e+10, 3.29422286e+10, 4.25253561e+10, 3.20053595e+10,\n",
       "       4.03609091e+10, 3.40597592e+10, 4.25102510e+10, 2.22190306e+10,\n",
       "       2.12559882e+10, 1.13841664e+10, 3.01027577e+10, 4.18546144e+10,\n",
       "       4.00600069e+10, 4.21644689e+10, 2.10271241e+10, 4.24320696e+10,\n",
       "       1.00390045e+10, 7.50222481e+08, 3.95806058e+09, 1.10667657e+10,\n",
       "       4.24772501e+10, 1.34292423e+10, 3.07924812e+10, 3.24247232e+09,\n",
       "       1.31560431e+10, 3.17651372e+10, 3.35126561e+10, 3.57979834e+10,\n",
       "       1.56778951e+10, 4.13132224e+10, 3.70359155e+10, 3.23127800e+10,\n",
       "       3.85692487e+10, 4.22534393e+10, 1.65235989e+09, 2.75111014e+10,\n",
       "       3.85984766e+10, 6.01811814e+08, 1.08390499e+10, 4.15107801e+10,\n",
       "       8.80401356e+09, 3.86002621e+10, 2.96117266e+10, 4.24245762e+10,\n",
       "       4.22094993e+10, 4.03851293e+10, 4.21538173e+10, 2.54290189e+10,\n",
       "       7.33347460e+08, 3.14803908e+10, 1.72471144e+10, 3.85797344e+10,\n",
       "       3.84779034e+10, 3.71353739e+10, 1.81840846e+10, 9.95818963e+08,\n",
       "       3.34353419e+10, 2.95900612e+10, 9.54890170e+09, 4.14900301e+10,\n",
       "       4.11003990e+10, 2.23898385e+10, 3.31434392e+10, 6.74702373e+07,\n",
       "       4.62204703e+09, 1.10641637e+10, 1.68641237e+10, 8.45207740e+09,\n",
       "       1.32935726e+10, 2.37819260e+10, 1.79280091e+09, 3.15952226e+10,\n",
       "       1.93303075e+10, 6.21100364e+09, 3.43822535e+09, 3.80815817e+09,\n",
       "       3.73722834e+10, 8.59007669e+09, 2.39832116e+10, 3.95881935e+10,\n",
       "       4.12184657e+10, 4.03055176e+10, 2.26477793e+09, 4.37718423e+09,\n",
       "       2.71752505e+10, 4.06556245e+10, 5.15604262e+09, 3.12699516e+10,\n",
       "       1.12392867e+10, 2.33024636e+10, 8.44465566e+09, 3.96365600e+10,\n",
       "       1.01125840e+10, 3.96084972e+09, 3.54848174e+10, 4.66481656e+09,\n",
       "       4.69660733e+09, 3.55162514e+10, 4.14577182e+10, 1.38136113e+10,\n",
       "       3.63047482e+10, 5.85995416e+09, 3.02632158e+10, 2.54497613e+09,\n",
       "       1.23840789e+10, 2.35256474e+10, 2.00560659e+10, 3.73611160e+10,\n",
       "       1.62755134e+09, 1.66100679e+10, 2.27833716e+10, 1.10623356e+10,\n",
       "       1.06536550e+10, 1.17001215e+10, 4.07939182e+10, 4.08635956e+10,\n",
       "       3.72102276e+10, 1.97183280e+10, 1.11133138e+10, 1.92808912e+10,\n",
       "       1.15612831e+10, 2.99650362e+10, 1.38981441e+09, 1.70646660e+08,\n",
       "       1.86858677e+10, 1.21619694e+10, 3.25056097e+10, 5.26640036e+09,\n",
       "       2.10189595e+10, 4.04190827e+08, 3.70848208e+10, 2.79592141e+10,\n",
       "       3.08331663e+10, 1.21458209e+08, 3.43468156e+10, 1.84418601e+10,\n",
       "       2.19837901e+10, 3.35419895e+07, 1.35690224e+10, 3.06021733e+10,\n",
       "       1.80054722e+08, 1.25540207e+10, 1.05625192e+10, 1.54047980e+10,\n",
       "       7.90181294e+08, 2.36082260e+09, 1.92766394e+10, 3.24020915e+10,\n",
       "       1.17272197e+10, 1.10223030e+10, 1.86134809e+09, 7.34413678e+09,\n",
       "       3.04946550e+10, 1.48536496e+10, 7.44691346e+09, 3.71349241e+10,\n",
       "       1.55626382e+10, 3.85946489e+09, 2.96750497e+10, 1.94289032e+10,\n",
       "       3.39620549e+09, 3.15607329e+10, 7.50345017e+09, 3.22283702e+10,\n",
       "       3.69006862e+09, 7.20848725e+08, 1.80806616e+10, 2.71887626e+07,\n",
       "       3.71271368e+10, 3.83600130e+10, 3.55789817e+10, 2.70720248e+10,\n",
       "       3.69335590e+10, 1.28069405e+10, 2.52868006e+10, 3.45719204e+10,\n",
       "       2.50294150e+10, 3.71366009e+10, 3.77653526e+09, 1.68239252e+10,\n",
       "       1.95182750e+10, 8.32872826e+09, 7.39384086e+07, 3.60404414e+10,\n",
       "       1.77339982e+10, 3.67371729e+10, 1.32582303e+09, 2.19469355e+10,\n",
       "       2.17416803e+10, 2.13997340e+08, 2.19721186e+10, 5.69794576e+09,\n",
       "       8.38535504e+09, 7.66556952e+05, 1.26756744e+09, 2.64212533e+10,\n",
       "       7.51410297e+08, 2.51301372e+10, 1.91820827e+10, 3.21010614e+10,\n",
       "       3.31293860e+10, 3.76149181e+09, 1.81918734e+08, 2.42212075e+10,\n",
       "       4.38873498e+08, 3.21712221e+10, 1.84395318e+10, 2.82344990e+10,\n",
       "       3.48236131e+10, 3.10750866e+09, 1.88637632e+10, 2.54716392e+10,\n",
       "       3.76523659e+09, 2.59572329e+05, 1.43187626e+10, 3.59273311e+10,\n",
       "       9.62513283e+08, 2.63127603e+08, 1.73384708e+10, 9.69894123e+09,\n",
       "       1.44261910e+10, 1.61849899e+10, 5.82337118e+09, 9.33133129e+09,\n",
       "       2.91183859e+09, 2.77074424e+10, 1.06950761e+10, 3.08161288e+10,\n",
       "       3.14224682e+10, 2.82262806e+10, 1.31847510e+10, 8.73238975e+09,\n",
       "       1.38646321e+10, 2.28418516e+10, 3.49288058e+10, 2.43033863e+10,\n",
       "       2.11327453e+10, 2.12188492e+10, 2.13340464e+10, 2.04857245e+10,\n",
       "       1.93285825e+09, 2.18891359e+10, 2.52024609e+09, 1.36768949e+10,\n",
       "       2.59827776e+10, 1.21589228e+09, 1.26756234e+10, 2.70560138e+10,\n",
       "       2.54758182e+08, 1.23227343e+09, 1.67513262e+10, 1.00990200e+10,\n",
       "       1.80350829e+08, 1.17048976e+09, 2.41897774e+09, 2.15961789e+10,\n",
       "       2.34598126e+10, 2.38805534e+10, 5.67444745e+08, 4.00715148e+09,\n",
       "       3.71750983e+09, 2.46504438e+10, 1.32476881e+09, 1.23366520e+10,\n",
       "       1.07062267e+10, 3.21040287e+10, 1.25639556e+09, 2.55825885e+10,\n",
       "       2.43298290e+10, 1.53578720e+10, 5.20320090e+09, 1.68900235e+10,\n",
       "       8.87666456e+09, 2.36934737e+10, 1.35188175e+10, 2.88399628e+10,\n",
       "       2.49243050e+10, 4.04270694e+09, 5.97243950e+09, 2.55586101e+10,\n",
       "       2.01670946e+10, 1.56912011e+09, 1.96649785e+10, 1.25354136e+10,\n",
       "       2.91056616e+10, 1.64604876e+09, 2.45573919e+09, 1.16046241e+10,\n",
       "       8.51563039e+09, 1.88182461e+10, 1.29844812e+10, 2.05447143e+10,\n",
       "       1.92552811e+10, 8.03494220e+09, 2.89990549e+09, 2.08395707e+08,\n",
       "       7.35709260e+08, 7.16508147e+09, 1.44612952e+09, 2.77359331e+10,\n",
       "       3.07436821e+08, 1.93581826e+10, 4.86042172e+09, 5.08215240e+08,\n",
       "       1.61897702e+10, 9.89195681e+09, 1.18986098e+10, 2.41990143e+10,\n",
       "       2.08836301e+10, 1.02283925e+10, 1.81873623e+09, 4.74563366e+09,\n",
       "       7.54636991e+09, 2.54904757e+08, 2.22273489e+10, 4.93760773e+09,\n",
       "       1.32853804e+10, 1.17367166e+10, 2.47617334e+10, 1.38131069e+10,\n",
       "       9.04273409e+08, 2.68712528e+10, 1.69239624e+10, 2.39327479e+07,\n",
       "       1.15157405e+10, 1.44478761e+10, 2.62616068e+10, 1.41054585e+10,\n",
       "       1.47702397e+10, 6.02115512e+09, 1.24589721e+10, 6.69220420e+08,\n",
       "       1.56993957e+10, 2.67005529e+08, 3.50997994e+08, 1.18661427e+10,\n",
       "       1.81985244e+09, 8.95052558e+09, 1.15338647e+10, 1.57429417e+10,\n",
       "       1.54243295e+10, 5.32169712e+05, 1.41164510e+10, 1.85603454e+09,\n",
       "       9.23649489e+09, 1.74921099e+10, 1.22353424e+10, 2.25930823e+10,\n",
       "       1.81398678e+08, 1.18653587e+08, 1.10336938e+10, 1.21266122e+09,\n",
       "       1.46319211e+10, 1.32586877e+10, 1.99661413e+09, 1.69926114e+08,\n",
       "       9.30321396e+09, 1.00918612e+09, 1.13846395e+10, 1.58274843e+10,\n",
       "       4.25865409e+08, 9.78988068e+09, 4.45691055e+09, 8.72427086e+09,\n",
       "       2.05575718e+10, 9.37847485e+09, 1.84890669e+10, 1.32975295e+09,\n",
       "       1.47853579e+10, 1.66780894e+10, 1.03867239e+09, 1.52841988e+10,\n",
       "       1.33638201e+10, 9.44374642e+06, 9.78476242e+09, 1.46043383e+09,\n",
       "       8.97496346e+09, 1.95186993e+08, 1.06985151e+10, 1.83543098e+10,\n",
       "       7.51264549e+07, 7.97861827e+07, 2.52302091e+09, 4.93953226e+09,\n",
       "       1.64003454e+10, 9.42005486e+09, 2.30813855e+08, 1.34616417e+10,\n",
       "       1.09803741e+08, 1.11026111e+10, 1.17136747e+10, 1.07503748e+08,\n",
       "       3.16028282e+08, 3.18026407e+09, 3.68952342e+07, 3.07209006e+09,\n",
       "       1.66438326e+10, 4.71192235e+09, 8.38658715e+09, 7.73718904e+09,\n",
       "       1.34908237e+10, 4.68427594e+09, 1.52298336e+10, 6.49475156e+09,\n",
       "       3.05538639e+09, 9.42894260e+09, 5.81632596e+09, 1.00749014e+10,\n",
       "       1.27089195e+07, 3.57441675e+09, 1.28877349e+09, 3.55832336e+09,\n",
       "       1.41396992e+09, 1.11352178e+10, 4.76770195e+09, 9.06202250e+09,\n",
       "       2.67744343e+09, 7.56946656e+09, 5.07775303e+08, 1.11419260e+08,\n",
       "       1.23478457e+09, 2.79115439e+09, 3.71159675e+09, 6.76221719e+08,\n",
       "       2.07415845e+09, 3.06200367e+09, 5.71419443e+09, 5.87336330e+09,\n",
       "       9.48420563e+09, 1.02873071e+09, 1.01415965e+09, 7.74851389e+09,\n",
       "       5.73978463e+09, 4.43875228e+08, 3.95714468e+09, 5.36784422e+09,\n",
       "       5.40156300e+09, 1.04255786e+09, 1.02027138e+09, 4.61691310e+08,\n",
       "       1.58872188e+09, 3.21387735e+09, 7.83568375e+08, 2.11056032e+07,\n",
       "       1.79295263e+08, 1.83723664e+07, 4.24436678e+05])"
      ]
     },
     "execution_count": 200,
     "metadata": {},
     "output_type": "execute_result"
    }
   ],
   "source": [
    "unit_comoving_vol(z_bh)"
   ]
  },
  {
   "cell_type": "code",
   "execution_count": 201,
   "id": "fa09fb34",
   "metadata": {},
   "outputs": [
    {
     "data": {
      "text/latex": [
       "$[4.1190973 \\times 10^{10},~3.0674087 \\times 10^{10},~4.2293981 \\times 10^{10},~\\dots,~1.7929526 \\times 10^{8},~18372366,~424436.68] \\; \\mathrm{\\frac{Mpc^{3}}{sr}}$"
      ],
      "text/plain": [
       "<Quantity [4.11909725e+10, 3.06740874e+10, 4.22939811e+10, 4.11341302e+10,\n",
       "           3.49769216e+10, 2.80109197e+09, 3.69743138e+10, 8.57032802e+09,\n",
       "           4.25770482e+10, 3.91756513e+10, 1.03370473e+10, 1.66917190e+10,\n",
       "           4.20728947e+10, 4.23668712e+10, 3.68707040e+10, 3.16310766e+10,\n",
       "           8.51250147e+07, 4.25695985e+10, 3.80725462e+10, 3.44748184e+10,\n",
       "           2.30925263e+10, 4.15680727e+10, 3.22127670e+10, 4.25747504e+10,\n",
       "           3.60120366e+10, 2.25721490e+10, 3.96853488e+10, 4.21093255e+10,\n",
       "           8.48564219e+09, 8.49404745e+09, 3.09592280e+10, 1.46148255e+09,\n",
       "           4.24298616e+10, 1.91262232e+10, 5.45854335e+08, 8.89689694e+09,\n",
       "           4.08968209e+10, 3.45589100e+10, 7.86929127e+09, 4.25808123e+10,\n",
       "           8.95871240e+09, 3.97597150e+10, 3.45599511e+10, 4.25750388e+10,\n",
       "           3.78940879e+10, 3.96853652e+10, 2.26507881e+10, 1.94465823e+10,\n",
       "           1.38021884e+07, 2.96213200e+10, 4.25671820e+10, 4.06418075e+10,\n",
       "           2.96064687e+10, 4.17896229e+09, 7.39862491e+09, 1.05138361e+10,\n",
       "           4.57413744e+09, 3.19727675e+10, 4.19498561e+10, 3.61463061e+10,\n",
       "           4.25419871e+10, 1.74695402e+10, 3.93408581e+10, 3.39088394e+10,\n",
       "           1.33544158e+10, 4.24576473e+10, 4.24907721e+10, 5.37736682e+09,\n",
       "           4.25406419e+10, 4.18546144e+10, 4.25218220e+10, 3.56642393e+10,\n",
       "           4.16845470e+10, 2.10046237e+09, 4.18208667e+10, 4.25117149e+10,\n",
       "           3.61045072e+10, 4.17950155e+10, 1.06962410e+10, 1.59754009e+10,\n",
       "           1.99523096e+10, 2.98120710e+10, 3.21079384e+10, 4.10538157e+10,\n",
       "           3.85969893e+10, 3.29422286e+10, 4.25253561e+10, 3.20053595e+10,\n",
       "           4.03609091e+10, 3.40597592e+10, 4.25102510e+10, 2.22190306e+10,\n",
       "           2.12559882e+10, 1.13841664e+10, 3.01027577e+10, 4.18546144e+10,\n",
       "           4.00600069e+10, 4.21644689e+10, 2.10271241e+10, 4.24320696e+10,\n",
       "           1.00390045e+10, 7.50222481e+08, 3.95806058e+09, 1.10667657e+10,\n",
       "           4.24772501e+10, 1.34292423e+10, 3.07924812e+10, 3.24247232e+09,\n",
       "           1.31560431e+10, 3.17651372e+10, 3.35126561e+10, 3.57979834e+10,\n",
       "           1.56778951e+10, 4.13132224e+10, 3.70359155e+10, 3.23127800e+10,\n",
       "           3.85692487e+10, 4.22534393e+10, 1.65235989e+09, 2.75111014e+10,\n",
       "           3.85984766e+10, 6.01811814e+08, 1.08390499e+10, 4.15107801e+10,\n",
       "           8.80401356e+09, 3.86002621e+10, 2.96117266e+10, 4.24245762e+10,\n",
       "           4.22094993e+10, 4.03851293e+10, 4.21538173e+10, 2.54290189e+10,\n",
       "           7.33347460e+08, 3.14803908e+10, 1.72471144e+10, 3.85797344e+10,\n",
       "           3.84779034e+10, 3.71353739e+10, 1.81840846e+10, 9.95818963e+08,\n",
       "           3.34353419e+10, 2.95900612e+10, 9.54890170e+09, 4.14900301e+10,\n",
       "           4.11003990e+10, 2.23898385e+10, 3.31434392e+10, 6.74702373e+07,\n",
       "           4.62204703e+09, 1.10641637e+10, 1.68641237e+10, 8.45207740e+09,\n",
       "           1.32935726e+10, 2.37819260e+10, 1.79280091e+09, 3.15952226e+10,\n",
       "           1.93303075e+10, 6.21100364e+09, 3.43822535e+09, 3.80815817e+09,\n",
       "           3.73722834e+10, 8.59007669e+09, 2.39832116e+10, 3.95881935e+10,\n",
       "           4.12184657e+10, 4.03055176e+10, 2.26477793e+09, 4.37718423e+09,\n",
       "           2.71752505e+10, 4.06556245e+10, 5.15604262e+09, 3.12699516e+10,\n",
       "           1.12392867e+10, 2.33024636e+10, 8.44465566e+09, 3.96365600e+10,\n",
       "           1.01125840e+10, 3.96084972e+09, 3.54848174e+10, 4.66481656e+09,\n",
       "           4.69660733e+09, 3.55162514e+10, 4.14577182e+10, 1.38136113e+10,\n",
       "           3.63047482e+10, 5.85995416e+09, 3.02632158e+10, 2.54497613e+09,\n",
       "           1.23840789e+10, 2.35256474e+10, 2.00560659e+10, 3.73611160e+10,\n",
       "           1.62755134e+09, 1.66100679e+10, 2.27833716e+10, 1.10623356e+10,\n",
       "           1.06536550e+10, 1.17001215e+10, 4.07939182e+10, 4.08635956e+10,\n",
       "           3.72102276e+10, 1.97183280e+10, 1.11133138e+10, 1.92808912e+10,\n",
       "           1.15612831e+10, 2.99650362e+10, 1.38981441e+09, 1.70646660e+08,\n",
       "           1.86858677e+10, 1.21619694e+10, 3.25056097e+10, 5.26640036e+09,\n",
       "           2.10189595e+10, 4.04190827e+08, 3.70848208e+10, 2.79592141e+10,\n",
       "           3.08331663e+10, 1.21458209e+08, 3.43468156e+10, 1.84418601e+10,\n",
       "           2.19837901e+10, 3.35419895e+07, 1.35690224e+10, 3.06021733e+10,\n",
       "           1.80054722e+08, 1.25540207e+10, 1.05625192e+10, 1.54047980e+10,\n",
       "           7.90181294e+08, 2.36082260e+09, 1.92766394e+10, 3.24020915e+10,\n",
       "           1.17272197e+10, 1.10223030e+10, 1.86134809e+09, 7.34413678e+09,\n",
       "           3.04946550e+10, 1.48536496e+10, 7.44691346e+09, 3.71349241e+10,\n",
       "           1.55626382e+10, 3.85946489e+09, 2.96750497e+10, 1.94289032e+10,\n",
       "           3.39620549e+09, 3.15607329e+10, 7.50345017e+09, 3.22283702e+10,\n",
       "           3.69006862e+09, 7.20848725e+08, 1.80806616e+10, 2.71887626e+07,\n",
       "           3.71271368e+10, 3.83600130e+10, 3.55789817e+10, 2.70720248e+10,\n",
       "           3.69335590e+10, 1.28069405e+10, 2.52868006e+10, 3.45719204e+10,\n",
       "           2.50294150e+10, 3.71366009e+10, 3.77653526e+09, 1.68239252e+10,\n",
       "           1.95182750e+10, 8.32872826e+09, 7.39384086e+07, 3.60404414e+10,\n",
       "           1.77339982e+10, 3.67371729e+10, 1.32582303e+09, 2.19469355e+10,\n",
       "           2.17416803e+10, 2.13997340e+08, 2.19721186e+10, 5.69794576e+09,\n",
       "           8.38535504e+09, 7.66556952e+05, 1.26756744e+09, 2.64212533e+10,\n",
       "           7.51410297e+08, 2.51301372e+10, 1.91820827e+10, 3.21010614e+10,\n",
       "           3.31293860e+10, 3.76149181e+09, 1.81918734e+08, 2.42212075e+10,\n",
       "           4.38873498e+08, 3.21712221e+10, 1.84395318e+10, 2.82344990e+10,\n",
       "           3.48236131e+10, 3.10750866e+09, 1.88637632e+10, 2.54716392e+10,\n",
       "           3.76523659e+09, 2.59572329e+05, 1.43187626e+10, 3.59273311e+10,\n",
       "           9.62513283e+08, 2.63127603e+08, 1.73384708e+10, 9.69894123e+09,\n",
       "           1.44261910e+10, 1.61849899e+10, 5.82337118e+09, 9.33133129e+09,\n",
       "           2.91183859e+09, 2.77074424e+10, 1.06950761e+10, 3.08161288e+10,\n",
       "           3.14224682e+10, 2.82262806e+10, 1.31847510e+10, 8.73238975e+09,\n",
       "           1.38646321e+10, 2.28418516e+10, 3.49288058e+10, 2.43033863e+10,\n",
       "           2.11327453e+10, 2.12188492e+10, 2.13340464e+10, 2.04857245e+10,\n",
       "           1.93285825e+09, 2.18891359e+10, 2.52024609e+09, 1.36768949e+10,\n",
       "           2.59827776e+10, 1.21589228e+09, 1.26756234e+10, 2.70560138e+10,\n",
       "           2.54758182e+08, 1.23227343e+09, 1.67513262e+10, 1.00990200e+10,\n",
       "           1.80350829e+08, 1.17048976e+09, 2.41897774e+09, 2.15961789e+10,\n",
       "           2.34598126e+10, 2.38805534e+10, 5.67444745e+08, 4.00715148e+09,\n",
       "           3.71750983e+09, 2.46504438e+10, 1.32476881e+09, 1.23366520e+10,\n",
       "           1.07062267e+10, 3.21040287e+10, 1.25639556e+09, 2.55825885e+10,\n",
       "           2.43298290e+10, 1.53578720e+10, 5.20320090e+09, 1.68900235e+10,\n",
       "           8.87666456e+09, 2.36934737e+10, 1.35188175e+10, 2.88399628e+10,\n",
       "           2.49243050e+10, 4.04270694e+09, 5.97243950e+09, 2.55586101e+10,\n",
       "           2.01670946e+10, 1.56912011e+09, 1.96649785e+10, 1.25354136e+10,\n",
       "           2.91056616e+10, 1.64604876e+09, 2.45573919e+09, 1.16046241e+10,\n",
       "           8.51563039e+09, 1.88182461e+10, 1.29844812e+10, 2.05447143e+10,\n",
       "           1.92552811e+10, 8.03494220e+09, 2.89990549e+09, 2.08395707e+08,\n",
       "           7.35709260e+08, 7.16508147e+09, 1.44612952e+09, 2.77359331e+10,\n",
       "           3.07436821e+08, 1.93581826e+10, 4.86042172e+09, 5.08215240e+08,\n",
       "           1.61897702e+10, 9.89195681e+09, 1.18986098e+10, 2.41990143e+10,\n",
       "           2.08836301e+10, 1.02283925e+10, 1.81873623e+09, 4.74563366e+09,\n",
       "           7.54636991e+09, 2.54904757e+08, 2.22273489e+10, 4.93760773e+09,\n",
       "           1.32853804e+10, 1.17367166e+10, 2.47617334e+10, 1.38131069e+10,\n",
       "           9.04273409e+08, 2.68712528e+10, 1.69239624e+10, 2.39327479e+07,\n",
       "           1.15157405e+10, 1.44478761e+10, 2.62616068e+10, 1.41054585e+10,\n",
       "           1.47702397e+10, 6.02115512e+09, 1.24589721e+10, 6.69220420e+08,\n",
       "           1.56993957e+10, 2.67005529e+08, 3.50997994e+08, 1.18661427e+10,\n",
       "           1.81985244e+09, 8.95052558e+09, 1.15338647e+10, 1.57429417e+10,\n",
       "           1.54243295e+10, 5.32169712e+05, 1.41164510e+10, 1.85603454e+09,\n",
       "           9.23649489e+09, 1.74921099e+10, 1.22353424e+10, 2.25930823e+10,\n",
       "           1.81398678e+08, 1.18653587e+08, 1.10336938e+10, 1.21266122e+09,\n",
       "           1.46319211e+10, 1.32586877e+10, 1.99661413e+09, 1.69926114e+08,\n",
       "           9.30321396e+09, 1.00918612e+09, 1.13846395e+10, 1.58274843e+10,\n",
       "           4.25865409e+08, 9.78988068e+09, 4.45691055e+09, 8.72427086e+09,\n",
       "           2.05575718e+10, 9.37847485e+09, 1.84890669e+10, 1.32975295e+09,\n",
       "           1.47853579e+10, 1.66780894e+10, 1.03867239e+09, 1.52841988e+10,\n",
       "           1.33638201e+10, 9.44374642e+06, 9.78476242e+09, 1.46043383e+09,\n",
       "           8.97496346e+09, 1.95186993e+08, 1.06985151e+10, 1.83543098e+10,\n",
       "           7.51264549e+07, 7.97861827e+07, 2.52302091e+09, 4.93953226e+09,\n",
       "           1.64003454e+10, 9.42005486e+09, 2.30813855e+08, 1.34616417e+10,\n",
       "           1.09803741e+08, 1.11026111e+10, 1.17136747e+10, 1.07503748e+08,\n",
       "           3.16028282e+08, 3.18026407e+09, 3.68952342e+07, 3.07209006e+09,\n",
       "           1.66438326e+10, 4.71192235e+09, 8.38658715e+09, 7.73718904e+09,\n",
       "           1.34908237e+10, 4.68427594e+09, 1.52298336e+10, 6.49475156e+09,\n",
       "           3.05538639e+09, 9.42894260e+09, 5.81632596e+09, 1.00749014e+10,\n",
       "           1.27089195e+07, 3.57441675e+09, 1.28877349e+09, 3.55832336e+09,\n",
       "           1.41396992e+09, 1.11352178e+10, 4.76770195e+09, 9.06202250e+09,\n",
       "           2.67744343e+09, 7.56946656e+09, 5.07775303e+08, 1.11419260e+08,\n",
       "           1.23478457e+09, 2.79115439e+09, 3.71159675e+09, 6.76221719e+08,\n",
       "           2.07415845e+09, 3.06200367e+09, 5.71419443e+09, 5.87336330e+09,\n",
       "           9.48420563e+09, 1.02873071e+09, 1.01415965e+09, 7.74851389e+09,\n",
       "           5.73978463e+09, 4.43875228e+08, 3.95714468e+09, 5.36784422e+09,\n",
       "           5.40156300e+09, 1.04255786e+09, 1.02027138e+09, 4.61691310e+08,\n",
       "           1.58872188e+09, 3.21387735e+09, 7.83568375e+08, 2.11056032e+07,\n",
       "           1.79295263e+08, 1.83723664e+07, 4.24436678e+05] Mpc3 / sr>"
      ]
     },
     "execution_count": 201,
     "metadata": {},
     "output_type": "execute_result"
    }
   ],
   "source": [
    "cosmo.differential_comoving_volume(z_bh)"
   ]
  },
  {
   "cell_type": "code",
   "execution_count": 202,
   "id": "dd3f6ff4",
   "metadata": {},
   "outputs": [],
   "source": [
    "dVcratio = np.array([unit_comoving_vol(z) \n",
    "                                  for z in z_bh ]) * 4*np.pi/vol_comov_box"
   ]
  },
  {
   "cell_type": "code",
   "execution_count": 203,
   "id": "6c83d262",
   "metadata": {},
   "outputs": [],
   "source": [
    "#all sky \n",
    "\n",
    "#dNmrg_dlgzdt = np.array([Nmrg_lgzhist[i]/dt_lgzbins[i]/vol_comov_box *\n",
    "                             #10**lgzbins[i]*np.log(10)\n",
    "                             #for i in range(lgzbins.size)]) ## yr^-1"
   ]
  },
  {
   "cell_type": "code",
   "execution_count": 204,
   "id": "29d3f911",
   "metadata": {},
   "outputs": [],
   "source": [
    "dNmrgdlogz,tmp = np.histogram(lgz_bh,weights=dVcratio,\n",
    "                                                 bins=lgzbin_edges)"
   ]
  },
  {
   "cell_type": "code",
   "execution_count": 205,
   "id": "717a6ae0",
   "metadata": {},
   "outputs": [],
   "source": [
    "dNmrgdlogz[dNmrgdlogz==0] = 1.0e-10"
   ]
  },
  {
   "cell_type": "code",
   "execution_count": 210,
   "id": "6da76754",
   "metadata": {},
   "outputs": [],
   "source": [
    "dNmrgdlogzdt_allsky = np.array([dNmrgdlogz[i]/(dt_lgzbins[i]*10**9)/(1+zbins[i])\n",
    "                                             for i in range(lgzbins.size)]) ## yr^-1"
   ]
  },
  {
   "cell_type": "code",
   "execution_count": null,
   "id": "db5cf347",
   "metadata": {},
   "outputs": [],
   "source": []
  },
  {
   "cell_type": "code",
   "execution_count": 211,
   "id": "846ef48b",
   "metadata": {},
   "outputs": [
    {
     "data": {
      "text/plain": [
       "(-2.0, 1.0)"
      ]
     },
     "execution_count": 211,
     "metadata": {},
     "output_type": "execute_result"
    },
    {
     "data": {
      "image/png": "[encoded data removed]",
      "text/plain": [
       "<Figure size 640x480 with 1 Axes>"
      ]
     },
     "metadata": {},
     "output_type": "display_data"
    }
   ],
   "source": [
    "plt.plot(lgzbins,dNmrgdlogzdt_allsky)\n",
    "plt.yscale(\"log\")\n",
    "plt.xlim(-2,1)"
   ]
  },
  {
   "cell_type": "code",
   "execution_count": 212,
   "id": "973c7b55",
   "metadata": {},
   "outputs": [
    {
     "data": {
      "text/plain": [
       "0.0005738309839972048"
      ]
     },
     "execution_count": 212,
     "metadata": {},
     "output_type": "execute_result"
    }
   ],
   "source": [
    "#merger rate \n",
    "np.sum(dNmrgdlogzdt_allsky*lgzbins) #yr^-1"
   ]
  },
  {
   "cell_type": "code",
   "execution_count": 176,
   "id": "32025a2f",
   "metadata": {},
   "outputs": [],
   "source": [
    "Nmrg_zhist,zbin_edges = np.histogram(z_bh,range=(0,zmax),bins=int(zmax/zbinsize))\n",
    "\n",
    "zbins = zbin_edges[:-1]+0.5*zbinsize\n",
    "\n",
    "\n",
    "dVcratio = np.array([unit_comoving_vol(z) \n",
    "                                  for z in z_bh ]) * 4*np.pi/vol_comov_box\n",
    "\n",
    "dNmrgdz,tmp = np.histogram(z_bh,weights=dVcratio,bins=zbin_edges)"
   ]
  },
  {
   "cell_type": "code",
   "execution_count": 177,
   "id": "510df5cc",
   "metadata": {},
   "outputs": [],
   "source": [
    "dt_zbins = []\n",
    "\n",
    "for i in range(zbins.size):\n",
    "    zatage = cosmo.age(zbins[i]-0.5*zbinsize)-cosmo.age(zbins[i]+0.5*zbinsize)\n",
    "    dt_zbins.append(float(zatage/u.Gyr))\n",
    "\n",
    "dt_zbins = np.array(dt_zbins)"
   ]
  },
  {
   "cell_type": "code",
   "execution_count": 2,
   "id": "733eef58",
   "metadata": {},
   "outputs": [
    {
     "ename": "NameError",
     "evalue": "name 'np' is not defined",
     "output_type": "error",
     "traceback": [
      "\u001b[0;31m---------------------------------------------------------------------------\u001b[0m",
      "\u001b[0;31mNameError\u001b[0m                                 Traceback (most recent call last)",
      "Cell \u001b[0;32mIn[2], line 1\u001b[0m\n\u001b[0;32m----> 1\u001b[0m dNmrg_dzdt \u001b[38;5;241m=\u001b[39m \u001b[43mnp\u001b[49m\u001b[38;5;241m.\u001b[39marray([dNmrgdz[i]\u001b[38;5;241m/\u001b[39mdt_zbins[i]\u001b[38;5;241m/\u001b[39mvol_comov_box\u001b[38;5;241m/\u001b[39m\u001b[38;5;241m10\u001b[39m\u001b[38;5;241m*\u001b[39m\u001b[38;5;241m*\u001b[39m\u001b[38;5;241m9\u001b[39m\n\u001b[1;32m      2\u001b[0m                            \u001b[38;5;28;01mfor\u001b[39;00m i \u001b[38;5;129;01min\u001b[39;00m \u001b[38;5;28mrange\u001b[39m(zbins\u001b[38;5;241m.\u001b[39msize)]) \u001b[38;5;66;03m## yr^-1 cMpc^-3\u001b[39;00m\n\u001b[1;32m      4\u001b[0m \u001b[38;5;28mprint\u001b[39m(\u001b[38;5;124m\"\u001b[39m\u001b[38;5;124mtotal merger rate: \u001b[39m\u001b[38;5;124m\"\u001b[39m,np\u001b[38;5;241m.\u001b[39msum(dNmrg_dzdt\u001b[38;5;241m*\u001b[39mzbinsize))\n",
      "\u001b[0;31mNameError\u001b[0m: name 'np' is not defined"
     ]
    }
   ],
   "source": [
    "dNmrg_dzdt = np.array([dNmrgdz[i]/dt_zbins[i]/vol_comov_box/10**9\n",
    "                           for i in range(zbins.size)]) ## yr^-1 cMpc^-3\n",
    "\n",
    "print(\"total merger rate: \",np.sum(dNmrg_dzdt*zbinsize))"
   ]
  },
  {
   "cell_type": "code",
   "execution_count": 1,
   "id": "fcad7353",
   "metadata": {},
   "outputs": [
    {
     "ename": "NameError",
     "evalue": "name 'dNmrg_dzdt' is not defined",
     "output_type": "error",
     "traceback": [
      "\u001b[0;31m---------------------------------------------------------------------------\u001b[0m",
      "\u001b[0;31mNameError\u001b[0m                                 Traceback (most recent call last)",
      "Cell \u001b[0;32mIn[1], line 1\u001b[0m\n\u001b[0;32m----> 1\u001b[0m \u001b[43mdNmrg_dzdt\u001b[49m\n",
      "\u001b[0;31mNameError\u001b[0m: name 'dNmrg_dzdt' is not defined"
     ]
    }
   ],
   "source": [
    "dNmrg_dzdt"
   ]
  },
  {
   "cell_type": "code",
   "execution_count": 179,
   "id": "f0f4d133",
   "metadata": {},
   "outputs": [
    {
     "name": "stdout",
     "output_type": "stream",
     "text": [
      "total all-sky merger rate [yr^-1]:  0.03470882382862961\n"
     ]
    }
   ],
   "source": [
    "dNmrg_dzdt_allsky = np.array([dNmrgdz[i]/dt_zbins[i]/10**9\n",
    "                                  for i in range(zbins.size)]) ## yr^-1\n",
    "\n",
    "print(\"total all-sky merger rate [yr^-1]: \",np.sum(dNmrg_dzdt_allsky*zbinsize))"
   ]
  },
  {
   "cell_type": "code",
   "execution_count": 208,
   "id": "ef1c648d",
   "metadata": {},
   "outputs": [],
   "source": [
    "def merger_rates(z_filtered):\n",
    "    \n",
    "    dz              = 0.1\n",
    "    bins            = np.arange(0,10+dz/2,dz)\n",
    "    N,binl,dummy    = plt.hist(z_filtered, bins=bins)\n",
    "    dN              = -(N[1:]-N[:-1])\n",
    "    \n",
    "\n",
    "        \n",
    "    HUBBLE_CONSTANT_SEC = (cosmo.H(0).value/(3.086*10**19))       #1/s\n",
    "    HUBBLE_TIME_YR      = (1/HUBBLE_CONSTANT_SEC)/(365.25*24*60*60)  #yr\n",
    "\n",
    "    #bin centers are going to be the z values for comoving volume\n",
    "    bin_centers = np.array((binl[:-1]+binl[1:])/2  )\n",
    "    V_C         = WMAP9.comoving_volume(bin_centers)\n",
    "    dV_C        = WMAP9.differential_comoving_volume(bin_centers)\n",
    "    N_Vc        = np.array(N)/(dz*(106.5**3))\n",
    "    dzdt        = WMAP9.efunc(bin_centers)*(1+bin_centers)/HUBBLE_TIME_YR \n",
    "\n",
    "    \n",
    "    factor      = np.array(1/(1+bin_centers))       #1/(1+z)\n",
    "    \n",
    "    plt.plot(bin_centers,N_Vc)\n",
    "    plt.yscale(\"log\")\n",
    "    plt.show()\n",
    "    \n",
    "    integrand = N_Vc*dzdt*dV_C*factor*dz*4*np.pi\n",
    "    print ('\\nThe dN is:')\n",
    "    print (min(integrand),max(integrand))\n",
    "    #integrand = N_Vc[:-1]*dzdt[:-1]*dV_C*factor[:-1]#*dz\n",
    "    print (integrand.shape)\n",
    "    print ('Merger rate is:',np.sum(integrand))"
   ]
  },
  {
   "cell_type": "code",
   "execution_count": 209,
   "id": "41cf914b",
   "metadata": {},
   "outputs": [
    {
     "data": {
      "image/png": "[encoded data removed]",
      "text/plain": [
       "<Figure size 640x480 with 1 Axes>"
      ]
     },
     "metadata": {},
     "output_type": "display_data"
    },
    {
     "name": "stdout",
     "output_type": "stream",
     "text": [
      "\n",
      "The dN is:\n",
      "0.0 Mpc3 / sr 0.0010160122199107046 Mpc3 / sr\n",
      "(100,)\n",
      "Merger rate is: 0.01392456131213474 Mpc3 / sr\n"
     ]
    }
   ],
   "source": [
    "merger_rates(z_bh)"
   ]
  },
  {
   "cell_type": "code",
   "execution_count": 150,
   "id": "e774e30a",
   "metadata": {},
   "outputs": [],
   "source": [
    "mID1 = np.loadtxt(\"Data/merger_ids1.txt\")"
   ]
  },
  {
   "cell_type": "code",
   "execution_count": 151,
   "id": "716630b1",
   "metadata": {},
   "outputs": [],
   "source": [
    "mID2 = np.loadtxt(\"Data/merger_ids2.txt\")"
   ]
  },
  {
   "cell_type": "code",
   "execution_count": 152,
   "id": "7b5c91db",
   "metadata": {},
   "outputs": [
    {
     "data": {
      "text/plain": [
       "array([[9223372036854775807, 9223372036854775807],\n",
       "       [9223372036508590080, 9223372036739678208],\n",
       "       [9223372036649464832, 9223372036820333568],\n",
       "       ...,\n",
       "       [9223372036854775807, 9223372036854775807],\n",
       "       [9223372036854775807, 9223372036854775807],\n",
       "       [9223372036854775807, 9223372036854775807]])"
      ]
     },
     "execution_count": 152,
     "metadata": {},
     "output_type": "execute_result"
    }
   ],
   "source": [
    "mID1.astype(int)"
   ]
  },
  {
   "cell_type": "code",
   "execution_count": 168,
   "id": "65e2b13b",
   "metadata": {},
   "outputs": [
    {
     "name": "stdout",
     "output_type": "stream",
     "text": [
      "9223372036508590080\n",
      "9223372036739678208\n"
     ]
    }
   ],
   "source": [
    "for i in range(2):\n",
    "    print(int(mID1[1,i]))"
   ]
  },
  {
   "cell_type": "code",
   "execution_count": 169,
   "id": "eba43913",
   "metadata": {},
   "outputs": [
    {
     "name": "stdout",
     "output_type": "stream",
     "text": [
      "3402508881721836544\n",
      "9223372036739678208\n"
     ]
    }
   ],
   "source": [
    "for i in range(2):\n",
    "    print(int(mID2[1,i]))"
   ]
  },
  {
   "cell_type": "code",
   "execution_count": 113,
   "id": "9c6bb3bc",
   "metadata": {},
   "outputs": [
    {
     "data": {
      "text/plain": [
       "array([[9223372036720251904, 9223372036854775807],\n",
       "       [3402508881721836544, 9223372036739678208],\n",
       "       [9223372036820333568, 9223372036854775807],\n",
       "       ...,\n",
       "       [9223372036854775807, 9223372036854775807],\n",
       "       [9223372036854775807, 9223372036854775807],\n",
       "       [9223372036854775807, 9223372036854775807]])"
      ]
     },
     "execution_count": 113,
     "metadata": {},
     "output_type": "execute_result"
    }
   ],
   "source": [
    "mID2.astype(int)"
   ]
  },
  {
   "cell_type": "code",
   "execution_count": 133,
   "id": "706e97d2",
   "metadata": {},
   "outputs": [],
   "source": [
    "m1_masses = np.loadtxt(\"Data/m1-merger-masses.txt\")\n",
    "m2_masses = np.loadtxt(\"Data/m2-merger-masses.txt\")"
   ]
  },
  {
   "cell_type": "code",
   "execution_count": 134,
   "id": "285adde5",
   "metadata": {
    "scrolled": true
   },
   "outputs": [
    {
     "data": {
      "text/plain": [
       "array([[32865814.11640726, 12537813.06187016],\n",
       "       [10594043.35175365,  2885123.85349061],\n",
       "       [16551621.82549644,  6537747.19772783],\n",
       "       ...,\n",
       "       [13253183.13745745,  8303174.95061583],\n",
       "       [45751336.48353241,  9468752.32073077],\n",
       "       [50987708.54564039,  2248239.00742812]])"
      ]
     },
     "execution_count": 134,
     "metadata": {},
     "output_type": "execute_result"
    }
   ],
   "source": [
    "m1_masses"
   ]
  },
  {
   "cell_type": "code",
   "execution_count": 136,
   "id": "4a11627e",
   "metadata": {},
   "outputs": [
    {
     "data": {
      "text/plain": [
       "array([[5.27682881e+07, 8.20473826e+06],\n",
       "       [3.13274923e+08, 4.21176138e+07],\n",
       "       [7.25740577e+07, 4.65394549e+07],\n",
       "       ...,\n",
       "       [2.15887632e+07, 6.82327325e+06],\n",
       "       [5.55505589e+07, 5.33896945e+07],\n",
       "       [5.55505589e+07, 5.33896945e+07]])"
      ]
     },
     "execution_count": 136,
     "metadata": {},
     "output_type": "execute_result"
    }
   ],
   "source": [
    "m2_masses"
   ]
  },
  {
   "cell_type": "code",
   "execution_count": 171,
   "id": "f7d00357",
   "metadata": {},
   "outputs": [
    {
     "data": {
      "text/plain": [
       "8204738.256013711"
      ]
     },
     "execution_count": 171,
     "metadata": {},
     "output_type": "execute_result"
    }
   ],
   "source": [
    "m2_masses[]"
   ]
  },
  {
   "cell_type": "code",
   "execution_count": 143,
   "id": "b1a0f4a3",
   "metadata": {},
   "outputs": [],
   "source": [
    "ID_size = np.shape(mID1)[0]"
   ]
  },
  {
   "cell_type": "code",
   "execution_count": 173,
   "id": "555878c3",
   "metadata": {},
   "outputs": [],
   "source": [
    "m1_list = []\n",
    "m2_list = []\n",
    "m3_list = []"
   ]
  },
  {
   "cell_type": "code",
   "execution_count": 174,
   "id": "ca6cd500",
   "metadata": {},
   "outputs": [],
   "source": [
    "for i in range(ID_size):\n",
    "\n",
    "    \n",
    "    if(mID1[i,0]==mID2[i,0]):\n",
    "        \n",
    "        m2 = m2_masses[i,0]\n",
    "        m2_old = m1_masses[i,0]\n",
    "        qin_old = m1_masses[i,1]/m2_old\n",
    "        m1 = qin_old * m2\n",
    "        m3 = m2_masses[i,1]\n",
    "        \n",
    "    \n",
    "    elif(mID1[i,1]==mID2[i,0]):\n",
    "        \n",
    "        m2 = m2_masses[i,0]\n",
    "        m2_old = m1_masses[i,1]\n",
    "        qin_old = m1_masses[i,0]/m2_old\n",
    "        m1 = qin_old * m2\n",
    "        m3 = m2_masses[i,1]        \n",
    "    \n",
    "    elif(mID1[i,0]==mID2[i,1]):\n",
    "        m2 = m2_masses[i,1]\n",
    "        m2_old = m1_masses[i,0]\n",
    "        qin_old = m1_masses[i,1]/m2_old\n",
    "        m1 = qin_old * m2\n",
    "        m3 = m2_masses[i,0]\n",
    "    \n",
    "    elif(mID1[i,1]==mID2[i,1]):\n",
    "        m2 = m2_masses[i,1]\n",
    "        m2_old = m1_masses[i,1]\n",
    "        qin_old = m1_masses[i,0]/m2_old\n",
    "        m1 = qin_old * m2\n",
    "        m3 = m2_masses[i,0]   \n",
    "        \n",
    "    m1_list.append(m1)\n",
    "    m2_list.append(m2)\n",
    "    m3_list.append(m3)\n",
    "    "
   ]
  },
  {
   "cell_type": "code",
   "execution_count": 180,
   "id": "747a6d02",
   "metadata": {},
   "outputs": [
    {
     "name": "stdout",
     "output_type": "stream",
     "text": [
      "21507371.426361017 8204738.256013711 52768288.05172233\n"
     ]
    }
   ],
   "source": [
    "print(m1_list[0],m2_list[0],m3_list[0])"
   ]
  },
  {
   "cell_type": "code",
   "execution_count": 186,
   "id": "24a9729e",
   "metadata": {},
   "outputs": [],
   "source": [
    "M1 = []\n",
    "qin = []\n",
    "qout = []"
   ]
  },
  {
   "cell_type": "code",
   "execution_count": 187,
   "id": "39decd37",
   "metadata": {},
   "outputs": [],
   "source": [
    "for i in range(len(m1_list)):\n",
    "    \n",
    "    if(m1_list[i] > m2_list[i]):\n",
    "        m1_big = m1_list[i]\n",
    "        m2_small = m2_list[i]\n",
    "    else:\n",
    "        m1_big = m2_list[i]\n",
    "        m2_small = m1_list[i]\n",
    "    \n",
    "    M1.append(m1_big)\n",
    "    qin.append(m2_small/m1_big)\n",
    "    qout.append(m3_list[i]/(m1_big+m2_small))"
   ]
  },
  {
   "cell_type": "code",
   "execution_count": 202,
   "id": "34610ad5",
   "metadata": {},
   "outputs": [],
   "source": [
    "np.savetxt(\"Data/triple-masses-from-illustris.txt\",np.column_stack((M1,qin,qout)))"
   ]
  },
  {
   "cell_type": "code",
   "execution_count": 191,
   "id": "a8d99d37",
   "metadata": {},
   "outputs": [],
   "source": [
    "import matplotlib.pyplot as plt"
   ]
  },
  {
   "cell_type": "code",
   "execution_count": 197,
   "id": "6285d116",
   "metadata": {},
   "outputs": [
    {
     "name": "stdout",
     "output_type": "stream",
     "text": [
      "21507371.426361017 8204738.256013711 52768288.05172233\n"
     ]
    }
   ],
   "source": [
    "print(m1_list[0],m2_list[0],m3_list[0])"
   ]
  },
  {
   "cell_type": "code",
   "execution_count": 198,
   "id": "10d50efa",
   "metadata": {},
   "outputs": [
    {
     "name": "stdout",
     "output_type": "stream",
     "text": [
      "1.775985906615866\n"
     ]
    }
   ],
   "source": [
    "print(m3_list[0]/(m1_list[0]+m2_list[0]))"
   ]
  },
  {
   "cell_type": "code",
   "execution_count": null,
   "id": "e34cbbf2",
   "metadata": {},
   "outputs": [],
   "source": []
  }
 ],
 "metadata": {
  "kernelspec": {
   "display_name": "ast",
   "language": "python",
   "name": "ast"
  },
  "language_info": {
   "codemirror_mode": {
    "name": "ipython",
    "version": 3
   },
   "file_extension": ".py",
   "mimetype": "text/x-python",
   "name": "python",
   "nbconvert_exporter": "python",
   "pygments_lexer": "ipython3",
   "version": "3.10.8"
  }
 },
 "nbformat": 4,
 "nbformat_minor": 5
}
