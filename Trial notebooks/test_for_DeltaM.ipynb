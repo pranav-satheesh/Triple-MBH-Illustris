{
 "cells": [
  {
   "cell_type": "code",
   "execution_count": 1,
   "metadata": {},
   "outputs": [
    {
     "name": "stdout",
     "output_type": "stream",
     "text": [
      "Number of Binaries: 9234\n",
      "Number of merged binaries: 2370\n",
      "Number of Isolated Binary mergers: 1929\n",
      "Number of Binaries with triple influence: 1401\n",
      "Number of Binary non mergers with triple influence: 960\n",
      "Binary file saved at Data/binary-merger-data.csv\n"
     ]
    }
   ],
   "source": [
    "import h5py    \n",
    "import numpy as np    \n",
    "import pandas as pd\n",
    "from astropy.cosmology import WMAP9 as cosmo\n",
    "from astropy.cosmology import z_at_value\n",
    "import astropy.units as u\n",
    "from astropy import constants as const\n",
    "\n",
    "yrsec = (1*u.yr).to(u.s).value # 1 year in secs\n",
    "solar_mass = const.M_sun.value #in Kgs\n",
    "\n",
    "#hubble_time = (1/cosmo.H(0)).to(u.yr).value #Hubble time = 1/H0 \n",
    "age_of_the_universe = cosmo.age(0).to(u.yr).value\n",
    "\n",
    "\n",
    "#parent folder\n",
    "pfolder = \"/Users/pranavsatheesh/Triples/Github/\"\n",
    "import sys\n",
    "sys.path.append(pfolder)\n",
    "\n",
    "#binary merger files \n",
    "file_name = pfolder + \"Illustris_Data/mbhb-evolution_no-ecc_lc-full-0.6.hdf5\"\n",
    "f1 = h5py.File(file_name,'r') \n",
    "\n",
    "Ms = np.array(f1['evolution']['masses'])\n",
    "t = np.array(f1['evolution']['times'])\n",
    "r = np.array(f1['evolution']['sep'])\n",
    "\n",
    "\n",
    "Ms = Ms/(solar_mass*10**3) #Ms is in gm\n",
    "Nbinary = len(Ms) #Number of binaries \n",
    "M1 = Ms[:,0]\n",
    "M2 = Ms[:,1]\n",
    "\n",
    "\n",
    "# the merger is the maximum value in each time evolution of the binary\n",
    "t_bin_merger = np.amax(t,1)/yrsec\n",
    "# t_list = []\n",
    "# for i in range(Nbinary):\n",
    "#     t_list.append(t[i][np.argwhere(r[i]==0)[0][0]]) \n",
    "\n",
    "merger = [] #to indicate if the binary actually merges before hubble time\n",
    "z_binary = []\n",
    "\n",
    "for time in t_bin_merger:\n",
    "    if time >= age_of_the_universe:\n",
    "        #these black holes aren't merging\n",
    "        merger.append(\"No\")\n",
    "        z_binary.append(0)\n",
    "    else:\n",
    "        merger.append(\"Yes\")\n",
    "        z_binary.append(z_at_value(cosmo.age,(time/10**9)*u.Gyr,zmin=1e-9).value)\n",
    "\n",
    "binary_df = pd.DataFrame([M1,M2,t_bin_merger,merger,z_binary])\n",
    "binary_df = binary_df.transpose()\n",
    "binary_df.columns = ['M1', 'M2', 't_merger','Merger','Redshift']\n",
    "\n",
    "\n",
    "#binary ids\n",
    "mergers = np.load(pfolder+'Illustris_Data/ill-1_blackhole_mergers_fixed.npz')\n",
    "indexes = f1['evolution']['val_inds'][:]\n",
    "binary_ids = mergers['ids'][indexes]\n",
    "\n",
    "Triple_df = pd.read_csv(pfolder+\"Illustris_Data/triple_data_ill.csv\") #the triples data file from find_triples.py\n",
    "\n",
    "#Black hole IDs of all the triples\n",
    "bh1id1 = Triple_df[\"bhid1_bin_1\"].to_numpy()\n",
    "bh1id2 = Triple_df[\"bhid2_bin_1\"].to_numpy()\n",
    "bh2id1 = Triple_df[\"bhid1_bin_2\"].to_numpy()\n",
    "bh2id2 = Triple_df[\"bhid2_bin_2\"].to_numpy()\n",
    "\n",
    "def searchID(id):\n",
    "    #to search if the binary ids belong to any triples, indicating a triple interaction\n",
    "\n",
    "    tf1 = id in bh1id1\n",
    "    tf2 = id in bh1id2\n",
    "    tf3 = id in bh2id1\n",
    "    tf4 = id in bh2id2\n",
    "\n",
    "    tf = tf1 + tf2 + tf3 + tf4\n",
    "\n",
    "    return tf \n",
    "\n",
    "merger_type = [] #\"iso\" for binaries that undergo isolated evolution. \"trip\" for the ones that have some kind of triple interaction\"\n",
    "\n",
    "for i in range(Nbinary):\n",
    "\n",
    "    search1 = searchID(binary_ids[i][0])\n",
    "    search2 = searchID(binary_ids[i][1])\n",
    "\n",
    "    search = search1 + search2\n",
    "    if(search == 0):\n",
    "        merger_type.append(\"iso\")\n",
    "    else:\n",
    "        merger_type.append(\"trip\")\n",
    "       \n",
    "\n",
    "binary_df[\"Type\"] = merger_type\n",
    "\n",
    "\n",
    "binary_ids = np.array(binary_ids)\n",
    "binary_df[\"BH1-ID\"] = binary_ids[:,0]\n",
    "binary_df[\"BH2-ID\"] = binary_ids[:,1]\n",
    "\n",
    "print(\"Number of Binaries: %d\"%(len(binary_df)))\n",
    "print(\"Number of merged binaries: %d\"%(len(binary_df[binary_df[\"Merger\"]==\"Yes\"])))\n",
    "print(\"Number of Isolated Binary mergers: %d\"%(len(binary_df[(binary_df[\"Merger\"]==\"Yes\") & (binary_df[\"Type\"] == \"iso\")])))\n",
    "print(\"Number of Binaries with triple influence: %d\"%(len(binary_df[(binary_df[\"Type\"] == \"trip\")])))\n",
    "print(\"Number of Binary non mergers with triple influence: %d\"%(len(binary_df[(binary_df[\"Merger\"]==\"No\") & (binary_df[\"Type\"] == \"trip\")])))\n",
    "\n",
    "binary_file_loc = \"Data/binary-merger-data.csv\"\n",
    "binary_df.to_csv(binary_file_loc,index = False)\n",
    "print(\"Binary file saved at %s\"%(binary_file_loc))\n",
    "\n",
    "Ntriple = np.size(bh1id1) #Number of triples"
   ]
  },
  {
   "cell_type": "code",
   "execution_count": 14,
   "metadata": {},
   "outputs": [],
   "source": [
    "dM_value = []\n",
    "qout_value = []"
   ]
  },
  {
   "cell_type": "code",
   "execution_count": 17,
   "metadata": {},
   "outputs": [],
   "source": [
    "m1_list = []\n",
    "m1_id = []\n",
    "m2_list = []\n",
    "m2_id = []\n",
    "m3_list = []\n",
    "m3_id = []\n",
    "\n",
    "for i in range(Ntriple):\n",
    "\n",
    "    m1 = Triple_df[\"M1_bin_1\"].iloc[i]\n",
    "    m2 = Triple_df[\"M2_bin_1\"].iloc[i]\n",
    "\n",
    "    qin_old = m2/m1\n",
    "\n",
    "    if((bh1id1[i]==bh2id1[i])|(bh1id2[i]==bh2id1[i])):\n",
    "        m3 = Triple_df[\"M2_bin_2\"].iloc[i]\n",
    "        mA = Triple_df[\"M1_bin_2\"].iloc[i]\n",
    "\n",
    "    elif((bh1id1[i]==bh2id2[i])|(bh1id2[i]==bh2id2[i])):\n",
    "        m3 = Triple_df[\"M1_bin_2\"].iloc[i]\n",
    "        mA = Triple_df[\"M2_bin_2\"].iloc[i]\n",
    "    \n",
    "    dM = mA-(m1+m2)\n",
    "    dM_value.append(dM)\n",
    "    qout = m3/(m1+m2)\n",
    "    qout_value.append(qout)"
   ]
  },
  {
   "cell_type": "code",
   "execution_count": 29,
   "metadata": {},
   "outputs": [
    {
     "data": {
      "text/plain": [
       "Text(0.5, 0, '$log(|\\\\Delta M|/M_{\\\\odot})$')"
      ]
     },
     "execution_count": 29,
     "metadata": {},
     "output_type": "execute_result"
    },
    {
     "data": {
      "image/png": "[encoded data removed]",
      "text/plain": [
       "<Figure size 640x480 with 1 Axes>"
      ]
     },
     "metadata": {},
     "output_type": "display_data"
    }
   ],
   "source": [
    "plt.hist(np.log10(np.abs(dM_value)))\n",
    "plt.xlabel(\"$log(|\\Delta M|/M_{\\odot})$\")"
   ]
  },
  {
   "cell_type": "code",
   "execution_count": 20,
   "metadata": {},
   "outputs": [
    {
     "data": {
      "text/plain": [
       "(array([  3.,   4.,  21.,  21.,  30.,  46., 273., 103.,  23.,   7.]),\n",
       " array([-2.66587513, -2.24641949, -1.82696384, -1.4075082 , -0.98805255,\n",
       "        -0.5685969 , -0.14914126,  0.27031439,  0.68977003,  1.10922568,\n",
       "         1.52868132]),\n",
       " <BarContainer object of 10 artists>)"
      ]
     },
     "execution_count": 20,
     "metadata": {},
     "output_type": "execute_result"
    },
    {
     "data": {
      "image/png": "[encoded data removed]",
      "text/plain": [
       "<Figure size 640x480 with 1 Axes>"
      ]
     },
     "metadata": {},
     "output_type": "display_data"
    }
   ],
   "source": [
    "plt.hist(np.log10(qout_value))"
   ]
  },
  {
   "cell_type": "code",
   "execution_count": 7,
   "metadata": {},
   "outputs": [],
   "source": [
    "m1_list = []\n",
    "m1_id = []\n",
    "m2_list = []\n",
    "m2_id = []\n",
    "m3_list = []\n",
    "m3_id = []\n",
    "\n",
    "ix_remove = []\n",
    "\n",
    "for i in range(Ntriple):\n",
    "\n",
    "    m1 = Triple_df[\"M1_bin_1\"].iloc[i]\n",
    "    m2 = Triple_df[\"M2_bin_1\"].iloc[i]\n",
    "    \n",
    "    qin_old = m2/m1\n",
    "\n",
    "    mA = Triple_df[\"M1_bin_2\"].iloc[i]\n",
    "    m3 = Triple_df[\"M2_bin_2\"].iloc[i]\n",
    "\n",
    "    dM = mA-(m1+m2)\n",
    "\n",
    "    if(dM>0):\n",
    "        dM_value.append(dM)\n",
    "        m1_new = m1 + dM*(1-qin_old)\n",
    "        m2_new = m2 + dM*qin_old\n",
    "\n",
    "        if (m1_new>m2_new):\n",
    "            m1_list.append(m1_new)\n",
    "            m1_id.append(Triple_df[\"bhid1_bin_1\"].iloc[i])\n",
    "            m2_list.append(m2_new)\n",
    "            m2_id.append(Triple_df[\"bhid2_bin_1\"].iloc[i])\n",
    "        \n",
    "        else:\n",
    "            m1_list.append(m2_new)\n",
    "            m1_id.append(Triple_df[\"bhid2_bin_1\"].iloc[i])\n",
    "            m2_list.append(m1_new)\n",
    "            m2_id.append(Triple_df[\"bhid1_bin_1\"].iloc[i])\n",
    "        \n",
    "        m3_list.append(m3)\n",
    "        m3_id.append(Triple_df[\"bhid1_bin_2\"].iloc[i])\n",
    "\n",
    "    else:\n",
    "        ix_remove.append(i)\n",
    "        \n",
    "\n",
    "\n",
    "m1_list = np.array(m1_list)\n",
    "m2_list = np.array(m2_list)\n",
    "m3_list = np.array(m3_list)\n",
    "\n",
    "m1_id = np.array(m1_id)\n",
    "m2_id = np.array(m2_id)\n",
    "m3_id = np.array(m3_id)\n",
    "\n",
    "M1 = m1_list\n",
    "qin = m2_list/m1_list\n",
    "qout = m3_list/(m1_list + m2_list)"
   ]
  },
  {
   "cell_type": "code",
   "execution_count": 13,
   "metadata": {},
   "outputs": [
    {
     "data": {
      "text/plain": [
       "Text(0.5, 0, '$log(\\\\Delta M/M_{\\\\odot})$')"
      ]
     },
     "execution_count": 13,
     "metadata": {},
     "output_type": "execute_result"
    },
    {
     "data": {
      "image/png": "[encoded data removed]",
      "text/plain": [
       "<Figure size 640x480 with 1 Axes>"
      ]
     },
     "metadata": {},
     "output_type": "display_data"
    }
   ],
   "source": [
    "import matplotlib.pyplot as plt\n",
    "plt.hist(np.log10(dM_value))\n",
    "plt.xlabel(\"$log(\\Delta M/M_{\\odot})$\")"
   ]
  },
  {
   "cell_type": "code",
   "execution_count": null,
   "metadata": {},
   "outputs": [],
   "source": []
  }
 ],
 "metadata": {
  "kernelspec": {
   "display_name": "ast",
   "language": "python",
   "name": "python3"
  },
  "language_info": {
   "codemirror_mode": {
    "name": "ipython",
    "version": 3
   },
   "file_extension": ".py",
   "mimetype": "text/x-python",
   "name": "python",
   "nbconvert_exporter": "python",
   "pygments_lexer": "ipython3",
   "version": "3.10.8"
  }
 },
 "nbformat": 4,
 "nbformat_minor": 2
}
