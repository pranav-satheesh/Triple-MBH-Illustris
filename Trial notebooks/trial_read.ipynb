{
 "cells": [
  {
   "cell_type": "code",
   "execution_count": 1,
   "metadata": {},
   "outputs": [],
   "source": [
    "pfolder = \"/Users/pranavsatheesh/Triples/Github/\"\n",
    "import sys\n",
    "sys.path.append(pfolder)"
   ]
  },
  {
   "cell_type": "code",
   "execution_count": 2,
   "metadata": {},
   "outputs": [],
   "source": [
    "import h5py    \n",
    "import numpy as np    \n",
    "import pandas as pd\n",
    "from astropy.cosmology import WMAP9 as cosmo\n",
    "import astropy.units as u\n",
    "from astropy import constants as const"
   ]
  },
  {
   "cell_type": "code",
   "execution_count": 8,
   "metadata": {},
   "outputs": [],
   "source": [
    "file_name = pfolder + \"Illustris_Data/mbhb-evolution_no-ecc_lc-full-0.6.hdf5\"\n",
    "f1 = h5py.File(file_name,'r') "
   ]
  },
  {
   "cell_type": "code",
   "execution_count": 9,
   "metadata": {},
   "outputs": [
    {
     "data": {
      "text/plain": [
       "['Binary redshifts.ipynb',\n",
       " 'Interpolating_MBTriple_data.ipynb',\n",
       " 'Reading files from Data.ipynb',\n",
       " '.DS_Store',\n",
       " '__pycache__',\n",
       " 'Illustris_Data',\n",
       " 'README.md',\n",
       " 'Merger_IDs and masses.ipynb',\n",
       " '.ipynb_checkpoints',\n",
       " 'Sort_data.py',\n",
       " 'sayeb',\n",
       " 'Triple-Outcomes',\n",
       " 'mbhb-evolution_no-ecc_lc-full-0.6.hdf5',\n",
       " 'Sorting the Data.ipynb',\n",
       " 'Data']"
      ]
     },
     "execution_count": 9,
     "metadata": {},
     "output_type": "execute_result"
    }
   ],
   "source": [
    "import os\n",
    "os.listdir(pfolder)"
   ]
  },
  {
   "cell_type": "code",
   "execution_count": null,
   "metadata": {},
   "outputs": [],
   "source": []
  },
  {
   "cell_type": "code",
   "execution_count": 6,
   "metadata": {},
   "outputs": [],
   "source": [
    "mergers = np.load(pfolder+'Illustris_Data/ill-1_blackhole_mergers_fixed.npz')"
   ]
  },
  {
   "cell_type": "code",
   "execution_count": 7,
   "metadata": {},
   "outputs": [],
   "source": [
    "Triple_df = pd.read_csv(\"Data/triple_data_ill.csv\")"
   ]
  },
  {
   "cell_type": "code",
   "execution_count": null,
   "metadata": {},
   "outputs": [],
   "source": []
  }
 ],
 "metadata": {
  "kernelspec": {
   "display_name": "ast",
   "language": "python",
   "name": "python3"
  },
  "language_info": {
   "codemirror_mode": {
    "name": "ipython",
    "version": 3
   },
   "file_extension": ".py",
   "mimetype": "text/x-python",
   "name": "python",
   "nbconvert_exporter": "python",
   "pygments_lexer": "ipython3",
   "version": "3.10.8"
  },
  "orig_nbformat": 4
 },
 "nbformat": 4,
 "nbformat_minor": 2
}
