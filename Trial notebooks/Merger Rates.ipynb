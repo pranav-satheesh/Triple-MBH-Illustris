{
 "cells": [
  {
   "cell_type": "code",
   "execution_count": 1,
   "id": "6fdbeb80",
   "metadata": {},
   "outputs": [],
   "source": [
    "import numpy as np\n",
    "import matplotlib.pyplot as plt\n",
    "import astropy.units as u\n",
    "from astropy.cosmology import WMAP9 as cosmo\n",
    "from astropy.cosmology import z_at_value\n",
    "from astropy import constants as const"
   ]
  },
  {
   "cell_type": "code",
   "execution_count": 2,
   "id": "eabc55ad",
   "metadata": {},
   "outputs": [],
   "source": [
    "t_bh = np.loadtxt(\"Data/triple_times.txt\")\n",
    "z_bh = z_at_value(cosmo.age, (t_bh/10**9)*u.Gyr, zmax=1000)\n",
    "z_bh = np.array(z_bh)"
   ]
  },
  {
   "cell_type": "code",
   "execution_count": 3,
   "id": "a92f8076",
   "metadata": {},
   "outputs": [
    {
     "name": "stdout",
     "output_type": "stream",
     "text": [
      "z-max: 3.2761646414750767\n",
      "z-min 0.0017927551536701253\n"
     ]
    }
   ],
   "source": [
    "print(\"z-max:\",np.max(z_bh))\n",
    "print(\"z-min\",np.min(z_bh))"
   ]
  },
  {
   "cell_type": "code",
   "execution_count": 4,
   "id": "24e320d4",
   "metadata": {},
   "outputs": [],
   "source": [
    "zmax = 4\n",
    "zbinsize = 0.01\n",
    "\n",
    "boxsize = 75.0\n",
    "omega_m = 0.2726\n",
    "omega_l = 0.7274\n",
    "h = 0.704\n",
    "vol_comov_box = (boxsize/h)**3 #Mpc^3"
   ]
  },
  {
   "cell_type": "code",
   "execution_count": 60,
   "id": "8920248e",
   "metadata": {},
   "outputs": [],
   "source": [
    "lgzbinsize = 0.1\n",
    "lgzmin = -3.0\n",
    "lgzmax = 1.0\n",
    "lgz_bh = np.log10(z_bh)"
   ]
  },
  {
   "cell_type": "code",
   "execution_count": 61,
   "id": "88403048",
   "metadata": {},
   "outputs": [],
   "source": [
    "def unit_comoving_vol(z):\n",
    "\n",
    "    D_H = const.c.to('km/s').value/cosmo.H0.value\n",
    "\n",
    "    #return  D_H * cosmo.D_M(0.0,z)**2 / np.sqrt(omega_m*(1+z)**3 + omega_l) \n",
    "    return D_H * cosmo.comoving_transverse_distance(z).value**2 * cosmo.inv_efunc(z)"
   ]
  },
  {
   "cell_type": "code",
   "execution_count": 62,
   "id": "dd7c1fa8",
   "metadata": {},
   "outputs": [
    {
     "data": {
      "text/latex": [
       "$[4.1190973 \\times 10^{10},~3.0674087 \\times 10^{10},~4.2293981 \\times 10^{10},~\\dots,~1.7929526 \\times 10^{8},~18372366,~424436.68] \\; \\mathrm{\\frac{Mpc^{3}}{sr}}$"
      ],
      "text/plain": [
       "<Quantity [4.11909725e+10, 3.06740874e+10, 4.22939811e+10, 4.11341302e+10,\n",
       "           3.49769216e+10, 2.80109197e+09, 3.69743138e+10, 8.57032802e+09,\n",
       "           4.25770482e+10, 3.91756513e+10, 1.03370473e+10, 1.66917190e+10,\n",
       "           4.20728947e+10, 4.23668712e+10, 3.68707040e+10, 3.16310766e+10,\n",
       "           8.51250147e+07, 4.25695985e+10, 3.80725462e+10, 3.44748184e+10,\n",
       "           2.30925263e+10, 4.15680727e+10, 3.22127670e+10, 4.25747504e+10,\n",
       "           3.60120366e+10, 2.25721490e+10, 3.96853488e+10, 4.21093255e+10,\n",
       "           8.48564219e+09, 8.49404745e+09, 3.09592280e+10, 1.46148255e+09,\n",
       "           4.24298616e+10, 1.91262232e+10, 5.45854335e+08, 8.89689694e+09,\n",
       "           4.08968209e+10, 3.45589100e+10, 7.86929127e+09, 4.25808123e+10,\n",
       "           8.95871240e+09, 3.97597150e+10, 3.45599511e+10, 4.25750388e+10,\n",
       "           3.78940879e+10, 3.96853652e+10, 2.26507881e+10, 1.94465823e+10,\n",
       "           1.38021884e+07, 2.96213200e+10, 4.25671820e+10, 4.06418075e+10,\n",
       "           2.96064687e+10, 4.17896229e+09, 7.39862491e+09, 1.05138361e+10,\n",
       "           4.57413744e+09, 3.19727675e+10, 4.19498561e+10, 3.61463061e+10,\n",
       "           4.25419871e+10, 1.74695402e+10, 3.93408581e+10, 3.39088394e+10,\n",
       "           1.33544158e+10, 4.24576473e+10, 4.24907721e+10, 5.37736682e+09,\n",
       "           4.25406419e+10, 4.18546144e+10, 4.25218220e+10, 3.56642393e+10,\n",
       "           4.16845470e+10, 2.10046237e+09, 4.18208667e+10, 4.25117149e+10,\n",
       "           3.61045072e+10, 4.17950155e+10, 1.06962410e+10, 1.59754009e+10,\n",
       "           1.99523096e+10, 2.98120710e+10, 3.21079384e+10, 4.10538157e+10,\n",
       "           3.85969893e+10, 3.29422286e+10, 4.25253561e+10, 3.20053595e+10,\n",
       "           4.03609091e+10, 3.40597592e+10, 4.25102510e+10, 2.22190306e+10,\n",
       "           2.12559882e+10, 1.13841664e+10, 3.01027577e+10, 4.18546144e+10,\n",
       "           4.00600069e+10, 4.21644689e+10, 2.10271241e+10, 4.24320696e+10,\n",
       "           1.00390045e+10, 7.50222481e+08, 3.95806058e+09, 1.10667657e+10,\n",
       "           4.24772501e+10, 1.34292423e+10, 3.07924812e+10, 3.24247232e+09,\n",
       "           1.31560431e+10, 3.17651372e+10, 3.35126561e+10, 3.57979834e+10,\n",
       "           1.56778951e+10, 4.13132224e+10, 3.70359155e+10, 3.23127800e+10,\n",
       "           3.85692487e+10, 4.22534393e+10, 1.65235989e+09, 2.75111014e+10,\n",
       "           3.85984766e+10, 6.01811814e+08, 1.08390499e+10, 4.15107801e+10,\n",
       "           8.80401356e+09, 3.86002621e+10, 2.96117266e+10, 4.24245762e+10,\n",
       "           4.22094993e+10, 4.03851293e+10, 4.21538173e+10, 2.54290189e+10,\n",
       "           7.33347460e+08, 3.14803908e+10, 1.72471144e+10, 3.85797344e+10,\n",
       "           3.84779034e+10, 3.71353739e+10, 1.81840846e+10, 9.95818963e+08,\n",
       "           3.34353419e+10, 2.95900612e+10, 9.54890170e+09, 4.14900301e+10,\n",
       "           4.11003990e+10, 2.23898385e+10, 3.31434392e+10, 6.74702373e+07,\n",
       "           4.62204703e+09, 1.10641637e+10, 1.68641237e+10, 8.45207740e+09,\n",
       "           1.32935726e+10, 2.37819260e+10, 1.79280091e+09, 3.15952226e+10,\n",
       "           1.93303075e+10, 6.21100364e+09, 3.43822535e+09, 3.80815817e+09,\n",
       "           3.73722834e+10, 8.59007669e+09, 2.39832116e+10, 3.95881935e+10,\n",
       "           4.12184657e+10, 4.03055176e+10, 2.26477793e+09, 4.37718423e+09,\n",
       "           2.71752505e+10, 4.06556245e+10, 5.15604262e+09, 3.12699516e+10,\n",
       "           1.12392867e+10, 2.33024636e+10, 8.44465566e+09, 3.96365600e+10,\n",
       "           1.01125840e+10, 3.96084972e+09, 3.54848174e+10, 4.66481656e+09,\n",
       "           4.69660733e+09, 3.55162514e+10, 4.14577182e+10, 1.38136113e+10,\n",
       "           3.63047482e+10, 5.85995416e+09, 3.02632158e+10, 2.54497613e+09,\n",
       "           1.23840789e+10, 2.35256474e+10, 2.00560659e+10, 3.73611160e+10,\n",
       "           1.62755134e+09, 1.66100679e+10, 2.27833716e+10, 1.10623356e+10,\n",
       "           1.06536550e+10, 1.17001215e+10, 4.07939182e+10, 4.08635956e+10,\n",
       "           3.72102276e+10, 1.97183280e+10, 1.11133138e+10, 1.92808912e+10,\n",
       "           1.15612831e+10, 2.99650362e+10, 1.38981441e+09, 1.70646660e+08,\n",
       "           1.86858677e+10, 1.21619694e+10, 3.25056097e+10, 5.26640036e+09,\n",
       "           2.10189595e+10, 4.04190827e+08, 3.70848208e+10, 2.79592141e+10,\n",
       "           3.08331663e+10, 1.21458209e+08, 3.43468156e+10, 1.84418601e+10,\n",
       "           2.19837901e+10, 3.35419895e+07, 1.35690224e+10, 3.06021733e+10,\n",
       "           1.80054722e+08, 1.25540207e+10, 1.05625192e+10, 1.54047980e+10,\n",
       "           7.90181294e+08, 2.36082260e+09, 1.92766394e+10, 3.24020915e+10,\n",
       "           1.17272197e+10, 1.10223030e+10, 1.86134809e+09, 7.34413678e+09,\n",
       "           3.04946550e+10, 1.48536496e+10, 7.44691346e+09, 3.71349241e+10,\n",
       "           1.55626382e+10, 3.85946489e+09, 2.96750497e+10, 1.94289032e+10,\n",
       "           3.39620549e+09, 3.15607329e+10, 7.50345017e+09, 3.22283702e+10,\n",
       "           3.69006862e+09, 7.20848725e+08, 1.80806616e+10, 2.71887626e+07,\n",
       "           3.71271368e+10, 3.83600130e+10, 3.55789817e+10, 2.70720248e+10,\n",
       "           3.69335590e+10, 1.28069405e+10, 2.52868006e+10, 3.45719204e+10,\n",
       "           2.50294150e+10, 3.71366009e+10, 3.77653526e+09, 1.68239252e+10,\n",
       "           1.95182750e+10, 8.32872826e+09, 7.39384086e+07, 3.60404414e+10,\n",
       "           1.77339982e+10, 3.67371729e+10, 1.32582303e+09, 2.19469355e+10,\n",
       "           2.17416803e+10, 2.13997340e+08, 2.19721186e+10, 5.69794576e+09,\n",
       "           8.38535504e+09, 7.66556952e+05, 1.26756744e+09, 2.64212533e+10,\n",
       "           7.51410297e+08, 2.51301372e+10, 1.91820827e+10, 3.21010614e+10,\n",
       "           3.31293860e+10, 3.76149181e+09, 1.81918734e+08, 2.42212075e+10,\n",
       "           4.38873498e+08, 3.21712221e+10, 1.84395318e+10, 2.82344990e+10,\n",
       "           3.48236131e+10, 3.10750866e+09, 1.88637632e+10, 2.54716392e+10,\n",
       "           3.76523659e+09, 2.59572329e+05, 1.43187626e+10, 3.59273311e+10,\n",
       "           9.62513283e+08, 2.63127603e+08, 1.73384708e+10, 9.69894123e+09,\n",
       "           1.44261910e+10, 1.61849899e+10, 5.82337118e+09, 9.33133129e+09,\n",
       "           2.91183859e+09, 2.77074424e+10, 1.06950761e+10, 3.08161288e+10,\n",
       "           3.14224682e+10, 2.82262806e+10, 1.31847510e+10, 8.73238975e+09,\n",
       "           1.38646321e+10, 2.28418516e+10, 3.49288058e+10, 2.43033863e+10,\n",
       "           2.11327453e+10, 2.12188492e+10, 2.13340464e+10, 2.04857245e+10,\n",
       "           1.93285825e+09, 2.18891359e+10, 2.52024609e+09, 1.36768949e+10,\n",
       "           2.59827776e+10, 1.21589228e+09, 1.26756234e+10, 2.70560138e+10,\n",
       "           2.54758182e+08, 1.23227343e+09, 1.67513262e+10, 1.00990200e+10,\n",
       "           1.80350829e+08, 1.17048976e+09, 2.41897774e+09, 2.15961789e+10,\n",
       "           2.34598126e+10, 2.38805534e+10, 5.67444745e+08, 4.00715148e+09,\n",
       "           3.71750983e+09, 2.46504438e+10, 1.32476881e+09, 1.23366520e+10,\n",
       "           1.07062267e+10, 3.21040287e+10, 1.25639556e+09, 2.55825885e+10,\n",
       "           2.43298290e+10, 1.53578720e+10, 5.20320090e+09, 1.68900235e+10,\n",
       "           8.87666456e+09, 2.36934737e+10, 1.35188175e+10, 2.88399628e+10,\n",
       "           2.49243050e+10, 4.04270694e+09, 5.97243950e+09, 2.55586101e+10,\n",
       "           2.01670946e+10, 1.56912011e+09, 1.96649785e+10, 1.25354136e+10,\n",
       "           2.91056616e+10, 1.64604876e+09, 2.45573919e+09, 1.16046241e+10,\n",
       "           8.51563039e+09, 1.88182461e+10, 1.29844812e+10, 2.05447143e+10,\n",
       "           1.92552811e+10, 8.03494220e+09, 2.89990549e+09, 2.08395707e+08,\n",
       "           7.35709260e+08, 7.16508147e+09, 1.44612952e+09, 2.77359331e+10,\n",
       "           3.07436821e+08, 1.93581826e+10, 4.86042172e+09, 5.08215240e+08,\n",
       "           1.61897702e+10, 9.89195681e+09, 1.18986098e+10, 2.41990143e+10,\n",
       "           2.08836301e+10, 1.02283925e+10, 1.81873623e+09, 4.74563366e+09,\n",
       "           7.54636991e+09, 2.54904757e+08, 2.22273489e+10, 4.93760773e+09,\n",
       "           1.32853804e+10, 1.17367166e+10, 2.47617334e+10, 1.38131069e+10,\n",
       "           9.04273409e+08, 2.68712528e+10, 1.69239624e+10, 2.39327479e+07,\n",
       "           1.15157405e+10, 1.44478761e+10, 2.62616068e+10, 1.41054585e+10,\n",
       "           1.47702397e+10, 6.02115512e+09, 1.24589721e+10, 6.69220420e+08,\n",
       "           1.56993957e+10, 2.67005529e+08, 3.50997994e+08, 1.18661427e+10,\n",
       "           1.81985244e+09, 8.95052558e+09, 1.15338647e+10, 1.57429417e+10,\n",
       "           1.54243295e+10, 5.32169712e+05, 1.41164510e+10, 1.85603454e+09,\n",
       "           9.23649489e+09, 1.74921099e+10, 1.22353424e+10, 2.25930823e+10,\n",
       "           1.81398678e+08, 1.18653587e+08, 1.10336938e+10, 1.21266122e+09,\n",
       "           1.46319211e+10, 1.32586877e+10, 1.99661413e+09, 1.69926114e+08,\n",
       "           9.30321396e+09, 1.00918612e+09, 1.13846395e+10, 1.58274843e+10,\n",
       "           4.25865409e+08, 9.78988068e+09, 4.45691055e+09, 8.72427086e+09,\n",
       "           2.05575718e+10, 9.37847485e+09, 1.84890669e+10, 1.32975295e+09,\n",
       "           1.47853579e+10, 1.66780894e+10, 1.03867239e+09, 1.52841988e+10,\n",
       "           1.33638201e+10, 9.44374642e+06, 9.78476242e+09, 1.46043383e+09,\n",
       "           8.97496346e+09, 1.95186993e+08, 1.06985151e+10, 1.83543098e+10,\n",
       "           7.51264549e+07, 7.97861827e+07, 2.52302091e+09, 4.93953226e+09,\n",
       "           1.64003454e+10, 9.42005486e+09, 2.30813855e+08, 1.34616417e+10,\n",
       "           1.09803741e+08, 1.11026111e+10, 1.17136747e+10, 1.07503748e+08,\n",
       "           3.16028282e+08, 3.18026407e+09, 3.68952342e+07, 3.07209006e+09,\n",
       "           1.66438326e+10, 4.71192235e+09, 8.38658715e+09, 7.73718904e+09,\n",
       "           1.34908237e+10, 4.68427594e+09, 1.52298336e+10, 6.49475156e+09,\n",
       "           3.05538639e+09, 9.42894260e+09, 5.81632596e+09, 1.00749014e+10,\n",
       "           1.27089195e+07, 3.57441675e+09, 1.28877349e+09, 3.55832336e+09,\n",
       "           1.41396992e+09, 1.11352178e+10, 4.76770195e+09, 9.06202250e+09,\n",
       "           2.67744343e+09, 7.56946656e+09, 5.07775303e+08, 1.11419260e+08,\n",
       "           1.23478457e+09, 2.79115439e+09, 3.71159675e+09, 6.76221719e+08,\n",
       "           2.07415845e+09, 3.06200367e+09, 5.71419443e+09, 5.87336330e+09,\n",
       "           9.48420563e+09, 1.02873071e+09, 1.01415965e+09, 7.74851389e+09,\n",
       "           5.73978463e+09, 4.43875228e+08, 3.95714468e+09, 5.36784422e+09,\n",
       "           5.40156300e+09, 1.04255786e+09, 1.02027138e+09, 4.61691310e+08,\n",
       "           1.58872188e+09, 3.21387735e+09, 7.83568375e+08, 2.11056032e+07,\n",
       "           1.79295263e+08, 1.83723664e+07, 4.24436678e+05] Mpc3 / sr>"
      ]
     },
     "execution_count": 62,
     "metadata": {},
     "output_type": "execute_result"
    }
   ],
   "source": [
    "cosmo.differential_comoving_volume(z_bh)"
   ]
  },
  {
   "cell_type": "code",
   "execution_count": 63,
   "id": "37fee4c4",
   "metadata": {},
   "outputs": [],
   "source": [
    "dVcratio = np.array([unit_comoving_vol(z) \n",
    "                                  for z in z_bh ]) * 4*np.pi/vol_comov_box"
   ]
  },
  {
   "cell_type": "code",
   "execution_count": 64,
   "id": "9f1c28a1",
   "metadata": {},
   "outputs": [],
   "source": [
    "Nmrg_zhist,zbin_edges = np.histogram(z_bh,range=(0,zmax),bins=int(zmax/zbinsize))\n",
    "zbins = zbin_edges[:-1]+0.5*zbinsize\n",
    "dNmrgdz,tmp = np.histogram(z_bh,weights=dVcratio,bins=zbin_edges)"
   ]
  },
  {
   "cell_type": "code",
   "execution_count": 65,
   "id": "d882a123",
   "metadata": {},
   "outputs": [],
   "source": [
    "lgz_bh = np.log10(z_bh)\n",
    "\n",
    "Nmrg_lgzhist,lgzbin_edges = np.histogram(lgz_bh,range=(lgzmin,lgzmax),\n",
    "                                             bins=int((lgzmax-lgzmin)/lgzbinsize))\n",
    "lgzbins = lgzbin_edges[:-1]+0.5*lgzbinsize\n",
    "Nmrg_lgzhist = Nmrg_lgzhist.astype('float64')"
   ]
  },
  {
   "cell_type": "code",
   "execution_count": 66,
   "id": "d3c3b683",
   "metadata": {},
   "outputs": [],
   "source": [
    "dt_lgzbins = []\n",
    "\n",
    "for i in range(lgzbins.size):\n",
    "    zatage = cosmo.age(10**(lgzbins[i]-0.5*lgzbinsize))-cosmo.age(10**(lgzbins[i]+0.5*lgzbinsize))\n",
    "    dt_lgzbins.append(float(zatage/u.Gyr))\n",
    "    \n",
    "dt_lgzbins = np.array(dt_lgzbins)"
   ]
  },
  {
   "cell_type": "code",
   "execution_count": 67,
   "id": "b8efff1d",
   "metadata": {},
   "outputs": [],
   "source": [
    "dNmrgdlogz,tmp = np.histogram(lgz_bh,weights=dVcratio,\n",
    "                                                 bins=lgzbin_edges)"
   ]
  },
  {
   "cell_type": "code",
   "execution_count": 69,
   "id": "5724bab1",
   "metadata": {},
   "outputs": [],
   "source": [
    "dNmrgdlogzdt_allsky = np.array([dNmrgdlogz[i]/(dt_lgzbins[i]*10**9)\n",
    "                                             for i in range(lgzbins.size)]) ## yr^-1"
   ]
  },
  {
   "cell_type": "code",
   "execution_count": 70,
   "id": "5bc3041c",
   "metadata": {},
   "outputs": [],
   "source": [
    "import scienceplots"
   ]
  },
  {
   "cell_type": "code",
   "execution_count": 71,
   "id": "cf868c02",
   "metadata": {
    "scrolled": false
   },
   "outputs": [
    {
     "data": {
      "text/plain": [
       "Text(0, 0.5, '$d^2 N / d \\\\log z dt$')"
      ]
     },
     "execution_count": 71,
     "metadata": {},
     "output_type": "execute_result"
    },
    {
     "data": {
      "image/png": "[encoded data removed]",
      "text/plain": [
       "<Figure size 700x500 with 1 Axes>"
      ]
     },
     "metadata": {},
     "output_type": "display_data"
    }
   ],
   "source": [
    "plt.style.use(\"science\")\n",
    "plt.figure(figsize=[7,5])\n",
    "plt.plot(lgzbins,dNmrgdlogzdt_allsky)\n",
    "plt.yscale(\"log\")\n",
    "plt.xlim(-2,1)\n",
    "plt.xlabel(\"$\\log z$\")\n",
    "plt.ylabel(\"$d^2 N / d \\log z dt$\")\n",
    "#plt.savefig(\"Figures/Merger_rate_total.pdf\")"
   ]
  },
  {
   "cell_type": "code",
   "execution_count": 72,
   "id": "8106e802",
   "metadata": {},
   "outputs": [
    {
     "data": {
      "text/plain": [
       "0.011821906152845273"
      ]
     },
     "execution_count": 72,
     "metadata": {},
     "output_type": "execute_result"
    }
   ],
   "source": [
    "#merger rate \n",
    "np.sum(dNmrgdlogzdt_allsky*lgzbinsize) #yr^-1"
   ]
  },
  {
   "cell_type": "code",
   "execution_count": 38,
   "id": "33a8ace5",
   "metadata": {},
   "outputs": [],
   "source": [
    "zmax = 4 \n",
    "zbinsize = 0.2\n",
    "Nmrg_hist,zbin_edges = np.histogram(z_bh,range=(0,zmax),bins=int(zmax/zbinsize))\n",
    "zbins = zbin_edges[:-1] + 0.5*zbinsize"
   ]
  },
  {
   "cell_type": "code",
   "execution_count": 40,
   "id": "72dee5c4",
   "metadata": {},
   "outputs": [],
   "source": [
    "dt_zbins = []\n",
    "\n",
    "for i in range(zbins.size):\n",
    "    zatage = cosmo.age(zbins[i]-0.5*zbinsize)-cosmo.age(zbins[i]+0.5*zbinsize)\n",
    "    dt_zbins.append(float(zatage/u.Gyr))\n",
    "\n",
    "dt_zbins = np.array(dt_zbins)"
   ]
  },
  {
   "cell_type": "code",
   "execution_count": 41,
   "id": "262dc7fa",
   "metadata": {},
   "outputs": [],
   "source": [
    "Nmrg_zhist,zbin_edges = np.histogram(z_bh,range=(0,zmax),bins=int(zmax/zbinsize))\n",
    "zbins = zbin_edges[:-1]+0.5*zbinsize\n",
    "dNmrgdz,tmp = np.histogram(z_bh,weights=dVcratio,bins=zbin_edges)"
   ]
  },
  {
   "cell_type": "code",
   "execution_count": 42,
   "id": "6eaa40aa",
   "metadata": {},
   "outputs": [],
   "source": [
    "dNmrg_dzdt = np.array([dNmrgdz[i]/dt_zbins[i]/10**9\n",
    "                           for i in range(zbins.size)]) ## yr^-1"
   ]
  },
  {
   "cell_type": "code",
   "execution_count": 43,
   "id": "3079647a",
   "metadata": {},
   "outputs": [
    {
     "data": {
      "text/plain": [
       "[<matplotlib.lines.Line2D at 0x12bc00310>]"
      ]
     },
     "execution_count": 43,
     "metadata": {},
     "output_type": "execute_result"
    },
    {
     "data": {
      "image/png": "[encoded data removed]",
      "text/plain": [
       "<Figure size 350x262.5 with 1 Axes>"
      ]
     },
     "metadata": {},
     "output_type": "display_data"
    }
   ],
   "source": [
    "plt.plot(zbins,dNmrg_dzdt)"
   ]
  },
  {
   "cell_type": "code",
   "execution_count": 44,
   "id": "10d02225",
   "metadata": {},
   "outputs": [
    {
     "name": "stdout",
     "output_type": "stream",
     "text": [
      "total merger rate (yr^-1):  0.034520773133359745\n"
     ]
    }
   ],
   "source": [
    "dNmrg_dzdt = np.array([dNmrgdz[i]/dt_zbins[i]/10**9\n",
    "                           for i in range(zbins.size)]) ## yr^-1 \n",
    "\n",
    "print(\"total merger rate (yr^-1): \",np.sum(dNmrg_dzdt*zbinsize))"
   ]
  },
  {
   "cell_type": "code",
   "execution_count": null,
   "id": "172c5fcd",
   "metadata": {},
   "outputs": [],
   "source": []
  }
 ],
 "metadata": {
  "kernelspec": {
   "display_name": "ast",
   "language": "python",
   "name": "ast"
  },
  "language_info": {
   "codemirror_mode": {
    "name": "ipython",
    "version": 3
   },
   "file_extension": ".py",
   "mimetype": "text/x-python",
   "name": "python",
   "nbconvert_exporter": "python",
   "pygments_lexer": "ipython3",
   "version": "3.10.8"
  }
 },
 "nbformat": 4,
 "nbformat_minor": 5
}
