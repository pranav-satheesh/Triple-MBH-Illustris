{
 "cells": [
  {
   "cell_type": "code",
   "execution_count": 15,
   "metadata": {},
   "outputs": [],
   "source": [
    "import numpy as np\n",
    "import h5py\n",
    "import pandas as pd"
   ]
  },
  {
   "cell_type": "code",
   "execution_count": 16,
   "metadata": {},
   "outputs": [],
   "source": [
    "mergers = np.load('Data/ill-1_blackhole_mergers_fixed.npz')\n",
    "evol = h5py.File(\"Data/mbhb-evolution_no-ecc_lc-full-0.6.hdf5\",\"r\")"
   ]
  },
  {
   "cell_type": "code",
   "execution_count": 58,
   "metadata": {},
   "outputs": [],
   "source": [
    "Ms = evol['evolution']['masses']\n",
    "t = evol['evolution']['times']\n",
    "r = evol['evolution']['sep']"
   ]
  },
  {
   "cell_type": "code",
   "execution_count": 17,
   "metadata": {},
   "outputs": [],
   "source": [
    "indexes = evol['evolution']['val_inds'][:]\n",
    "binary_ids = mergers['ids'][indexes]"
   ]
  },
  {
   "cell_type": "code",
   "execution_count": 22,
   "metadata": {},
   "outputs": [],
   "source": [
    "N_binary = np.shape(binary_ids)[0]"
   ]
  },
  {
   "cell_type": "code",
   "execution_count": 61,
   "metadata": {},
   "outputs": [],
   "source": [
    "M1_list = []\n",
    "M2_list = []\n",
    "t_list = []\n",
    "\n",
    "M1_list = []\n",
    "M2_list = []\n",
    "t_list = []\n",
    "\n",
    "for i in range(N_binary):\n",
    "    M1_list.append(Ms[i][0])\n",
    "    M2_list.append(Ms[i][1])\n",
    "    t_list.append(t[i][np.argwhere(r[i]==0)[0][0]]) #t merger is when the seperation goes to 0\n"
   ]
  },
  {
   "cell_type": "code",
   "execution_count": 84,
   "metadata": {},
   "outputs": [
    {
     "name": "stdout",
     "output_type": "stream",
     "text": [
      "14105485021.361647\n"
     ]
    }
   ],
   "source": [
    "from astropy.cosmology import WMAP9 as cosmo\n",
    "import astropy.units as u\n",
    "Hinverse = cosmo.H(0).to(1/u.s)\n",
    "hubble_time = (1/cosmo.H(0)).to(u.yr).value #Hubble time = 1/H0\n",
    "print(hubble_time)"
   ]
  },
  {
   "cell_type": "code",
   "execution_count": 98,
   "metadata": {},
   "outputs": [],
   "source": [
    "yrsec = (1*u.yr).to(u.s).value # 1 year in secs\n",
    "t_list = t_list/yrsec"
   ]
  },
  {
   "cell_type": "code",
   "execution_count": 103,
   "metadata": {},
   "outputs": [
    {
     "name": "stdout",
     "output_type": "stream",
     "text": [
      "Total stalled MBHs 6809\n"
     ]
    }
   ],
   "source": [
    "stalled_count = 0\n",
    "merger=[]\n",
    "\n",
    "for time in t_list:\n",
    "    if time >= hubble_time:\n",
    "        #these black holes aren't merging\n",
    "        stalled_count = stalled_count + 1\n",
    "        merger.append(\"No\")\n",
    "    else:\n",
    "        merger.append(\"Yes\")\n",
    "\n",
    "print(\"Total stalled MBHs %d\"%(stalled_count))"
   ]
  },
  {
   "cell_type": "code",
   "execution_count": null,
   "metadata": {},
   "outputs": [],
   "source": [
    "Triple_df = pd.read_csv(\"Data/triple_data_ill.csv\")"
   ]
  },
  {
   "cell_type": "code",
   "execution_count": 28,
   "metadata": {},
   "outputs": [],
   "source": [
    "bh1id1 = Triple_df[\"BH1_ID1\"].to_numpy()\n",
    "bh1id2 = Triple_df[\"BH1_ID2\"].to_numpy()\n",
    "bh2id1 = Triple_df[\"BH2_ID1\"].to_numpy()\n",
    "bh2id2 = Triple_df[\"BH2_ID2\"].to_numpy()"
   ]
  },
  {
   "cell_type": "code",
   "execution_count": 157,
   "metadata": {},
   "outputs": [
    {
     "name": "stdout",
     "output_type": "stream",
     "text": [
      "9.22337203709081e+18 9.223372037238491e+18 9.223372036720252e+18 9.223372037238491e+18\n"
     ]
    }
   ],
   "source": [
    "print(bh1id1[0],bh1id2[0],bh2id1[0],bh2id2[0])"
   ]
  },
  {
   "cell_type": "code",
   "execution_count": 41,
   "metadata": {},
   "outputs": [],
   "source": [
    "def searchID(id):\n",
    "\n",
    "    tf1 = id in bh1id1\n",
    "    tf2 = id in bh1id2\n",
    "    tf3 = id in bh2id1\n",
    "    tf4 = id in bh2id2\n",
    "\n",
    "    tf = tf1 + tf2 + tf3 + tf4\n",
    "\n",
    "    return tf \n"
   ]
  },
  {
   "cell_type": "code",
   "execution_count": 52,
   "metadata": {},
   "outputs": [],
   "source": [
    "type = []\n",
    "\n",
    "for i in range(N_binary):\n",
    "\n",
    "    search1 = searchID(binary_ids[i][0])\n",
    "    search2 = searchID(binary_ids[i][1])\n",
    "\n",
    "    search = search1 + search2\n",
    "    if(search == 0):\n",
    "        type.append(\"iso\")\n",
    "    else:\n",
    "        type.append(\"trip\")\n"
   ]
  },
  {
   "cell_type": "code",
   "execution_count": 114,
   "metadata": {},
   "outputs": [],
   "source": [
    "df = pd.DataFrame([M1_list,M2_list,t_list,merger,type])\n",
    "df = df.transpose()\n",
    "df.columns = ['M1','M2','t_merger','Merger','Type']"
   ]
  },
  {
   "cell_type": "code",
   "execution_count": 115,
   "metadata": {},
   "outputs": [
    {
     "data": {
      "text/html": [
       "<div>\n",
       "<style scoped>\n",
       "    .dataframe tbody tr th:only-of-type {\n",
       "        vertical-align: middle;\n",
       "    }\n",
       "\n",
       "    .dataframe tbody tr th {\n",
       "        vertical-align: top;\n",
       "    }\n",
       "\n",
       "    .dataframe thead th {\n",
       "        text-align: right;\n",
       "    }\n",
       "</style>\n",
       "<table border=\"1\" class=\"dataframe\">\n",
       "  <thead>\n",
       "    <tr style=\"text-align: right;\">\n",
       "      <th></th>\n",
       "      <th>M1</th>\n",
       "      <th>M2</th>\n",
       "      <th>t_merger</th>\n",
       "      <th>Merger</th>\n",
       "      <th>Type</th>\n",
       "    </tr>\n",
       "  </thead>\n",
       "  <tbody>\n",
       "    <tr>\n",
       "      <th>0</th>\n",
       "      <td>4496150597824015233342643531839143149568.0</td>\n",
       "      <td>3239130977150481045247849004617980444672.0</td>\n",
       "      <td>858774126.450153</td>\n",
       "      <td>Yes</td>\n",
       "      <td>iso</td>\n",
       "    </tr>\n",
       "    <tr>\n",
       "      <th>1</th>\n",
       "      <td>3210830029843102916184613152605259956224.0</td>\n",
       "      <td>2142212244418209772291345238083162341376.0</td>\n",
       "      <td>893400572.050411</td>\n",
       "      <td>Yes</td>\n",
       "      <td>iso</td>\n",
       "    </tr>\n",
       "    <tr>\n",
       "      <th>2</th>\n",
       "      <td>13033744257841817886100508794345280765952.0</td>\n",
       "      <td>2337819241002291541715754422103479156736.0</td>\n",
       "      <td>4120229485.36754</td>\n",
       "      <td>Yes</td>\n",
       "      <td>iso</td>\n",
       "    </tr>\n",
       "    <tr>\n",
       "      <th>3</th>\n",
       "      <td>13997642889337732808502100799021612269568.0</td>\n",
       "      <td>12454619883001010817570679262288589881344.0</td>\n",
       "      <td>89337138643.547943</td>\n",
       "      <td>No</td>\n",
       "      <td>iso</td>\n",
       "    </tr>\n",
       "    <tr>\n",
       "      <th>4</th>\n",
       "      <td>23446120332452297114271153103284404748288.0</td>\n",
       "      <td>6574773268621633779839470064839258275840.0</td>\n",
       "      <td>14217143975.611784</td>\n",
       "      <td>No</td>\n",
       "      <td>iso</td>\n",
       "    </tr>\n",
       "  </tbody>\n",
       "</table>\n",
       "</div>"
      ],
      "text/plain": [
       "                                            M1  \\\n",
       "0   4496150597824015233342643531839143149568.0   \n",
       "1   3210830029843102916184613152605259956224.0   \n",
       "2  13033744257841817886100508794345280765952.0   \n",
       "3  13997642889337732808502100799021612269568.0   \n",
       "4  23446120332452297114271153103284404748288.0   \n",
       "\n",
       "                                            M2            t_merger Merger Type  \n",
       "0   3239130977150481045247849004617980444672.0    858774126.450153    Yes  iso  \n",
       "1   2142212244418209772291345238083162341376.0    893400572.050411    Yes  iso  \n",
       "2   2337819241002291541715754422103479156736.0    4120229485.36754    Yes  iso  \n",
       "3  12454619883001010817570679262288589881344.0  89337138643.547943     No  iso  \n",
       "4   6574773268621633779839470064839258275840.0  14217143975.611784     No  iso  "
      ]
     },
     "execution_count": 115,
     "metadata": {},
     "output_type": "execute_result"
    }
   ],
   "source": [
    "df.head()"
   ]
  },
  {
   "cell_type": "code",
   "execution_count": 135,
   "metadata": {},
   "outputs": [
    {
     "name": "stdout",
     "output_type": "stream",
     "text": [
      "919\n"
     ]
    }
   ],
   "source": [
    "df_iso = df[(df['Type']=='trip')]['Merger'] == \"No\"\n",
    "print(df_iso.sum())"
   ]
  },
  {
   "cell_type": "code",
   "execution_count": 145,
   "metadata": {},
   "outputs": [
    {
     "data": {
      "text/plain": [
       "1998"
      ]
     },
     "execution_count": 145,
     "metadata": {},
     "output_type": "execute_result"
    }
   ],
   "source": [
    "(df[(df[\"Type\"]==\"iso\")]['Merger'] == \"Yes\").sum()"
   ]
  },
  {
   "cell_type": "code",
   "execution_count": 146,
   "metadata": {},
   "outputs": [
    {
     "data": {
      "text/plain": [
       "427"
      ]
     },
     "execution_count": 146,
     "metadata": {},
     "output_type": "execute_result"
    }
   ],
   "source": [
    "(df[(df[\"Type\"]==\"trip\")]['Merger'] == \"Yes\").sum()"
   ]
  },
  {
   "cell_type": "code",
   "execution_count": 148,
   "metadata": {},
   "outputs": [
    {
     "data": {
      "text/plain": [
       "919"
      ]
     },
     "execution_count": 148,
     "metadata": {},
     "output_type": "execute_result"
    }
   ],
   "source": [
    "(df[(df['Merger'] == \"No\")]['Type']==\"trip\").sum()"
   ]
  },
  {
   "cell_type": "code",
   "execution_count": 149,
   "metadata": {},
   "outputs": [
    {
     "data": {
      "text/plain": [
       "5890"
      ]
     },
     "execution_count": 149,
     "metadata": {},
     "output_type": "execute_result"
    }
   ],
   "source": [
    "(df[(df['Merger'] == \"No\")]['Type']==\"iso\").sum()"
   ]
  },
  {
   "cell_type": "code",
   "execution_count": null,
   "metadata": {},
   "outputs": [],
   "source": []
  }
 ],
 "metadata": {
  "kernelspec": {
   "display_name": "ast",
   "language": "python",
   "name": "python3"
  },
  "language_info": {
   "codemirror_mode": {
    "name": "ipython",
    "version": 3
   },
   "file_extension": ".py",
   "mimetype": "text/x-python",
   "name": "python",
   "nbconvert_exporter": "python",
   "pygments_lexer": "ipython3",
   "version": "3.10.8"
  },
  "orig_nbformat": 4
 },
 "nbformat": 4,
 "nbformat_minor": 2
}
