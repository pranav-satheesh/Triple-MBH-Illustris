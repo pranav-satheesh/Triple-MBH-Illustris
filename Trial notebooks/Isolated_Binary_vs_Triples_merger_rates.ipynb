{
 "cells": [
  {
   "cell_type": "code",
   "execution_count": 1,
   "id": "b43e15e0",
   "metadata": {},
   "outputs": [],
   "source": [
    "import numpy as np\n",
    "import pandas as pd\n",
    "import matplotlib.pyplot as plt"
   ]
  },
  {
   "cell_type": "code",
   "execution_count": 2,
   "id": "5f91fb62",
   "metadata": {},
   "outputs": [],
   "source": [
    "import astropy.units as u\n",
    "from astropy.cosmology import WMAP9 as cosmo\n",
    "from astropy.cosmology import z_at_value\n",
    "from astropy import constants as const"
   ]
  },
  {
   "cell_type": "code",
   "execution_count": 18,
   "id": "4e59e15d",
   "metadata": {},
   "outputs": [],
   "source": [
    "import h5py    \n",
    "import numpy as np    \n",
    "import pandas as pd\n",
    "from astropy.cosmology import WMAP9 as cosmo\n",
    "import astropy.units as u\n",
    "from astropy import constants as const"
   ]
  },
  {
   "cell_type": "code",
   "execution_count": 7,
   "id": "aa2b3d51",
   "metadata": {},
   "outputs": [],
   "source": [
    "import Merger_rate_plot as merg"
   ]
  },
  {
   "cell_type": "code",
   "execution_count": 8,
   "id": "be3386b9",
   "metadata": {},
   "outputs": [],
   "source": [
    "zmax = 7\n",
    "zbinsize = 0.2\n",
    "lgzbinsize=0.15\n",
    "lgzmin=-3.0\n",
    "lgzmax = 1.0"
   ]
  },
  {
   "cell_type": "code",
   "execution_count": 9,
   "id": "207a5adf",
   "metadata": {},
   "outputs": [
    {
     "name": "stdout",
     "output_type": "stream",
     "text": [
      "total merger rate (yr^-1):  0.18774290708893313\n"
     ]
    }
   ],
   "source": [
    "merger_rate,lgzbins_binary,dNdlogzdt_binary = merg.merger_rate_log_plot(z_bh,zmax,zbinsize,lgzbinsize,lgzmin,lgzmax)"
   ]
  },
  {
   "cell_type": "code",
   "execution_count": 10,
   "id": "38b013f2",
   "metadata": {},
   "outputs": [
    {
     "name": "stdout",
     "output_type": "stream",
     "text": [
      "0.050839101292491425\n"
     ]
    }
   ],
   "source": [
    "merger_rate = np.sum(dNdlogzdt_binary*lgzbinsize)\n",
    "print(merger_rate)"
   ]
  },
  {
   "cell_type": "code",
   "execution_count": 11,
   "id": "597e5afe",
   "metadata": {},
   "outputs": [
    {
     "data": {
      "text/html": [
       "<div>\n",
       "<style scoped>\n",
       "    .dataframe tbody tr th:only-of-type {\n",
       "        vertical-align: middle;\n",
       "    }\n",
       "\n",
       "    .dataframe tbody tr th {\n",
       "        vertical-align: top;\n",
       "    }\n",
       "\n",
       "    .dataframe thead th {\n",
       "        text-align: right;\n",
       "    }\n",
       "</style>\n",
       "<table border=\"1\" class=\"dataframe\">\n",
       "  <thead>\n",
       "    <tr style=\"text-align: right;\">\n",
       "      <th></th>\n",
       "      <th>Unnamed: 0</th>\n",
       "      <th>Mass 1</th>\n",
       "      <th>Mass 2</th>\n",
       "      <th>Mass 3</th>\n",
       "      <th>t_merger</th>\n",
       "      <th>Flag</th>\n",
       "    </tr>\n",
       "  </thead>\n",
       "  <tbody>\n",
       "    <tr>\n",
       "      <th>0</th>\n",
       "      <td>0</td>\n",
       "      <td>2.150737e+07</td>\n",
       "      <td>8.204738e+06</td>\n",
       "      <td>5.276829e+07</td>\n",
       "      <td>1.985633e+09</td>\n",
       "      <td>No</td>\n",
       "    </tr>\n",
       "    <tr>\n",
       "      <th>1</th>\n",
       "      <td>1</td>\n",
       "      <td>1.546540e+08</td>\n",
       "      <td>4.211761e+07</td>\n",
       "      <td>3.132749e+08</td>\n",
       "      <td>5.529691e+09</td>\n",
       "      <td>Tr</td>\n",
       "    </tr>\n",
       "    <tr>\n",
       "      <th>2</th>\n",
       "      <td>2</td>\n",
       "      <td>1.546540e+08</td>\n",
       "      <td>4.211761e+07</td>\n",
       "      <td>3.132749e+08</td>\n",
       "      <td>3.025313e+09</td>\n",
       "      <td>No</td>\n",
       "    </tr>\n",
       "    <tr>\n",
       "      <th>3</th>\n",
       "      <td>3</td>\n",
       "      <td>1.546540e+08</td>\n",
       "      <td>4.211761e+07</td>\n",
       "      <td>3.132749e+08</td>\n",
       "      <td>1.972738e+09</td>\n",
       "      <td>No</td>\n",
       "    </tr>\n",
       "    <tr>\n",
       "      <th>4</th>\n",
       "      <td>4</td>\n",
       "      <td>9.436961e+06</td>\n",
       "      <td>1.002870e+06</td>\n",
       "      <td>4.551391e+08</td>\n",
       "      <td>4.814316e+09</td>\n",
       "      <td>No</td>\n",
       "    </tr>\n",
       "  </tbody>\n",
       "</table>\n",
       "</div>"
      ],
      "text/plain": [
       "   Unnamed: 0        Mass 1        Mass 2        Mass 3      t_merger Flag\n",
       "0           0  2.150737e+07  8.204738e+06  5.276829e+07  1.985633e+09   No\n",
       "1           1  1.546540e+08  4.211761e+07  3.132749e+08  5.529691e+09   Tr\n",
       "2           2  1.546540e+08  4.211761e+07  3.132749e+08  3.025313e+09   No\n",
       "3           3  1.546540e+08  4.211761e+07  3.132749e+08  1.972738e+09   No\n",
       "4           4  9.436961e+06  1.002870e+06  4.551391e+08  4.814316e+09   No"
      ]
     },
     "execution_count": 11,
     "metadata": {},
     "output_type": "execute_result"
    }
   ],
   "source": [
    "df_trip = pd.read_csv(\"Data/triples-data-with-flags.csv\",index_col= False)\n",
    "df_trip.head()"
   ]
  },
  {
   "cell_type": "code",
   "execution_count": 12,
   "id": "3810c2c6",
   "metadata": {},
   "outputs": [],
   "source": [
    "t_merger_triples = df_trip[(df_trip[\"Flag\"] == \"Tr-ej\") | (df_trip[\"Flag\"] == \"Tr\")][\"t_merger\"].to_numpy()"
   ]
  },
  {
   "cell_type": "code",
   "execution_count": 13,
   "id": "d004876d",
   "metadata": {},
   "outputs": [],
   "source": [
    "#t_triple = np.loadtxt(\"Data/t_merger2.txt\")"
   ]
  },
  {
   "cell_type": "code",
   "execution_count": 14,
   "id": "3b16e00f",
   "metadata": {},
   "outputs": [],
   "source": [
    "#age_of_the_universe = cosmo.age(0).to(u.yr).value\n",
    "# #t_triple = t_merger_triples[np.argwhere(t_merger_triples < age_of_the_universe)]"
   ]
  },
  {
   "cell_type": "code",
   "execution_count": 15,
   "id": "c49a891b",
   "metadata": {},
   "outputs": [],
   "source": [
    "z_bh_trip = z_at_value(cosmo.age, (t_merger_triples/10**9)*u.Gyr,zmin=1e-9)\n",
    "z_bh_trip = np.array(z_bh_trip)"
   ]
  },
  {
   "cell_type": "code",
   "execution_count": 16,
   "id": "df46d65f",
   "metadata": {},
   "outputs": [
    {
     "name": "stdout",
     "output_type": "stream",
     "text": [
      "total merger rate (yr^-1):  0.012404593093510241\n"
     ]
    }
   ],
   "source": [
    "merger_rate_trip,lgzbins_trip,dNdlogzdt_trip = merg.merger_rate_log_plot(z_bh_trip,zmax,0.2,0.3,lgzmin,lgzmax)"
   ]
  },
  {
   "cell_type": "code",
   "execution_count": 17,
   "id": "136dec88",
   "metadata": {},
   "outputs": [
    {
     "data": {
      "image/png": "[encoded data removed]",
      "text/plain": [
       "<Figure size 640x480 with 1 Axes>"
      ]
     },
     "metadata": {},
     "output_type": "display_data"
    }
   ],
   "source": [
    "plt.plot(lgzbins_binary,dNdlogzdt_binary,label=\"isolated\")\n",
    "plt.plot(lgzbins_trip,dNdlogzdt_trip,label=\"triples\")\n",
    "plt.yscale(\"log\")\n",
    "plt.legend()\n",
    "plt.xlim(-3,1)\n",
    "plt.xlabel(\"$\\log z$\")\n",
    "plt.ylabel(\"$\\log (d^2 N / d \\log z dt)$\")\n",
    "plt.title(\"Isolated binaries vs binaries with triples\")\n",
    "plt.savefig(\"Figures/isolated-vs-triples.pdf\")"
   ]
  },
  {
   "cell_type": "code",
   "execution_count": null,
   "id": "ca2521dc",
   "metadata": {},
   "outputs": [],
   "source": []
  }
 ],
 "metadata": {
  "kernelspec": {
   "display_name": "ast",
   "language": "python",
   "name": "python3"
  },
  "language_info": {
   "codemirror_mode": {
    "name": "ipython",
    "version": 3
   },
   "file_extension": ".py",
   "mimetype": "text/x-python",
   "name": "python",
   "nbconvert_exporter": "python",
   "pygments_lexer": "ipython3",
   "version": "3.10.8"
  }
 },
 "nbformat": 4,
 "nbformat_minor": 5
}
