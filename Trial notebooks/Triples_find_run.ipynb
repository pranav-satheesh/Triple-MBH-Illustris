{
 "cells": [
  {
   "cell_type": "markdown",
   "metadata": {},
   "source": [
    "This notebook is used for finding the triples from the binary MBHs files. The files should in '../Data'. You'd need \n",
    "\n",
    "1. .npz black hole mergers file.\n",
    "2. A hdf5 file which contains the binaries properties of the output from the simulation.\n",
    "\n",
    "The *find_triple_mbhs* code is found inside Sayeb's directory (called triple_mbhs) here"
   ]
  },
  {
   "cell_type": "code",
   "execution_count": 1,
   "metadata": {},
   "outputs": [],
   "source": [
    "# Add path to Sayeb's folder\n",
    "import os\n",
    "import sys\n",
    "sayeb_new = '/Users/pranavsatheesh/Triples/Github/Triple-Outcomes/triple_mbhs/'\n",
    "sys.path.append(sayeb_new)"
   ]
  },
  {
   "cell_type": "code",
   "execution_count": 2,
   "metadata": {},
   "outputs": [],
   "source": [
    "import find_triple_mbhs as ftm\n",
    "import read_mbhb\n",
    "import numpy as np\n",
    "#np.seterr(divide='ignore', invalid='ignore')\n",
    "#ignore annoying warnings\n",
    "import pandas as pd\n",
    "from tqdm import tqdm\n",
    "np.seterr(divide='ignore', invalid='ignore')\n",
    "import h5py\n",
    "import astro_constants as ac\n",
    "import ms_script_pranav as mstest"
   ]
  },
  {
   "cell_type": "code",
   "execution_count": 3,
   "metadata": {},
   "outputs": [
    {
     "name": "stdout",
     "output_type": "stream",
     "text": [
      "h = 0.6774, tH = 13802718326.81273 yr.\n",
      "\n",
      "Reading data from /Users/pranavsatheesh/Triples/Github/Illustris_Data/mbhb_data/new_fiducial_mbhb-evolution_with_env_in_ecc-evo-0.6_lc-shm06.hdf5\n",
      "subhalo SFR:\n",
      "0.0 702.5588989257812 0.8404439966052046\n",
      "snapshot:  (9234,) 43 135 9234\n",
      "dadt.size:  2049948 (9234, 222)\n",
      "masses:  (9234, 2)\n",
      "times:  (9234, 222)\n",
      "scales:  (9234, 222)\n",
      "\n",
      "File contains 9234 binaries.\n",
      "Nmbhb in nested class:  9234\n",
      "tinsp_for_all_bin.npz does not exists! Calculating inspiral time\n"
     ]
    },
    {
     "name": "stderr",
     "output_type": "stream",
     "text": [
      "Calculating inspiral time for all binaries all separations: 100%|██████████| 9234/9234 [00:13<00:00, 660.41it/s]\n"
     ]
    },
    {
     "name": "stdout",
     "output_type": "stream",
     "text": [
      "min/max/size sim_tmrg_1st:  -1.0 13583238290.476427 9234\n",
      "min/max/size evol_tmrg_1st:  -1.0 3.1010641661682496e+16 9234\n",
      "min/max/size sim_tmrg_2nd:  -1.0 13739111457.429827 9234\n",
      "min/max/size evol_tmrg_2nd:  -1.0 4.300186751091767e+16 9234\n"
     ]
    }
   ],
   "source": [
    "path = '/Users/pranavsatheesh/Triples/Github/Illustris_Data/mbhb_data/' #path to the merger file \n",
    "fmrg='ill-1_blackhole_mergers_fixed.npz'  #merger file\n",
    "\n",
    "mst = mstest.ms_tests(path = path, fmbhb='new_fid_e06' , mergers = np.load(path+fmrg), calculate_tinsp=True, parse_env=True) "
   ]
  },
  {
   "cell_type": "code",
   "execution_count": 4,
   "metadata": {},
   "outputs": [
    {
     "name": "stdout",
     "output_type": "stream",
     "text": [
      "Number of MBHBs in the data: 9234\n",
      "Number of triples identified in the data 2029\n",
      "Number of isolated binaries identified in the data 7205\n",
      "Number of strong triples in data 520\n",
      "Number of weak triples in data 1509\n"
     ]
    }
   ],
   "source": [
    "mst.strong_trip_stats()"
   ]
  },
  {
   "cell_type": "code",
   "execution_count": 5,
   "metadata": {},
   "outputs": [],
   "source": [
    "savepath = '/Users/pranavsatheesh/Triples/Github/Illustris_Data/'"
   ]
  },
  {
   "cell_type": "code",
   "execution_count": 7,
   "metadata": {},
   "outputs": [
    {
     "name": "stdout",
     "output_type": "stream",
     "text": [
      "faulty accretion 9\n",
      "File saved at /Users/pranavsatheesh/Triples/Github/Illustris_Data/all_triples_data_from_ill.csv\n"
     ]
    }
   ],
   "source": [
    "mst.strong_trip_data(savepath) #strong triples + weak triples"
   ]
  },
  {
   "cell_type": "code",
   "execution_count": 6,
   "metadata": {},
   "outputs": [
    {
     "name": "stdout",
     "output_type": "stream",
     "text": [
      "faulty accretion 9\n",
      "File saved at /Users/pranavsatheesh/Triples/Github/Illustris_Data/all_triples_data_from_ill.csv\n",
      "faulty accretion 9\n",
      "sep's of size 520 and dadt's of size 520 stored at /Users/pranavsatheesh/Triples/Github/Illustris_Data/a_and_dadt_for_all_strong_triples.npz\n",
      "File saved at /Users/pranavsatheesh/Triples/Github/Illustris_Data/strong_triples_data_from_ill.csv\n"
     ]
    }
   ],
   "source": [
    "mst.strong_trip_data(savepath) #strong triples + weak triples\n",
    "mst.strong_trip_data(savepath,strong_trip_flag=True) #strong triples"
   ]
  },
  {
   "cell_type": "code",
   "execution_count": 10,
   "metadata": {},
   "outputs": [
    {
     "name": "stdout",
     "output_type": "stream",
     "text": [
      "File saved at /Users/pranavsatheesh/Triples/Github/Illustris_Data/iso_binaries_data_from_ill.csv\n"
     ]
    }
   ],
   "source": [
    "mst.isolated_binaries_data(savepath)"
   ]
  },
  {
   "cell_type": "code",
   "execution_count": 11,
   "metadata": {},
   "outputs": [
    {
     "data": {
      "text/html": [
       "<div>\n",
       "<style scoped>\n",
       "    .dataframe tbody tr th:only-of-type {\n",
       "        vertical-align: middle;\n",
       "    }\n",
       "\n",
       "    .dataframe tbody tr th {\n",
       "        vertical-align: top;\n",
       "    }\n",
       "\n",
       "    .dataframe thead th {\n",
       "        text-align: right;\n",
       "    }\n",
       "</style>\n",
       "<table border=\"1\" class=\"dataframe\">\n",
       "  <thead>\n",
       "    <tr style=\"text-align: right;\">\n",
       "      <th></th>\n",
       "      <th>M1</th>\n",
       "      <th>M2</th>\n",
       "      <th>M3</th>\n",
       "      <th>qin</th>\n",
       "      <th>qout</th>\n",
       "      <th>t_triple_form</th>\n",
       "      <th>z_form</th>\n",
       "      <th>a_2nd_ovtks</th>\n",
       "      <th>bin_merger_flag</th>\n",
       "    </tr>\n",
       "  </thead>\n",
       "  <tbody>\n",
       "    <tr>\n",
       "      <th>0</th>\n",
       "      <td>2.119978e+07</td>\n",
       "      <td>3.473441e+06</td>\n",
       "      <td>2.463118e+07</td>\n",
       "      <td>0.163843</td>\n",
       "      <td>0.998296</td>\n",
       "      <td>1.352693e+09</td>\n",
       "      <td>4.507494</td>\n",
       "      <td>0.006986</td>\n",
       "      <td>Yes</td>\n",
       "    </tr>\n",
       "    <tr>\n",
       "      <th>1</th>\n",
       "      <td>2.391268e+08</td>\n",
       "      <td>1.296146e+08</td>\n",
       "      <td>1.287504e+07</td>\n",
       "      <td>0.542033</td>\n",
       "      <td>0.034916</td>\n",
       "      <td>5.596503e+09</td>\n",
       "      <td>1.083700</td>\n",
       "      <td>0.216358</td>\n",
       "      <td>Yes</td>\n",
       "    </tr>\n",
       "    <tr>\n",
       "      <th>2</th>\n",
       "      <td>2.122135e+08</td>\n",
       "      <td>1.477407e+08</td>\n",
       "      <td>6.859143e+06</td>\n",
       "      <td>0.696189</td>\n",
       "      <td>0.019056</td>\n",
       "      <td>1.100114e+10</td>\n",
       "      <td>0.229301</td>\n",
       "      <td>0.056611</td>\n",
       "      <td>No</td>\n",
       "    </tr>\n",
       "    <tr>\n",
       "      <th>3</th>\n",
       "      <td>8.239502e+07</td>\n",
       "      <td>5.113722e+07</td>\n",
       "      <td>4.296126e+06</td>\n",
       "      <td>0.620635</td>\n",
       "      <td>0.032173</td>\n",
       "      <td>1.303832e+10</td>\n",
       "      <td>0.053799</td>\n",
       "      <td>0.072537</td>\n",
       "      <td>No</td>\n",
       "    </tr>\n",
       "    <tr>\n",
       "      <th>4</th>\n",
       "      <td>4.625245e+07</td>\n",
       "      <td>8.973635e+06</td>\n",
       "      <td>2.419779e+06</td>\n",
       "      <td>0.194014</td>\n",
       "      <td>0.043816</td>\n",
       "      <td>3.438074e+09</td>\n",
       "      <td>1.932992</td>\n",
       "      <td>0.169430</td>\n",
       "      <td>No</td>\n",
       "    </tr>\n",
       "  </tbody>\n",
       "</table>\n",
       "</div>"
      ],
      "text/plain": [
       "             M1            M2            M3       qin      qout  \\\n",
       "0  2.119978e+07  3.473441e+06  2.463118e+07  0.163843  0.998296   \n",
       "1  2.391268e+08  1.296146e+08  1.287504e+07  0.542033  0.034916   \n",
       "2  2.122135e+08  1.477407e+08  6.859143e+06  0.696189  0.019056   \n",
       "3  8.239502e+07  5.113722e+07  4.296126e+06  0.620635  0.032173   \n",
       "4  4.625245e+07  8.973635e+06  2.419779e+06  0.194014  0.043816   \n",
       "\n",
       "   t_triple_form    z_form  a_2nd_ovtks bin_merger_flag  \n",
       "0   1.352693e+09  4.507494     0.006986             Yes  \n",
       "1   5.596503e+09  1.083700     0.216358             Yes  \n",
       "2   1.100114e+10  0.229301     0.056611              No  \n",
       "3   1.303832e+10  0.053799     0.072537              No  \n",
       "4   3.438074e+09  1.932992     0.169430              No  "
      ]
     },
     "execution_count": 11,
     "metadata": {},
     "output_type": "execute_result"
    }
   ],
   "source": [
    "df_all_triples = pd.read_csv(\"/Users/pranavsatheesh/Triples/Github/Illustris_Data/strong_triples_data_from_ill.csv\")\n",
    "#df_all_triples = pd.read_csv(\"/Users/pranavsatheesh/Triples/Github/Illustris_Data/all_triples_data_from_ill.csv\")\n",
    "df_all_triples.head()"
   ]
  },
  {
   "cell_type": "code",
   "execution_count": null,
   "metadata": {},
   "outputs": [],
   "source": []
  }
 ],
 "metadata": {
  "kernelspec": {
   "display_name": "ast",
   "language": "python",
   "name": "python3"
  },
  "language_info": {
   "codemirror_mode": {
    "name": "ipython",
    "version": 3
   },
   "file_extension": ".py",
   "mimetype": "text/x-python",
   "name": "python",
   "nbconvert_exporter": "python",
   "pygments_lexer": "ipython3",
   "version": "3.10.8"
  }
 },
 "nbformat": 4,
 "nbformat_minor": 2
}
