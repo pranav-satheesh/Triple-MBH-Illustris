{
 "cells": [
  {
   "cell_type": "code",
   "execution_count": 33,
   "metadata": {},
   "outputs": [],
   "source": [
    "import numpy as np\n",
    "import pandas as pd\n",
    "import matplotlib.pyplot as plt\n",
    "import scienceplots\n",
    "plt.style.use('science')\n",
    "import Merger_rate_plot as merg"
   ]
  },
  {
   "cell_type": "code",
   "execution_count": 13,
   "metadata": {},
   "outputs": [],
   "source": [
    "import astropy.units as u\n",
    "from astropy.cosmology import WMAP9 as cosmo\n",
    "from astropy.cosmology import z_at_value\n",
    "from astropy import constants as const"
   ]
  },
  {
   "cell_type": "code",
   "execution_count": 2,
   "metadata": {},
   "outputs": [
    {
     "data": {
      "text/html": [
       "<div>\n",
       "<style scoped>\n",
       "    .dataframe tbody tr th:only-of-type {\n",
       "        vertical-align: middle;\n",
       "    }\n",
       "\n",
       "    .dataframe tbody tr th {\n",
       "        vertical-align: top;\n",
       "    }\n",
       "\n",
       "    .dataframe thead th {\n",
       "        text-align: right;\n",
       "    }\n",
       "</style>\n",
       "<table border=\"1\" class=\"dataframe\">\n",
       "  <thead>\n",
       "    <tr style=\"text-align: right;\">\n",
       "      <th></th>\n",
       "      <th>M1</th>\n",
       "      <th>M2</th>\n",
       "      <th>t_merger</th>\n",
       "      <th>Merger</th>\n",
       "      <th>Type</th>\n",
       "    </tr>\n",
       "  </thead>\n",
       "  <tbody>\n",
       "    <tr>\n",
       "      <th>0</th>\n",
       "      <td>4.496151e+39</td>\n",
       "      <td>3.239131e+39</td>\n",
       "      <td>8.587741e+08</td>\n",
       "      <td>Yes</td>\n",
       "      <td>iso</td>\n",
       "    </tr>\n",
       "    <tr>\n",
       "      <th>1</th>\n",
       "      <td>3.210830e+39</td>\n",
       "      <td>2.142212e+39</td>\n",
       "      <td>8.934006e+08</td>\n",
       "      <td>Yes</td>\n",
       "      <td>iso</td>\n",
       "    </tr>\n",
       "    <tr>\n",
       "      <th>2</th>\n",
       "      <td>1.303374e+40</td>\n",
       "      <td>2.337819e+39</td>\n",
       "      <td>4.120229e+09</td>\n",
       "      <td>Yes</td>\n",
       "      <td>iso</td>\n",
       "    </tr>\n",
       "    <tr>\n",
       "      <th>3</th>\n",
       "      <td>1.399764e+40</td>\n",
       "      <td>1.245462e+40</td>\n",
       "      <td>8.933714e+10</td>\n",
       "      <td>No</td>\n",
       "      <td>iso</td>\n",
       "    </tr>\n",
       "    <tr>\n",
       "      <th>4</th>\n",
       "      <td>2.344612e+40</td>\n",
       "      <td>6.574773e+39</td>\n",
       "      <td>1.421714e+10</td>\n",
       "      <td>No</td>\n",
       "      <td>iso</td>\n",
       "    </tr>\n",
       "  </tbody>\n",
       "</table>\n",
       "</div>"
      ],
      "text/plain": [
       "             M1            M2      t_merger Merger Type\n",
       "0  4.496151e+39  3.239131e+39  8.587741e+08    Yes  iso\n",
       "1  3.210830e+39  2.142212e+39  8.934006e+08    Yes  iso\n",
       "2  1.303374e+40  2.337819e+39  4.120229e+09    Yes  iso\n",
       "3  1.399764e+40  1.245462e+40  8.933714e+10     No  iso\n",
       "4  2.344612e+40  6.574773e+39  1.421714e+10     No  iso"
      ]
     },
     "execution_count": 2,
     "metadata": {},
     "output_type": "execute_result"
    }
   ],
   "source": [
    "df_binary = pd.read_csv(\"Data/binary-merger-data.csv\",index_col= False)\n",
    "df_binary.head()"
   ]
  },
  {
   "cell_type": "code",
   "execution_count": 3,
   "metadata": {},
   "outputs": [
    {
     "data": {
      "text/html": [
       "<div>\n",
       "<style scoped>\n",
       "    .dataframe tbody tr th:only-of-type {\n",
       "        vertical-align: middle;\n",
       "    }\n",
       "\n",
       "    .dataframe tbody tr th {\n",
       "        vertical-align: top;\n",
       "    }\n",
       "\n",
       "    .dataframe thead th {\n",
       "        text-align: right;\n",
       "    }\n",
       "</style>\n",
       "<table border=\"1\" class=\"dataframe\">\n",
       "  <thead>\n",
       "    <tr style=\"text-align: right;\">\n",
       "      <th></th>\n",
       "      <th>Unnamed: 0</th>\n",
       "      <th>Mass 1</th>\n",
       "      <th>Mass 2</th>\n",
       "      <th>Mass 3</th>\n",
       "      <th>t_merger</th>\n",
       "      <th>Flag</th>\n",
       "    </tr>\n",
       "  </thead>\n",
       "  <tbody>\n",
       "    <tr>\n",
       "      <th>0</th>\n",
       "      <td>0</td>\n",
       "      <td>2.150737e+07</td>\n",
       "      <td>8.204738e+06</td>\n",
       "      <td>5.276829e+07</td>\n",
       "      <td>1.985633e+09</td>\n",
       "      <td>No</td>\n",
       "    </tr>\n",
       "    <tr>\n",
       "      <th>1</th>\n",
       "      <td>1</td>\n",
       "      <td>1.546540e+08</td>\n",
       "      <td>4.211761e+07</td>\n",
       "      <td>3.132749e+08</td>\n",
       "      <td>5.529691e+09</td>\n",
       "      <td>Tr</td>\n",
       "    </tr>\n",
       "    <tr>\n",
       "      <th>2</th>\n",
       "      <td>2</td>\n",
       "      <td>1.546540e+08</td>\n",
       "      <td>4.211761e+07</td>\n",
       "      <td>3.132749e+08</td>\n",
       "      <td>3.025313e+09</td>\n",
       "      <td>No</td>\n",
       "    </tr>\n",
       "    <tr>\n",
       "      <th>3</th>\n",
       "      <td>3</td>\n",
       "      <td>1.546540e+08</td>\n",
       "      <td>4.211761e+07</td>\n",
       "      <td>3.132749e+08</td>\n",
       "      <td>1.972738e+09</td>\n",
       "      <td>No</td>\n",
       "    </tr>\n",
       "    <tr>\n",
       "      <th>4</th>\n",
       "      <td>4</td>\n",
       "      <td>9.436961e+06</td>\n",
       "      <td>1.002870e+06</td>\n",
       "      <td>4.551391e+08</td>\n",
       "      <td>4.814316e+09</td>\n",
       "      <td>No</td>\n",
       "    </tr>\n",
       "  </tbody>\n",
       "</table>\n",
       "</div>"
      ],
      "text/plain": [
       "   Unnamed: 0        Mass 1        Mass 2        Mass 3      t_merger Flag\n",
       "0           0  2.150737e+07  8.204738e+06  5.276829e+07  1.985633e+09   No\n",
       "1           1  1.546540e+08  4.211761e+07  3.132749e+08  5.529691e+09   Tr\n",
       "2           2  1.546540e+08  4.211761e+07  3.132749e+08  3.025313e+09   No\n",
       "3           3  1.546540e+08  4.211761e+07  3.132749e+08  1.972738e+09   No\n",
       "4           4  9.436961e+06  1.002870e+06  4.551391e+08  4.814316e+09   No"
      ]
     },
     "execution_count": 3,
     "metadata": {},
     "output_type": "execute_result"
    }
   ],
   "source": [
    "df_trip = pd.read_csv(\"Data/triples-data-with-flags.csv\",index_col= False)\n",
    "df_trip.head()"
   ]
  },
  {
   "cell_type": "code",
   "execution_count": 6,
   "metadata": {},
   "outputs": [],
   "source": [
    "#  GW Recoil includes merger from binary + Tr + Tr-ej cases\n",
    "\n",
    "t_binary = df_binary[(df_binary[\"Type\"] == \"iso\") & (df_binary[\"Merger\"] == \"Yes\")][\"t_merger\"].to_numpy()\n",
    "t_triples = df_trip[(df_trip[\"Flag\"] == \"Tr-ej\") | (df_trip[\"Flag\"] == \"Tr\")][\"t_merger\"].to_numpy()"
   ]
  },
  {
   "cell_type": "code",
   "execution_count": 10,
   "metadata": {},
   "outputs": [
    {
     "data": {
      "text/plain": [
       "numpy.ndarray"
      ]
     },
     "execution_count": 10,
     "metadata": {},
     "output_type": "execute_result"
    }
   ],
   "source": [
    "type(t_triples)"
   ]
  },
  {
   "cell_type": "code",
   "execution_count": 12,
   "metadata": {},
   "outputs": [],
   "source": [
    "t_GW_kick = np.concatenate([t_binary,t_triples])"
   ]
  },
  {
   "cell_type": "code",
   "execution_count": 19,
   "metadata": {},
   "outputs": [],
   "source": [
    "t_slingshot = df_trip[(df_trip[\"Flag\"] == \"Tr-ej\")][\"t_merger\"].to_numpy()"
   ]
  },
  {
   "cell_type": "code",
   "execution_count": 21,
   "metadata": {},
   "outputs": [],
   "source": [
    "z_slingshot = z_at_value(cosmo.age, (t_slingshot/10**9)*u.Gyr,zmin=1e-9)\n",
    "z_slingshot = np.array(z_slingshot)"
   ]
  },
  {
   "cell_type": "code",
   "execution_count": 14,
   "metadata": {},
   "outputs": [],
   "source": [
    "z_bh_kick = z_at_value(cosmo.age, (t_GW_kick/10**9)*u.Gyr,zmin=1e-9)\n",
    "z_bh_kick = np.array(z_bh_kick)"
   ]
  },
  {
   "cell_type": "code",
   "execution_count": 15,
   "metadata": {},
   "outputs": [],
   "source": [
    "zmax = 7\n",
    "zbinsize = 0.2\n",
    "lgzbinsize=0.15\n",
    "lgzmin=-3.0\n",
    "lgzmax = 1.0"
   ]
  },
  {
   "cell_type": "code",
   "execution_count": 16,
   "metadata": {},
   "outputs": [
    {
     "name": "stdout",
     "output_type": "stream",
     "text": [
      "total merger rate (yr^-1):  0.20014750018244334\n"
     ]
    }
   ],
   "source": [
    "merger_rate,lgzbins_kick,dNdlogzdt_kick = merg.merger_rate_log_plot(z_bh_kick,zmax,zbinsize,lgzbinsize,lgzmin,lgzmax)"
   ]
  },
  {
   "cell_type": "code",
   "execution_count": 24,
   "metadata": {},
   "outputs": [
    {
     "name": "stdout",
     "output_type": "stream",
     "text": [
      "total merger rate (yr^-1):  0.0022787901357811946\n"
     ]
    }
   ],
   "source": [
    "merger_rate_slingshot,lgzbins_slingshot,dNdlogzdt_slingshot = merg.merger_rate_log_plot(z_slingshot,zmax,zbinsize,0.3,lgzmin,lgzmax)"
   ]
  },
  {
   "cell_type": "code",
   "execution_count": 25,
   "metadata": {},
   "outputs": [
    {
     "name": "stdout",
     "output_type": "stream",
     "text": [
      "total merger rate (yr^-1):  0.20014750018244334\n"
     ]
    }
   ],
   "source": [
    "merger_rate,lgzbins_kick,dNdlogzdt_kick = merg.merger_rate_log_plot(z_bh_kick,zmax,zbinsize,lgzbinsize,lgzmin,lgzmax)"
   ]
  },
  {
   "cell_type": "code",
   "execution_count": 37,
   "metadata": {},
   "outputs": [
    {
     "data": {
      "image/png": "[encoded data removed]",
      "text/plain": [
       "<Figure size 500x400 with 1 Axes>"
      ]
     },
     "metadata": {},
     "output_type": "display_data"
    }
   ],
   "source": [
    "plt.figure(figsize=[5,4])\n",
    "plt.plot(lgzbins_kick,dNdlogzdt_kick,label=\"kick\")\n",
    "plt.plot(lgzbins_slingshot,dNdlogzdt_slingshot,label=\"slingshot\")\n",
    "plt.yscale(\"log\")\n",
    "plt.legend()\n",
    "plt.xlabel(\"$\\log z$\")\n",
    "plt.ylabel(\"$\\log (d^2 N / d \\log z dt)$\")\n",
    "plt.title(\"GW Kick vs Slingshot recoil\")\n",
    "plt.savefig(\"Figures/GW_kick_vs_slingshot_rates.pdf\")"
   ]
  },
  {
   "cell_type": "code",
   "execution_count": null,
   "metadata": {},
   "outputs": [],
   "source": []
  }
 ],
 "metadata": {
  "kernelspec": {
   "display_name": "ast",
   "language": "python",
   "name": "python3"
  },
  "language_info": {
   "codemirror_mode": {
    "name": "ipython",
    "version": 3
   },
   "file_extension": ".py",
   "mimetype": "text/x-python",
   "name": "python",
   "nbconvert_exporter": "python",
   "pygments_lexer": "ipython3",
   "version": "3.10.8"
  },
  "orig_nbformat": 4
 },
 "nbformat": 4,
 "nbformat_minor": 2
}
