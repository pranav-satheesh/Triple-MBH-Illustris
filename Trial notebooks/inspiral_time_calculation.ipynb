{
 "cells": [
  {
   "cell_type": "code",
   "execution_count": 4,
   "metadata": {},
   "outputs": [],
   "source": [
    "# Add path to the triple_mbhs file \n",
    "import os\n",
    "import sys\n",
    "#triple_mbhb_find = '/Users/pranavsatheesh/Triples/Github/triple_mbhs'\n",
    "#sys.path.append(triple_mbhb_find)\n",
    "\n",
    "import find_triple_mbhs as ftm\n",
    "import read_mbhb\n",
    "import numpy as np\n",
    "import pandas as pd\n",
    "from tqdm import tqdm\n",
    "np.seterr(divide='ignore', invalid='ignore')\n",
    "import h5py\n",
    "from scipy.interpolate import interp1d\n",
    "import matplotlib.pyplot as plt"
   ]
  },
  {
   "cell_type": "code",
   "execution_count": 5,
   "metadata": {},
   "outputs": [
    {
     "name": "stdout",
     "output_type": "stream",
     "text": [
      "Datasets in the file:\n",
      " - M1\n",
      " - M2\n",
      " - M3\n",
      " - SubhaloMass\n",
      " - SubhaloMassInHalfRadType\n",
      " - SubhaloMassInHalfRadType_in\n",
      " - SubhaloMass_in\n",
      " - SubhaloSFR\n",
      " - SubhaloSFR_in\n",
      " - SubhaloVelDisp_in\n",
      " - Vescape\n",
      " - a_triple_form\n",
      " - bhid_inner\n",
      " - bhid_outer\n",
      " - bin_merge_flag\n",
      " - dadt\n",
      " - fgas\n",
      " - qin\n",
      " - qout\n",
      " - sep\n",
      " - subhalo_id\n",
      " - t_bin_merger\n",
      " - t_form1\n",
      " - t_form2\n",
      " - t_triple_form\n",
      " - times\n",
      " - z_bin_merger\n"
     ]
    }
   ],
   "source": [
    "save_path = '../Data/strong_triples_data_from_ill.h5'\n",
    "f1 = h5py.File(save_path,'r')\n",
    "with h5py.File(save_path, 'r') as hf:\n",
    "    # List all datasets in the file\n",
    "    print(\"Datasets in the file:\")\n",
    "    for key in hf.keys():\n",
    "        print(f\" - {key}\")"
   ]
  },
  {
   "cell_type": "code",
   "execution_count": 6,
   "metadata": {},
   "outputs": [
    {
     "name": "stdout",
     "output_type": "stream",
     "text": [
      "Formation time of the inner binary 1.021 Gyr\n",
      "Seperation of the inner binary at formation 478.219 pc\n",
      "Binary merger time of the inner binary 1.426 Gyr\n"
     ]
    }
   ],
   "source": [
    "triple_index = 0\n",
    "print(f\"Formation time of the inner binary {f1['t_form1'][:][0]/1e9:.3f} Gyr\")\n",
    "print(f\"Seperation of the inner binary at formation {f1['sep'][:][0][0]:.3f} pc\")\n",
    "print(f\"Binary merger time of the inner binary {f1['t_bin_merger'][:][0]/1e9:.3f} Gyr\")"
   ]
  },
  {
   "cell_type": "code",
   "execution_count": 7,
   "metadata": {},
   "outputs": [
    {
     "name": "stdout",
     "output_type": "stream",
     "text": [
      "Inner binary merger time 1.448 Gyr\n"
     ]
    }
   ],
   "source": [
    "a_fine = np.linspace(f1['sep'][:][0][0], 0, 10000)\n",
    "epsilon = 1e-10\n",
    "func = 1/f1['dadt'][:][0]\n",
    "func[func==np.inf]=epsilon\n",
    "t_inner_binary_merger = (np.cumsum(np.trapz(func,f1['sep'][:][0]))+f1['t_form1'][:][0]/1e9)[0]\n",
    "print(f\"Inner binary merger time {(f1['t_form1'][:][0]+t_inner_binary_merger)/1e9:.3f} Gyr\")"
   ]
  },
  {
   "cell_type": "code",
   "execution_count": 10,
   "metadata": {},
   "outputs": [
    {
     "data": {
      "text/plain": [
       "0.4269194557328284"
      ]
     },
     "execution_count": 10,
     "metadata": {},
     "output_type": "execute_result"
    }
   ],
   "source": [
    "t_inner_binary_merger/1e9"
   ]
  },
  {
   "cell_type": "code",
   "execution_count": 39,
   "metadata": {},
   "outputs": [
    {
     "data": {
      "text/plain": [
       "1.4256070717232192"
      ]
     },
     "execution_count": 39,
     "metadata": {},
     "output_type": "execute_result"
    }
   ],
   "source": [
    "print(\"f1[\"times\"][:][0][min(np.argwhere(f1[\"sep\"][:][0]==0))[0]]/1e9"
   ]
  },
  {
   "cell_type": "code",
   "execution_count": 11,
   "metadata": {},
   "outputs": [
    {
     "data": {
      "text/plain": [
       "9.15399984101572"
      ]
     },
     "execution_count": 11,
     "metadata": {},
     "output_type": "execute_result"
    }
   ],
   "source": [
    "np.log10(f1['t_bin_merger'][:][0])"
   ]
  },
  {
   "cell_type": "code",
   "execution_count": 22,
   "metadata": {},
   "outputs": [],
   "source": [
    "a_t = f1['a_triple_form'][:][0]"
   ]
  },
  {
   "cell_type": "code",
   "execution_count": 16,
   "metadata": {},
   "outputs": [],
   "source": [
    "from scipy.interpolate import interp1d"
   ]
  },
  {
   "cell_type": "code",
   "execution_count": 19,
   "metadata": {},
   "outputs": [],
   "source": [
    "da_dt = f1['dadt'][:][0]\n",
    "a = f1['sep'][:][0]\n",
    "epsilon = 1e-10\n",
    "func = 1/da_dt\n",
    "func[func==np.inf]=epsilon"
   ]
  },
  {
   "cell_type": "code",
   "execution_count": 21,
   "metadata": {},
   "outputs": [],
   "source": [
    "interp_func = interp1d(a, func, bounds_error=False, fill_value=0) "
   ]
  },
  {
   "cell_type": "code",
   "execution_count": 36,
   "metadata": {},
   "outputs": [
    {
     "data": {
      "text/plain": [
       "1021141696.8030634"
      ]
     },
     "execution_count": 36,
     "metadata": {},
     "output_type": "execute_result"
    }
   ],
   "source": [
    "f1['times'][:][0][0]"
   ]
  },
  {
   "cell_type": "code",
   "execution_count": 53,
   "metadata": {},
   "outputs": [],
   "source": [
    "import scipy.integrate as integrate"
   ]
  },
  {
   "cell_type": "code",
   "execution_count": 65,
   "metadata": {},
   "outputs": [
    {
     "data": {
      "text/plain": [
       "array([-4.72699977e+10, -4.72726020e+10, -4.72752062e+10, ...,\n",
       "       -3.80865182e+01, -1.90432591e+01,  1.00000000e-10])"
      ]
     },
     "execution_count": 65,
     "metadata": {},
     "output_type": "execute_result"
    }
   ],
   "source": [
    "interp_func(a_fine)"
   ]
  },
  {
   "cell_type": "code",
   "execution_count": 63,
   "metadata": {},
   "outputs": [
    {
     "data": {
      "text/plain": [
       "7.501977685824803"
      ]
     },
     "execution_count": 63,
     "metadata": {},
     "output_type": "execute_result"
    }
   ],
   "source": [
    "a_fine = np.linspace(a_t, 0, 10000)\n",
    "np.log10(np.trapz(interp_func(a_fine),a_fine))"
   ]
  },
  {
   "cell_type": "code",
   "execution_count": 57,
   "metadata": {},
   "outputs": [
    {
     "name": "stderr",
     "output_type": "stream",
     "text": [
      "/var/folders/nd/cy3yj2tx2vlct0d__5r7wcn00000gn/T/ipykernel_86292/2646952987.py:1: IntegrationWarning: The maximum number of subdivisions (50) has been achieved.\n",
      "  If increasing the limit yields no improvement it is advised to analyze \n",
      "  the integrand in order to determine the difficulties.  If the position of a \n",
      "  local difficulty can be determined (singularity, discontinuity) one will \n",
      "  probably gain from splitting up the interval and calling the integrator \n",
      "  on the subranges.  Perhaps a special-purpose integrator should be used.\n",
      "  np.log10(integrate.quad(interp_func,a_t,0)[0])\n"
     ]
    },
    {
     "data": {
      "text/plain": [
       "7.501978211878924"
      ]
     },
     "execution_count": 57,
     "metadata": {},
     "output_type": "execute_result"
    }
   ],
   "source": [
    "np.log10(integrate.quad(interp_func,a_t,0)[0])"
   ]
  },
  {
   "cell_type": "code",
   "execution_count": null,
   "metadata": {},
   "outputs": [],
   "source": []
  }
 ],
 "metadata": {
  "kernelspec": {
   "display_name": "ast",
   "language": "python",
   "name": "python3"
  },
  "language_info": {
   "codemirror_mode": {
    "name": "ipython",
    "version": 3
   },
   "file_extension": ".py",
   "mimetype": "text/x-python",
   "name": "python",
   "nbconvert_exporter": "python",
   "pygments_lexer": "ipython3",
   "version": "3.10.8"
  }
 },
 "nbformat": 4,
 "nbformat_minor": 2
}
