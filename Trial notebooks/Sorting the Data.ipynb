{
 "cells": [
  {
   "cell_type": "code",
   "execution_count": 1,
   "id": "5444fdb0",
   "metadata": {},
   "outputs": [],
   "source": [
    "import pandas as pd"
   ]
  },
  {
   "cell_type": "code",
   "execution_count": 3,
   "id": "6f99b6ac",
   "metadata": {},
   "outputs": [],
   "source": [
    "import numpy as np"
   ]
  },
  {
   "cell_type": "code",
   "execution_count": 6,
   "id": "79e435ef",
   "metadata": {},
   "outputs": [],
   "source": [
    "fname = 'Paper2_tables.csv'"
   ]
  },
  {
   "cell_type": "code",
   "execution_count": 41,
   "id": "bce95ec0",
   "metadata": {},
   "outputs": [],
   "source": [
    "c1,c2,c3,c4,c5 = np.loadtxt('Paper2_tables.csv',delimiter=\",\", dtype=str,unpack=True)"
   ]
  },
  {
   "cell_type": "code",
   "execution_count": 108,
   "id": "53667156",
   "metadata": {},
   "outputs": [],
   "source": [
    "data_range = []\n",
    "q_start = []\n",
    "q_stop = []"
   ]
  },
  {
   "cell_type": "code",
   "execution_count": 109,
   "id": "c9401912",
   "metadata": {},
   "outputs": [],
   "source": [
    "for i in range(len(c1)):\n",
    "    if (c1[i]==''):\n",
    "        data_range.append(i)\n",
    "    if (c1[i]=='q in / q out'):\n",
    "        q_start.append(i+1)\n",
    "    if (c1[i]=='e in / e out'):\n",
    "        q_stop.append(i-1)"
   ]
  },
  {
   "cell_type": "code",
   "execution_count": 110,
   "id": "b721f15c",
   "metadata": {},
   "outputs": [
    {
     "data": {
      "text/plain": [
       "[2, 51, 100, 149, 198, 247]"
      ]
     },
     "execution_count": 110,
     "metadata": {},
     "output_type": "execute_result"
    }
   ],
   "source": [
    "q_start"
   ]
  },
  {
   "cell_type": "code",
   "execution_count": 111,
   "id": "07a58f97",
   "metadata": {},
   "outputs": [
    {
     "data": {
      "text/plain": [
       "[18, 67, 116, 165, 214, 263]"
      ]
     },
     "execution_count": 111,
     "metadata": {},
     "output_type": "execute_result"
    }
   ],
   "source": [
    "q_stop"
   ]
  },
  {
   "cell_type": "code",
   "execution_count": 201,
   "id": "4f36eced",
   "metadata": {},
   "outputs": [],
   "source": [
    "M1=[]\n",
    "qin = []\n",
    "qout = []\n",
    "a = []\n",
    "b = []\n",
    "c = []\n",
    "d = []"
   ]
  },
  {
   "cell_type": "code",
   "execution_count": 202,
   "id": "cecd7620",
   "metadata": {},
   "outputs": [],
   "source": [
    "for j in range(6):\n",
    "    M1_string = \"10e\" + str(10-j)\n",
    "    \n",
    "    for i in range(q_start[j],q_stop[j]):\n",
    "        \n",
    "        M1.append(float(M1_string))\n",
    "        \n",
    "        qs = c1[i].split(\"/\")\n",
    "        qin.append(float(qs[0]))\n",
    "        qout.append(float(qs[1]))\n",
    "        \n",
    "        a.append(float(c2[i]))\n",
    "        b.append(float(c3[i]))\n",
    "        c.append(float(c4[i]))\n",
    "    \n",
    "        ds = c5[i].split(\"(\")\n",
    "        ds1 = ds[1].split(\")\")\n",
    "        d.append(float(ds1[0]))"
   ]
  },
  {
   "cell_type": "code",
   "execution_count": 204,
   "id": "4cc87f29",
   "metadata": {},
   "outputs": [],
   "source": [
    "np.savetxt('paper2_sorted_data.txt', np.column_stack([M1,qin,qout,a]))"
   ]
  },
  {
   "cell_type": "code",
   "execution_count": null,
   "id": "32bef51b",
   "metadata": {},
   "outputs": [],
   "source": []
  }
 ],
 "metadata": {
  "kernelspec": {
   "display_name": "ast",
   "language": "python",
   "name": "ast"
  },
  "language_info": {
   "codemirror_mode": {
    "name": "ipython",
    "version": 3
   },
   "file_extension": ".py",
   "mimetype": "text/x-python",
   "name": "python",
   "nbconvert_exporter": "python",
   "pygments_lexer": "ipython3",
   "version": "3.10.8"
  }
 },
 "nbformat": 4,
 "nbformat_minor": 5
}
