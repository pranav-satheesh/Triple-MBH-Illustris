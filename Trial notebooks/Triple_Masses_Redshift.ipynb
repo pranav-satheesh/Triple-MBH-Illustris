{
 "cells": [
  {
   "cell_type": "code",
   "execution_count": 1,
   "id": "3883e870",
   "metadata": {},
   "outputs": [],
   "source": [
    "import numpy as np\n",
    "import matplotlib.pyplot as plt\n",
    "import astropy.units as u\n",
    "from astropy.cosmology import WMAP9 as cosmo\n",
    "from astropy.cosmology import z_at_value\n",
    "import pandas as pd"
   ]
  },
  {
   "cell_type": "code",
   "execution_count": 2,
   "id": "f27ae32e",
   "metadata": {},
   "outputs": [
    {
     "data": {
      "text/html": [
       "<div>\n",
       "<style scoped>\n",
       "    .dataframe tbody tr th:only-of-type {\n",
       "        vertical-align: middle;\n",
       "    }\n",
       "\n",
       "    .dataframe tbody tr th {\n",
       "        vertical-align: top;\n",
       "    }\n",
       "\n",
       "    .dataframe thead th {\n",
       "        text-align: right;\n",
       "    }\n",
       "</style>\n",
       "<table border=\"1\" class=\"dataframe\">\n",
       "  <thead>\n",
       "    <tr style=\"text-align: right;\">\n",
       "      <th></th>\n",
       "      <th>BH1_ID1</th>\n",
       "      <th>BH1_ID2</th>\n",
       "      <th>BH2_ID1</th>\n",
       "      <th>BH2_ID2</th>\n",
       "      <th>M1_bin_1</th>\n",
       "      <th>M2_bin_1</th>\n",
       "      <th>M1_bin_2</th>\n",
       "      <th>M2_bin_2</th>\n",
       "      <th>t1</th>\n",
       "      <th>t2</th>\n",
       "      <th>tmerger</th>\n",
       "    </tr>\n",
       "  </thead>\n",
       "  <tbody>\n",
       "    <tr>\n",
       "      <th>0</th>\n",
       "      <td>9.223372e+18</td>\n",
       "      <td>9.223372e+18</td>\n",
       "      <td>9.223372036720252e+18</td>\n",
       "      <td>9.223372e+18</td>\n",
       "      <td>3.286581e+07</td>\n",
       "      <td>1.253781e+07</td>\n",
       "      <td>5.276829e+07</td>\n",
       "      <td>8.204738e+06</td>\n",
       "      <td>2.055999e+09</td>\n",
       "      <td>1.988185e+09</td>\n",
       "      <td>1.985633e+09</td>\n",
       "    </tr>\n",
       "    <tr>\n",
       "      <th>1</th>\n",
       "      <td>9.223372e+18</td>\n",
       "      <td>9.223372e+18</td>\n",
       "      <td>3.4025088817218365e+18</td>\n",
       "      <td>9.223372e+18</td>\n",
       "      <td>1.059404e+07</td>\n",
       "      <td>2.885124e+06</td>\n",
       "      <td>3.132749e+08</td>\n",
       "      <td>4.211761e+07</td>\n",
       "      <td>3.255727e+11</td>\n",
       "      <td>7.265512e+09</td>\n",
       "      <td>5.529691e+09</td>\n",
       "    </tr>\n",
       "    <tr>\n",
       "      <th>2</th>\n",
       "      <td>9.223372e+18</td>\n",
       "      <td>9.223372e+18</td>\n",
       "      <td>9.223372036820334e+18</td>\n",
       "      <td>9.223372e+18</td>\n",
       "      <td>1.655162e+07</td>\n",
       "      <td>6.537747e+06</td>\n",
       "      <td>7.257406e+07</td>\n",
       "      <td>4.653945e+07</td>\n",
       "      <td>5.274952e+10</td>\n",
       "      <td>1.032617e+10</td>\n",
       "      <td>3.025313e+09</td>\n",
       "    </tr>\n",
       "    <tr>\n",
       "      <th>3</th>\n",
       "      <td>9.223372e+18</td>\n",
       "      <td>9.223372e+18</td>\n",
       "      <td>9.223372037107667e+18</td>\n",
       "      <td>9.223372e+18</td>\n",
       "      <td>1.259004e+07</td>\n",
       "      <td>3.439988e+06</td>\n",
       "      <td>2.386990e+07</td>\n",
       "      <td>2.216544e+06</td>\n",
       "      <td>5.883422e+09</td>\n",
       "      <td>1.284130e+12</td>\n",
       "      <td>1.972738e+09</td>\n",
       "    </tr>\n",
       "    <tr>\n",
       "      <th>4</th>\n",
       "      <td>9.223372e+18</td>\n",
       "      <td>9.223372e+18</td>\n",
       "      <td>9.223372037499791e+18</td>\n",
       "      <td>9.223372e+18</td>\n",
       "      <td>1.325181e+08</td>\n",
       "      <td>1.408275e+07</td>\n",
       "      <td>4.551391e+08</td>\n",
       "      <td>1.002870e+06</td>\n",
       "      <td>1.206497e+10</td>\n",
       "      <td>7.389760e+09</td>\n",
       "      <td>4.814316e+09</td>\n",
       "    </tr>\n",
       "  </tbody>\n",
       "</table>\n",
       "</div>"
      ],
      "text/plain": [
       "        BH1_ID1       BH1_ID2                 BH2_ID1       BH2_ID2  \\\n",
       "0  9.223372e+18  9.223372e+18   9.223372036720252e+18  9.223372e+18   \n",
       "1  9.223372e+18  9.223372e+18  3.4025088817218365e+18  9.223372e+18   \n",
       "2  9.223372e+18  9.223372e+18   9.223372036820334e+18  9.223372e+18   \n",
       "3  9.223372e+18  9.223372e+18   9.223372037107667e+18  9.223372e+18   \n",
       "4  9.223372e+18  9.223372e+18   9.223372037499791e+18  9.223372e+18   \n",
       "\n",
       "       M1_bin_1      M2_bin_1      M1_bin_2      M2_bin_2            t1  \\\n",
       "0  3.286581e+07  1.253781e+07  5.276829e+07  8.204738e+06  2.055999e+09   \n",
       "1  1.059404e+07  2.885124e+06  3.132749e+08  4.211761e+07  3.255727e+11   \n",
       "2  1.655162e+07  6.537747e+06  7.257406e+07  4.653945e+07  5.274952e+10   \n",
       "3  1.259004e+07  3.439988e+06  2.386990e+07  2.216544e+06  5.883422e+09   \n",
       "4  1.325181e+08  1.408275e+07  4.551391e+08  1.002870e+06  1.206497e+10   \n",
       "\n",
       "             t2       tmerger  \n",
       "0  1.988185e+09  1.985633e+09  \n",
       "1  7.265512e+09  5.529691e+09  \n",
       "2  1.032617e+10  3.025313e+09  \n",
       "3  1.284130e+12  1.972738e+09  \n",
       "4  7.389760e+09  4.814316e+09  "
      ]
     },
     "execution_count": 2,
     "metadata": {},
     "output_type": "execute_result"
    }
   ],
   "source": [
    "df = pd.read_csv(\"Data/triple_data_ill.csv\")\n",
    "df.head()"
   ]
  },
  {
   "attachments": {},
   "cell_type": "markdown",
   "id": "f73d4172",
   "metadata": {},
   "source": [
    "Seperating the BH IDs and Masses of each BH in the triple from the .csv file."
   ]
  },
  {
   "cell_type": "code",
   "execution_count": 195,
   "id": "bc52f42b",
   "metadata": {},
   "outputs": [],
   "source": [
    "mID11 = df[\"BH1_ID1\"].to_numpy() #ID of 1st BH in the first binary\n",
    "mID12 = df[\"BH1_ID2\"].to_numpy() #ID of 2nd BH in the first binary\n",
    "mID21 = df[\"BH2_ID1\"].to_numpy()\n",
    "mID22 = df[\"BH2_ID2\"].to_numpy()"
   ]
  },
  {
   "cell_type": "code",
   "execution_count": 196,
   "id": "99716a14",
   "metadata": {},
   "outputs": [],
   "source": [
    "b1_m1 = df[\"M1_bin_1\"].to_numpy() #mass of 1st BH in the first binary\n",
    "b1_m2 = df[\"M2_bin_1\"].to_numpy() #mass of 2nd BH in the first binary\n",
    "b2_m1 = df[\"M1_bin_2\"].to_numpy()\n",
    "b2_m2 = df[\"M2_bin_2\"].to_numpy()"
   ]
  },
  {
   "cell_type": "code",
   "execution_count": 197,
   "id": "fa543047",
   "metadata": {},
   "outputs": [
    {
     "name": "stdout",
     "output_type": "stream",
     "text": [
      "531\n"
     ]
    }
   ],
   "source": [
    "Ntriple = np.size(mID11)\n",
    "print(Ntriple)"
   ]
  },
  {
   "cell_type": "code",
   "execution_count": 198,
   "id": "18ffef13",
   "metadata": {},
   "outputs": [],
   "source": [
    "m1_list = []\n",
    "m2_list = []\n",
    "m3_list = []"
   ]
  },
  {
   "cell_type": "code",
   "execution_count": 199,
   "id": "80fe340d",
   "metadata": {},
   "outputs": [],
   "source": [
    "for i in range(Ntriple):\n",
    "\n",
    "    \n",
    "    if(mID11[i]==mID21[i]):\n",
    "        \n",
    "        m2 = b2_m1[i]\n",
    "        m2_old = b1_m1[i]\n",
    "        qin_old = b1_m2[i]/m2_old\n",
    "        m1 = qin_old * m2\n",
    "        m3 = b2_m2[i]\n",
    "        \n",
    "    \n",
    "    elif(mID12[i]==mID21[i]):\n",
    "                                                     \n",
    "        m2 = b2_m1[i]\n",
    "        m2_old = b1_m2[i]\n",
    "        qin_old = b1_m2[i]/m2_old\n",
    "        m1 = qin_old * m2\n",
    "        m3 = b2_m2[i]        \n",
    "    \n",
    "    elif(mID11[i]==mID22[i]):\n",
    "\n",
    "        m2 = b2_m2[i]\n",
    "        m2_old = b1_m1[i]\n",
    "        qin_old = b1_m2[i]/m2_old\n",
    "        m1 = qin_old * m2\n",
    "        m3 = b2_m1[i]\n",
    "    \n",
    "    elif(mID12[i]==mID22[i]):\n",
    "        m2 = b2_m2[i]\n",
    "        m2_old = b1_m2[i]\n",
    "        qin_old = b1_m1[i]/m2_old\n",
    "        m1 = qin_old * m2\n",
    "        m3 = b2_m1[i]   \n",
    "        \n",
    "    m1_list.append(m1)\n",
    "    m2_list.append(m2)\n",
    "    m3_list.append(m3)"
   ]
  },
  {
   "cell_type": "code",
   "execution_count": 200,
   "id": "cc4db58d",
   "metadata": {},
   "outputs": [],
   "source": [
    "m1_list = np.array(m1_list)\n",
    "m2_list = np.array(m2_list)\n",
    "m3_list = np.array(m3_list)"
   ]
  },
  {
   "cell_type": "code",
   "execution_count": 201,
   "id": "aef3e941",
   "metadata": {},
   "outputs": [],
   "source": [
    "M1 = m1_list\n",
    "qin = m2_list/m1_list\n",
    "qout = m3_list/(m1_list + m2_list)"
   ]
  },
  {
   "cell_type": "code",
   "execution_count": 202,
   "id": "a04baafa",
   "metadata": {},
   "outputs": [
    {
     "data": {
      "image/png": "[encoded data removed]",
      "text/plain": [
       "<Figure size 640x480 with 3 Axes>"
      ]
     },
     "metadata": {},
     "output_type": "display_data"
    }
   ],
   "source": [
    "fig,ax=plt.subplots(3,1)\n",
    "ax[0].hist(np.log10(M1))\n",
    "ax[1].hist(np.log10(qin))\n",
    "ax[2].hist(np.log10(qout))\n",
    "plt.show()"
   ]
  },
  {
   "attachments": {},
   "cell_type": "markdown",
   "id": "fa5d458a",
   "metadata": {},
   "source": [
    "## Merger time and redshift\n",
    "\n",
    "\n",
    "The merger time is approximated as the time of triple formation here. This is because the time taken for triple to form >> when they merge.\n",
    "\n",
    "Can we prove this by calculations ?"
   ]
  },
  {
   "cell_type": "code",
   "execution_count": 211,
   "id": "3236126a",
   "metadata": {},
   "outputs": [],
   "source": [
    "#t_bh = np.loadtxt(\"Data/t_merger2.txt\")"
   ]
  },
  {
   "cell_type": "code",
   "execution_count": 212,
   "id": "6bb27c33",
   "metadata": {},
   "outputs": [],
   "source": [
    "t_triple = df[\"tmerger\"].to_numpy()"
   ]
  },
  {
   "cell_type": "code",
   "execution_count": 85,
   "id": "bfaffc04",
   "metadata": {},
   "outputs": [],
   "source": [
    "# importing the time of triple formation/mergers\n",
    "#t_bh = np.loadtxt(\"Data/triple_times.txt\")"
   ]
  },
  {
   "cell_type": "code",
   "execution_count": 213,
   "id": "cf74f451",
   "metadata": {},
   "outputs": [],
   "source": [
    "column_name = ['M1','qin','qout','t_triple']\n",
    "df = pd.DataFrame({'M1': M1,'qin': qin, 'qout': qout, 't_triple' : t_triple},columns=column_name)\n",
    "df.to_csv('Data/Triple-mass-merger_time.csv')"
   ]
  },
  {
   "cell_type": "code",
   "execution_count": null,
   "id": "943a198e",
   "metadata": {},
   "outputs": [],
   "source": []
  },
  {
   "cell_type": "code",
   "execution_count": 214,
   "id": "44254545",
   "metadata": {},
   "outputs": [],
   "source": [
    "t_hubble = 13.7688 * 10**9"
   ]
  },
  {
   "cell_type": "code",
   "execution_count": 216,
   "id": "f4c23a3d",
   "metadata": {},
   "outputs": [
    {
     "data": {
      "text/plain": [
       "0"
      ]
     },
     "execution_count": 216,
     "metadata": {},
     "output_type": "execute_result"
    }
   ],
   "source": [
    "np.size(np.argwhere(t_triple>t_hubble))"
   ]
  },
  {
   "cell_type": "code",
   "execution_count": 51,
   "id": "13eaa4fb",
   "metadata": {},
   "outputs": [],
   "source": [
    "z_bh = np.array(z_bh)"
   ]
  },
  {
   "cell_type": "code",
   "execution_count": 20,
   "id": "39b8c610",
   "metadata": {},
   "outputs": [
    {
     "data": {
      "text/plain": [
       "3.2761646414750767"
      ]
     },
     "execution_count": 20,
     "metadata": {},
     "output_type": "execute_result"
    }
   ],
   "source": [
    "np.max(z_bh)"
   ]
  },
  {
   "cell_type": "code",
   "execution_count": 23,
   "id": "6d7c2079",
   "metadata": {},
   "outputs": [
    {
     "data": {
      "text/plain": [
       "531"
      ]
     },
     "execution_count": 23,
     "metadata": {},
     "output_type": "execute_result"
    }
   ],
   "source": [
    "np.size(z_bh)"
   ]
  },
  {
   "cell_type": "code",
   "execution_count": 24,
   "id": "78ae584c",
   "metadata": {},
   "outputs": [],
   "source": [
    "import pandas as pd"
   ]
  },
  {
   "cell_type": "code",
   "execution_count": 27,
   "id": "e0454fea",
   "metadata": {},
   "outputs": [],
   "source": [
    "column_name = ['M1','qin','qout','t_triple','z_triple']"
   ]
  },
  {
   "cell_type": "code",
   "execution_count": 33,
   "id": "fbceea64",
   "metadata": {},
   "outputs": [],
   "source": [
    "df = pd.DataFrame({'M1': M1,'qin': qin, 'qout': qout, 't_triple' : t_bh, 'z_triple' : z_bh},columns=column_name)"
   ]
  },
  {
   "cell_type": "code",
   "execution_count": 35,
   "id": "0876098f",
   "metadata": {},
   "outputs": [],
   "source": [
    "df.to_csv('Data/Triple-mass-redshift.csv')"
   ]
  }
 ],
 "metadata": {
  "kernelspec": {
   "display_name": "ast",
   "language": "python",
   "name": "python3"
  },
  "language_info": {
   "codemirror_mode": {
    "name": "ipython",
    "version": 3
   },
   "file_extension": ".py",
   "mimetype": "text/x-python",
   "name": "python",
   "nbconvert_exporter": "python",
   "pygments_lexer": "ipython3",
   "version": "3.10.8"
  }
 },
 "nbformat": 4,
 "nbformat_minor": 5
}
