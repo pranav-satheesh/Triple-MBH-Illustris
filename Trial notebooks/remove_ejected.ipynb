{
 "cells": [
  {
   "cell_type": "code",
   "execution_count": 1,
   "metadata": {},
   "outputs": [],
   "source": [
    "import numpy as np\n",
    "import random\n",
    "import pandas as pd\n",
    "import matplotlib.pyplot as plt\n",
    "import scienceplots\n",
    "plt.style.use(['science']) \n",
    "import os\n",
    "os.environ[\"PATH\"] += os.pathsep + '/Library/TeX/texbin'\n",
    "from tqdm import tqdm"
   ]
  },
  {
   "cell_type": "code",
   "execution_count": 1061,
   "metadata": {},
   "outputs": [
    {
     "data": {
      "text/html": [
       "<div>\n",
       "<style scoped>\n",
       "    .dataframe tbody tr th:only-of-type {\n",
       "        vertical-align: middle;\n",
       "    }\n",
       "\n",
       "    .dataframe tbody tr th {\n",
       "        vertical-align: top;\n",
       "    }\n",
       "\n",
       "    .dataframe thead th {\n",
       "        text-align: right;\n",
       "    }\n",
       "</style>\n",
       "<table border=\"1\" class=\"dataframe\">\n",
       "  <thead>\n",
       "    <tr style=\"text-align: right;\">\n",
       "      <th></th>\n",
       "      <th>M1</th>\n",
       "      <th>M2</th>\n",
       "      <th>qin</th>\n",
       "      <th>t_merger</th>\n",
       "      <th>z_merger</th>\n",
       "      <th>gw_kick_random</th>\n",
       "      <th>gw_kick_5deg</th>\n",
       "      <th>gw_kick_hybrid</th>\n",
       "      <th>merger_flag</th>\n",
       "      <th>bhid1</th>\n",
       "      <th>bhid2</th>\n",
       "      <th>f-gas</th>\n",
       "      <th>Vescape</th>\n",
       "    </tr>\n",
       "  </thead>\n",
       "  <tbody>\n",
       "    <tr>\n",
       "      <th>0</th>\n",
       "      <td>2.260508e+06</td>\n",
       "      <td>1.628522e+06</td>\n",
       "      <td>0.720423</td>\n",
       "      <td>8.585867e+08</td>\n",
       "      <td>6.460270</td>\n",
       "      <td>1642.197401</td>\n",
       "      <td>121.342563</td>\n",
       "      <td>475.666929</td>\n",
       "      <td>Yes</td>\n",
       "      <td>9223372036326575607</td>\n",
       "      <td>9223372036365264250</td>\n",
       "      <td>0.736201</td>\n",
       "      <td>1066.081124</td>\n",
       "    </tr>\n",
       "    <tr>\n",
       "      <th>1</th>\n",
       "      <td>1.614294e+06</td>\n",
       "      <td>1.077030e+06</td>\n",
       "      <td>0.667183</td>\n",
       "      <td>8.924214e+08</td>\n",
       "      <td>6.270490</td>\n",
       "      <td>514.319208</td>\n",
       "      <td>207.823426</td>\n",
       "      <td>1279.928514</td>\n",
       "      <td>Yes</td>\n",
       "      <td>9223372036330308081</td>\n",
       "      <td>9223372036383756962</td>\n",
       "      <td>0.851595</td>\n",
       "      <td>1124.251110</td>\n",
       "    </tr>\n",
       "    <tr>\n",
       "      <th>2</th>\n",
       "      <td>6.552913e+06</td>\n",
       "      <td>1.175374e+06</td>\n",
       "      <td>0.179367</td>\n",
       "      <td>3.833599e+09</td>\n",
       "      <td>1.720798</td>\n",
       "      <td>468.004339</td>\n",
       "      <td>186.556456</td>\n",
       "      <td>386.483624</td>\n",
       "      <td>Yes</td>\n",
       "      <td>9223372036306477048</td>\n",
       "      <td>9223372036351439102</td>\n",
       "      <td>0.192233</td>\n",
       "      <td>3225.589960</td>\n",
       "    </tr>\n",
       "    <tr>\n",
       "      <th>3</th>\n",
       "      <td>2.594471e+06</td>\n",
       "      <td>1.828861e+06</td>\n",
       "      <td>0.704907</td>\n",
       "      <td>1.008202e+09</td>\n",
       "      <td>5.702360</td>\n",
       "      <td>1108.016303</td>\n",
       "      <td>98.974368</td>\n",
       "      <td>456.108562</td>\n",
       "      <td>Yes</td>\n",
       "      <td>9223372036405417417</td>\n",
       "      <td>9223372036501930090</td>\n",
       "      <td>0.155198</td>\n",
       "      <td>411.624105</td>\n",
       "    </tr>\n",
       "    <tr>\n",
       "      <th>4</th>\n",
       "      <td>6.833995e+06</td>\n",
       "      <td>1.227516e+06</td>\n",
       "      <td>0.179619</td>\n",
       "      <td>3.200552e+09</td>\n",
       "      <td>2.080566</td>\n",
       "      <td>441.869692</td>\n",
       "      <td>171.821326</td>\n",
       "      <td>180.177179</td>\n",
       "      <td>Yes</td>\n",
       "      <td>9223372036315813145</td>\n",
       "      <td>9223372036570133338</td>\n",
       "      <td>0.653175</td>\n",
       "      <td>1214.901739</td>\n",
       "    </tr>\n",
       "  </tbody>\n",
       "</table>\n",
       "</div>"
      ],
      "text/plain": [
       "             M1            M2       qin      t_merger  z_merger  \\\n",
       "0  2.260508e+06  1.628522e+06  0.720423  8.585867e+08  6.460270   \n",
       "1  1.614294e+06  1.077030e+06  0.667183  8.924214e+08  6.270490   \n",
       "2  6.552913e+06  1.175374e+06  0.179367  3.833599e+09  1.720798   \n",
       "3  2.594471e+06  1.828861e+06  0.704907  1.008202e+09  5.702360   \n",
       "4  6.833995e+06  1.227516e+06  0.179619  3.200552e+09  2.080566   \n",
       "\n",
       "   gw_kick_random  gw_kick_5deg  gw_kick_hybrid merger_flag  \\\n",
       "0     1642.197401    121.342563      475.666929         Yes   \n",
       "1      514.319208    207.823426     1279.928514         Yes   \n",
       "2      468.004339    186.556456      386.483624         Yes   \n",
       "3     1108.016303     98.974368      456.108562         Yes   \n",
       "4      441.869692    171.821326      180.177179         Yes   \n",
       "\n",
       "                 bhid1                bhid2     f-gas      Vescape  \n",
       "0  9223372036326575607  9223372036365264250  0.736201  1066.081124  \n",
       "1  9223372036330308081  9223372036383756962  0.851595  1124.251110  \n",
       "2  9223372036306477048  9223372036351439102  0.192233  3225.589960  \n",
       "3  9223372036405417417  9223372036501930090  0.155198   411.624105  \n",
       "4  9223372036315813145  9223372036570133338  0.653175  1214.901739  "
      ]
     },
     "execution_count": 1061,
     "metadata": {},
     "output_type": "execute_result"
    }
   ],
   "source": [
    "triple_filename = \"/Users/pranavsatheesh/Triples/Github/Triple-Outcomes/Data/Triple_outcomes_N_100.csv\"\n",
    "iso_binaries = \"/Users/pranavsatheesh/Triples/Github/Triple-Outcomes/Data/iso_binaries_w_kick.csv\"\n",
    "weak_triples = \"/Users/pranavsatheesh/Triples/Github/Triple-Outcomes/Data/weak_triples_w_kick.csv\"\n",
    "\n",
    "df_trips = pd.read_csv(triple_filename) \n",
    "df_trips[:520].head()\n",
    "df_weak_triples = pd.read_csv(weak_triples)\n",
    "df_iso = pd.read_csv(iso_binaries) \n",
    "df_iso.head()"
   ]
  },
  {
   "cell_type": "code",
   "execution_count": 1062,
   "metadata": {},
   "outputs": [],
   "source": [
    "bhid_cols_in_iso_bins = {\"bhid1\",\"bhid2\"}\n",
    "bhid_cols_in_trips = {\"bhid1\",\"bhid2\",\"bhid3\",\"bhid4\"}"
   ]
  },
  {
   "cell_type": "code",
   "execution_count": 1101,
   "metadata": {},
   "outputs": [],
   "source": [
    "def GW_recoil_ejec_from_iso_binaries(kick_name,df_iso,df_weak_trip,df_strong_trip):\n",
    "    kick_type = \"gw_kick_\"+ kick_name\n",
    "    iso_kick_eject_mask = (df_iso[kick_type])>(df_iso[\"Vescape\"])\n",
    "    #iso_invalid_merger_flags = np.ones(len(df_iso))*-1\n",
    "    iso_invalid_merger_flags = []\n",
    "    weak_triple_invalid_merger_flags = []\n",
    "    strong_triple_invalid_merger_flags = []\n",
    "\n",
    "    ejec_N = len(df_iso[iso_kick_eject_mask])\n",
    "\n",
    "\n",
    "    for bhid_col1 in bhid_cols_in_iso_bins:\n",
    "        for bhid_col2 in bhid_cols_in_iso_bins:\n",
    "            for i in range(ejec_N):\n",
    "                idx1_common_id = df_iso[iso_kick_eject_mask][bhid_col1].index[i]\n",
    "                bhid_to_find = df_iso[iso_kick_eject_mask][bhid_col1].iloc[i]\n",
    "                idxs_in_common = df_iso.index[df_iso[bhid_col2] == bhid_to_find].tolist()\n",
    "\n",
    "                if(idxs_in_common):\n",
    "                    for all_common_ixs in idxs_in_common:\n",
    "                        if(df_iso[\"t_merger\"].iloc[idx1_common_id]<df_iso[\"t_merger\"].iloc[all_common_ixs]):\n",
    "                            iso_invalid_merger_flags.append(all_common_ixs)\n",
    "        \n",
    "        for bhid_col2 in bhid_cols_in_trips:\n",
    "            for i in range(ejec_N):\n",
    "                idx1_common_id = df_iso[iso_kick_eject_mask][bhid_col1].index[i]\n",
    "                bhid_to_find = df_iso[iso_kick_eject_mask][bhid_col1].iloc[i]\n",
    "                idxs_in_common_in_weak_triples = df_weak_trip.index[df_weak_trip[bhid_col2] == bhid_to_find].tolist() #in weak triples\n",
    "                idxs_in_common_in_strong_triples = df_strong_trip.index[df_strong_trip[bhid_col2] == bhid_to_find].tolist() #in weak triples\n",
    "\n",
    "                if(idxs_in_common_in_weak_triples):\n",
    "                    for all_common_ixs in idxs_in_common_in_weak_triples:\n",
    "                        if(df_iso[\"t_merger\"].iloc[idx1_common_id]<df_weak_trip[\"t_triple_form\"].iloc[all_common_ixs]):\n",
    "                            weak_triple_invalid_merger_flags.append(all_common_ixs)\n",
    "                \n",
    "                if(idxs_in_common_in_strong_triples):\n",
    "                    for all_common_ixs in idxs_in_common_in_strong_triples:\n",
    "                        if(df_iso[\"t_merger\"].iloc[idx1_common_id]<df_strong_trip[\"t_triple_form\"].iloc[all_common_ixs]):\n",
    "                            strong_triple_invalid_merger_flags.append(all_common_ixs)                    \n",
    "\n",
    "    iso_invalid_merger_flags = np.unique(np.array(iso_invalid_merger_flags))\n",
    "    weak_triple_invalid_merger_flags = np.unique(np.array(weak_triple_invalid_merger_flags))\n",
    "    strong_triple_invalid_merger_flags = np.unique(np.array(strong_triple_invalid_merger_flags))\n",
    "    \n",
    "    print(\"Found %d iso_binary mergers invalid due to ejections via GW %s kick\"%(len(iso_invalid_merger_flags),kick_name))\n",
    "    invalid_merger_col_name = \"invalid_merger_\"+kick_name\n",
    "    df_iso[invalid_merger_col_name] = df_iso.index.isin(iso_invalid_merger_flags)\n",
    "\n",
    "    print(\"Found %d binary mergers in weak triples invalid due to ejections via GW %s kick\"%(len(weak_triple_invalid_merger_flags),kick_name))\n",
    "    df_weak_trip[invalid_merger_col_name] = df_weak_trip.index.isin(weak_triple_invalid_merger_flags)\n",
    "\n",
    "    print(\"Found %d binary mergers in strong triples invalid due to ejections via GW %s kick\"%(len(strong_triple_invalid_merger_flags)/100,kick_name))\n",
    "    df_strong_trip[invalid_merger_col_name] = df_strong_trip.index.isin(strong_triple_invalid_merger_flags)    "
   ]
  },
  {
   "cell_type": "code",
   "execution_count": 776,
   "metadata": {},
   "outputs": [
    {
     "name": "stdout",
     "output_type": "stream",
     "text": [
      "Found 87 iso_binary mergers invalid due to ejections via GW random kick\n",
      "Found 46 binary mergers in weak triples invalid due to ejections via GW random kick\n",
      "Found 15 binary mergers in strong triples invalid due to ejections via GW random kick\n"
     ]
    }
   ],
   "source": [
    "GW_recoil_ejec_from_iso_binaries(\"random\",df_iso,df_weak_triples,df_trips)"
   ]
  },
  {
   "cell_type": "code",
   "execution_count": 1103,
   "metadata": {},
   "outputs": [],
   "source": [
    "def GW_recoil_ejec_from_weak_triples(kick_name,df_iso,df_weak_trip,df_strong_trip):\n",
    "    kick_type = \"gw_kick_\"+ kick_name\n",
    "    kick_eject_mask = (df_weak_trip[kick_type])>(df_weak_trip[\"Vescape\"])\n",
    "    #iso_invalid_merger_flags = np.ones(len(df_iso))*-1\n",
    "    iso_invalid_merger_flags = []\n",
    "    weak_triple_invalid_merger_flags = []\n",
    "    strong_triple_invalid_merger_flags = []\n",
    "\n",
    "    ejec_N = len(df_weak_trip[kick_eject_mask])\n",
    "\n",
    "\n",
    "    for bhid_col1 in bhid_cols_in_iso_bins:\n",
    "        for bhid_col2 in bhid_cols_in_iso_bins:\n",
    "            for i in range(ejec_N):\n",
    "                idx1_common_id = df_weak_trip[kick_eject_mask][bhid_col1].index[i]\n",
    "                bhid_to_find = df_weak_trip[kick_eject_mask][bhid_col1].iloc[i]\n",
    "                idxs_in_common = df_iso.index[df_iso[bhid_col2] == bhid_to_find].tolist()\n",
    "\n",
    "                if(idxs_in_common):\n",
    "                    for all_common_ixs in idxs_in_common:\n",
    "                        if(df_weak_triples[\"t_triple_form\"].iloc[idx1_common_id]<df_iso[\"t_merger\"].iloc[all_common_ixs]):\n",
    "                            iso_invalid_merger_flags.append(all_common_ixs)\n",
    "        \n",
    "        for bhid_col2 in bhid_cols_in_trips:\n",
    "            for i in range(ejec_N):\n",
    "                idx1_common_id = df_weak_trip[kick_eject_mask][bhid_col1].index[i]\n",
    "                bhid_to_find = df_weak_trip[kick_eject_mask][bhid_col1].iloc[i]\n",
    "                idxs_in_common_in_weak_triples = df_weak_trip.index[df_weak_trip[bhid_col2] == bhid_to_find].tolist() #in weak triples\n",
    "                idxs_in_common_in_strong_triples = df_strong_trip.index[df_strong_trip[bhid_col2] == bhid_to_find].tolist() #in weak triples\n",
    "\n",
    "                if(idxs_in_common_in_weak_triples):\n",
    "                    for all_common_ixs in idxs_in_common_in_weak_triples:\n",
    "                        if(df_weak_trip[\"t_triple_form\"].iloc[idx1_common_id]<df_weak_trip[\"t_triple_form\"].iloc[all_common_ixs]):\n",
    "                            weak_triple_invalid_merger_flags.append(all_common_ixs)\n",
    "                \n",
    "                if(idxs_in_common_in_strong_triples):\n",
    "                    for all_common_ixs in idxs_in_common_in_strong_triples:\n",
    "                        if(df_weak_trip[\"t_triple_form\"].iloc[idx1_common_id]<df_strong_trip[\"t_triple_form\"].iloc[all_common_ixs]):\n",
    "                            strong_triple_invalid_merger_flags.append(all_common_ixs)\n",
    "\n",
    "    iso_invalid_merger_flags = np.unique(np.array(iso_invalid_merger_flags))\n",
    "    weak_triple_invalid_merger_flags = np.unique(np.array(weak_triple_invalid_merger_flags))\n",
    "    strong_triple_invalid_merger_flags = np.unique(np.array(strong_triple_invalid_merger_flags))\n",
    "    \n",
    "    print(\"Found %d iso_binary mergers invalid due to ejections via GW %s kick\"%(len(iso_invalid_merger_flags),kick_name))\n",
    "    invalid_merger_col_name = \"invalid_merger_\"+kick_name\n",
    "    df_iso[invalid_merger_col_name] = df_iso[invalid_merger_col_name] | df_iso.index.isin(iso_invalid_merger_flags)\n",
    "    \n",
    "\n",
    "    print(\"Found %d binary mergers in weak triples invalid due to ejections via GW %s kick\"%(len(weak_triple_invalid_merger_flags),kick_name))\n",
    "    df_weak_trip[invalid_merger_col_name] = df_weak_trip[invalid_merger_col_name] | df_weak_trip.index.isin(weak_triple_invalid_merger_flags)\n",
    "\n",
    "    print(\"Found %d binary mergers in strong triples invalid due to ejections via GW %s kick\"%(len(strong_triple_invalid_merger_flags)/100,kick_name))\n",
    "    df_strong_trip[invalid_merger_col_name] = df_strong_trip[invalid_merger_col_name] | df_strong_trip.index.isin(strong_triple_invalid_merger_flags) "
   ]
  },
  {
   "cell_type": "code",
   "execution_count": 1104,
   "metadata": {},
   "outputs": [
    {
     "name": "stdout",
     "output_type": "stream",
     "text": [
      "Found 102 iso_binary mergers invalid due to ejections via GW random kick\n",
      "Found 23 binary mergers in weak triples invalid due to ejections via GW random kick\n",
      "Found 22 binary mergers in strong triples invalid due to ejections via GW random kick\n"
     ]
    }
   ],
   "source": [
    "GW_recoil_ejec_from_weak_triples(\"random\",df_iso,df_weak_triples,df_trips)"
   ]
  },
  {
   "cell_type": "code",
   "execution_count": 1105,
   "metadata": {},
   "outputs": [],
   "source": [
    "def find_m3_bhid(row):\n",
    "    bhid1 = row['bhid1']\n",
    "    bhid2 = row['bhid2']\n",
    "    bhid3 = row['bhid3']\n",
    "    bhid4 = row['bhid4']\n",
    "    \n",
    "    if bhid1 == bhid3 or bhid2 == bhid3:\n",
    "        return bhid4\n",
    "    elif bhid1 == bhid4 or bhid2 == bhid4:\n",
    "        return bhid3\n",
    "    else:\n",
    "        return None"
   ]
  },
  {
   "cell_type": "code",
   "execution_count": 1106,
   "metadata": {},
   "outputs": [],
   "source": [
    "df_trips[\"m3_id\"] = df_trips.apply(find_m3_bhid, axis=1)"
   ]
  },
  {
   "cell_type": "code",
   "execution_count": 1107,
   "metadata": {},
   "outputs": [],
   "source": [
    "df_trips[\"m1_id\"] = df_trips[\"bhid1\"]\n",
    "df_trips[\"m2_id\"] = df_trips[\"bhid2\"]"
   ]
  },
  {
   "cell_type": "code",
   "execution_count": 1108,
   "metadata": {},
   "outputs": [],
   "source": [
    "def GW_recoil_ejec_from_strong_triples(kick_name,df_iso,df_weak_trip,df_strong_trip):\n",
    "    kick_type = \"gw_kick_\"+ kick_name\n",
    "    kick_eject_mask = (df_strong_trip[kick_type])>(df_strong_trip[\"Vescape\"])\n",
    "    #iso_invalid_merger_flags = np.ones(len(df_iso))*-1\n",
    "    iso_invalid_merger_flags = []\n",
    "    weak_triple_invalid_merger_flags = []\n",
    "    strong_triple_invalid_merger_flags = []\n",
    "\n",
    "    ejec_N = len(df_strong_trip[kick_eject_mask])\n",
    "\n",
    "\n",
    "    for i in tqdm(range(ejec_N),desc=\"Iterating over strong triple case\"):\n",
    "        if((df_strong_trip[kick_eject_mask][\"M3\"].iloc[i] < df_strong_trip[kick_eject_mask][\"M1\"].iloc[i]) and (df_strong_trip[kick_eject_mask][\"M3\"].iloc[i] < df_strong_trip[kick_eject_mask][\"M2\"].iloc[i])):\n",
    "            bhid_cols_in_strong_trip = [\"m1_id\",\"m2_id\"]\n",
    "        else:\n",
    "            bhid_cols_in_strong_trip = [\"m1_id\",\"m3_id\"]\n",
    "\n",
    "        for bhid_col1 in bhid_cols_in_strong_trip:\n",
    "            for bhid_col2 in bhid_cols_in_iso_bins:\n",
    "                idx1_common_id = df_strong_trip[kick_eject_mask][bhid_col1].index[i]\n",
    "                bhid_to_find = df_strong_trip[kick_eject_mask][bhid_col1].iloc[i]\n",
    "                idxs_in_common = df_iso.index[df_iso[bhid_col2] == bhid_to_find].tolist()\n",
    "\n",
    "                if(idxs_in_common):\n",
    "                    for all_common_ixs in idxs_in_common:\n",
    "                        if(df_strong_trip[\"t_merger\"].iloc[idx1_common_id]<df_iso[\"t_merger\"].iloc[all_common_ixs]):\n",
    "                            iso_invalid_merger_flags.append(all_common_ixs)\n",
    "\n",
    "            for bhid_col2 in bhid_cols_in_trips:\n",
    "                idx1_common_id = df_strong_trip[kick_eject_mask][bhid_col1].index[i]\n",
    "                bhid_to_find = df_strong_trip[kick_eject_mask][bhid_col1].iloc[i]\n",
    "\n",
    "                idxs_in_common_in_weak_triples = df_weak_trip.index[df_weak_trip[bhid_col2] == bhid_to_find].tolist() #in weak triples\n",
    "                idxs_in_common_in_strong_triples = df_strong_trip.index[df_strong_trip[bhid_col2] == bhid_to_find].tolist() #in weak triples\n",
    "\n",
    "                if(idxs_in_common_in_weak_triples):\n",
    "                    for all_common_ixs in idxs_in_common_in_weak_triples:\n",
    "                        if(df_strong_trip[\"t_merger\"].iloc[idx1_common_id]<df_weak_trip[\"t_triple_form\"].iloc[all_common_ixs]):\n",
    "                            weak_triple_invalid_merger_flags.append(all_common_ixs)\n",
    "                \n",
    "                if(idxs_in_common_in_strong_triples):\n",
    "                    for all_common_ixs in idxs_in_common_in_strong_triples:\n",
    "                        if(df_strong_trip[\"t_merger\"].iloc[idx1_common_id]<df_strong_trip[\"t_triple_form\"].iloc[all_common_ixs]):\n",
    "                            strong_triple_invalid_merger_flags.append(all_common_ixs)\n",
    "\n",
    "    iso_invalid_merger_flags = np.unique(np.array(iso_invalid_merger_flags))\n",
    "    weak_triple_invalid_merger_flags = np.unique(np.array(weak_triple_invalid_merger_flags))\n",
    "    strong_triple_invalid_merger_flags = np.unique(np.array(strong_triple_invalid_merger_flags))\n",
    "    \n",
    "    print(\"Found %d iso_binary mergers invalid due to ejections via GW %s kick\"%(len(iso_invalid_merger_flags),kick_name))\n",
    "    invalid_merger_col_name = \"invalid_merger_\"+kick_name\n",
    "    df_iso[invalid_merger_col_name] = df_iso[invalid_merger_col_name] | df_iso.index.isin(iso_invalid_merger_flags)\n",
    "    \n",
    "\n",
    "    print(\"Found %d binary mergers in weak triples invalid due to ejections via GW %s kick\"%(len(weak_triple_invalid_merger_flags),kick_name))\n",
    "    df_weak_trip[invalid_merger_col_name] = df_weak_trip[invalid_merger_col_name] | df_weak_trip.index.isin(weak_triple_invalid_merger_flags)\n",
    "\n",
    "    print(\"Found %d binary mergers in strong triples invalid due to ejections via GW %s kick\"%(len(strong_triple_invalid_merger_flags)/100,kick_name))\n",
    "    df_strong_trip[invalid_merger_col_name] = df_strong_trip[invalid_merger_col_name] | df_strong_trip.index.isin(strong_triple_invalid_merger_flags) "
   ]
  },
  {
   "cell_type": "code",
   "execution_count": 1109,
   "metadata": {},
   "outputs": [
    {
     "name": "stderr",
     "output_type": "stream",
     "text": [
      "Iterating over strong triple case: 100%|██████████| 3910/3910 [00:56<00:00, 69.21it/s]"
     ]
    },
    {
     "name": "stdout",
     "output_type": "stream",
     "text": [
      "Found 164 iso_binary mergers invalid due to ejections via GW random kick\n",
      "Found 7 binary mergers in weak triples invalid due to ejections via GW random kick\n",
      "Found 21 binary mergers in strong triples invalid due to ejections via GW random kick\n"
     ]
    },
    {
     "name": "stderr",
     "output_type": "stream",
     "text": [
      "\n"
     ]
    }
   ],
   "source": [
    "GW_recoil_ejec_from_strong_triples(\"random\",df_iso,df_weak_triples,df_trips)"
   ]
  },
  {
   "cell_type": "code",
   "execution_count": 1110,
   "metadata": {},
   "outputs": [
    {
     "data": {
      "text/plain": [
       "73"
      ]
     },
     "execution_count": 1110,
     "metadata": {},
     "output_type": "execute_result"
    }
   ],
   "source": [
    "len(df_trips[:520][df_trips[:520][\"invalid_merger_random\"]==True])"
   ]
  },
  {
   "cell_type": "code",
   "execution_count": 1111,
   "metadata": {},
   "outputs": [
    {
     "data": {
      "text/plain": [
       "907"
      ]
     },
     "execution_count": 1111,
     "metadata": {},
     "output_type": "execute_result"
    }
   ],
   "source": [
    "len(df_iso[df_iso[\"invalid_merger_random\"]==True])"
   ]
  },
  {
   "cell_type": "code",
   "execution_count": 1112,
   "metadata": {},
   "outputs": [
    {
     "data": {
      "text/plain": [
       "99"
      ]
     },
     "execution_count": 1112,
     "metadata": {},
     "output_type": "execute_result"
    }
   ],
   "source": [
    "len(df_weak_triples[df_weak_triples[\"invalid_merger_random\"]==True])"
   ]
  },
  {
   "cell_type": "code",
   "execution_count": 1113,
   "metadata": {},
   "outputs": [
    {
     "data": {
      "text/plain": [
       "5.0682261208577"
      ]
     },
     "execution_count": 1113,
     "metadata": {},
     "output_type": "execute_result"
    }
   ],
   "source": [
    "(343+73+52)/9234 * 100"
   ]
  },
  {
   "cell_type": "code",
   "execution_count": 1114,
   "metadata": {},
   "outputs": [],
   "source": [
    "#need to add Slingshot recoil here"
   ]
  },
  {
   "cell_type": "code",
   "execution_count": 1115,
   "metadata": {},
   "outputs": [],
   "source": [
    "import Merger_rate_plot as mr"
   ]
  },
  {
   "cell_type": "code",
   "execution_count": 1116,
   "metadata": {},
   "outputs": [
    {
     "data": {
      "text/plain": [
       "3875"
      ]
     },
     "execution_count": 1116,
     "metadata": {},
     "output_type": "execute_result"
    }
   ],
   "source": [
    "len(df_iso)"
   ]
  },
  {
   "cell_type": "code",
   "execution_count": 1117,
   "metadata": {},
   "outputs": [],
   "source": [
    "binary_merger_z = df_iso[df_iso[\"invalid_merger_random\"]==False][\"z_merger\"]\n",
    "binary_mr,lgzbins_bin,dNdlogzdt_bin = mr.merger_rate_log_plot(binary_merger_z,zmax=4,zbinsize=0.01,lgzbinsize=0.15,lgzmin=-3,lgzmax=1.0)\n",
    "\n",
    "\n",
    "\n",
    "weak_trip_z = df_weak_triples[(df_weak_triples[\"invalid_merger_random\"]==False) & (df_weak_triples[\"bin_merger_flag\"]==\"Yes\")][\"z_merger\"]\n",
    "weak_mr,lgzweak_bin,dNdlogzdt_weak = mr.merger_rate_log_plot(weak_trip_z,zmax=4,zbinsize=0.01,lgzbinsize=0.15,lgzmin=-3,lgzmax=1.0)"
   ]
  },
  {
   "cell_type": "code",
   "execution_count": 1118,
   "metadata": {},
   "outputs": [],
   "source": [
    "import astropy.units as u\n",
    "from astropy.cosmology import WMAP9 as cosmo\n",
    "from astropy.cosmology import z_at_value\n",
    "from astropy import constants as const\n",
    "\n",
    "\n",
    "boxsize = 75.0\n",
    "omega_m = 0.2726\n",
    "omega_l = 0.7274\n",
    "h = 0.704\n",
    "vol_comov_box = (boxsize/h)**3 #Mpc^3\n",
    "\n",
    "\n",
    "\n",
    "def unit_comoving_vol(z):\n",
    "\n",
    "    D_H = const.c.to('km/s').value/cosmo.H0.value\n",
    "    return D_H * cosmo.comoving_transverse_distance(z).value**2 * cosmo.inv_efunc(z)\n",
    "    "
   ]
  },
  {
   "cell_type": "code",
   "execution_count": 1119,
   "metadata": {},
   "outputs": [
    {
     "data": {
      "text/plain": [
       "3875"
      ]
     },
     "execution_count": 1119,
     "metadata": {},
     "output_type": "execute_result"
    }
   ],
   "source": [
    "len(df_iso[\"z_merger\"])"
   ]
  },
  {
   "cell_type": "code",
   "execution_count": 1120,
   "metadata": {},
   "outputs": [
    {
     "data": {
      "text/plain": [
       "2968"
      ]
     },
     "execution_count": 1120,
     "metadata": {},
     "output_type": "execute_result"
    }
   ],
   "source": [
    "len(binary_merger_z)"
   ]
  },
  {
   "cell_type": "code",
   "execution_count": 1121,
   "metadata": {},
   "outputs": [],
   "source": [
    "M1_iso = df_iso[df_iso[\"invalid_merger_random\"]==False][\"M1\"]\n",
    "M2_iso = df_iso[df_iso[\"invalid_merger_random\"]==False][\"M2\"]"
   ]
  },
  {
   "cell_type": "code",
   "execution_count": 1122,
   "metadata": {},
   "outputs": [],
   "source": [
    "t_m = df_iso[df_iso[\"invalid_merger_random\"]==False][\"t_merger\"]\n",
    "z_m = df_iso[df_iso[\"invalid_merger_random\"]==False][\"z_merger\"]"
   ]
  },
  {
   "cell_type": "code",
   "execution_count": 1123,
   "metadata": {},
   "outputs": [],
   "source": [
    "Mchirp_iso = (M1_iso*M2_iso)**(3/5)/(M1_iso + M2_iso)**(1/5)\n",
    "df_iso[\"Mchirp\"] = Mchirp_iso\n",
    "Mmin=6\n",
    "Mmax = 9\n",
    "Mbinsize = 0.5"
   ]
  },
  {
   "cell_type": "code",
   "execution_count": 1124,
   "metadata": {},
   "outputs": [],
   "source": [
    "Mchirp_0,Mbin_edges_0 = np.histogram(np.log10(df_iso[\"Mchirp\"]),range=(Mmin,Mmax),bins=int(Mmax/Mbinsize))\n",
    "Mchirp_1,Mbin_edges_1 = np.histogram(np.log10(df_iso[df_iso[\"invalid_merger_random\"]==False][\"Mchirp\"]),range=(Mmin,Mmax),bins=int(Mmax/Mbinsize))"
   ]
  },
  {
   "cell_type": "code",
   "execution_count": 1125,
   "metadata": {},
   "outputs": [
    {
     "data": {
      "text/plain": [
       "<matplotlib.patches.StepPatch at 0x16be23220>"
      ]
     },
     "execution_count": 1125,
     "metadata": {},
     "output_type": "execute_result"
    },
    {
     "data": {
      "image/png": "[encoded data removed]",
      "text/plain": [
       "<Figure size 350x262.5 with 1 Axes>"
      ]
     },
     "metadata": {},
     "output_type": "display_data"
    }
   ],
   "source": [
    "plt.stairs(Mchirp_0,Mbin_edges_0)\n",
    "plt.stairs(Mchirp_1,Mbin_edges_1)"
   ]
  },
  {
   "cell_type": "code",
   "execution_count": 1126,
   "metadata": {},
   "outputs": [],
   "source": [
    "df_run = []\n",
    "Nruns=100\n",
    "Ntriple = int(len(df_trips[\"M1\"])/Nruns)\n",
    "\n",
    "for i in range(Ntriple):\n",
    "    df_i = df_trips[Ntriple*i:Ntriple*(i+1)]\n",
    "    df_run.append(df_i)"
   ]
  },
  {
   "cell_type": "code",
   "execution_count": 1127,
   "metadata": {},
   "outputs": [],
   "source": [
    "zmax = 8\n",
    "zbinsize = 0.5"
   ]
  },
  {
   "cell_type": "code",
   "execution_count": 1128,
   "metadata": {},
   "outputs": [
    {
     "data": {
      "text/plain": [
       "3875"
      ]
     },
     "execution_count": 1128,
     "metadata": {},
     "output_type": "execute_result"
    }
   ],
   "source": [
    "len(df_iso[\"z_merger\"].to_list())"
   ]
  },
  {
   "cell_type": "code",
   "execution_count": 1129,
   "metadata": {},
   "outputs": [
    {
     "data": {
      "text/plain": [
       "0"
      ]
     },
     "execution_count": 1129,
     "metadata": {},
     "output_type": "execute_result"
    }
   ],
   "source": [
    "len(df_run[i][df_run[i][\"merger_flag\"]!=\"No\"][\"z_merger\"].to_list())"
   ]
  },
  {
   "cell_type": "code",
   "execution_count": 1130,
   "metadata": {},
   "outputs": [
    {
     "name": "stdout",
     "output_type": "stream",
     "text": [
      "3875 387\n"
     ]
    }
   ],
   "source": [
    "#without ejections \n",
    "binary_merger_z = df_iso[\"z_merger\"].to_list()\n",
    "weak_trip_z = df_weak_triples[\"z_merger\"][df_weak_triples[\"bin_merger_flag\"]==\"Yes\"].to_list()\n",
    "print(len(binary_merger_z),len(weak_trip_z))\n",
    "total_merger_z = []\n",
    "for i in range(Nruns):\n",
    "    N_z,zbin_edges = np.histogram(binary_merger_z+weak_trip_z+df_run[i][df_run[i][\"merger_flag\"]!=\"No\"][\"z_merger\"].to_list(),range=(0,zmax),bins=int(zmax/zbinsize))\n",
    "    total_merger_z.append(N_z)"
   ]
  },
  {
   "cell_type": "code",
   "execution_count": 1131,
   "metadata": {},
   "outputs": [
    {
     "data": {
      "text/plain": [
       "214"
      ]
     },
     "execution_count": 1131,
     "metadata": {},
     "output_type": "execute_result"
    }
   ],
   "source": [
    "len(df_run[i][(df_run[i][\"merger_flag\"]!=\"No\")&(df_run[i][\"invalid_merger_random\"]==False)][\"z_merger\"].to_list())"
   ]
  },
  {
   "cell_type": "code",
   "execution_count": 1132,
   "metadata": {},
   "outputs": [
    {
     "name": "stdout",
     "output_type": "stream",
     "text": [
      "2968 367\n"
     ]
    }
   ],
   "source": [
    "#with ejections \n",
    "binary_merger_z = df_iso[df_iso[\"invalid_merger_random\"]==False][\"z_merger\"].to_list()\n",
    "weak_trip_z = df_weak_triples[(df_weak_triples[\"invalid_merger_random\"]==False)&(df_weak_triples[\"bin_merger_flag\"]==\"Yes\")][\"z_merger\"].to_list()\n",
    "print(len(binary_merger_z),len(weak_trip_z))\n",
    "total_merger_with_ejection_z = []\n",
    "for i in range(Nruns):\n",
    "    N_z,zbin_edges_with_ejection = np.histogram(binary_merger_z+weak_trip_z+df_run[i][(df_run[i][\"merger_flag\"]!=\"No\")&(df_run[i][\"invalid_merger_random\"]==False)][\"z_merger\"].to_list(),range=(0,zmax),bins=int(zmax/zbinsize))\n",
    "    total_merger_with_ejection_z.append(N_z)"
   ]
  },
  {
   "cell_type": "code",
   "execution_count": 1133,
   "metadata": {},
   "outputs": [
    {
     "data": {
      "image/png": "[encoded data removed]",
      "text/plain": [
       "<Figure size 600x500 with 1 Axes>"
      ]
     },
     "metadata": {},
     "output_type": "display_data"
    }
   ],
   "source": [
    "fig,ax = plt.subplots(1,figsize=[6,5])\n",
    "\n",
    "ax.stairs(np.mean(total_merger_z,axis=0),zbin_edges,linestyle=\"--\",color=\"k\",label=\"Without ejections\")\n",
    "ax.stairs(np.mean(total_merger_with_ejection_z,axis=0),zbin_edges_with_ejection,label=\"GW random + slingshot\")\n",
    "ax.set_yscale(\"log\")\n",
    "ax.set_xticks([0,2,4,6,8])\n",
    "ax.set_yscale(\"log\")\n",
    "ax.set_yticks([1e0,1e1,1e2,1e3])\n",
    "ax.set_ylabel(r\"$N_{\\text{mergers}}$\")\n",
    "ax.set_xlabel(\"$z$\")\n",
    "ax.legend(fontsize=14)\n",
    "plt.show()"
   ]
  },
  {
   "cell_type": "code",
   "execution_count": 1134,
   "metadata": {},
   "outputs": [
    {
     "data": {
      "image/png": "[encoded data removed]",
      "text/plain": [
       "<Figure size 600x500 with 1 Axes>"
      ]
     },
     "metadata": {},
     "output_type": "display_data"
    }
   ],
   "source": [
    "fig,ax = plt.subplots(1,figsize=[6,5])\n",
    "\n",
    "ax.stairs(np.mean(total_merger_z,axis=0),zbin_edges,linestyle=\"--\",color=\"k\",label=\"Without ejections\")\n",
    "ax.stairs(np.mean(total_merger_with_ejection_z,axis=0),zbin_edges_with_ejection,label=\"GW random + slingshot\")\n",
    "\n",
    "ax.stairs(np.mean(total_merger_z,axis=0)-np.mean(total_merger_with_ejection_z,axis=0),zbin_edges_with_ejection,label=\"invalid mergers\")\n",
    "\n",
    "ax.set_yscale(\"log\")\n",
    "ax.set_xticks([0,2])\n",
    "ax.set_yscale(\"log\")\n",
    "ax.set_yticks([1e0,1e1,1e2,1e3])\n",
    "ax.set_ylabel(r\"$N_{\\text{mergers}}$\")\n",
    "ax.set_xlabel(\"$z$\")\n",
    "ax.legend(fontsize=14)\n",
    "plt.show()\n"
   ]
  },
  {
   "cell_type": "code",
   "execution_count": 803,
   "metadata": {},
   "outputs": [],
   "source": [
    "Nruns = 100\n",
    "\n",
    "def merger_rate_per_run(df,zmax=4,zbinsize=0.01,lgzbinsize=0.2,lgzmin=-3.0,lgzmax=1.0):\n",
    "\n",
    "    \n",
    "    Tr_prompt = df[(df[\"merger_flag\"]==\"Tr-12\") | (df[\"merger_flag\"]==\"Tr-13\") | (df[\"merger_flag\"]==\"Tr-23\")][\"z_merger\"]\n",
    "    Tr_prompt_mr,Tr_prompt_lgzbins,Tr_prompt_rate = mr.merger_rate_log_plot(Tr_prompt,zmax,zbinsize,lgzbinsize,lgzmin,lgzmax)\n",
    "\n",
    "\n",
    "    Tr_ej_z = df[(df[\"merger_flag\"]==\"Tr-ej\")][\"z_merger\"]\n",
    "    Tr_ej_mr,Tr_ej_lgzbins,Tr_ej_rate = mr.merger_rate_log_plot(Tr_ej_z,zmax,zbinsize,lgzbinsize,lgzmin,lgzmax) \n",
    "\n",
    "    return Tr_prompt_lgzbins,[Tr_prompt_mr,Tr_prompt_rate,Tr_ej_mr,Tr_ej_rate]\n",
    "\n",
    "def triple_outcomes_merger_rate(df_run,zmax,zbinsize,lgzbinsize,lgzmin,lgzmax):\n",
    "\n",
    "    net_mr_Tr = []\n",
    "    net_mr_Tr_ej = []\n",
    "   \n",
    "\n",
    "    mr_Tr = []\n",
    "    mr_Tr_ej = []\n",
    "\n",
    "\n",
    "    for i in range(Nruns):\n",
    "        mr_out = merger_rate_per_run(df_run[i],zmax,zbinsize,lgzbinsize,lgzmin,lgzmax)[1:][0]\n",
    "        net_mr_Tr.append(mr_out[0])\n",
    "        mr_Tr.append(mr_out[1])\n",
    "        net_mr_Tr_ej.append(mr_out[2])\n",
    "        mr_Tr_ej.append(mr_out[3])\n",
    "\n",
    "    lgzbins = merger_rate_per_run(df_run[i],zmax,zbinsize,lgzbinsize,lgzmin,lgzmax)[0]\n",
    "    mr_Tr  = np.array(mr_Tr)\n",
    "    mr_Tr_ej = np.array(mr_Tr_ej)\n",
    "    net_mr_Tr_ej = np.array(net_mr_Tr_ej)\n",
    "    net_mr_Tr = np.array(net_mr_Tr)\n",
    "\n",
    "    return lgzbins,mr_Tr,mr_Tr_ej,net_mr_Tr,net_mr_Tr_ej\n",
    "\n",
    "def triple_merger_after_ejec_rate(df_run,zmax,zbinsize,lgzbinsize,lgzmin,lgzmax):\n",
    "\n",
    "    mr_Tr_ej = []\n",
    "    for i in range(Nruns):\n",
    "        df = df_run[i]\n",
    "        Tr_ej_z = df[(df[\"merger_flag\"]==\"Tr-ej\")][\"z_merger\"]\n",
    "        Tr_ej_mr,Tr_ej_lgzbins,Tr_ej_rate = mr.merger_rate_log_plot(Tr_ej_z,zmax,zbinsize,lgzbinsize,lgzmin,lgzmax) \n",
    "        mr_Tr_ej.append(Tr_ej_rate)\n",
    "\n",
    "    return Tr_ej_lgzbins,mr_Tr_ej"
   ]
  },
  {
   "cell_type": "code",
   "execution_count": 804,
   "metadata": {},
   "outputs": [
    {
     "data": {
      "text/html": [
       "<div>\n",
       "<style scoped>\n",
       "    .dataframe tbody tr th:only-of-type {\n",
       "        vertical-align: middle;\n",
       "    }\n",
       "\n",
       "    .dataframe tbody tr th {\n",
       "        vertical-align: top;\n",
       "    }\n",
       "\n",
       "    .dataframe thead th {\n",
       "        text-align: right;\n",
       "    }\n",
       "</style>\n",
       "<table border=\"1\" class=\"dataframe\">\n",
       "  <thead>\n",
       "    <tr style=\"text-align: right;\">\n",
       "      <th></th>\n",
       "      <th>M1</th>\n",
       "      <th>M2</th>\n",
       "      <th>M3</th>\n",
       "      <th>qin</th>\n",
       "      <th>qout</th>\n",
       "      <th>t_merger</th>\n",
       "      <th>z_merger</th>\n",
       "      <th>a_triple_int</th>\n",
       "      <th>merger_flag</th>\n",
       "      <th>Slingshot_kick</th>\n",
       "      <th>...</th>\n",
       "      <th>bhid1</th>\n",
       "      <th>bhid2</th>\n",
       "      <th>bhid3</th>\n",
       "      <th>bhid4</th>\n",
       "      <th>f-gas</th>\n",
       "      <th>Vescape</th>\n",
       "      <th>invalid_merger_random</th>\n",
       "      <th>m3_id</th>\n",
       "      <th>m1_id</th>\n",
       "      <th>m2_id</th>\n",
       "    </tr>\n",
       "  </thead>\n",
       "  <tbody>\n",
       "    <tr>\n",
       "      <th>0</th>\n",
       "      <td>2.119978e+07</td>\n",
       "      <td>3.473441e+06</td>\n",
       "      <td>2.463118e+07</td>\n",
       "      <td>0.163843</td>\n",
       "      <td>0.998296</td>\n",
       "      <td>1.752527e+09</td>\n",
       "      <td>3.630205</td>\n",
       "      <td>0.035402</td>\n",
       "      <td>Tr-ej</td>\n",
       "      <td>2201.057217</td>\n",
       "      <td>...</td>\n",
       "      <td>9223372036337899864</td>\n",
       "      <td>9223372036518620732</td>\n",
       "      <td>9223372036417148615</td>\n",
       "      <td>9223372036518620732</td>\n",
       "      <td>0.381619</td>\n",
       "      <td>3429.773746</td>\n",
       "      <td>False</td>\n",
       "      <td>9223372036417148615</td>\n",
       "      <td>9223372036337899864</td>\n",
       "      <td>9223372036518620732</td>\n",
       "    </tr>\n",
       "    <tr>\n",
       "      <th>1</th>\n",
       "      <td>2.391268e+08</td>\n",
       "      <td>1.296146e+08</td>\n",
       "      <td>1.287504e+07</td>\n",
       "      <td>0.542033</td>\n",
       "      <td>0.034916</td>\n",
       "      <td>1.139149e+10</td>\n",
       "      <td>0.192264</td>\n",
       "      <td>0.213378</td>\n",
       "      <td>Tr-ej</td>\n",
       "      <td>803.621211</td>\n",
       "      <td>...</td>\n",
       "      <td>9223372036342602658</td>\n",
       "      <td>9223372036486077725</td>\n",
       "      <td>9223372036486077725</td>\n",
       "      <td>9223372036893973198</td>\n",
       "      <td>0.595837</td>\n",
       "      <td>1390.661938</td>\n",
       "      <td>False</td>\n",
       "      <td>9223372036893973198</td>\n",
       "      <td>9223372036342602658</td>\n",
       "      <td>9223372036486077725</td>\n",
       "    </tr>\n",
       "    <tr>\n",
       "      <th>2</th>\n",
       "      <td>2.122135e+08</td>\n",
       "      <td>1.477407e+08</td>\n",
       "      <td>6.859143e+06</td>\n",
       "      <td>0.696189</td>\n",
       "      <td>0.019056</td>\n",
       "      <td>8.375550e+10</td>\n",
       "      <td>0.000000</td>\n",
       "      <td>0.056183</td>\n",
       "      <td>No</td>\n",
       "      <td>1611.662895</td>\n",
       "      <td>...</td>\n",
       "      <td>9223372036798549652</td>\n",
       "      <td>9223372036831413043</td>\n",
       "      <td>9223372036831413043</td>\n",
       "      <td>9223372039019874757</td>\n",
       "      <td>0.845373</td>\n",
       "      <td>851.131643</td>\n",
       "      <td>False</td>\n",
       "      <td>9223372039019874757</td>\n",
       "      <td>9223372036798549652</td>\n",
       "      <td>9223372036831413043</td>\n",
       "    </tr>\n",
       "    <tr>\n",
       "      <th>3</th>\n",
       "      <td>8.239502e+07</td>\n",
       "      <td>5.113722e+07</td>\n",
       "      <td>4.296126e+06</td>\n",
       "      <td>0.620635</td>\n",
       "      <td>0.032173</td>\n",
       "      <td>1.037072e+11</td>\n",
       "      <td>0.000000</td>\n",
       "      <td>0.071615</td>\n",
       "      <td>No</td>\n",
       "      <td>851.491213</td>\n",
       "      <td>...</td>\n",
       "      <td>9175344300051172004</td>\n",
       "      <td>9223372036970140153</td>\n",
       "      <td>9223372036970140153</td>\n",
       "      <td>9223372040703864032</td>\n",
       "      <td>0.874041</td>\n",
       "      <td>827.301270</td>\n",
       "      <td>False</td>\n",
       "      <td>9223372040703864032</td>\n",
       "      <td>9175344300051172004</td>\n",
       "      <td>9223372036970140153</td>\n",
       "    </tr>\n",
       "    <tr>\n",
       "      <th>4</th>\n",
       "      <td>4.625245e+07</td>\n",
       "      <td>8.973635e+06</td>\n",
       "      <td>2.419779e+06</td>\n",
       "      <td>0.194014</td>\n",
       "      <td>0.043816</td>\n",
       "      <td>4.006093e+10</td>\n",
       "      <td>0.000000</td>\n",
       "      <td>0.166512</td>\n",
       "      <td>No</td>\n",
       "      <td>270.385087</td>\n",
       "      <td>...</td>\n",
       "      <td>9223372036604300802</td>\n",
       "      <td>9223372036858472384</td>\n",
       "      <td>9223372036849763822</td>\n",
       "      <td>9223372036858472384</td>\n",
       "      <td>0.811056</td>\n",
       "      <td>498.691989</td>\n",
       "      <td>False</td>\n",
       "      <td>9223372036849763822</td>\n",
       "      <td>9223372036604300802</td>\n",
       "      <td>9223372036858472384</td>\n",
       "    </tr>\n",
       "    <tr>\n",
       "      <th>...</th>\n",
       "      <td>...</td>\n",
       "      <td>...</td>\n",
       "      <td>...</td>\n",
       "      <td>...</td>\n",
       "      <td>...</td>\n",
       "      <td>...</td>\n",
       "      <td>...</td>\n",
       "      <td>...</td>\n",
       "      <td>...</td>\n",
       "      <td>...</td>\n",
       "      <td>...</td>\n",
       "      <td>...</td>\n",
       "      <td>...</td>\n",
       "      <td>...</td>\n",
       "      <td>...</td>\n",
       "      <td>...</td>\n",
       "      <td>...</td>\n",
       "      <td>...</td>\n",
       "      <td>...</td>\n",
       "      <td>...</td>\n",
       "      <td>...</td>\n",
       "    </tr>\n",
       "    <tr>\n",
       "      <th>51995</th>\n",
       "      <td>2.367520e+07</td>\n",
       "      <td>3.030512e+06</td>\n",
       "      <td>1.673779e+07</td>\n",
       "      <td>0.128004</td>\n",
       "      <td>0.626749</td>\n",
       "      <td>1.294413e+10</td>\n",
       "      <td>0.061043</td>\n",
       "      <td>2.497594</td>\n",
       "      <td>Tr-23</td>\n",
       "      <td>24.399273</td>\n",
       "      <td>...</td>\n",
       "      <td>9223372040375713266</td>\n",
       "      <td>9223372045484968503</td>\n",
       "      <td>7221722345150349362</td>\n",
       "      <td>9223372045484968503</td>\n",
       "      <td>0.374991</td>\n",
       "      <td>1191.524846</td>\n",
       "      <td>False</td>\n",
       "      <td>7221722345150349362</td>\n",
       "      <td>9223372040375713266</td>\n",
       "      <td>9223372045484968503</td>\n",
       "    </tr>\n",
       "    <tr>\n",
       "      <th>51996</th>\n",
       "      <td>2.502891e+08</td>\n",
       "      <td>2.214000e+07</td>\n",
       "      <td>1.692168e+06</td>\n",
       "      <td>0.088458</td>\n",
       "      <td>0.006211</td>\n",
       "      <td>1.370878e+10</td>\n",
       "      <td>0.004275</td>\n",
       "      <td>0.078199</td>\n",
       "      <td>Tr-ej</td>\n",
       "      <td>666.054238</td>\n",
       "      <td>...</td>\n",
       "      <td>9223372049114720240</td>\n",
       "      <td>9223372055732073132</td>\n",
       "      <td>9223372045467470339</td>\n",
       "      <td>9223372055732073132</td>\n",
       "      <td>0.086260</td>\n",
       "      <td>2177.574975</td>\n",
       "      <td>False</td>\n",
       "      <td>9223372045467470339</td>\n",
       "      <td>9223372049114720240</td>\n",
       "      <td>9223372055732073132</td>\n",
       "    </tr>\n",
       "    <tr>\n",
       "      <th>51997</th>\n",
       "      <td>1.326529e+07</td>\n",
       "      <td>8.323477e+06</td>\n",
       "      <td>6.823273e+06</td>\n",
       "      <td>0.627463</td>\n",
       "      <td>0.316057</td>\n",
       "      <td>4.017351e+10</td>\n",
       "      <td>0.000000</td>\n",
       "      <td>26.476924</td>\n",
       "      <td>No</td>\n",
       "      <td>14.972200</td>\n",
       "      <td>...</td>\n",
       "      <td>9223372039881730251</td>\n",
       "      <td>9223372050382395178</td>\n",
       "      <td>9223372048715447446</td>\n",
       "      <td>9223372050382395178</td>\n",
       "      <td>0.593342</td>\n",
       "      <td>927.018908</td>\n",
       "      <td>False</td>\n",
       "      <td>9223372048715447446</td>\n",
       "      <td>9223372039881730251</td>\n",
       "      <td>9223372050382395178</td>\n",
       "    </tr>\n",
       "    <tr>\n",
       "      <th>51998</th>\n",
       "      <td>4.601341e+07</td>\n",
       "      <td>9.537147e+06</td>\n",
       "      <td>5.338969e+07</td>\n",
       "      <td>0.207269</td>\n",
       "      <td>0.961101</td>\n",
       "      <td>1.731119e+10</td>\n",
       "      <td>0.000000</td>\n",
       "      <td>106.494514</td>\n",
       "      <td>No</td>\n",
       "      <td>51.340700</td>\n",
       "      <td>...</td>\n",
       "      <td>9223372039071111476</td>\n",
       "      <td>9223372060383036336</td>\n",
       "      <td>9223372055084457209</td>\n",
       "      <td>9223372060383036336</td>\n",
       "      <td>0.330675</td>\n",
       "      <td>1574.831536</td>\n",
       "      <td>False</td>\n",
       "      <td>9223372055084457209</td>\n",
       "      <td>9223372039071111476</td>\n",
       "      <td>9223372060383036336</td>\n",
       "    </tr>\n",
       "    <tr>\n",
       "      <th>51999</th>\n",
       "      <td>5.113468e+07</td>\n",
       "      <td>2.255018e+06</td>\n",
       "      <td>5.555056e+07</td>\n",
       "      <td>0.044100</td>\n",
       "      <td>1.040473</td>\n",
       "      <td>1.404250e+10</td>\n",
       "      <td>0.000000</td>\n",
       "      <td>0.813889</td>\n",
       "      <td>No</td>\n",
       "      <td>0.000000</td>\n",
       "      <td>...</td>\n",
       "      <td>9223372050744117162</td>\n",
       "      <td>9223372055084457209</td>\n",
       "      <td>9223372055084457209</td>\n",
       "      <td>9223372060383036336</td>\n",
       "      <td>0.042080</td>\n",
       "      <td>1045.934023</td>\n",
       "      <td>False</td>\n",
       "      <td>9223372060383036336</td>\n",
       "      <td>9223372050744117162</td>\n",
       "      <td>9223372055084457209</td>\n",
       "    </tr>\n",
       "  </tbody>\n",
       "</table>\n",
       "<p>52000 rows × 27 columns</p>\n",
       "</div>"
      ],
      "text/plain": [
       "                 M1            M2            M3       qin      qout  \\\n",
       "0      2.119978e+07  3.473441e+06  2.463118e+07  0.163843  0.998296   \n",
       "1      2.391268e+08  1.296146e+08  1.287504e+07  0.542033  0.034916   \n",
       "2      2.122135e+08  1.477407e+08  6.859143e+06  0.696189  0.019056   \n",
       "3      8.239502e+07  5.113722e+07  4.296126e+06  0.620635  0.032173   \n",
       "4      4.625245e+07  8.973635e+06  2.419779e+06  0.194014  0.043816   \n",
       "...             ...           ...           ...       ...       ...   \n",
       "51995  2.367520e+07  3.030512e+06  1.673779e+07  0.128004  0.626749   \n",
       "51996  2.502891e+08  2.214000e+07  1.692168e+06  0.088458  0.006211   \n",
       "51997  1.326529e+07  8.323477e+06  6.823273e+06  0.627463  0.316057   \n",
       "51998  4.601341e+07  9.537147e+06  5.338969e+07  0.207269  0.961101   \n",
       "51999  5.113468e+07  2.255018e+06  5.555056e+07  0.044100  1.040473   \n",
       "\n",
       "           t_merger  z_merger  a_triple_int merger_flag  Slingshot_kick  ...  \\\n",
       "0      1.752527e+09  3.630205      0.035402       Tr-ej     2201.057217  ...   \n",
       "1      1.139149e+10  0.192264      0.213378       Tr-ej      803.621211  ...   \n",
       "2      8.375550e+10  0.000000      0.056183          No     1611.662895  ...   \n",
       "3      1.037072e+11  0.000000      0.071615          No      851.491213  ...   \n",
       "4      4.006093e+10  0.000000      0.166512          No      270.385087  ...   \n",
       "...             ...       ...           ...         ...             ...  ...   \n",
       "51995  1.294413e+10  0.061043      2.497594       Tr-23       24.399273  ...   \n",
       "51996  1.370878e+10  0.004275      0.078199       Tr-ej      666.054238  ...   \n",
       "51997  4.017351e+10  0.000000     26.476924          No       14.972200  ...   \n",
       "51998  1.731119e+10  0.000000    106.494514          No       51.340700  ...   \n",
       "51999  1.404250e+10  0.000000      0.813889          No        0.000000  ...   \n",
       "\n",
       "                     bhid1                bhid2                bhid3  \\\n",
       "0      9223372036337899864  9223372036518620732  9223372036417148615   \n",
       "1      9223372036342602658  9223372036486077725  9223372036486077725   \n",
       "2      9223372036798549652  9223372036831413043  9223372036831413043   \n",
       "3      9175344300051172004  9223372036970140153  9223372036970140153   \n",
       "4      9223372036604300802  9223372036858472384  9223372036849763822   \n",
       "...                    ...                  ...                  ...   \n",
       "51995  9223372040375713266  9223372045484968503  7221722345150349362   \n",
       "51996  9223372049114720240  9223372055732073132  9223372045467470339   \n",
       "51997  9223372039881730251  9223372050382395178  9223372048715447446   \n",
       "51998  9223372039071111476  9223372060383036336  9223372055084457209   \n",
       "51999  9223372050744117162  9223372055084457209  9223372055084457209   \n",
       "\n",
       "                     bhid4     f-gas      Vescape invalid_merger_random  \\\n",
       "0      9223372036518620732  0.381619  3429.773746                 False   \n",
       "1      9223372036893973198  0.595837  1390.661938                 False   \n",
       "2      9223372039019874757  0.845373   851.131643                 False   \n",
       "3      9223372040703864032  0.874041   827.301270                 False   \n",
       "4      9223372036858472384  0.811056   498.691989                 False   \n",
       "...                    ...       ...          ...                   ...   \n",
       "51995  9223372045484968503  0.374991  1191.524846                 False   \n",
       "51996  9223372055732073132  0.086260  2177.574975                 False   \n",
       "51997  9223372050382395178  0.593342   927.018908                 False   \n",
       "51998  9223372060383036336  0.330675  1574.831536                 False   \n",
       "51999  9223372060383036336  0.042080  1045.934023                 False   \n",
       "\n",
       "                     m3_id                m1_id                m2_id  \n",
       "0      9223372036417148615  9223372036337899864  9223372036518620732  \n",
       "1      9223372036893973198  9223372036342602658  9223372036486077725  \n",
       "2      9223372039019874757  9223372036798549652  9223372036831413043  \n",
       "3      9223372040703864032  9175344300051172004  9223372036970140153  \n",
       "4      9223372036849763822  9223372036604300802  9223372036858472384  \n",
       "...                    ...                  ...                  ...  \n",
       "51995  7221722345150349362  9223372040375713266  9223372045484968503  \n",
       "51996  9223372045467470339  9223372049114720240  9223372055732073132  \n",
       "51997  9223372048715447446  9223372039881730251  9223372050382395178  \n",
       "51998  9223372055084457209  9223372039071111476  9223372060383036336  \n",
       "51999  9223372060383036336  9223372050744117162  9223372055084457209  \n",
       "\n",
       "[52000 rows x 27 columns]"
      ]
     },
     "execution_count": 804,
     "metadata": {},
     "output_type": "execute_result"
    }
   ],
   "source": [
    "df_trips"
   ]
  },
  {
   "cell_type": "code",
   "execution_count": 810,
   "metadata": {},
   "outputs": [],
   "source": [
    "df_run = []\n",
    "\n",
    "Ntriple = int(len(df_trips[\"M1\"])/Nruns)\n",
    "\n",
    "for i in range(Ntriple):\n",
    "    df_i = df_trips[Ntriple*i:Ntriple*(i+1)][df_trips[Ntriple*i:Ntriple*(i+1)][\"invalid_merger_random\"]==False]\n",
    "    df_run.append(df_i)"
   ]
  },
  {
   "cell_type": "code",
   "execution_count": 819,
   "metadata": {},
   "outputs": [],
   "source": [
    "lgzbins,Tr_prompt,Tr_after_ej,net_Tr,net_Tr_ej = triple_outcomes_merger_rate(df_run,zmax=4,zbinsize=0.01,lgzbinsize=0.15,lgzmin=-3,lgzmax=1.0)"
   ]
  },
  {
   "cell_type": "code",
   "execution_count": 816,
   "metadata": {},
   "outputs": [],
   "source": [
    "#lgzbins_Tr_plot,Tr_p,Tr_a_ej,net_Tr,net_Tr_ej  = triple_outcomes_merger_rate(df_run,zmax=4,zbinsize=0.01,lgzbinsize=0.3,lgzmin=-3,lgzmax=1.0)"
   ]
  },
  {
   "cell_type": "code",
   "execution_count": 900,
   "metadata": {},
   "outputs": [
    {
     "data": {
      "text/plain": [
       "0.31289372234881047"
      ]
     },
     "execution_count": 900,
     "metadata": {},
     "output_type": "execute_result"
    }
   ],
   "source": [
    "binary_mr"
   ]
  },
  {
   "cell_type": "code",
   "execution_count": 824,
   "metadata": {},
   "outputs": [
    {
     "name": "stdout",
     "output_type": "stream",
     "text": [
      "0.343545949260361\n"
     ]
    }
   ],
   "source": [
    "net_merger_rate = binary_mr+np.mean(net_Tr)+np.mean(net_Tr_ej)+weak_mr\n",
    "print(net_merger_rate)"
   ]
  },
  {
   "cell_type": "code",
   "execution_count": 832,
   "metadata": {},
   "outputs": [],
   "source": [
    "filepath='/Users/pranavsatheesh/Triples/Github/Illustris_Data/'\n",
    "#lgztrip_bins,alltrip_mr = np.loadtxt(filepath+\"triple_system.txt\")\n",
    "lgz_bins,all_mr = np.loadtxt(filepath+\"all_system.txt\")"
   ]
  },
  {
   "cell_type": "code",
   "execution_count": null,
   "metadata": {},
   "outputs": [],
   "source": []
  },
  {
   "cell_type": "code",
   "execution_count": 836,
   "metadata": {},
   "outputs": [
    {
     "data": {
      "image/png": "[encoded data removed]",
      "text/plain": [
       "<Figure size 900x800 with 1 Axes>"
      ]
     },
     "metadata": {},
     "output_type": "display_data"
    }
   ],
   "source": [
    "plt.figure(figsize=(9,8))\n",
    "plt.rcParams.update({'font.size': 20})\n",
    "plt.plot(lgz_bins,all_mr,color=\"red\",linestyle=\"-.\",label=\"Merger rate before ejection\",linewidth=1.8)\n",
    "plt.plot(lgzbins,dNdlogzdt_bin+np.mean(Tr_prompt+Tr_after_ej,axis=0)+dNdlogzdt_weak,color=\"black\",linestyle=\"-\",linewidth=1.8,label=\"Merger rate after ejection\")\n",
    "plt.ylim(2*10**-8,)\n",
    "plt.yscale(\"log\")\n",
    "plt.xlabel(\"$\\log z$\",fontsize=20)\n",
    "plt.ylabel(r\"$\\log (d^2 N / (d \\log z dt)  \\times 1\\text{yr})$\",fontsize=20)\n",
    "plt.legend(fontsize=16)\n",
    "plt.tight_layout()"
   ]
  },
  {
   "cell_type": "code",
   "execution_count": null,
   "metadata": {},
   "outputs": [],
   "source": []
  }
 ],
 "metadata": {
  "kernelspec": {
   "display_name": "ast",
   "language": "python",
   "name": "python3"
  },
  "language_info": {
   "codemirror_mode": {
    "name": "ipython",
    "version": 3
   },
   "file_extension": ".py",
   "mimetype": "text/x-python",
   "name": "python",
   "nbconvert_exporter": "python",
   "pygments_lexer": "ipython3",
   "version": "3.10.8"
  }
 },
 "nbformat": 4,
 "nbformat_minor": 2
}
