{
 "cells": [
  {
   "cell_type": "code",
   "execution_count": 28,
   "metadata": {},
   "outputs": [],
   "source": [
    "import scipy.stats as st\n",
    "import numpy as np\n",
    "import matplotlib.pyplot as plt\n",
    "import pandas as pd\n",
    "\n",
    "from astropy import constants as const\n",
    "from astropy import units as u\n",
    "\n",
    "from astropy.cosmology import WMAP9 as cosmo\n",
    "from astropy.cosmology import z_at_value"
   ]
  },
  {
   "cell_type": "code",
   "execution_count": 84,
   "metadata": {},
   "outputs": [],
   "source": [
    "#from fitting the Hoffman&Loeb distribution\n",
    "\n",
    "mean = 2.87678065\n",
    "stdev = 0.31454837\n",
    "\n",
    "def trip_log_v():\n",
    "    return st.norm.rvs(mean,stdev)\n"
   ]
  },
  {
   "cell_type": "code",
   "execution_count": 140,
   "metadata": {},
   "outputs": [],
   "source": [
    "def v_scaled(m3,qout):\n",
    "\n",
    "    q_HL = 1/10\n",
    "    m3_HL = 10**7\n",
    "    v_HL = trip_log_v()\n",
    "\n",
    "    return (np.sqrt((m3_HL*(1+q_HL))/(m3*(1+qout))) * 10**(v_HL))"
   ]
  },
  {
   "cell_type": "code",
   "execution_count": 138,
   "metadata": {},
   "outputs": [
    {
     "name": "stdout",
     "output_type": "stream",
     "text": [
      "2.967434339951346\n"
     ]
    },
    {
     "data": {
      "text/plain": [
       "968.2109625845791"
      ]
     },
     "execution_count": 138,
     "metadata": {},
     "output_type": "execute_result"
    }
   ],
   "source": [
    "v_scaled(10**7,10**-2)"
   ]
  },
  {
   "cell_type": "code",
   "execution_count": 77,
   "metadata": {},
   "outputs": [
    {
     "data": {
      "text/plain": [
       "741.7525966270515"
      ]
     },
     "execution_count": 77,
     "metadata": {},
     "output_type": "execute_result"
    }
   ],
   "source": [
    "10**(trip_log_v(mean,stdev))"
   ]
  },
  {
   "cell_type": "code",
   "execution_count": 30,
   "metadata": {},
   "outputs": [
    {
     "data": {
      "image/png": "[encoded data removed]",
      "text/plain": [
       "<Figure size 640x480 with 1 Axes>"
      ]
     },
     "metadata": {},
     "output_type": "display_data"
    }
   ],
   "source": [
    "plt.hist(st.norm.rvs(mean,stdev,1000),bins=20,density=True)\n",
    "plt.show()"
   ]
  },
  {
   "cell_type": "code",
   "execution_count": 37,
   "metadata": {},
   "outputs": [],
   "source": [
    "df_trip = pd.read_csv(\"Data/triples-data-with-flags.csv\",index_col= False)\n",
    "df_trip.head()\n",
    "t_triples = df_trip[(df_trip[\"Flag\"] == \"Tr-ej\") | (df_trip[\"Flag\"] == \"No\")]"
   ]
  },
  {
   "cell_type": "code",
   "execution_count": 56,
   "metadata": {},
   "outputs": [
    {
     "data": {
      "text/plain": [
       "377"
      ]
     },
     "execution_count": 56,
     "metadata": {},
     "output_type": "execute_result"
    }
   ],
   "source": [
    "np.shape(t_triples)[0]"
   ]
  },
  {
   "cell_type": "code",
   "execution_count": 62,
   "metadata": {},
   "outputs": [
    {
     "data": {
      "text/plain": [
       "array([ 4,  5,  8, 11])"
      ]
     },
     "execution_count": 62,
     "metadata": {},
     "output_type": "execute_result"
    }
   ],
   "source": [
    "np.sort([11,4,5,8])"
   ]
  },
  {
   "cell_type": "code",
   "execution_count": 141,
   "metadata": {},
   "outputs": [],
   "source": [
    "kicked_BH = []\n",
    "q_out = []\n",
    "v_kick = []\n",
    "\n",
    "for i in range(np.shape(t_triples)[0]):\n",
    "    m1 = t_triples[\"Mass 1\"].iloc[i]\n",
    "    m2 = t_triples[\"Mass 2\"].iloc[i]\n",
    "    m3 = t_triples[\"Mass 3\"].iloc[i]\n",
    "    m_sort = np.sort([m1,m2,m3])\n",
    "\n",
    "    m3 = m_sort[0]\n",
    "    qout = m_sort[0]/(m_sort[1]+m_sort[2])\n",
    "    kicked_BH.append(m3)\n",
    "    q_out.append(qout)\n",
    "\n",
    "    v_kick.append(v_scaled(m3,qout))\n"
   ]
  },
  {
   "cell_type": "code",
   "execution_count": 160,
   "metadata": {},
   "outputs": [
    {
     "data": {
      "text/plain": [
       "(377,)"
      ]
     },
     "execution_count": 160,
     "metadata": {},
     "output_type": "execute_result"
    }
   ],
   "source": [
    "np.shape(v_kick)"
   ]
  },
  {
   "cell_type": "code",
   "execution_count": 165,
   "metadata": {},
   "outputs": [],
   "source": [
    "t_triples.insert(5,\"Slingshot_kick\",v_kick,True)"
   ]
  },
  {
   "cell_type": "code",
   "execution_count": 166,
   "metadata": {},
   "outputs": [
    {
     "data": {
      "text/html": [
       "<div>\n",
       "<style scoped>\n",
       "    .dataframe tbody tr th:only-of-type {\n",
       "        vertical-align: middle;\n",
       "    }\n",
       "\n",
       "    .dataframe tbody tr th {\n",
       "        vertical-align: top;\n",
       "    }\n",
       "\n",
       "    .dataframe thead th {\n",
       "        text-align: right;\n",
       "    }\n",
       "</style>\n",
       "<table border=\"1\" class=\"dataframe\">\n",
       "  <thead>\n",
       "    <tr style=\"text-align: right;\">\n",
       "      <th></th>\n",
       "      <th>Unnamed: 0</th>\n",
       "      <th>Mass 1</th>\n",
       "      <th>Mass 2</th>\n",
       "      <th>Mass 3</th>\n",
       "      <th>t_merger</th>\n",
       "      <th>Slingshot_kick</th>\n",
       "      <th>Flag</th>\n",
       "    </tr>\n",
       "  </thead>\n",
       "  <tbody>\n",
       "    <tr>\n",
       "      <th>0</th>\n",
       "      <td>0</td>\n",
       "      <td>2.150737e+07</td>\n",
       "      <td>8.204738e+06</td>\n",
       "      <td>5.276829e+07</td>\n",
       "      <td>1.985633e+09</td>\n",
       "      <td>518.511388</td>\n",
       "      <td>No</td>\n",
       "    </tr>\n",
       "    <tr>\n",
       "      <th>2</th>\n",
       "      <td>2</td>\n",
       "      <td>1.546540e+08</td>\n",
       "      <td>4.211761e+07</td>\n",
       "      <td>3.132749e+08</td>\n",
       "      <td>3.025313e+09</td>\n",
       "      <td>704.430926</td>\n",
       "      <td>No</td>\n",
       "    </tr>\n",
       "    <tr>\n",
       "      <th>3</th>\n",
       "      <td>3</td>\n",
       "      <td>1.546540e+08</td>\n",
       "      <td>4.211761e+07</td>\n",
       "      <td>3.132749e+08</td>\n",
       "      <td>1.972738e+09</td>\n",
       "      <td>280.127072</td>\n",
       "      <td>No</td>\n",
       "    </tr>\n",
       "    <tr>\n",
       "      <th>4</th>\n",
       "      <td>4</td>\n",
       "      <td>9.436961e+06</td>\n",
       "      <td>1.002870e+06</td>\n",
       "      <td>4.551391e+08</td>\n",
       "      <td>4.814316e+09</td>\n",
       "      <td>860.950034</td>\n",
       "      <td>No</td>\n",
       "    </tr>\n",
       "    <tr>\n",
       "      <th>7</th>\n",
       "      <td>7</td>\n",
       "      <td>9.436961e+06</td>\n",
       "      <td>1.002870e+06</td>\n",
       "      <td>4.551391e+08</td>\n",
       "      <td>9.469051e+09</td>\n",
       "      <td>2355.523183</td>\n",
       "      <td>No</td>\n",
       "    </tr>\n",
       "    <tr>\n",
       "      <th>...</th>\n",
       "      <td>...</td>\n",
       "      <td>...</td>\n",
       "      <td>...</td>\n",
       "      <td>...</td>\n",
       "      <td>...</td>\n",
       "      <td>...</td>\n",
       "      <td>...</td>\n",
       "    </tr>\n",
       "    <tr>\n",
       "      <th>523</th>\n",
       "      <td>523</td>\n",
       "      <td>1.244161e+11</td>\n",
       "      <td>5.273364e+08</td>\n",
       "      <td>1.252976e+09</td>\n",
       "      <td>1.272448e+10</td>\n",
       "      <td>37.840618</td>\n",
       "      <td>No</td>\n",
       "    </tr>\n",
       "    <tr>\n",
       "      <th>524</th>\n",
       "      <td>524</td>\n",
       "      <td>1.712377e+11</td>\n",
       "      <td>5.514613e+08</td>\n",
       "      <td>1.583394e+09</td>\n",
       "      <td>1.186029e+10</td>\n",
       "      <td>139.851117</td>\n",
       "      <td>No</td>\n",
       "    </tr>\n",
       "    <tr>\n",
       "      <th>525</th>\n",
       "      <td>525</td>\n",
       "      <td>5.533509e+08</td>\n",
       "      <td>1.844169e+07</td>\n",
       "      <td>2.757988e+08</td>\n",
       "      <td>1.108624e+10</td>\n",
       "      <td>657.322876</td>\n",
       "      <td>No</td>\n",
       "    </tr>\n",
       "    <tr>\n",
       "      <th>528</th>\n",
       "      <td>528</td>\n",
       "      <td>1.089103e+07</td>\n",
       "      <td>6.823273e+06</td>\n",
       "      <td>2.158876e+07</td>\n",
       "      <td>1.311330e+10</td>\n",
       "      <td>1416.961298</td>\n",
       "      <td>No</td>\n",
       "    </tr>\n",
       "    <tr>\n",
       "      <th>530</th>\n",
       "      <td>530</td>\n",
       "      <td>2.579696e+08</td>\n",
       "      <td>5.338969e+07</td>\n",
       "      <td>5.555056e+07</td>\n",
       "      <td>1.373661e+10</td>\n",
       "      <td>330.742315</td>\n",
       "      <td>No</td>\n",
       "    </tr>\n",
       "  </tbody>\n",
       "</table>\n",
       "<p>377 rows × 7 columns</p>\n",
       "</div>"
      ],
      "text/plain": [
       "     Unnamed: 0        Mass 1        Mass 2        Mass 3      t_merger  \\\n",
       "0             0  2.150737e+07  8.204738e+06  5.276829e+07  1.985633e+09   \n",
       "2             2  1.546540e+08  4.211761e+07  3.132749e+08  3.025313e+09   \n",
       "3             3  1.546540e+08  4.211761e+07  3.132749e+08  1.972738e+09   \n",
       "4             4  9.436961e+06  1.002870e+06  4.551391e+08  4.814316e+09   \n",
       "7             7  9.436961e+06  1.002870e+06  4.551391e+08  9.469051e+09   \n",
       "..          ...           ...           ...           ...           ...   \n",
       "523         523  1.244161e+11  5.273364e+08  1.252976e+09  1.272448e+10   \n",
       "524         524  1.712377e+11  5.514613e+08  1.583394e+09  1.186029e+10   \n",
       "525         525  5.533509e+08  1.844169e+07  2.757988e+08  1.108624e+10   \n",
       "528         528  1.089103e+07  6.823273e+06  2.158876e+07  1.311330e+10   \n",
       "530         530  2.579696e+08  5.338969e+07  5.555056e+07  1.373661e+10   \n",
       "\n",
       "     Slingshot_kick Flag  \n",
       "0        518.511388   No  \n",
       "2        704.430926   No  \n",
       "3        280.127072   No  \n",
       "4        860.950034   No  \n",
       "7       2355.523183   No  \n",
       "..              ...  ...  \n",
       "523       37.840618   No  \n",
       "524      139.851117   No  \n",
       "525      657.322876   No  \n",
       "528     1416.961298   No  \n",
       "530      330.742315   No  \n",
       "\n",
       "[377 rows x 7 columns]"
      ]
     },
     "execution_count": 166,
     "metadata": {},
     "output_type": "execute_result"
    }
   ],
   "source": [
    "t_triples"
   ]
  },
  {
   "cell_type": "code",
   "execution_count": 168,
   "metadata": {},
   "outputs": [],
   "source": [
    "t_triples.to_csv(\"Data/triples-slingshot-data.csv\",index=False)"
   ]
  },
  {
   "cell_type": "code",
   "execution_count": 158,
   "metadata": {},
   "outputs": [
    {
     "name": "stdout",
     "output_type": "stream",
     "text": [
      "0.6445623342175066\n"
     ]
    }
   ],
   "source": [
    "v_kick = np.array(v_kick)\n",
    "print(len(np.argwhere(v_kick>500))/len(v_kick))"
   ]
  },
  {
   "cell_type": "code",
   "execution_count": 152,
   "metadata": {},
   "outputs": [
    {
     "data": {
      "text/plain": [
       "<matplotlib.lines.Line2D at 0x146544ee0>"
      ]
     },
     "execution_count": 152,
     "metadata": {},
     "output_type": "execute_result"
    },
    {
     "data": {
      "image/png": "[encoded data removed]",
      "text/plain": [
       "<Figure size 640x480 with 1 Axes>"
      ]
     },
     "metadata": {},
     "output_type": "display_data"
    }
   ],
   "source": [
    "plt.hist(np.log10(v_kick))\n",
    "plt.axvline(x=np.log10(500),color=\"black\",linestyle=\"--\")\n",
    "plt.axvline(x=np.log10(1400),color=\"red\",linestyle=\"--\")"
   ]
  },
  {
   "cell_type": "code",
   "execution_count": null,
   "metadata": {},
   "outputs": [],
   "source": []
  }
 ],
 "metadata": {
  "kernelspec": {
   "display_name": "ast",
   "language": "python",
   "name": "python3"
  },
  "language_info": {
   "codemirror_mode": {
    "name": "ipython",
    "version": 3
   },
   "file_extension": ".py",
   "mimetype": "text/x-python",
   "name": "python",
   "nbconvert_exporter": "python",
   "pygments_lexer": "ipython3",
   "version": "3.10.8"
  },
  "orig_nbformat": 4
 },
 "nbformat": 4,
 "nbformat_minor": 2
}
