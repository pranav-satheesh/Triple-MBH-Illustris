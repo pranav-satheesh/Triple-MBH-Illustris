{
 "cells": [
  {
   "cell_type": "code",
   "execution_count": 1,
   "id": "adc352c2",
   "metadata": {},
   "outputs": [],
   "source": [
    "import numpy as np\n",
    "import matplotlib.pyplot as plt\n",
    "import scipy.interpolate as interp"
   ]
  },
  {
   "cell_type": "code",
   "execution_count": null,
   "id": "b3781e05",
   "metadata": {},
   "outputs": [],
   "source": [
    "# creating the grid\n",
    "\n",
    "x = np.linspace(1,4,11);\n",
    "y = np.linspace(4,7,22);\n",
    "z = np.linspace(7,9,33);\n",
    "V = np.zeros"
   ]
  }
 ],
 "metadata": {
  "kernelspec": {
   "display_name": "Python 3 (ipykernel)",
   "language": "python",
   "name": "python3"
  },
  "language_info": {
   "codemirror_mode": {
    "name": "ipython",
    "version": 3
   },
   "file_extension": ".py",
   "mimetype": "text/x-python",
   "name": "python",
   "nbconvert_exporter": "python",
   "pygments_lexer": "ipython3",
   "version": "3.10.8"
  }
 },
 "nbformat": 4,
 "nbformat_minor": 5
}
