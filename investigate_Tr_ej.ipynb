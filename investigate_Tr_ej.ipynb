{
 "cells": [
  {
   "cell_type": "code",
   "execution_count": 115,
   "metadata": {},
   "outputs": [],
   "source": [
    "import numpy as np\n",
    "import pandas as pd\n",
    "import BH_kicks as kicks\n",
    "import Triple_dynamics as Tr_dyn\n",
    "import matplotlib.pyplot as plt\n",
    "\n",
    "\n",
    "from astropy.cosmology import WMAP9 as cosmo\n",
    "from astropy.cosmology import z_at_value\n",
    "from astropy import units as u\n",
    "from astropy import constants as const"
   ]
  },
  {
   "cell_type": "code",
   "execution_count": 48,
   "metadata": {},
   "outputs": [],
   "source": [
    "file_path = '/Users/pranavsatheesh/Triples/Github/Triple-Outcomes/Data/'\n",
    "\n",
    "strong_triples_file_path = file_path+\"strong_triples_data_from_ill.csv\"\n",
    "\n",
    "df_triples = pd.read_csv(strong_triples_file_path,index_col=False)\n",
    "df_triples.columns = df_triples.columns.str.replace(\"-\", \"_\", regex=True) "
   ]
  },
  {
   "cell_type": "code",
   "execution_count": 49,
   "metadata": {},
   "outputs": [
    {
     "name": "stdout",
     "output_type": "stream",
     "text": [
      "Index of the closest value: 410\n",
      "Closest value: 9.890662534797627\n"
     ]
    }
   ],
   "source": [
    "target_value= 9.890662534797627\n",
    "diff = np.abs(np.log10(df_triples[\"t_triple_form\"]) - target_value)\n",
    "closest_index = diff.idxmin()\n",
    "# Print the index and the closest value\n",
    "print(f\"Index of the closest value: {closest_index}\")\n",
    "print(f\"Closest value: {np.log10(df_triples['t_triple_form'].loc[closest_index])}\")"
   ]
  },
  {
   "cell_type": "code",
   "execution_count": 50,
   "metadata": {},
   "outputs": [
    {
     "data": {
      "text/plain": [
       "M1                      5423034.642281\n",
       "M2                      2504314.347669\n",
       "M3                      4808757.494227\n",
       "qin                           0.461792\n",
       "qout                          0.606603\n",
       "t_triple_form        7774322185.205505\n",
       "z_form                        0.631743\n",
       "t_form1              5907878613.476105\n",
       "t_form2              7746696597.111934\n",
       "t_merge_bin          9553262933.675728\n",
       "a_2nd_ovtks                   0.027901\n",
       "bin_merger_flag                    Yes\n",
       "bhid1              9223372039018758933\n",
       "bhid2              9223372049574368164\n",
       "bhid3              9223372037849878320\n",
       "bhid4              9223372049574368164\n",
       "f_gas                          0.40031\n",
       "Vescape                      327.08956\n",
       "Phi_DM                        0.282227\n",
       "Phi_star                      0.547906\n",
       "M_halo               6776279134.845192\n",
       "M_star               1092773218.260845\n",
       "rhalf                         3.868777\n",
       "sigma                         0.050013\n",
       "rbulge                        1.458332\n",
       "Name: 410, dtype: object"
      ]
     },
     "execution_count": 50,
     "metadata": {},
     "output_type": "execute_result"
    }
   ],
   "source": [
    "df_triples.iloc[410]"
   ]
  },
  {
   "cell_type": "code",
   "execution_count": 51,
   "metadata": {},
   "outputs": [
    {
     "data": {
      "text/plain": [
       "0.19471043723260845"
      ]
     },
     "execution_count": 51,
     "metadata": {},
     "output_type": "execute_result"
    }
   ],
   "source": [
    "kicks.a_hard(df_triples.iloc[410][\"M1\"],df_triples.iloc[410][\"qin\"])"
   ]
  },
  {
   "cell_type": "code",
   "execution_count": 52,
   "metadata": {},
   "outputs": [],
   "source": [
    "a_triple = 0.027901"
   ]
  },
  {
   "cell_type": "code",
   "execution_count": 53,
   "metadata": {},
   "outputs": [
    {
     "name": "stdout",
     "output_type": "stream",
     "text": [
      "6.7342423787122785 6.3986888416667895 6.682032876143303\n"
     ]
    }
   ],
   "source": [
    "print(np.log10(df_triples.iloc[410][\"M1\"]),np.log10(df_triples.iloc[410][\"M2\"]),np.log10(df_triples.iloc[410][\"M3\"]))"
   ]
  },
  {
   "cell_type": "code",
   "execution_count": 101,
   "metadata": {},
   "outputs": [
    {
     "name": "stdout",
     "output_type": "stream",
     "text": [
      "0.043113967268450896\n"
     ]
    }
   ],
   "source": [
    "a_new = a_triple * (df_triples.iloc[410][\"M3\"]/df_triples.iloc[410][\"M2\"])/( 1 + 0.4*(df_triples.iloc[410][\"M3\"]/(df_triples.iloc[410][\"M1\"]+df_triples.iloc[410][\"M2\"])))\n",
    "print(a_new)"
   ]
  },
  {
   "cell_type": "code",
   "execution_count": 55,
   "metadata": {},
   "outputs": [
    {
     "data": {
      "text/plain": [
       "(403.67245443724863,\n",
       " 0.04311450183095533,\n",
       " 0.8867281534097675,\n",
       " 10231792.136507109)"
      ]
     },
     "execution_count": 55,
     "metadata": {},
     "output_type": "execute_result"
    }
   ],
   "source": [
    "kicks.v_and_a_after_slingshot(df_triples.iloc[410][\"M1\"],df_triples.iloc[410][\"M2\"],df_triples.iloc[410][\"M3\"],df_triples.iloc[410][\"a_2nd_ovtks\"],False)"
   ]
  },
  {
   "cell_type": "code",
   "execution_count": 108,
   "metadata": {},
   "outputs": [],
   "source": [
    "a0 = 0.027901\n",
    "a1 = 0.043113967268450896\n",
    "m1 = df_triples.iloc[410][\"M1\"]\n",
    "m2 = df_triples.iloc[410][\"M2\"]\n",
    "m3 = df_triples.iloc[410][\"M3\"]"
   ]
  },
  {
   "cell_type": "code",
   "execution_count": 70,
   "metadata": {},
   "outputs": [
    {
     "data": {
      "text/plain": [
       "9.890662534797627"
      ]
     },
     "execution_count": 70,
     "metadata": {},
     "output_type": "execute_result"
    }
   ],
   "source": [
    "np.log10(df_triples.t_triple_form[410])"
   ]
  },
  {
   "cell_type": "code",
   "execution_count": 56,
   "metadata": {},
   "outputs": [
    {
     "data": {
      "text/plain": [
       "9.980151730961815"
      ]
     },
     "execution_count": 56,
     "metadata": {},
     "output_type": "execute_result"
    }
   ],
   "source": [
    "np.log10(df_triples.t_merge_bin[410])"
   ]
  },
  {
   "cell_type": "code",
   "execution_count": 193,
   "metadata": {},
   "outputs": [
    {
     "data": {
      "text/plain": [
       "9.250161483192995"
      ]
     },
     "execution_count": 193,
     "metadata": {},
     "output_type": "execute_result"
    }
   ],
   "source": [
    "np.log10(df_triples.t_merge_bin[410]-df_triples.t_triple_form[410])"
   ]
  },
  {
   "cell_type": "code",
   "execution_count": 58,
   "metadata": {},
   "outputs": [],
   "source": [
    "savepath = '/Users/pranavsatheesh/Triples/Github/Illustris_Data/'\n",
    "a_dadt_filename = savepath+\"a_and_dadt_for_all_strong_triples.npz\"\n",
    "a_dadt_file =np.load(a_dadt_filename)\n",
    "st_seps = a_dadt_file['st_seps']\n",
    "st_dadt = a_dadt_file['st_dadt']"
   ]
  },
  {
   "cell_type": "code",
   "execution_count": 238,
   "metadata": {},
   "outputs": [
    {
     "data": {
      "text/plain": [
       "10.038674808217012"
      ]
     },
     "execution_count": 238,
     "metadata": {},
     "output_type": "execute_result"
    }
   ],
   "source": [
    "np.log10(df_triples.t_triple_form[410]+Tr_dyn.timsecale_to_merger(410,a0*0.9))"
   ]
  },
  {
   "cell_type": "code",
   "execution_count": 235,
   "metadata": {},
   "outputs": [
    {
     "name": "stderr",
     "output_type": "stream",
     "text": [
      "/Users/pranavsatheesh/Triples/Github/Triple-Outcomes/Triple_dynamics.py:56: RuntimeWarning: divide by zero encountered in divide\n",
      "  func = 1/dadt\n",
      "/Users/pranavsatheesh/Triples/Github/Triple-Outcomes/Triple_dynamics.py:47: IntegrationWarning: The maximum number of subdivisions (50) has been achieved.\n",
      "  If increasing the limit yields no improvement it is advised to analyze \n",
      "  the integrand in order to determine the difficulties.  If the position of a \n",
      "  local difficulty can be determined (singularity, discontinuity) one will \n",
      "  probably gain from splitting up the interval and calling the integrator \n",
      "  on the subranges.  Perhaps a special-purpose integrator should be used.\n",
      "  tau = integrate.quad(interp_func,a_triple_after,0)[0]\n"
     ]
    },
    {
     "data": {
      "text/plain": [
       "10.784623443395438"
      ]
     },
     "execution_count": 235,
     "metadata": {},
     "output_type": "execute_result"
    }
   ],
   "source": [
    "np.log10(df_triples.t_triple_form[410]+Tr_dyn.timsecale_to_merger(410,a0)*(a1/a0)**4*(m3/m2)*(m1+m3)/(m1+m2))"
   ]
  },
  {
   "cell_type": "code",
   "execution_count": 98,
   "metadata": {},
   "outputs": [
    {
     "data": {
      "text/plain": [
       "-0.41444085089137694"
      ]
     },
     "execution_count": 98,
     "metadata": {},
     "output_type": "execute_result"
    }
   ],
   "source": [
    "np.log10(z_at_value(cosmo.age,(df_triples.t_merge_bin[410]/10**9)*u.Gyr,zmin=1e-9).value)"
   ]
  },
  {
   "cell_type": "code",
   "execution_count": 161,
   "metadata": {},
   "outputs": [],
   "source": [
    "def dadt_gw(m1,m2,a):\n",
    "    dadt_factor =  ((-64/5)*(const.G**3/const.c**5) * (m1*const.M_sun*m2*const.M_sun*(m1*const.M_sun+m2*const.M_sun))).to(u.pc**4*u.yr**-1)\n",
    "    return dadt_factor.value * (a)**(-3)"
   ]
  },
  {
   "cell_type": "code",
   "execution_count": null,
   "metadata": {},
   "outputs": [],
   "source": [
    "def dadt_gw_factor(m1, m2):\n",
    "    # Calculate the constant factor in dadt\n",
    "    return ((-64/5)*(const.G**3/const.c**5) * \n",
    "            (m1*const.M_sun * m2*const.M_sun * (m1*const.M_sun + m2*const.M_sun))\n",
    "           ).to(u.pc**4 * u.yr**-1).value\n",
    "\n",
    "def merger_timescale(m1, m2, a0):\n",
    "    # C is the dadt factor without dependence on a\n",
    "    C = dadt_gw_factor(m1, m2)\n",
    "    "
   ]
  },
  {
   "cell_type": "code",
   "execution_count": 184,
   "metadata": {},
   "outputs": [],
   "source": [
    "def merger_timescale(m1, m2, a0):\n",
    "    # Calculate the constant factor (in years)\n",
    "    factor = (5 / 256) * (const.c**5 / (const.G**3 * m1 * const.M_sun * m2 * const.M_sun * (m1 * const.M_sun + m2 * const.M_sun)))\n",
    "    a0 = (a0*u.pc).to(u.m)\n",
    "    # Return the timescale in years\n",
    "    return (factor * a0**4).to(u.yr)"
   ]
  },
  {
   "cell_type": "code",
   "execution_count": 185,
   "metadata": {},
   "outputs": [
    {
     "data": {
      "text/latex": [
       "$3.272026 \\times 10^{12} \\; \\mathrm{yr}$"
      ],
      "text/plain": [
       "<Quantity 3.27202598e+12 yr>"
      ]
     },
     "execution_count": 185,
     "metadata": {},
     "output_type": "execute_result"
    }
   ],
   "source": [
    "merger_timescale(m1,m2,a0)"
   ]
  },
  {
   "cell_type": "code",
   "execution_count": 230,
   "metadata": {},
   "outputs": [
    {
     "data": {
      "text/latex": [
       "$1.8655617 \\times 10^{13} \\; \\mathrm{yr}$"
      ],
      "text/plain": [
       "<Quantity 1.8655617e+13 yr>"
      ]
     },
     "execution_count": 230,
     "metadata": {},
     "output_type": "execute_result"
    }
   ],
   "source": [
    "merger_timescale(m1,m2,a1)"
   ]
  },
  {
   "cell_type": "code",
   "execution_count": 231,
   "metadata": {},
   "outputs": [
    {
     "data": {
      "text/latex": [
       "$7.5273455 \\times 10^{12} \\; \\mathrm{yr}$"
      ],
      "text/plain": [
       "<Quantity 7.52734554e+12 yr>"
      ]
     },
     "execution_count": 231,
     "metadata": {},
     "output_type": "execute_result"
    }
   ],
   "source": [
    "merger_timescale(m1,m3,a1)"
   ]
  },
  {
   "cell_type": "code",
   "execution_count": 201,
   "metadata": {},
   "outputs": [],
   "source": [
    "from scipy.interpolate import interp1d\n",
    "\n",
    "def tinsp_interpolate(sep, dadt):\n",
    "        '''\n",
    "        Perform interpolation for finding t inspiral\n",
    "        interpolates x=sep, y=1/dadt_total\n",
    "        '''\n",
    "        func = 1/dadt\n",
    "        #remove infinities for interpolatio to avoid biased results\n",
    "        func[func==np.inf] = np.nanmin(func)/10**10  #find a small value compared to minimum\n",
    "        #perform interpolation\n",
    "        interp_func = interp1d(sep, func, bounds_error=False, fill_value=0) \n",
    "        return interp_func"
   ]
  },
  {
   "cell_type": "code",
   "execution_count": 202,
   "metadata": {},
   "outputs": [],
   "source": [
    "import scipy as sp"
   ]
  },
  {
   "cell_type": "code",
   "execution_count": 205,
   "metadata": {},
   "outputs": [
    {
     "name": "stderr",
     "output_type": "stream",
     "text": [
      "/var/folders/nd/cy3yj2tx2vlct0d__5r7wcn00000gn/T/ipykernel_36884/1526084891.py:8: RuntimeWarning: divide by zero encountered in divide\n",
      "  func = 1/dadt\n"
     ]
    }
   ],
   "source": [
    "interp_func = tinsp_interpolate(st_seps[410],st_dadt[410])"
   ]
  },
  {
   "cell_type": "code",
   "execution_count": 206,
   "metadata": {},
   "outputs": [],
   "source": [
    "import scipy.integrate as integrate"
   ]
  },
  {
   "cell_type": "code",
   "execution_count": 214,
   "metadata": {},
   "outputs": [],
   "source": [
    "da = np.diff(st_seps[410])"
   ]
  },
  {
   "cell_type": "code",
   "execution_count": 219,
   "metadata": {},
   "outputs": [
    {
     "name": "stderr",
     "output_type": "stream",
     "text": [
      "/var/folders/nd/cy3yj2tx2vlct0d__5r7wcn00000gn/T/ipykernel_36884/2238186084.py:1: RuntimeWarning: invalid value encountered in divide\n",
      "  dts = da/st_dadt[410][:-1]\n"
     ]
    }
   ],
   "source": [
    "dts = da/st_dadt[410][:-1]"
   ]
  },
  {
   "cell_type": "code",
   "execution_count": 209,
   "metadata": {},
   "outputs": [
    {
     "name": "stderr",
     "output_type": "stream",
     "text": [
      "/var/folders/nd/cy3yj2tx2vlct0d__5r7wcn00000gn/T/ipykernel_36884/501956783.py:1: IntegrationWarning: The maximum number of subdivisions (50) has been achieved.\n",
      "  If increasing the limit yields no improvement it is advised to analyze \n",
      "  the integrand in order to determine the difficulties.  If the position of a \n",
      "  local difficulty can be determined (singularity, discontinuity) one will \n",
      "  probably gain from splitting up the interval and calling the integrator \n",
      "  on the subranges.  Perhaps a special-purpose integrator should be used.\n",
      "  np.log10(integrate.quad(interp_func,0.1,0)[0])\n"
     ]
    },
    {
     "data": {
      "text/plain": [
       "9.919526510271417"
      ]
     },
     "execution_count": 209,
     "metadata": {},
     "output_type": "execute_result"
    }
   ],
   "source": [
    "np.log10(integrate.quad(interp_func,0.1,0)[0])"
   ]
  },
  {
   "cell_type": "code",
   "execution_count": null,
   "metadata": {},
   "outputs": [],
   "source": []
  }
 ],
 "metadata": {
  "kernelspec": {
   "display_name": "ast",
   "language": "python",
   "name": "python3"
  },
  "language_info": {
   "codemirror_mode": {
    "name": "ipython",
    "version": 3
   },
   "file_extension": ".py",
   "mimetype": "text/x-python",
   "name": "python",
   "nbconvert_exporter": "python",
   "pygments_lexer": "ipython3",
   "version": "3.10.8"
  }
 },
 "nbformat": 4,
 "nbformat_minor": 2
}
