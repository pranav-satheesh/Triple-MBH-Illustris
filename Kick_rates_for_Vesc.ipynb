{
 "cells": [
  {
   "cell_type": "code",
   "execution_count": 1,
   "metadata": {},
   "outputs": [],
   "source": [
    "import numpy as np\n",
    "import pandas as pd\n",
    "import matplotlib.pyplot as plt\n",
    "import scienceplots\n",
    "plt.style.use('science')\n",
    "import spin_models as spin\n",
    "import Merger_rate_plot as merg"
   ]
  },
  {
   "cell_type": "code",
   "execution_count": 2,
   "metadata": {},
   "outputs": [],
   "source": [
    "from astropy import constants as const\n",
    "from astropy import units as u"
   ]
  },
  {
   "cell_type": "code",
   "execution_count": 3,
   "metadata": {},
   "outputs": [],
   "source": [
    "from astropy.cosmology import WMAP9 as cosmo\n",
    "from astropy.cosmology import z_at_value"
   ]
  },
  {
   "cell_type": "code",
   "execution_count": 4,
   "metadata": {},
   "outputs": [],
   "source": [
    "df_binary_GW = pd.read_csv(\"Data/binary-GW-kick-data.csv\",index_col=False)\n",
    "df_triple_GW = pd.read_csv(\"Data/triples-GW-kick-data.csv\",index_col=False)"
   ]
  },
  {
   "cell_type": "code",
   "execution_count": 5,
   "metadata": {},
   "outputs": [
    {
     "data": {
      "text/html": [
       "<div>\n",
       "<style scoped>\n",
       "    .dataframe tbody tr th:only-of-type {\n",
       "        vertical-align: middle;\n",
       "    }\n",
       "\n",
       "    .dataframe tbody tr th {\n",
       "        vertical-align: top;\n",
       "    }\n",
       "\n",
       "    .dataframe thead th {\n",
       "        text-align: right;\n",
       "    }\n",
       "</style>\n",
       "<table border=\"1\" class=\"dataframe\">\n",
       "  <thead>\n",
       "    <tr style=\"text-align: right;\">\n",
       "      <th></th>\n",
       "      <th>Unnamed: 0</th>\n",
       "      <th>Mass 1</th>\n",
       "      <th>Mass 2</th>\n",
       "      <th>Mass 3</th>\n",
       "      <th>t_merger</th>\n",
       "      <th>Slingshot_kick</th>\n",
       "      <th>Flag</th>\n",
       "    </tr>\n",
       "  </thead>\n",
       "  <tbody>\n",
       "    <tr>\n",
       "      <th>0</th>\n",
       "      <td>0</td>\n",
       "      <td>2.150737e+07</td>\n",
       "      <td>8.204738e+06</td>\n",
       "      <td>5.276829e+07</td>\n",
       "      <td>1.985633e+09</td>\n",
       "      <td>1802.260202</td>\n",
       "      <td>No</td>\n",
       "    </tr>\n",
       "    <tr>\n",
       "      <th>1</th>\n",
       "      <td>2</td>\n",
       "      <td>1.546540e+08</td>\n",
       "      <td>4.211761e+07</td>\n",
       "      <td>3.132749e+08</td>\n",
       "      <td>3.025313e+09</td>\n",
       "      <td>301.352009</td>\n",
       "      <td>No</td>\n",
       "    </tr>\n",
       "    <tr>\n",
       "      <th>2</th>\n",
       "      <td>3</td>\n",
       "      <td>1.546540e+08</td>\n",
       "      <td>4.211761e+07</td>\n",
       "      <td>3.132749e+08</td>\n",
       "      <td>1.972738e+09</td>\n",
       "      <td>192.293287</td>\n",
       "      <td>No</td>\n",
       "    </tr>\n",
       "    <tr>\n",
       "      <th>3</th>\n",
       "      <td>4</td>\n",
       "      <td>9.436961e+06</td>\n",
       "      <td>1.002870e+06</td>\n",
       "      <td>4.551391e+08</td>\n",
       "      <td>4.814316e+09</td>\n",
       "      <td>10529.351190</td>\n",
       "      <td>No</td>\n",
       "    </tr>\n",
       "    <tr>\n",
       "      <th>4</th>\n",
       "      <td>7</td>\n",
       "      <td>9.436961e+06</td>\n",
       "      <td>1.002870e+06</td>\n",
       "      <td>4.551391e+08</td>\n",
       "      <td>9.469051e+09</td>\n",
       "      <td>3388.800447</td>\n",
       "      <td>No</td>\n",
       "    </tr>\n",
       "  </tbody>\n",
       "</table>\n",
       "</div>"
      ],
      "text/plain": [
       "   Unnamed: 0        Mass 1        Mass 2        Mass 3      t_merger  \\\n",
       "0           0  2.150737e+07  8.204738e+06  5.276829e+07  1.985633e+09   \n",
       "1           2  1.546540e+08  4.211761e+07  3.132749e+08  3.025313e+09   \n",
       "2           3  1.546540e+08  4.211761e+07  3.132749e+08  1.972738e+09   \n",
       "3           4  9.436961e+06  1.002870e+06  4.551391e+08  4.814316e+09   \n",
       "4           7  9.436961e+06  1.002870e+06  4.551391e+08  9.469051e+09   \n",
       "\n",
       "   Slingshot_kick Flag  \n",
       "0     1802.260202   No  \n",
       "1      301.352009   No  \n",
       "2      192.293287   No  \n",
       "3    10529.351190   No  \n",
       "4     3388.800447   No  "
      ]
     },
     "execution_count": 5,
     "metadata": {},
     "output_type": "execute_result"
    }
   ],
   "source": [
    "df_triple_slingshot = pd.read_csv(\"Data/triples-slingshot-data.csv\",index_col=False)\n",
    "df_triple_slingshot.head()"
   ]
  },
  {
   "cell_type": "code",
   "execution_count": 6,
   "metadata": {},
   "outputs": [],
   "source": [
    "zmax = 7\n",
    "zbinsize = 0.2\n",
    "lgzbinsize=0.3\n",
    "lgzmin=-3.0\n",
    "lgzmax = 1.0"
   ]
  },
  {
   "cell_type": "code",
   "execution_count": 7,
   "metadata": {},
   "outputs": [],
   "source": [
    "def slignshot_total_rate(Vesc):\n",
    "        \n",
    "        t_slinsghot = df_triple_slingshot[df_triple_slingshot['Slingshot_kick']>Vesc][\"t_merger\"].to_numpy()\n",
    "        \n",
    "        if(t_slinsghot.size == 0):\n",
    "                return 0\n",
    "        else:\n",
    "               z_slingshot = z_at_value(cosmo.age,(t_slinsghot/10**9)*u.Gyr,zmin=1e-9)\n",
    "               merger_rate_sling = merg.total_merger_rate(z_slingshot,zmax,zbinsize,lgzbinsize,lgzmin,lgzmax)\n",
    "               return merger_rate_sling\n"
   ]
  },
  {
   "cell_type": "code",
   "execution_count": 9,
   "metadata": {},
   "outputs": [],
   "source": [
    "def kick_total_rate(Vesc,spin_type):\n",
    "\n",
    "    #computes the total rate of GW Kicks for a given threshold rate\n",
    "    #spin-type = aligned/random\n",
    "    kick_column = 'GW-kick-'+spin_type\n",
    "    t_triple_GW = df_triple_GW[df_triple_GW[kick_column]>Vesc][\"t_merger\"].to_numpy()\n",
    "    \n",
    "    if(t_triple_GW.size == 0):\n",
    "        t_binary_GW = df_binary_GW[df_binary_GW[kick_column]>Vesc][\"t_merger\"].to_numpy()\n",
    "        if(t_triple_GW.size == 0):\n",
    "            return 0\n",
    "        else:\n",
    "            z_binary_GW = z_at_value(cosmo.age, (t_binary_GW/10**9)*u.Gyr,zmin=1e-9)\n",
    "            merger_rate_GW = merg.total_merger_rate(z_binary_GW,zmax=7,zbinsize=0.2,lgzbinsize=0.5,lgzmin=-3,lgzmax=1)\n",
    "            return merger_rate_GW\n",
    "    else:\n",
    "        z_triple_GW = z_at_value(cosmo.age, (t_triple_GW/10**9)*u.Gyr,zmin=1e-9)\n",
    "        t_binary_GW = df_binary_GW[df_binary_GW[kick_column]>Vesc][\"t_merger\"].to_numpy()\n",
    "        z_binary_GW = z_at_value(cosmo.age, (t_binary_GW/10**9)*u.Gyr,zmin=1e-9)\n",
    "        z_GW = np.concatenate((z_binary_GW,z_triple_GW))\n",
    "        merger_rate_GW = merg.total_merger_rate(z_GW,zmax=7,zbinsize=0.2,lgzbinsize=0.5,lgzmin=-3,lgzmax=1)\n",
    "        return merger_rate_GW"
   ]
  },
  {
   "cell_type": "code",
   "execution_count": 10,
   "metadata": {},
   "outputs": [],
   "source": [
    "vesc = np.arange(100,1500,100)"
   ]
  },
  {
   "cell_type": "code",
   "execution_count": 11,
   "metadata": {},
   "outputs": [],
   "source": [
    "GW_aligned_rates = []\n",
    "GW_random_rates = []\n",
    "slingshot_rates = []"
   ]
  },
  {
   "cell_type": "code",
   "execution_count": 12,
   "metadata": {},
   "outputs": [],
   "source": [
    "for i in range(len(vesc)):\n",
    "    slingshot_rates.append(slignshot_total_rate(vesc[i]))\n",
    "    GW_aligned_rates.append(kick_total_rate(vesc[i],'aligned'))\n",
    "    GW_random_rates.append(kick_total_rate(vesc[i],'random'))"
   ]
  },
  {
   "cell_type": "code",
   "execution_count": 16,
   "metadata": {},
   "outputs": [
    {
     "data": {
      "image/png": "[encoded data removed]",
      "text/plain": [
       "<Figure size 700x500 with 1 Axes>"
      ]
     },
     "metadata": {},
     "output_type": "display_data"
    }
   ],
   "source": [
    "plt.figure(figsize=[7,5])\n",
    "plt.plot(vesc,slingshot_rates)\n",
    "plt.scatter(vesc,slingshot_rates,label=\"Slingshot Kick\")\n",
    "plt.plot(vesc,GW_aligned_rates)\n",
    "plt.scatter(vesc,GW_aligned_rates,label=\"GW Kick - aligned\")\n",
    "plt.plot(vesc,GW_random_rates)\n",
    "plt.scatter(vesc,GW_random_rates,label=\"GW Kick - random\")\n",
    "plt.yscale('log')\n",
    "#plt.xscale('log')\n",
    "plt.legend()\n",
    "plt.xlabel(\"$v_{threshold} (km \\, s^{-1})$\")\n",
    "plt.ylabel(\"log($d N / d t)$\")\n",
    "plt.show()"
   ]
  },
  {
   "cell_type": "code",
   "execution_count": null,
   "metadata": {},
   "outputs": [],
   "source": []
  }
 ],
 "metadata": {
  "kernelspec": {
   "display_name": "ast",
   "language": "python",
   "name": "python3"
  },
  "language_info": {
   "codemirror_mode": {
    "name": "ipython",
    "version": 3
   },
   "file_extension": ".py",
   "mimetype": "text/x-python",
   "name": "python",
   "nbconvert_exporter": "python",
   "pygments_lexer": "ipython3",
   "version": "3.10.8"
  },
  "orig_nbformat": 4
 },
 "nbformat": 4,
 "nbformat_minor": 2
}
